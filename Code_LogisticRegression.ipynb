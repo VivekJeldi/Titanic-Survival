{
 "cells": [
  {
   "cell_type": "code",
   "execution_count": 1,
   "id": "62135b97",
   "metadata": {
    "_cell_guid": "b1076dfc-b9ad-4769-8c92-a6c4dae69d19",
    "_uuid": "8f2839f25d086af736a60e9eeb907d3b93b6e0e5",
    "execution": {
     "iopub.execute_input": "2023-07-27T16:59:19.150828Z",
     "iopub.status.busy": "2023-07-27T16:59:19.150322Z",
     "iopub.status.idle": "2023-07-27T16:59:19.173104Z",
     "shell.execute_reply": "2023-07-27T16:59:19.171601Z"
    },
    "papermill": {
     "duration": 0.04731,
     "end_time": "2023-07-27T16:59:19.176378",
     "exception": false,
     "start_time": "2023-07-27T16:59:19.129068",
     "status": "completed"
    },
    "tags": []
   },
   "outputs": [
    {
     "name": "stdout",
     "output_type": "stream",
     "text": [
      "/kaggle/input/titanic/train.csv\n",
      "/kaggle/input/titanic/test.csv\n",
      "/kaggle/input/titanic/gender_submission.csv\n",
      "/kaggle/input/test-woe/Test_WOE.csv\n"
     ]
    }
   ],
   "source": [
    "# This Python 3 environment comes with many helpful analytics libraries installed\n",
    "# It is defined by the kaggle/python Docker image: https://github.com/kaggle/docker-python\n",
    "# For example, here's several helpful packages to load\n",
    "\n",
    "import numpy as np # linear algebra\n",
    "import pandas as pd # data processing, CSV file I/O (e.g. pd.read_csv)\n",
    "\n",
    "# Input data files are available in the read-only \"../input/\" directory\n",
    "# For example, running this (by clicking run or pressing Shift+Enter) will list all files under the input directory\n",
    "\n",
    "import os\n",
    "for dirname, _, filenames in os.walk('/kaggle/input'):\n",
    "    for filename in filenames:\n",
    "        print(os.path.join(dirname, filename))\n",
    "\n",
    "# You can write up to 20GB to the current directory (/kaggle/working/) that gets preserved as output when you create a version using \"Save & Run All\" \n",
    "# You can also write temporary files to /kaggle/temp/, but they won't be saved outside of the current session"
   ]
  },
  {
   "cell_type": "code",
   "execution_count": 2,
   "id": "b675fb96",
   "metadata": {
    "execution": {
     "iopub.execute_input": "2023-07-27T16:59:19.216436Z",
     "iopub.status.busy": "2023-07-27T16:59:19.216006Z",
     "iopub.status.idle": "2023-07-27T16:59:21.057629Z",
     "shell.execute_reply": "2023-07-27T16:59:21.056465Z"
    },
    "papermill": {
     "duration": 1.865273,
     "end_time": "2023-07-27T16:59:21.060780",
     "exception": false,
     "start_time": "2023-07-27T16:59:19.195507",
     "status": "completed"
    },
    "tags": []
   },
   "outputs": [
    {
     "name": "stderr",
     "output_type": "stream",
     "text": [
      "/opt/conda/lib/python3.10/site-packages/scipy/__init__.py:146: UserWarning: A NumPy version >=1.16.5 and <1.23.0 is required for this version of SciPy (detected version 1.23.5\n",
      "  warnings.warn(f\"A NumPy version >={np_minversion} and <{np_maxversion}\"\n"
     ]
    }
   ],
   "source": [
    "import matplotlib.pyplot as plt\n",
    "import seaborn as sns\n",
    "%matplotlib inline\n",
    "\n",
    "import warnings\n",
    "warnings.filterwarnings('ignore')"
   ]
  },
  {
   "cell_type": "code",
   "execution_count": 3,
   "id": "ffd3ff63",
   "metadata": {
    "execution": {
     "iopub.execute_input": "2023-07-27T16:59:21.103230Z",
     "iopub.status.busy": "2023-07-27T16:59:21.102425Z",
     "iopub.status.idle": "2023-07-27T16:59:23.499512Z",
     "shell.execute_reply": "2023-07-27T16:59:23.498264Z"
    },
    "papermill": {
     "duration": 2.421757,
     "end_time": "2023-07-27T16:59:23.502792",
     "exception": false,
     "start_time": "2023-07-27T16:59:21.081035",
     "status": "completed"
    },
    "tags": []
   },
   "outputs": [],
   "source": [
    "from sklearn.model_selection import train_test_split\n",
    "\n",
    "import statsmodels.api as sm\n",
    "\n",
    "from sklearn.linear_model import LogisticRegression\n",
    "from statsmodels.stats.outliers_influence import variance_inflation_factor\n",
    "from sklearn.feature_selection import RFE\n",
    "\n"
   ]
  },
  {
   "cell_type": "code",
   "execution_count": 4,
   "id": "2d5c32ad",
   "metadata": {
    "execution": {
     "iopub.execute_input": "2023-07-27T16:59:23.542645Z",
     "iopub.status.busy": "2023-07-27T16:59:23.542192Z",
     "iopub.status.idle": "2023-07-27T16:59:23.547572Z",
     "shell.execute_reply": "2023-07-27T16:59:23.546342Z"
    },
    "papermill": {
     "duration": 0.028907,
     "end_time": "2023-07-27T16:59:23.550608",
     "exception": false,
     "start_time": "2023-07-27T16:59:23.521701",
     "status": "completed"
    },
    "tags": []
   },
   "outputs": [],
   "source": [
    "from sklearn import metrics"
   ]
  },
  {
   "cell_type": "code",
   "execution_count": 5,
   "id": "aac16699",
   "metadata": {
    "execution": {
     "iopub.execute_input": "2023-07-27T16:59:23.593490Z",
     "iopub.status.busy": "2023-07-27T16:59:23.593001Z",
     "iopub.status.idle": "2023-07-27T16:59:23.599116Z",
     "shell.execute_reply": "2023-07-27T16:59:23.597553Z"
    },
    "papermill": {
     "duration": 0.031261,
     "end_time": "2023-07-27T16:59:23.601988",
     "exception": false,
     "start_time": "2023-07-27T16:59:23.570727",
     "status": "completed"
    },
    "tags": []
   },
   "outputs": [],
   "source": [
    "path = 'https://raw.githubusercontent.com/VivekJeldi/Titanic-Survival/main/df_WOE.csv'"
   ]
  },
  {
   "cell_type": "code",
   "execution_count": 6,
   "id": "c403a25d",
   "metadata": {
    "execution": {
     "iopub.execute_input": "2023-07-27T16:59:23.643406Z",
     "iopub.status.busy": "2023-07-27T16:59:23.641797Z",
     "iopub.status.idle": "2023-07-27T16:59:23.943680Z",
     "shell.execute_reply": "2023-07-27T16:59:23.942168Z"
    },
    "papermill": {
     "duration": 0.325486,
     "end_time": "2023-07-27T16:59:23.946360",
     "exception": false,
     "start_time": "2023-07-27T16:59:23.620874",
     "status": "completed"
    },
    "tags": []
   },
   "outputs": [
    {
     "data": {
      "text/html": [
       "<div>\n",
       "<style scoped>\n",
       "    .dataframe tbody tr th:only-of-type {\n",
       "        vertical-align: middle;\n",
       "    }\n",
       "\n",
       "    .dataframe tbody tr th {\n",
       "        vertical-align: top;\n",
       "    }\n",
       "\n",
       "    .dataframe thead th {\n",
       "        text-align: right;\n",
       "    }\n",
       "</style>\n",
       "<table border=\"1\" class=\"dataframe\">\n",
       "  <thead>\n",
       "    <tr style=\"text-align: right;\">\n",
       "      <th></th>\n",
       "      <th>Pclass</th>\n",
       "      <th>Sex</th>\n",
       "      <th>Age</th>\n",
       "      <th>SibSp</th>\n",
       "      <th>Parch</th>\n",
       "      <th>Fare</th>\n",
       "      <th>Cabin</th>\n",
       "      <th>Embarked</th>\n",
       "      <th>Survived</th>\n",
       "    </tr>\n",
       "  </thead>\n",
       "  <tbody>\n",
       "    <tr>\n",
       "      <th>0</th>\n",
       "      <td>-0.653578</td>\n",
       "      <td>-0.987308</td>\n",
       "      <td>0.346995</td>\n",
       "      <td>0.042559</td>\n",
       "      <td>-0.042225</td>\n",
       "      <td>-0.879049</td>\n",
       "      <td>-0.685078</td>\n",
       "      <td>-0.188350</td>\n",
       "      <td>0</td>\n",
       "    </tr>\n",
       "    <tr>\n",
       "      <th>1</th>\n",
       "      <td>0.991942</td>\n",
       "      <td>1.529823</td>\n",
       "      <td>0.065552</td>\n",
       "      <td>0.042559</td>\n",
       "      <td>-0.042225</td>\n",
       "      <td>0.701554</td>\n",
       "      <td>0.649822</td>\n",
       "      <td>0.668514</td>\n",
       "      <td>1</td>\n",
       "    </tr>\n",
       "    <tr>\n",
       "      <th>2</th>\n",
       "      <td>-0.653578</td>\n",
       "      <td>1.529823</td>\n",
       "      <td>-0.532753</td>\n",
       "      <td>0.042559</td>\n",
       "      <td>-0.042225</td>\n",
       "      <td>-0.879049</td>\n",
       "      <td>-0.685078</td>\n",
       "      <td>-0.188350</td>\n",
       "      <td>1</td>\n",
       "    </tr>\n",
       "    <tr>\n",
       "      <th>3</th>\n",
       "      <td>0.991942</td>\n",
       "      <td>1.529823</td>\n",
       "      <td>0.065552</td>\n",
       "      <td>0.042559</td>\n",
       "      <td>-0.042225</td>\n",
       "      <td>0.701554</td>\n",
       "      <td>0.649822</td>\n",
       "      <td>-0.188350</td>\n",
       "      <td>1</td>\n",
       "    </tr>\n",
       "    <tr>\n",
       "      <th>4</th>\n",
       "      <td>-0.653578</td>\n",
       "      <td>-0.987308</td>\n",
       "      <td>0.065552</td>\n",
       "      <td>0.042559</td>\n",
       "      <td>-0.042225</td>\n",
       "      <td>-0.879049</td>\n",
       "      <td>-0.685078</td>\n",
       "      <td>-0.188350</td>\n",
       "      <td>0</td>\n",
       "    </tr>\n",
       "  </tbody>\n",
       "</table>\n",
       "</div>"
      ],
      "text/plain": [
       "     Pclass       Sex       Age     SibSp     Parch      Fare     Cabin  \\\n",
       "0 -0.653578 -0.987308  0.346995  0.042559 -0.042225 -0.879049 -0.685078   \n",
       "1  0.991942  1.529823  0.065552  0.042559 -0.042225  0.701554  0.649822   \n",
       "2 -0.653578  1.529823 -0.532753  0.042559 -0.042225 -0.879049 -0.685078   \n",
       "3  0.991942  1.529823  0.065552  0.042559 -0.042225  0.701554  0.649822   \n",
       "4 -0.653578 -0.987308  0.065552  0.042559 -0.042225 -0.879049 -0.685078   \n",
       "\n",
       "   Embarked  Survived  \n",
       "0 -0.188350         0  \n",
       "1  0.668514         1  \n",
       "2 -0.188350         1  \n",
       "3 -0.188350         1  \n",
       "4 -0.188350         0  "
      ]
     },
     "execution_count": 6,
     "metadata": {},
     "output_type": "execute_result"
    }
   ],
   "source": [
    "df = pd.read_csv(path)\n",
    "df.head()"
   ]
  },
  {
   "cell_type": "code",
   "execution_count": 7,
   "id": "2966a269",
   "metadata": {
    "execution": {
     "iopub.execute_input": "2023-07-27T16:59:23.988556Z",
     "iopub.status.busy": "2023-07-27T16:59:23.988015Z",
     "iopub.status.idle": "2023-07-27T16:59:24.026166Z",
     "shell.execute_reply": "2023-07-27T16:59:24.024071Z"
    },
    "papermill": {
     "duration": 0.063855,
     "end_time": "2023-07-27T16:59:24.029361",
     "exception": false,
     "start_time": "2023-07-27T16:59:23.965506",
     "status": "completed"
    },
    "tags": []
   },
   "outputs": [
    {
     "name": "stdout",
     "output_type": "stream",
     "text": [
      "<class 'pandas.core.frame.DataFrame'>\n",
      "RangeIndex: 885 entries, 0 to 884\n",
      "Data columns (total 9 columns):\n",
      " #   Column    Non-Null Count  Dtype  \n",
      "---  ------    --------------  -----  \n",
      " 0   Pclass    885 non-null    float64\n",
      " 1   Sex       885 non-null    float64\n",
      " 2   Age       885 non-null    float64\n",
      " 3   SibSp     885 non-null    float64\n",
      " 4   Parch     885 non-null    float64\n",
      " 5   Fare      885 non-null    float64\n",
      " 6   Cabin     885 non-null    float64\n",
      " 7   Embarked  885 non-null    float64\n",
      " 8   Survived  885 non-null    int64  \n",
      "dtypes: float64(8), int64(1)\n",
      "memory usage: 62.4 KB\n"
     ]
    }
   ],
   "source": [
    "df.info()"
   ]
  },
  {
   "cell_type": "code",
   "execution_count": 8,
   "id": "732461a9",
   "metadata": {
    "execution": {
     "iopub.execute_input": "2023-07-27T16:59:24.073716Z",
     "iopub.status.busy": "2023-07-27T16:59:24.073193Z",
     "iopub.status.idle": "2023-07-27T16:59:24.084036Z",
     "shell.execute_reply": "2023-07-27T16:59:24.082614Z"
    },
    "papermill": {
     "duration": 0.035455,
     "end_time": "2023-07-27T16:59:24.087255",
     "exception": false,
     "start_time": "2023-07-27T16:59:24.051800",
     "status": "completed"
    },
    "tags": []
   },
   "outputs": [
    {
     "data": {
      "text/plain": [
       "Pclass      0\n",
       "Sex         0\n",
       "Age         0\n",
       "SibSp       0\n",
       "Parch       0\n",
       "Fare        0\n",
       "Cabin       0\n",
       "Embarked    0\n",
       "Survived    0\n",
       "dtype: int64"
      ]
     },
     "execution_count": 8,
     "metadata": {},
     "output_type": "execute_result"
    }
   ],
   "source": [
    "df.isnull().sum()"
   ]
  },
  {
   "cell_type": "code",
   "execution_count": 9,
   "id": "2b6771f6",
   "metadata": {
    "execution": {
     "iopub.execute_input": "2023-07-27T16:59:24.131636Z",
     "iopub.status.busy": "2023-07-27T16:59:24.130837Z",
     "iopub.status.idle": "2023-07-27T16:59:24.729038Z",
     "shell.execute_reply": "2023-07-27T16:59:24.728020Z"
    },
    "papermill": {
     "duration": 0.623834,
     "end_time": "2023-07-27T16:59:24.731802",
     "exception": false,
     "start_time": "2023-07-27T16:59:24.107968",
     "status": "completed"
    },
    "tags": []
   },
   "outputs": [
    {
     "data": {
      "image/png": "[encoded data removed]",
      "text/plain": [
       "<Figure size 640x480 with 2 Axes>"
      ]
     },
     "metadata": {},
     "output_type": "display_data"
    }
   ],
   "source": [
    "sns.heatmap(df.corr(), annot=True, cmap='YlGnBu')\n",
    "plt.show()"
   ]
  },
  {
   "cell_type": "code",
   "execution_count": 10,
   "id": "e3ac42af",
   "metadata": {
    "execution": {
     "iopub.execute_input": "2023-07-27T16:59:24.776361Z",
     "iopub.status.busy": "2023-07-27T16:59:24.775497Z",
     "iopub.status.idle": "2023-07-27T16:59:24.783179Z",
     "shell.execute_reply": "2023-07-27T16:59:24.781735Z"
    },
    "papermill": {
     "duration": 0.032797,
     "end_time": "2023-07-27T16:59:24.785851",
     "exception": false,
     "start_time": "2023-07-27T16:59:24.753054",
     "status": "completed"
    },
    "tags": []
   },
   "outputs": [],
   "source": [
    "y = df['Survived']\n",
    "X = df.drop('Survived', 1)"
   ]
  },
  {
   "cell_type": "code",
   "execution_count": 11,
   "id": "c62d5275",
   "metadata": {
    "execution": {
     "iopub.execute_input": "2023-07-27T16:59:24.832594Z",
     "iopub.status.busy": "2023-07-27T16:59:24.831879Z",
     "iopub.status.idle": "2023-07-27T16:59:24.839512Z",
     "shell.execute_reply": "2023-07-27T16:59:24.838039Z"
    },
    "papermill": {
     "duration": 0.03508,
     "end_time": "2023-07-27T16:59:24.842529",
     "exception": false,
     "start_time": "2023-07-27T16:59:24.807449",
     "status": "completed"
    },
    "tags": []
   },
   "outputs": [],
   "source": [
    "X_train, X_test, y_train, y_test = train_test_split(X, y, test_size=0.2, random_state=42)"
   ]
  },
  {
   "cell_type": "code",
   "execution_count": 12,
   "id": "25fb117c",
   "metadata": {
    "execution": {
     "iopub.execute_input": "2023-07-27T16:59:24.887221Z",
     "iopub.status.busy": "2023-07-27T16:59:24.886479Z",
     "iopub.status.idle": "2023-07-27T16:59:24.892711Z",
     "shell.execute_reply": "2023-07-27T16:59:24.891878Z"
    },
    "papermill": {
     "duration": 0.0316,
     "end_time": "2023-07-27T16:59:24.895134",
     "exception": false,
     "start_time": "2023-07-27T16:59:24.863534",
     "status": "completed"
    },
    "tags": []
   },
   "outputs": [
    {
     "data": {
      "text/plain": [
       "0.2"
      ]
     },
     "execution_count": 12,
     "metadata": {},
     "output_type": "execute_result"
    }
   ],
   "source": [
    "len(y_test)/len(df)"
   ]
  },
  {
   "cell_type": "code",
   "execution_count": null,
   "id": "4f3925e7",
   "metadata": {
    "papermill": {
     "duration": 0.021655,
     "end_time": "2023-07-27T16:59:24.938835",
     "exception": false,
     "start_time": "2023-07-27T16:59:24.917180",
     "status": "completed"
    },
    "tags": []
   },
   "outputs": [],
   "source": []
  },
  {
   "cell_type": "code",
   "execution_count": 13,
   "id": "142cf530",
   "metadata": {
    "execution": {
     "iopub.execute_input": "2023-07-27T16:59:24.982993Z",
     "iopub.status.busy": "2023-07-27T16:59:24.982329Z",
     "iopub.status.idle": "2023-07-27T16:59:25.046646Z",
     "shell.execute_reply": "2023-07-27T16:59:25.045137Z"
    },
    "papermill": {
     "duration": 0.089847,
     "end_time": "2023-07-27T16:59:25.049503",
     "exception": false,
     "start_time": "2023-07-27T16:59:24.959656",
     "status": "completed"
    },
    "tags": []
   },
   "outputs": [
    {
     "data": {
      "text/html": [
       "<table class=\"simpletable\">\n",
       "<caption>Generalized Linear Model Regression Results</caption>\n",
       "<tr>\n",
       "  <th>Dep. Variable:</th>       <td>Survived</td>     <th>  No. Observations:  </th>  <td>   708</td> \n",
       "</tr>\n",
       "<tr>\n",
       "  <th>Model:</th>                  <td>GLM</td>       <th>  Df Residuals:      </th>  <td>   699</td> \n",
       "</tr>\n",
       "<tr>\n",
       "  <th>Model Family:</th>        <td>Binomial</td>     <th>  Df Model:          </th>  <td>     8</td> \n",
       "</tr>\n",
       "<tr>\n",
       "  <th>Link Function:</th>         <td>Logit</td>      <th>  Scale:             </th> <td>  1.0000</td>\n",
       "</tr>\n",
       "<tr>\n",
       "  <th>Method:</th>                <td>IRLS</td>       <th>  Log-Likelihood:    </th> <td> -309.22</td>\n",
       "</tr>\n",
       "<tr>\n",
       "  <th>Date:</th>            <td>Thu, 27 Jul 2023</td> <th>  Deviance:          </th> <td>  618.44</td>\n",
       "</tr>\n",
       "<tr>\n",
       "  <th>Time:</th>                <td>16:59:25</td>     <th>  Pearson chi2:      </th>  <td>  706.</td> \n",
       "</tr>\n",
       "<tr>\n",
       "  <th>No. Iterations:</th>          <td>5</td>        <th>  Pseudo R-squ. (CS):</th>  <td>0.3687</td> \n",
       "</tr>\n",
       "<tr>\n",
       "  <th>Covariance Type:</th>     <td>nonrobust</td>    <th>                     </th>     <td> </td>   \n",
       "</tr>\n",
       "</table>\n",
       "<table class=\"simpletable\">\n",
       "<tr>\n",
       "      <td></td>        <th>coef</th>     <th>std err</th>      <th>z</th>      <th>P>|z|</th>  <th>[0.025</th>    <th>0.975]</th>  \n",
       "</tr>\n",
       "<tr>\n",
       "  <th>const</th>    <td>   -0.4697</td> <td>    0.102</td> <td>   -4.603</td> <td> 0.000</td> <td>   -0.670</td> <td>   -0.270</td>\n",
       "</tr>\n",
       "<tr>\n",
       "  <th>Pclass</th>   <td>   -0.1053</td> <td>    0.405</td> <td>   -0.260</td> <td> 0.795</td> <td>   -0.900</td> <td>    0.689</td>\n",
       "</tr>\n",
       "<tr>\n",
       "  <th>Sex</th>      <td>    1.0477</td> <td>    0.088</td> <td>   11.889</td> <td> 0.000</td> <td>    0.875</td> <td>    1.220</td>\n",
       "</tr>\n",
       "<tr>\n",
       "  <th>Age</th>      <td>    0.9967</td> <td>    0.302</td> <td>    3.304</td> <td> 0.001</td> <td>    0.405</td> <td>    1.588</td>\n",
       "</tr>\n",
       "<tr>\n",
       "  <th>SibSp</th>    <td>    2.1978</td> <td>    0.783</td> <td>    2.807</td> <td> 0.005</td> <td>    0.663</td> <td>    3.732</td>\n",
       "</tr>\n",
       "<tr>\n",
       "  <th>Parch</th>    <td>   -0.9510</td> <td>    0.922</td> <td>   -1.031</td> <td> 0.302</td> <td>   -2.759</td> <td>    0.857</td>\n",
       "</tr>\n",
       "<tr>\n",
       "  <th>Fare</th>     <td>    0.1484</td> <td>    0.257</td> <td>    0.579</td> <td> 0.563</td> <td>   -0.354</td> <td>    0.651</td>\n",
       "</tr>\n",
       "<tr>\n",
       "  <th>Cabin</th>    <td>    1.0275</td> <td>    0.350</td> <td>    2.934</td> <td> 0.003</td> <td>    0.341</td> <td>    1.714</td>\n",
       "</tr>\n",
       "<tr>\n",
       "  <th>Embarked</th> <td>    0.8875</td> <td>    0.310</td> <td>    2.859</td> <td> 0.004</td> <td>    0.279</td> <td>    1.496</td>\n",
       "</tr>\n",
       "</table>"
      ],
      "text/latex": [
       "\\begin{center}\n",
       "\\begin{tabular}{lclc}\n",
       "\\toprule\n",
       "\\textbf{Dep. Variable:}   &     Survived     & \\textbf{  No. Observations:  } &      708    \\\\\n",
       "\\textbf{Model:}           &       GLM        & \\textbf{  Df Residuals:      } &      699    \\\\\n",
       "\\textbf{Model Family:}    &     Binomial     & \\textbf{  Df Model:          } &        8    \\\\\n",
       "\\textbf{Link Function:}   &      Logit       & \\textbf{  Scale:             } &    1.0000   \\\\\n",
       "\\textbf{Method:}          &       IRLS       & \\textbf{  Log-Likelihood:    } &   -309.22   \\\\\n",
       "\\textbf{Date:}            & Thu, 27 Jul 2023 & \\textbf{  Deviance:          } &    618.44   \\\\\n",
       "\\textbf{Time:}            &     16:59:25     & \\textbf{  Pearson chi2:      } &     706.    \\\\\n",
       "\\textbf{No. Iterations:}  &        5         & \\textbf{  Pseudo R-squ. (CS):} &   0.3687    \\\\\n",
       "\\textbf{Covariance Type:} &    nonrobust     & \\textbf{                     } &             \\\\\n",
       "\\bottomrule\n",
       "\\end{tabular}\n",
       "\\begin{tabular}{lcccccc}\n",
       "                  & \\textbf{coef} & \\textbf{std err} & \\textbf{z} & \\textbf{P$> |$z$|$} & \\textbf{[0.025} & \\textbf{0.975]}  \\\\\n",
       "\\midrule\n",
       "\\textbf{const}    &      -0.4697  &        0.102     &    -4.603  &         0.000        &       -0.670    &       -0.270     \\\\\n",
       "\\textbf{Pclass}   &      -0.1053  &        0.405     &    -0.260  &         0.795        &       -0.900    &        0.689     \\\\\n",
       "\\textbf{Sex}      &       1.0477  &        0.088     &    11.889  &         0.000        &        0.875    &        1.220     \\\\\n",
       "\\textbf{Age}      &       0.9967  &        0.302     &     3.304  &         0.001        &        0.405    &        1.588     \\\\\n",
       "\\textbf{SibSp}    &       2.1978  &        0.783     &     2.807  &         0.005        &        0.663    &        3.732     \\\\\n",
       "\\textbf{Parch}    &      -0.9510  &        0.922     &    -1.031  &         0.302        &       -2.759    &        0.857     \\\\\n",
       "\\textbf{Fare}     &       0.1484  &        0.257     &     0.579  &         0.563        &       -0.354    &        0.651     \\\\\n",
       "\\textbf{Cabin}    &       1.0275  &        0.350     &     2.934  &         0.003        &        0.341    &        1.714     \\\\\n",
       "\\textbf{Embarked} &       0.8875  &        0.310     &     2.859  &         0.004        &        0.279    &        1.496     \\\\\n",
       "\\bottomrule\n",
       "\\end{tabular}\n",
       "%\\caption{Generalized Linear Model Regression Results}\n",
       "\\end{center}"
      ],
      "text/plain": [
       "<class 'statsmodels.iolib.summary.Summary'>\n",
       "\"\"\"\n",
       "                 Generalized Linear Model Regression Results                  \n",
       "==============================================================================\n",
       "Dep. Variable:               Survived   No. Observations:                  708\n",
       "Model:                            GLM   Df Residuals:                      699\n",
       "Model Family:                Binomial   Df Model:                            8\n",
       "Link Function:                  Logit   Scale:                          1.0000\n",
       "Method:                          IRLS   Log-Likelihood:                -309.22\n",
       "Date:                Thu, 27 Jul 2023   Deviance:                       618.44\n",
       "Time:                        16:59:25   Pearson chi2:                     706.\n",
       "No. Iterations:                     5   Pseudo R-squ. (CS):             0.3687\n",
       "Covariance Type:            nonrobust                                         \n",
       "==============================================================================\n",
       "                 coef    std err          z      P>|z|      [0.025      0.975]\n",
       "------------------------------------------------------------------------------\n",
       "const         -0.4697      0.102     -4.603      0.000      -0.670      -0.270\n",
       "Pclass        -0.1053      0.405     -0.260      0.795      -0.900       0.689\n",
       "Sex            1.0477      0.088     11.889      0.000       0.875       1.220\n",
       "Age            0.9967      0.302      3.304      0.001       0.405       1.588\n",
       "SibSp          2.1978      0.783      2.807      0.005       0.663       3.732\n",
       "Parch         -0.9510      0.922     -1.031      0.302      -2.759       0.857\n",
       "Fare           0.1484      0.257      0.579      0.563      -0.354       0.651\n",
       "Cabin          1.0275      0.350      2.934      0.003       0.341       1.714\n",
       "Embarked       0.8875      0.310      2.859      0.004       0.279       1.496\n",
       "==============================================================================\n",
       "\"\"\""
      ]
     },
     "execution_count": 13,
     "metadata": {},
     "output_type": "execute_result"
    }
   ],
   "source": [
    "lm = sm.GLM(y_train, sm.add_constant(X_train), family=sm.families.Binomial())\n",
    "lm.fit().summary()"
   ]
  },
  {
   "cell_type": "code",
   "execution_count": 14,
   "id": "02343238",
   "metadata": {
    "execution": {
     "iopub.execute_input": "2023-07-27T16:59:25.094473Z",
     "iopub.status.busy": "2023-07-27T16:59:25.093413Z",
     "iopub.status.idle": "2023-07-27T16:59:25.097973Z",
     "shell.execute_reply": "2023-07-27T16:59:25.097109Z"
    },
    "papermill": {
     "duration": 0.029872,
     "end_time": "2023-07-27T16:59:25.100476",
     "exception": false,
     "start_time": "2023-07-27T16:59:25.070604",
     "status": "completed"
    },
    "tags": []
   },
   "outputs": [],
   "source": [
    "#y_pred = lm.fit().predict(sm.add_constant(X_test))"
   ]
  },
  {
   "cell_type": "code",
   "execution_count": 15,
   "id": "47d4d2b7",
   "metadata": {
    "execution": {
     "iopub.execute_input": "2023-07-27T16:59:25.145156Z",
     "iopub.status.busy": "2023-07-27T16:59:25.144498Z",
     "iopub.status.idle": "2023-07-27T16:59:25.153125Z",
     "shell.execute_reply": "2023-07-27T16:59:25.152034Z"
    },
    "papermill": {
     "duration": 0.03417,
     "end_time": "2023-07-27T16:59:25.155978",
     "exception": false,
     "start_time": "2023-07-27T16:59:25.121808",
     "status": "completed"
    },
    "tags": []
   },
   "outputs": [],
   "source": [
    "def vif_fn(X):\n",
    "    vif = pd.DataFrame()\n",
    "    vif['Features'] = X.columns\n",
    "    vif['VIF'] = [variance_inflation_factor(X.values, i) for i in range(X.shape[1])]\n",
    "    vif['VIF'] = round(vif['VIF'], 2)\n",
    "    vif = vif.sort_values(by='VIF', ascending=False)\n",
    "    return vif"
   ]
  },
  {
   "cell_type": "code",
   "execution_count": 16,
   "id": "3837397a",
   "metadata": {
    "execution": {
     "iopub.execute_input": "2023-07-27T16:59:25.201057Z",
     "iopub.status.busy": "2023-07-27T16:59:25.200619Z",
     "iopub.status.idle": "2023-07-27T16:59:25.225249Z",
     "shell.execute_reply": "2023-07-27T16:59:25.223763Z"
    },
    "papermill": {
     "duration": 0.050755,
     "end_time": "2023-07-27T16:59:25.228249",
     "exception": false,
     "start_time": "2023-07-27T16:59:25.177494",
     "status": "completed"
    },
    "tags": []
   },
   "outputs": [
    {
     "data": {
      "text/html": [
       "<div>\n",
       "<style scoped>\n",
       "    .dataframe tbody tr th:only-of-type {\n",
       "        vertical-align: middle;\n",
       "    }\n",
       "\n",
       "    .dataframe tbody tr th {\n",
       "        vertical-align: top;\n",
       "    }\n",
       "\n",
       "    .dataframe thead th {\n",
       "        text-align: right;\n",
       "    }\n",
       "</style>\n",
       "<table border=\"1\" class=\"dataframe\">\n",
       "  <thead>\n",
       "    <tr style=\"text-align: right;\">\n",
       "      <th></th>\n",
       "      <th>Features</th>\n",
       "      <th>VIF</th>\n",
       "    </tr>\n",
       "  </thead>\n",
       "  <tbody>\n",
       "    <tr>\n",
       "      <th>0</th>\n",
       "      <td>Pclass</td>\n",
       "      <td>8.09</td>\n",
       "    </tr>\n",
       "    <tr>\n",
       "      <th>6</th>\n",
       "      <td>Cabin</td>\n",
       "      <td>7.08</td>\n",
       "    </tr>\n",
       "    <tr>\n",
       "      <th>5</th>\n",
       "      <td>Fare</td>\n",
       "      <td>2.73</td>\n",
       "    </tr>\n",
       "    <tr>\n",
       "      <th>3</th>\n",
       "      <td>SibSp</td>\n",
       "      <td>1.33</td>\n",
       "    </tr>\n",
       "    <tr>\n",
       "      <th>4</th>\n",
       "      <td>Parch</td>\n",
       "      <td>1.26</td>\n",
       "    </tr>\n",
       "    <tr>\n",
       "      <th>1</th>\n",
       "      <td>Sex</td>\n",
       "      <td>1.15</td>\n",
       "    </tr>\n",
       "    <tr>\n",
       "      <th>2</th>\n",
       "      <td>Age</td>\n",
       "      <td>1.09</td>\n",
       "    </tr>\n",
       "    <tr>\n",
       "      <th>7</th>\n",
       "      <td>Embarked</td>\n",
       "      <td>1.05</td>\n",
       "    </tr>\n",
       "  </tbody>\n",
       "</table>\n",
       "</div>"
      ],
      "text/plain": [
       "   Features   VIF\n",
       "0    Pclass  8.09\n",
       "6     Cabin  7.08\n",
       "5      Fare  2.73\n",
       "3     SibSp  1.33\n",
       "4     Parch  1.26\n",
       "1       Sex  1.15\n",
       "2       Age  1.09\n",
       "7  Embarked  1.05"
      ]
     },
     "execution_count": 16,
     "metadata": {},
     "output_type": "execute_result"
    }
   ],
   "source": [
    "vif_fn(X_train)"
   ]
  },
  {
   "cell_type": "code",
   "execution_count": 17,
   "id": "ca038876",
   "metadata": {
    "execution": {
     "iopub.execute_input": "2023-07-27T16:59:25.273663Z",
     "iopub.status.busy": "2023-07-27T16:59:25.273256Z",
     "iopub.status.idle": "2023-07-27T16:59:25.279573Z",
     "shell.execute_reply": "2023-07-27T16:59:25.277985Z"
    },
    "papermill": {
     "duration": 0.032734,
     "end_time": "2023-07-27T16:59:25.282570",
     "exception": false,
     "start_time": "2023-07-27T16:59:25.249836",
     "status": "completed"
    },
    "tags": []
   },
   "outputs": [],
   "source": [
    "X_train = X_train.drop('Pclass', 1)"
   ]
  },
  {
   "cell_type": "code",
   "execution_count": 18,
   "id": "a2416174",
   "metadata": {
    "execution": {
     "iopub.execute_input": "2023-07-27T16:59:25.327707Z",
     "iopub.status.busy": "2023-07-27T16:59:25.327283Z",
     "iopub.status.idle": "2023-07-27T16:59:25.373245Z",
     "shell.execute_reply": "2023-07-27T16:59:25.371756Z"
    },
    "papermill": {
     "duration": 0.072091,
     "end_time": "2023-07-27T16:59:25.376077",
     "exception": false,
     "start_time": "2023-07-27T16:59:25.303986",
     "status": "completed"
    },
    "tags": []
   },
   "outputs": [
    {
     "data": {
      "text/html": [
       "<table class=\"simpletable\">\n",
       "<caption>Generalized Linear Model Regression Results</caption>\n",
       "<tr>\n",
       "  <th>Dep. Variable:</th>       <td>Survived</td>     <th>  No. Observations:  </th>  <td>   708</td> \n",
       "</tr>\n",
       "<tr>\n",
       "  <th>Model:</th>                  <td>GLM</td>       <th>  Df Residuals:      </th>  <td>   700</td> \n",
       "</tr>\n",
       "<tr>\n",
       "  <th>Model Family:</th>        <td>Binomial</td>     <th>  Df Model:          </th>  <td>     7</td> \n",
       "</tr>\n",
       "<tr>\n",
       "  <th>Link Function:</th>         <td>Logit</td>      <th>  Scale:             </th> <td>  1.0000</td>\n",
       "</tr>\n",
       "<tr>\n",
       "  <th>Method:</th>                <td>IRLS</td>       <th>  Log-Likelihood:    </th> <td> -309.25</td>\n",
       "</tr>\n",
       "<tr>\n",
       "  <th>Date:</th>            <td>Thu, 27 Jul 2023</td> <th>  Deviance:          </th> <td>  618.51</td>\n",
       "</tr>\n",
       "<tr>\n",
       "  <th>Time:</th>                <td>16:59:25</td>     <th>  Pearson chi2:      </th>  <td>  709.</td> \n",
       "</tr>\n",
       "<tr>\n",
       "  <th>No. Iterations:</th>          <td>5</td>        <th>  Pseudo R-squ. (CS):</th>  <td>0.3686</td> \n",
       "</tr>\n",
       "<tr>\n",
       "  <th>Covariance Type:</th>     <td>nonrobust</td>    <th>                     </th>     <td> </td>   \n",
       "</tr>\n",
       "</table>\n",
       "<table class=\"simpletable\">\n",
       "<tr>\n",
       "      <td></td>        <th>coef</th>     <th>std err</th>      <th>z</th>      <th>P>|z|</th>  <th>[0.025</th>    <th>0.975]</th>  \n",
       "</tr>\n",
       "<tr>\n",
       "  <th>const</th>    <td>   -0.4724</td> <td>    0.102</td> <td>   -4.653</td> <td> 0.000</td> <td>   -0.671</td> <td>   -0.273</td>\n",
       "</tr>\n",
       "<tr>\n",
       "  <th>Sex</th>      <td>    1.0507</td> <td>    0.087</td> <td>   12.013</td> <td> 0.000</td> <td>    0.879</td> <td>    1.222</td>\n",
       "</tr>\n",
       "<tr>\n",
       "  <th>Age</th>      <td>    0.9969</td> <td>    0.302</td> <td>    3.303</td> <td> 0.001</td> <td>    0.405</td> <td>    1.588</td>\n",
       "</tr>\n",
       "<tr>\n",
       "  <th>SibSp</th>    <td>    2.1751</td> <td>    0.779</td> <td>    2.794</td> <td> 0.005</td> <td>    0.649</td> <td>    3.701</td>\n",
       "</tr>\n",
       "<tr>\n",
       "  <th>Parch</th>    <td>   -0.9340</td> <td>    0.920</td> <td>   -1.015</td> <td> 0.310</td> <td>   -2.738</td> <td>    0.870</td>\n",
       "</tr>\n",
       "<tr>\n",
       "  <th>Fare</th>     <td>    0.1234</td> <td>    0.238</td> <td>    0.519</td> <td> 0.604</td> <td>   -0.343</td> <td>    0.590</td>\n",
       "</tr>\n",
       "<tr>\n",
       "  <th>Cabin</th>    <td>    0.9516</td> <td>    0.191</td> <td>    4.974</td> <td> 0.000</td> <td>    0.577</td> <td>    1.327</td>\n",
       "</tr>\n",
       "<tr>\n",
       "  <th>Embarked</th> <td>    0.8825</td> <td>    0.310</td> <td>    2.849</td> <td> 0.004</td> <td>    0.275</td> <td>    1.490</td>\n",
       "</tr>\n",
       "</table>"
      ],
      "text/latex": [
       "\\begin{center}\n",
       "\\begin{tabular}{lclc}\n",
       "\\toprule\n",
       "\\textbf{Dep. Variable:}   &     Survived     & \\textbf{  No. Observations:  } &      708    \\\\\n",
       "\\textbf{Model:}           &       GLM        & \\textbf{  Df Residuals:      } &      700    \\\\\n",
       "\\textbf{Model Family:}    &     Binomial     & \\textbf{  Df Model:          } &        7    \\\\\n",
       "\\textbf{Link Function:}   &      Logit       & \\textbf{  Scale:             } &    1.0000   \\\\\n",
       "\\textbf{Method:}          &       IRLS       & \\textbf{  Log-Likelihood:    } &   -309.25   \\\\\n",
       "\\textbf{Date:}            & Thu, 27 Jul 2023 & \\textbf{  Deviance:          } &    618.51   \\\\\n",
       "\\textbf{Time:}            &     16:59:25     & \\textbf{  Pearson chi2:      } &     709.    \\\\\n",
       "\\textbf{No. Iterations:}  &        5         & \\textbf{  Pseudo R-squ. (CS):} &   0.3686    \\\\\n",
       "\\textbf{Covariance Type:} &    nonrobust     & \\textbf{                     } &             \\\\\n",
       "\\bottomrule\n",
       "\\end{tabular}\n",
       "\\begin{tabular}{lcccccc}\n",
       "                  & \\textbf{coef} & \\textbf{std err} & \\textbf{z} & \\textbf{P$> |$z$|$} & \\textbf{[0.025} & \\textbf{0.975]}  \\\\\n",
       "\\midrule\n",
       "\\textbf{const}    &      -0.4724  &        0.102     &    -4.653  &         0.000        &       -0.671    &       -0.273     \\\\\n",
       "\\textbf{Sex}      &       1.0507  &        0.087     &    12.013  &         0.000        &        0.879    &        1.222     \\\\\n",
       "\\textbf{Age}      &       0.9969  &        0.302     &     3.303  &         0.001        &        0.405    &        1.588     \\\\\n",
       "\\textbf{SibSp}    &       2.1751  &        0.779     &     2.794  &         0.005        &        0.649    &        3.701     \\\\\n",
       "\\textbf{Parch}    &      -0.9340  &        0.920     &    -1.015  &         0.310        &       -2.738    &        0.870     \\\\\n",
       "\\textbf{Fare}     &       0.1234  &        0.238     &     0.519  &         0.604        &       -0.343    &        0.590     \\\\\n",
       "\\textbf{Cabin}    &       0.9516  &        0.191     &     4.974  &         0.000        &        0.577    &        1.327     \\\\\n",
       "\\textbf{Embarked} &       0.8825  &        0.310     &     2.849  &         0.004        &        0.275    &        1.490     \\\\\n",
       "\\bottomrule\n",
       "\\end{tabular}\n",
       "%\\caption{Generalized Linear Model Regression Results}\n",
       "\\end{center}"
      ],
      "text/plain": [
       "<class 'statsmodels.iolib.summary.Summary'>\n",
       "\"\"\"\n",
       "                 Generalized Linear Model Regression Results                  \n",
       "==============================================================================\n",
       "Dep. Variable:               Survived   No. Observations:                  708\n",
       "Model:                            GLM   Df Residuals:                      700\n",
       "Model Family:                Binomial   Df Model:                            7\n",
       "Link Function:                  Logit   Scale:                          1.0000\n",
       "Method:                          IRLS   Log-Likelihood:                -309.25\n",
       "Date:                Thu, 27 Jul 2023   Deviance:                       618.51\n",
       "Time:                        16:59:25   Pearson chi2:                     709.\n",
       "No. Iterations:                     5   Pseudo R-squ. (CS):             0.3686\n",
       "Covariance Type:            nonrobust                                         \n",
       "==============================================================================\n",
       "                 coef    std err          z      P>|z|      [0.025      0.975]\n",
       "------------------------------------------------------------------------------\n",
       "const         -0.4724      0.102     -4.653      0.000      -0.671      -0.273\n",
       "Sex            1.0507      0.087     12.013      0.000       0.879       1.222\n",
       "Age            0.9969      0.302      3.303      0.001       0.405       1.588\n",
       "SibSp          2.1751      0.779      2.794      0.005       0.649       3.701\n",
       "Parch         -0.9340      0.920     -1.015      0.310      -2.738       0.870\n",
       "Fare           0.1234      0.238      0.519      0.604      -0.343       0.590\n",
       "Cabin          0.9516      0.191      4.974      0.000       0.577       1.327\n",
       "Embarked       0.8825      0.310      2.849      0.004       0.275       1.490\n",
       "==============================================================================\n",
       "\"\"\""
      ]
     },
     "execution_count": 18,
     "metadata": {},
     "output_type": "execute_result"
    }
   ],
   "source": [
    "lm2 = sm.GLM(y_train, sm.add_constant(X_train), family=sm.families.Binomial())\n",
    "lm2.fit().summary()"
   ]
  },
  {
   "cell_type": "code",
   "execution_count": 19,
   "id": "07e22052",
   "metadata": {
    "execution": {
     "iopub.execute_input": "2023-07-27T16:59:25.420688Z",
     "iopub.status.busy": "2023-07-27T16:59:25.420298Z",
     "iopub.status.idle": "2023-07-27T16:59:25.441950Z",
     "shell.execute_reply": "2023-07-27T16:59:25.440599Z"
    },
    "papermill": {
     "duration": 0.04695,
     "end_time": "2023-07-27T16:59:25.444321",
     "exception": false,
     "start_time": "2023-07-27T16:59:25.397371",
     "status": "completed"
    },
    "tags": []
   },
   "outputs": [
    {
     "data": {
      "text/html": [
       "<div>\n",
       "<style scoped>\n",
       "    .dataframe tbody tr th:only-of-type {\n",
       "        vertical-align: middle;\n",
       "    }\n",
       "\n",
       "    .dataframe tbody tr th {\n",
       "        vertical-align: top;\n",
       "    }\n",
       "\n",
       "    .dataframe thead th {\n",
       "        text-align: right;\n",
       "    }\n",
       "</style>\n",
       "<table border=\"1\" class=\"dataframe\">\n",
       "  <thead>\n",
       "    <tr style=\"text-align: right;\">\n",
       "      <th></th>\n",
       "      <th>Features</th>\n",
       "      <th>VIF</th>\n",
       "    </tr>\n",
       "  </thead>\n",
       "  <tbody>\n",
       "    <tr>\n",
       "      <th>4</th>\n",
       "      <td>Fare</td>\n",
       "      <td>2.35</td>\n",
       "    </tr>\n",
       "    <tr>\n",
       "      <th>5</th>\n",
       "      <td>Cabin</td>\n",
       "      <td>2.12</td>\n",
       "    </tr>\n",
       "    <tr>\n",
       "      <th>2</th>\n",
       "      <td>SibSp</td>\n",
       "      <td>1.30</td>\n",
       "    </tr>\n",
       "    <tr>\n",
       "      <th>3</th>\n",
       "      <td>Parch</td>\n",
       "      <td>1.25</td>\n",
       "    </tr>\n",
       "    <tr>\n",
       "      <th>0</th>\n",
       "      <td>Sex</td>\n",
       "      <td>1.13</td>\n",
       "    </tr>\n",
       "    <tr>\n",
       "      <th>1</th>\n",
       "      <td>Age</td>\n",
       "      <td>1.08</td>\n",
       "    </tr>\n",
       "    <tr>\n",
       "      <th>6</th>\n",
       "      <td>Embarked</td>\n",
       "      <td>1.05</td>\n",
       "    </tr>\n",
       "  </tbody>\n",
       "</table>\n",
       "</div>"
      ],
      "text/plain": [
       "   Features   VIF\n",
       "4      Fare  2.35\n",
       "5     Cabin  2.12\n",
       "2     SibSp  1.30\n",
       "3     Parch  1.25\n",
       "0       Sex  1.13\n",
       "1       Age  1.08\n",
       "6  Embarked  1.05"
      ]
     },
     "execution_count": 19,
     "metadata": {},
     "output_type": "execute_result"
    }
   ],
   "source": [
    "vif_fn(X_train)"
   ]
  },
  {
   "cell_type": "code",
   "execution_count": 20,
   "id": "7382e5d4",
   "metadata": {
    "execution": {
     "iopub.execute_input": "2023-07-27T16:59:25.489591Z",
     "iopub.status.busy": "2023-07-27T16:59:25.489106Z",
     "iopub.status.idle": "2023-07-27T16:59:25.495866Z",
     "shell.execute_reply": "2023-07-27T16:59:25.494793Z"
    },
    "papermill": {
     "duration": 0.032524,
     "end_time": "2023-07-27T16:59:25.498287",
     "exception": false,
     "start_time": "2023-07-27T16:59:25.465763",
     "status": "completed"
    },
    "tags": []
   },
   "outputs": [],
   "source": [
    "X_train = X_train.drop('Parch', 1)"
   ]
  },
  {
   "cell_type": "code",
   "execution_count": null,
   "id": "c487cc97",
   "metadata": {
    "papermill": {
     "duration": 0.021086,
     "end_time": "2023-07-27T16:59:25.541524",
     "exception": false,
     "start_time": "2023-07-27T16:59:25.520438",
     "status": "completed"
    },
    "tags": []
   },
   "outputs": [],
   "source": []
  },
  {
   "cell_type": "code",
   "execution_count": 21,
   "id": "3e9c4af3",
   "metadata": {
    "execution": {
     "iopub.execute_input": "2023-07-27T16:59:25.587668Z",
     "iopub.status.busy": "2023-07-27T16:59:25.586774Z",
     "iopub.status.idle": "2023-07-27T16:59:25.632714Z",
     "shell.execute_reply": "2023-07-27T16:59:25.631046Z"
    },
    "papermill": {
     "duration": 0.071833,
     "end_time": "2023-07-27T16:59:25.635441",
     "exception": false,
     "start_time": "2023-07-27T16:59:25.563608",
     "status": "completed"
    },
    "tags": []
   },
   "outputs": [
    {
     "data": {
      "text/html": [
       "<table class=\"simpletable\">\n",
       "<caption>Generalized Linear Model Regression Results</caption>\n",
       "<tr>\n",
       "  <th>Dep. Variable:</th>       <td>Survived</td>     <th>  No. Observations:  </th>  <td>   708</td> \n",
       "</tr>\n",
       "<tr>\n",
       "  <th>Model:</th>                  <td>GLM</td>       <th>  Df Residuals:      </th>  <td>   701</td> \n",
       "</tr>\n",
       "<tr>\n",
       "  <th>Model Family:</th>        <td>Binomial</td>     <th>  Df Model:          </th>  <td>     6</td> \n",
       "</tr>\n",
       "<tr>\n",
       "  <th>Link Function:</th>         <td>Logit</td>      <th>  Scale:             </th> <td>  1.0000</td>\n",
       "</tr>\n",
       "<tr>\n",
       "  <th>Method:</th>                <td>IRLS</td>       <th>  Log-Likelihood:    </th> <td> -309.77</td>\n",
       "</tr>\n",
       "<tr>\n",
       "  <th>Date:</th>            <td>Thu, 27 Jul 2023</td> <th>  Deviance:          </th> <td>  619.53</td>\n",
       "</tr>\n",
       "<tr>\n",
       "  <th>Time:</th>                <td>16:59:25</td>     <th>  Pearson chi2:      </th>  <td>  713.</td> \n",
       "</tr>\n",
       "<tr>\n",
       "  <th>No. Iterations:</th>          <td>5</td>        <th>  Pseudo R-squ. (CS):</th>  <td>0.3677</td> \n",
       "</tr>\n",
       "<tr>\n",
       "  <th>Covariance Type:</th>     <td>nonrobust</td>    <th>                     </th>     <td> </td>   \n",
       "</tr>\n",
       "</table>\n",
       "<table class=\"simpletable\">\n",
       "<tr>\n",
       "      <td></td>        <th>coef</th>     <th>std err</th>      <th>z</th>      <th>P>|z|</th>  <th>[0.025</th>    <th>0.975]</th>  \n",
       "</tr>\n",
       "<tr>\n",
       "  <th>const</th>    <td>   -0.4739</td> <td>    0.101</td> <td>   -4.673</td> <td> 0.000</td> <td>   -0.673</td> <td>   -0.275</td>\n",
       "</tr>\n",
       "<tr>\n",
       "  <th>Sex</th>      <td>    1.0367</td> <td>    0.086</td> <td>   12.056</td> <td> 0.000</td> <td>    0.868</td> <td>    1.205</td>\n",
       "</tr>\n",
       "<tr>\n",
       "  <th>Age</th>      <td>    0.9814</td> <td>    0.301</td> <td>    3.262</td> <td> 0.001</td> <td>    0.392</td> <td>    1.571</td>\n",
       "</tr>\n",
       "<tr>\n",
       "  <th>SibSp</th>    <td>    2.2814</td> <td>    0.778</td> <td>    2.932</td> <td> 0.003</td> <td>    0.756</td> <td>    3.806</td>\n",
       "</tr>\n",
       "<tr>\n",
       "  <th>Fare</th>     <td>    0.0457</td> <td>    0.225</td> <td>    0.203</td> <td> 0.839</td> <td>   -0.396</td> <td>    0.487</td>\n",
       "</tr>\n",
       "<tr>\n",
       "  <th>Cabin</th>    <td>    0.9899</td> <td>    0.188</td> <td>    5.262</td> <td> 0.000</td> <td>    0.621</td> <td>    1.359</td>\n",
       "</tr>\n",
       "<tr>\n",
       "  <th>Embarked</th> <td>    0.8971</td> <td>    0.309</td> <td>    2.904</td> <td> 0.004</td> <td>    0.292</td> <td>    1.503</td>\n",
       "</tr>\n",
       "</table>"
      ],
      "text/latex": [
       "\\begin{center}\n",
       "\\begin{tabular}{lclc}\n",
       "\\toprule\n",
       "\\textbf{Dep. Variable:}   &     Survived     & \\textbf{  No. Observations:  } &      708    \\\\\n",
       "\\textbf{Model:}           &       GLM        & \\textbf{  Df Residuals:      } &      701    \\\\\n",
       "\\textbf{Model Family:}    &     Binomial     & \\textbf{  Df Model:          } &        6    \\\\\n",
       "\\textbf{Link Function:}   &      Logit       & \\textbf{  Scale:             } &    1.0000   \\\\\n",
       "\\textbf{Method:}          &       IRLS       & \\textbf{  Log-Likelihood:    } &   -309.77   \\\\\n",
       "\\textbf{Date:}            & Thu, 27 Jul 2023 & \\textbf{  Deviance:          } &    619.53   \\\\\n",
       "\\textbf{Time:}            &     16:59:25     & \\textbf{  Pearson chi2:      } &     713.    \\\\\n",
       "\\textbf{No. Iterations:}  &        5         & \\textbf{  Pseudo R-squ. (CS):} &   0.3677    \\\\\n",
       "\\textbf{Covariance Type:} &    nonrobust     & \\textbf{                     } &             \\\\\n",
       "\\bottomrule\n",
       "\\end{tabular}\n",
       "\\begin{tabular}{lcccccc}\n",
       "                  & \\textbf{coef} & \\textbf{std err} & \\textbf{z} & \\textbf{P$> |$z$|$} & \\textbf{[0.025} & \\textbf{0.975]}  \\\\\n",
       "\\midrule\n",
       "\\textbf{const}    &      -0.4739  &        0.101     &    -4.673  &         0.000        &       -0.673    &       -0.275     \\\\\n",
       "\\textbf{Sex}      &       1.0367  &        0.086     &    12.056  &         0.000        &        0.868    &        1.205     \\\\\n",
       "\\textbf{Age}      &       0.9814  &        0.301     &     3.262  &         0.001        &        0.392    &        1.571     \\\\\n",
       "\\textbf{SibSp}    &       2.2814  &        0.778     &     2.932  &         0.003        &        0.756    &        3.806     \\\\\n",
       "\\textbf{Fare}     &       0.0457  &        0.225     &     0.203  &         0.839        &       -0.396    &        0.487     \\\\\n",
       "\\textbf{Cabin}    &       0.9899  &        0.188     &     5.262  &         0.000        &        0.621    &        1.359     \\\\\n",
       "\\textbf{Embarked} &       0.8971  &        0.309     &     2.904  &         0.004        &        0.292    &        1.503     \\\\\n",
       "\\bottomrule\n",
       "\\end{tabular}\n",
       "%\\caption{Generalized Linear Model Regression Results}\n",
       "\\end{center}"
      ],
      "text/plain": [
       "<class 'statsmodels.iolib.summary.Summary'>\n",
       "\"\"\"\n",
       "                 Generalized Linear Model Regression Results                  \n",
       "==============================================================================\n",
       "Dep. Variable:               Survived   No. Observations:                  708\n",
       "Model:                            GLM   Df Residuals:                      701\n",
       "Model Family:                Binomial   Df Model:                            6\n",
       "Link Function:                  Logit   Scale:                          1.0000\n",
       "Method:                          IRLS   Log-Likelihood:                -309.77\n",
       "Date:                Thu, 27 Jul 2023   Deviance:                       619.53\n",
       "Time:                        16:59:25   Pearson chi2:                     713.\n",
       "No. Iterations:                     5   Pseudo R-squ. (CS):             0.3677\n",
       "Covariance Type:            nonrobust                                         \n",
       "==============================================================================\n",
       "                 coef    std err          z      P>|z|      [0.025      0.975]\n",
       "------------------------------------------------------------------------------\n",
       "const         -0.4739      0.101     -4.673      0.000      -0.673      -0.275\n",
       "Sex            1.0367      0.086     12.056      0.000       0.868       1.205\n",
       "Age            0.9814      0.301      3.262      0.001       0.392       1.571\n",
       "SibSp          2.2814      0.778      2.932      0.003       0.756       3.806\n",
       "Fare           0.0457      0.225      0.203      0.839      -0.396       0.487\n",
       "Cabin          0.9899      0.188      5.262      0.000       0.621       1.359\n",
       "Embarked       0.8971      0.309      2.904      0.004       0.292       1.503\n",
       "==============================================================================\n",
       "\"\"\""
      ]
     },
     "execution_count": 21,
     "metadata": {},
     "output_type": "execute_result"
    }
   ],
   "source": [
    "lm3 = sm.GLM(y_train, sm.add_constant(X_train), family=sm.families.Binomial())\n",
    "lm3.fit().summary()"
   ]
  },
  {
   "cell_type": "code",
   "execution_count": null,
   "id": "931afe50",
   "metadata": {
    "papermill": {
     "duration": 0.021638,
     "end_time": "2023-07-27T16:59:25.678965",
     "exception": false,
     "start_time": "2023-07-27T16:59:25.657327",
     "status": "completed"
    },
    "tags": []
   },
   "outputs": [],
   "source": []
  },
  {
   "cell_type": "code",
   "execution_count": 22,
   "id": "1da77167",
   "metadata": {
    "execution": {
     "iopub.execute_input": "2023-07-27T16:59:25.725090Z",
     "iopub.status.busy": "2023-07-27T16:59:25.724584Z",
     "iopub.status.idle": "2023-07-27T16:59:26.378085Z",
     "shell.execute_reply": "2023-07-27T16:59:26.376866Z"
    },
    "papermill": {
     "duration": 0.680085,
     "end_time": "2023-07-27T16:59:26.380974",
     "exception": false,
     "start_time": "2023-07-27T16:59:25.700889",
     "status": "completed"
    },
    "tags": []
   },
   "outputs": [
    {
     "data": {
      "image/png": "[encoded data removed]",
      "text/plain": [
       "<Figure size 640x480 with 2 Axes>"
      ]
     },
     "metadata": {},
     "output_type": "display_data"
    }
   ],
   "source": [
    "sns.heatmap(X_train.corr(), annot=True, cmap='YlGnBu')\n",
    "plt.show()"
   ]
  },
  {
   "cell_type": "code",
   "execution_count": 23,
   "id": "b339b2ab",
   "metadata": {
    "execution": {
     "iopub.execute_input": "2023-07-27T16:59:26.430595Z",
     "iopub.status.busy": "2023-07-27T16:59:26.430131Z",
     "iopub.status.idle": "2023-07-27T16:59:26.437256Z",
     "shell.execute_reply": "2023-07-27T16:59:26.436002Z"
    },
    "papermill": {
     "duration": 0.03569,
     "end_time": "2023-07-27T16:59:26.439972",
     "exception": false,
     "start_time": "2023-07-27T16:59:26.404282",
     "status": "completed"
    },
    "tags": []
   },
   "outputs": [],
   "source": [
    "X_train = X_train.drop('Fare', 1)"
   ]
  },
  {
   "cell_type": "code",
   "execution_count": null,
   "id": "9ac32c43",
   "metadata": {
    "papermill": {
     "duration": 0.024381,
     "end_time": "2023-07-27T16:59:26.488037",
     "exception": false,
     "start_time": "2023-07-27T16:59:26.463656",
     "status": "completed"
    },
    "tags": []
   },
   "outputs": [],
   "source": []
  },
  {
   "cell_type": "code",
   "execution_count": 24,
   "id": "b664a80b",
   "metadata": {
    "execution": {
     "iopub.execute_input": "2023-07-27T16:59:26.538516Z",
     "iopub.status.busy": "2023-07-27T16:59:26.538094Z",
     "iopub.status.idle": "2023-07-27T16:59:26.580643Z",
     "shell.execute_reply": "2023-07-27T16:59:26.579310Z"
    },
    "papermill": {
     "duration": 0.070802,
     "end_time": "2023-07-27T16:59:26.583380",
     "exception": false,
     "start_time": "2023-07-27T16:59:26.512578",
     "status": "completed"
    },
    "tags": []
   },
   "outputs": [
    {
     "data": {
      "text/html": [
       "<table class=\"simpletable\">\n",
       "<caption>Generalized Linear Model Regression Results</caption>\n",
       "<tr>\n",
       "  <th>Dep. Variable:</th>       <td>Survived</td>     <th>  No. Observations:  </th>  <td>   708</td> \n",
       "</tr>\n",
       "<tr>\n",
       "  <th>Model:</th>                  <td>GLM</td>       <th>  Df Residuals:      </th>  <td>   702</td> \n",
       "</tr>\n",
       "<tr>\n",
       "  <th>Model Family:</th>        <td>Binomial</td>     <th>  Df Model:          </th>  <td>     5</td> \n",
       "</tr>\n",
       "<tr>\n",
       "  <th>Link Function:</th>         <td>Logit</td>      <th>  Scale:             </th> <td>  1.0000</td>\n",
       "</tr>\n",
       "<tr>\n",
       "  <th>Method:</th>                <td>IRLS</td>       <th>  Log-Likelihood:    </th> <td> -309.79</td>\n",
       "</tr>\n",
       "<tr>\n",
       "  <th>Date:</th>            <td>Thu, 27 Jul 2023</td> <th>  Deviance:          </th> <td>  619.57</td>\n",
       "</tr>\n",
       "<tr>\n",
       "  <th>Time:</th>                <td>16:59:26</td>     <th>  Pearson chi2:      </th>  <td>  714.</td> \n",
       "</tr>\n",
       "<tr>\n",
       "  <th>No. Iterations:</th>          <td>5</td>        <th>  Pseudo R-squ. (CS):</th>  <td>0.3677</td> \n",
       "</tr>\n",
       "<tr>\n",
       "  <th>Covariance Type:</th>     <td>nonrobust</td>    <th>                     </th>     <td> </td>   \n",
       "</tr>\n",
       "</table>\n",
       "<table class=\"simpletable\">\n",
       "<tr>\n",
       "      <td></td>        <th>coef</th>     <th>std err</th>      <th>z</th>      <th>P>|z|</th>  <th>[0.025</th>    <th>0.975]</th>  \n",
       "</tr>\n",
       "<tr>\n",
       "  <th>const</th>    <td>   -0.4739</td> <td>    0.101</td> <td>   -4.675</td> <td> 0.000</td> <td>   -0.673</td> <td>   -0.275</td>\n",
       "</tr>\n",
       "<tr>\n",
       "  <th>Sex</th>      <td>    1.0389</td> <td>    0.085</td> <td>   12.165</td> <td> 0.000</td> <td>    0.872</td> <td>    1.206</td>\n",
       "</tr>\n",
       "<tr>\n",
       "  <th>Age</th>      <td>    0.9829</td> <td>    0.301</td> <td>    3.270</td> <td> 0.001</td> <td>    0.394</td> <td>    1.572</td>\n",
       "</tr>\n",
       "<tr>\n",
       "  <th>SibSp</th>    <td>    2.2289</td> <td>    0.735</td> <td>    3.034</td> <td> 0.002</td> <td>    0.789</td> <td>    3.669</td>\n",
       "</tr>\n",
       "<tr>\n",
       "  <th>Cabin</th>    <td>    1.0158</td> <td>    0.139</td> <td>    7.329</td> <td> 0.000</td> <td>    0.744</td> <td>    1.287</td>\n",
       "</tr>\n",
       "<tr>\n",
       "  <th>Embarked</th> <td>    0.9027</td> <td>    0.308</td> <td>    2.934</td> <td> 0.003</td> <td>    0.300</td> <td>    1.506</td>\n",
       "</tr>\n",
       "</table>"
      ],
      "text/latex": [
       "\\begin{center}\n",
       "\\begin{tabular}{lclc}\n",
       "\\toprule\n",
       "\\textbf{Dep. Variable:}   &     Survived     & \\textbf{  No. Observations:  } &      708    \\\\\n",
       "\\textbf{Model:}           &       GLM        & \\textbf{  Df Residuals:      } &      702    \\\\\n",
       "\\textbf{Model Family:}    &     Binomial     & \\textbf{  Df Model:          } &        5    \\\\\n",
       "\\textbf{Link Function:}   &      Logit       & \\textbf{  Scale:             } &    1.0000   \\\\\n",
       "\\textbf{Method:}          &       IRLS       & \\textbf{  Log-Likelihood:    } &   -309.79   \\\\\n",
       "\\textbf{Date:}            & Thu, 27 Jul 2023 & \\textbf{  Deviance:          } &    619.57   \\\\\n",
       "\\textbf{Time:}            &     16:59:26     & \\textbf{  Pearson chi2:      } &     714.    \\\\\n",
       "\\textbf{No. Iterations:}  &        5         & \\textbf{  Pseudo R-squ. (CS):} &   0.3677    \\\\\n",
       "\\textbf{Covariance Type:} &    nonrobust     & \\textbf{                     } &             \\\\\n",
       "\\bottomrule\n",
       "\\end{tabular}\n",
       "\\begin{tabular}{lcccccc}\n",
       "                  & \\textbf{coef} & \\textbf{std err} & \\textbf{z} & \\textbf{P$> |$z$|$} & \\textbf{[0.025} & \\textbf{0.975]}  \\\\\n",
       "\\midrule\n",
       "\\textbf{const}    &      -0.4739  &        0.101     &    -4.675  &         0.000        &       -0.673    &       -0.275     \\\\\n",
       "\\textbf{Sex}      &       1.0389  &        0.085     &    12.165  &         0.000        &        0.872    &        1.206     \\\\\n",
       "\\textbf{Age}      &       0.9829  &        0.301     &     3.270  &         0.001        &        0.394    &        1.572     \\\\\n",
       "\\textbf{SibSp}    &       2.2289  &        0.735     &     3.034  &         0.002        &        0.789    &        3.669     \\\\\n",
       "\\textbf{Cabin}    &       1.0158  &        0.139     &     7.329  &         0.000        &        0.744    &        1.287     \\\\\n",
       "\\textbf{Embarked} &       0.9027  &        0.308     &     2.934  &         0.003        &        0.300    &        1.506     \\\\\n",
       "\\bottomrule\n",
       "\\end{tabular}\n",
       "%\\caption{Generalized Linear Model Regression Results}\n",
       "\\end{center}"
      ],
      "text/plain": [
       "<class 'statsmodels.iolib.summary.Summary'>\n",
       "\"\"\"\n",
       "                 Generalized Linear Model Regression Results                  \n",
       "==============================================================================\n",
       "Dep. Variable:               Survived   No. Observations:                  708\n",
       "Model:                            GLM   Df Residuals:                      702\n",
       "Model Family:                Binomial   Df Model:                            5\n",
       "Link Function:                  Logit   Scale:                          1.0000\n",
       "Method:                          IRLS   Log-Likelihood:                -309.79\n",
       "Date:                Thu, 27 Jul 2023   Deviance:                       619.57\n",
       "Time:                        16:59:26   Pearson chi2:                     714.\n",
       "No. Iterations:                     5   Pseudo R-squ. (CS):             0.3677\n",
       "Covariance Type:            nonrobust                                         \n",
       "==============================================================================\n",
       "                 coef    std err          z      P>|z|      [0.025      0.975]\n",
       "------------------------------------------------------------------------------\n",
       "const         -0.4739      0.101     -4.675      0.000      -0.673      -0.275\n",
       "Sex            1.0389      0.085     12.165      0.000       0.872       1.206\n",
       "Age            0.9829      0.301      3.270      0.001       0.394       1.572\n",
       "SibSp          2.2289      0.735      3.034      0.002       0.789       3.669\n",
       "Cabin          1.0158      0.139      7.329      0.000       0.744       1.287\n",
       "Embarked       0.9027      0.308      2.934      0.003       0.300       1.506\n",
       "==============================================================================\n",
       "\"\"\""
      ]
     },
     "execution_count": 24,
     "metadata": {},
     "output_type": "execute_result"
    }
   ],
   "source": [
    "lm4 = sm.GLM(y_train, sm.add_constant(X_train), family=sm.families.Binomial())\n",
    "lm4.fit().summary()"
   ]
  },
  {
   "cell_type": "code",
   "execution_count": 25,
   "id": "d424b8d9",
   "metadata": {
    "execution": {
     "iopub.execute_input": "2023-07-27T16:59:26.636092Z",
     "iopub.status.busy": "2023-07-27T16:59:26.635652Z",
     "iopub.status.idle": "2023-07-27T16:59:26.640122Z",
     "shell.execute_reply": "2023-07-27T16:59:26.639179Z"
    },
    "papermill": {
     "duration": 0.0333,
     "end_time": "2023-07-27T16:59:26.642330",
     "exception": false,
     "start_time": "2023-07-27T16:59:26.609030",
     "status": "completed"
    },
    "tags": []
   },
   "outputs": [],
   "source": [
    "col = X_train.columns"
   ]
  },
  {
   "cell_type": "code",
   "execution_count": 26,
   "id": "c5c5e366",
   "metadata": {
    "execution": {
     "iopub.execute_input": "2023-07-27T16:59:26.693170Z",
     "iopub.status.busy": "2023-07-27T16:59:26.692106Z",
     "iopub.status.idle": "2023-07-27T16:59:26.699891Z",
     "shell.execute_reply": "2023-07-27T16:59:26.698299Z"
    },
    "papermill": {
     "duration": 0.036312,
     "end_time": "2023-07-27T16:59:26.702425",
     "exception": false,
     "start_time": "2023-07-27T16:59:26.666113",
     "status": "completed"
    },
    "tags": []
   },
   "outputs": [
    {
     "data": {
      "text/plain": [
       "Index(['Sex', 'Age', 'SibSp', 'Cabin', 'Embarked'], dtype='object')"
      ]
     },
     "execution_count": 26,
     "metadata": {},
     "output_type": "execute_result"
    }
   ],
   "source": [
    "col"
   ]
  },
  {
   "cell_type": "code",
   "execution_count": 27,
   "id": "a439733d",
   "metadata": {
    "execution": {
     "iopub.execute_input": "2023-07-27T16:59:26.753583Z",
     "iopub.status.busy": "2023-07-27T16:59:26.752574Z",
     "iopub.status.idle": "2023-07-27T16:59:26.782368Z",
     "shell.execute_reply": "2023-07-27T16:59:26.780812Z"
    },
    "papermill": {
     "duration": 0.058603,
     "end_time": "2023-07-27T16:59:26.785373",
     "exception": false,
     "start_time": "2023-07-27T16:59:26.726770",
     "status": "completed"
    },
    "tags": []
   },
   "outputs": [
    {
     "data": {
      "text/html": [
       "<style>#sk-container-id-1 {color: black;background-color: white;}#sk-container-id-1 pre{padding: 0;}#sk-container-id-1 div.sk-toggleable {background-color: white;}#sk-container-id-1 label.sk-toggleable__label {cursor: pointer;display: block;width: 100%;margin-bottom: 0;padding: 0.3em;box-sizing: border-box;text-align: center;}#sk-container-id-1 label.sk-toggleable__label-arrow:before {content: \"▸\";float: left;margin-right: 0.25em;color: #696969;}#sk-container-id-1 label.sk-toggleable__label-arrow:hover:before {color: black;}#sk-container-id-1 div.sk-estimator:hover label.sk-toggleable__label-arrow:before {color: black;}#sk-container-id-1 div.sk-toggleable__content {max-height: 0;max-width: 0;overflow: hidden;text-align: left;background-color: #f0f8ff;}#sk-container-id-1 div.sk-toggleable__content pre {margin: 0.2em;color: black;border-radius: 0.25em;background-color: #f0f8ff;}#sk-container-id-1 input.sk-toggleable__control:checked~div.sk-toggleable__content {max-height: 200px;max-width: 100%;overflow: auto;}#sk-container-id-1 input.sk-toggleable__control:checked~label.sk-toggleable__label-arrow:before {content: \"▾\";}#sk-container-id-1 div.sk-estimator input.sk-toggleable__control:checked~label.sk-toggleable__label {background-color: #d4ebff;}#sk-container-id-1 div.sk-label input.sk-toggleable__control:checked~label.sk-toggleable__label {background-color: #d4ebff;}#sk-container-id-1 input.sk-hidden--visually {border: 0;clip: rect(1px 1px 1px 1px);clip: rect(1px, 1px, 1px, 1px);height: 1px;margin: -1px;overflow: hidden;padding: 0;position: absolute;width: 1px;}#sk-container-id-1 div.sk-estimator {font-family: monospace;background-color: #f0f8ff;border: 1px dotted black;border-radius: 0.25em;box-sizing: border-box;margin-bottom: 0.5em;}#sk-container-id-1 div.sk-estimator:hover {background-color: #d4ebff;}#sk-container-id-1 div.sk-parallel-item::after {content: \"\";width: 100%;border-bottom: 1px solid gray;flex-grow: 1;}#sk-container-id-1 div.sk-label:hover label.sk-toggleable__label {background-color: #d4ebff;}#sk-container-id-1 div.sk-serial::before {content: \"\";position: absolute;border-left: 1px solid gray;box-sizing: border-box;top: 0;bottom: 0;left: 50%;z-index: 0;}#sk-container-id-1 div.sk-serial {display: flex;flex-direction: column;align-items: center;background-color: white;padding-right: 0.2em;padding-left: 0.2em;position: relative;}#sk-container-id-1 div.sk-item {position: relative;z-index: 1;}#sk-container-id-1 div.sk-parallel {display: flex;align-items: stretch;justify-content: center;background-color: white;position: relative;}#sk-container-id-1 div.sk-item::before, #sk-container-id-1 div.sk-parallel-item::before {content: \"\";position: absolute;border-left: 1px solid gray;box-sizing: border-box;top: 0;bottom: 0;left: 50%;z-index: -1;}#sk-container-id-1 div.sk-parallel-item {display: flex;flex-direction: column;z-index: 1;position: relative;background-color: white;}#sk-container-id-1 div.sk-parallel-item:first-child::after {align-self: flex-end;width: 50%;}#sk-container-id-1 div.sk-parallel-item:last-child::after {align-self: flex-start;width: 50%;}#sk-container-id-1 div.sk-parallel-item:only-child::after {width: 0;}#sk-container-id-1 div.sk-dashed-wrapped {border: 1px dashed gray;margin: 0 0.4em 0.5em 0.4em;box-sizing: border-box;padding-bottom: 0.4em;background-color: white;}#sk-container-id-1 div.sk-label label {font-family: monospace;font-weight: bold;display: inline-block;line-height: 1.2em;}#sk-container-id-1 div.sk-label-container {text-align: center;}#sk-container-id-1 div.sk-container {/* jupyter's `normalize.less` sets `[hidden] { display: none; }` but bootstrap.min.css set `[hidden] { display: none !important; }` so we also need the `!important` here to be able to override the default hidden behavior on the sphinx rendered scikit-learn.org. See: https://github.com/scikit-learn/scikit-learn/issues/21755 */display: inline-block !important;position: relative;}#sk-container-id-1 div.sk-text-repr-fallback {display: none;}</style><div id=\"sk-container-id-1\" class=\"sk-top-container\"><div class=\"sk-text-repr-fallback\"><pre>LogisticRegression()</pre><b>In a Jupyter environment, please rerun this cell to show the HTML representation or trust the notebook. <br />On GitHub, the HTML representation is unable to render, please try loading this page with nbviewer.org.</b></div><div class=\"sk-container\" hidden><div class=\"sk-item\"><div class=\"sk-estimator sk-toggleable\"><input class=\"sk-toggleable__control sk-hidden--visually\" id=\"sk-estimator-id-1\" type=\"checkbox\" checked><label for=\"sk-estimator-id-1\" class=\"sk-toggleable__label sk-toggleable__label-arrow\">LogisticRegression</label><div class=\"sk-toggleable__content\"><pre>LogisticRegression()</pre></div></div></div></div></div>"
      ],
      "text/plain": [
       "LogisticRegression()"
      ]
     },
     "execution_count": 27,
     "metadata": {},
     "output_type": "execute_result"
    }
   ],
   "source": [
    "logsk = LogisticRegression()\n",
    "logsk.fit(X_train, y_train)"
   ]
  },
  {
   "cell_type": "code",
   "execution_count": 28,
   "id": "edf319c8",
   "metadata": {
    "execution": {
     "iopub.execute_input": "2023-07-27T16:59:26.837618Z",
     "iopub.status.busy": "2023-07-27T16:59:26.837155Z",
     "iopub.status.idle": "2023-07-27T16:59:26.846741Z",
     "shell.execute_reply": "2023-07-27T16:59:26.845275Z"
    },
    "papermill": {
     "duration": 0.038512,
     "end_time": "2023-07-27T16:59:26.849324",
     "exception": false,
     "start_time": "2023-07-27T16:59:26.810812",
     "status": "completed"
    },
    "tags": []
   },
   "outputs": [],
   "source": [
    "y_pred = logsk.predict(X_test[col])"
   ]
  },
  {
   "cell_type": "code",
   "execution_count": 29,
   "id": "a59442c6",
   "metadata": {
    "execution": {
     "iopub.execute_input": "2023-07-27T16:59:26.901508Z",
     "iopub.status.busy": "2023-07-27T16:59:26.901100Z",
     "iopub.status.idle": "2023-07-27T16:59:26.919164Z",
     "shell.execute_reply": "2023-07-27T16:59:26.917583Z"
    },
    "papermill": {
     "duration": 0.047213,
     "end_time": "2023-07-27T16:59:26.921765",
     "exception": false,
     "start_time": "2023-07-27T16:59:26.874552",
     "status": "completed"
    },
    "tags": []
   },
   "outputs": [
    {
     "name": "stdout",
     "output_type": "stream",
     "text": [
      "              precision    recall  f1-score   support\n",
      "\n",
      "           0       0.81      0.81      0.81       113\n",
      "           1       0.67      0.67      0.67        64\n",
      "\n",
      "    accuracy                           0.76       177\n",
      "   macro avg       0.74      0.74      0.74       177\n",
      "weighted avg       0.76      0.76      0.76       177\n",
      "\n"
     ]
    }
   ],
   "source": [
    "print(metrics.classification_report(y_test, y_pred))"
   ]
  },
  {
   "cell_type": "code",
   "execution_count": 30,
   "id": "4a20608f",
   "metadata": {
    "execution": {
     "iopub.execute_input": "2023-07-27T16:59:26.973019Z",
     "iopub.status.busy": "2023-07-27T16:59:26.972493Z",
     "iopub.status.idle": "2023-07-27T16:59:26.984263Z",
     "shell.execute_reply": "2023-07-27T16:59:26.982807Z"
    },
    "papermill": {
     "duration": 0.04115,
     "end_time": "2023-07-27T16:59:26.986965",
     "exception": false,
     "start_time": "2023-07-27T16:59:26.945815",
     "status": "completed"
    },
    "tags": []
   },
   "outputs": [
    {
     "data": {
      "text/plain": [
       "array([[92, 21],\n",
       "       [21, 43]])"
      ]
     },
     "execution_count": 30,
     "metadata": {},
     "output_type": "execute_result"
    }
   ],
   "source": [
    "metrics.confusion_matrix(y_test, y_pred)"
   ]
  },
  {
   "cell_type": "code",
   "execution_count": 31,
   "id": "47bd99c1",
   "metadata": {
    "execution": {
     "iopub.execute_input": "2023-07-27T16:59:27.054252Z",
     "iopub.status.busy": "2023-07-27T16:59:27.053678Z",
     "iopub.status.idle": "2023-07-27T16:59:27.068581Z",
     "shell.execute_reply": "2023-07-27T16:59:27.067553Z"
    },
    "papermill": {
     "duration": 0.043704,
     "end_time": "2023-07-27T16:59:27.071141",
     "exception": false,
     "start_time": "2023-07-27T16:59:27.027437",
     "status": "completed"
    },
    "tags": []
   },
   "outputs": [
    {
     "data": {
      "text/plain": [
       "0.7430171460176991"
      ]
     },
     "execution_count": 31,
     "metadata": {},
     "output_type": "execute_result"
    }
   ],
   "source": [
    "metrics.roc_auc_score(y_test, y_pred)"
   ]
  },
  {
   "cell_type": "code",
   "execution_count": 32,
   "id": "befea5b1",
   "metadata": {
    "execution": {
     "iopub.execute_input": "2023-07-27T16:59:27.123513Z",
     "iopub.status.busy": "2023-07-27T16:59:27.123002Z",
     "iopub.status.idle": "2023-07-27T16:59:27.132235Z",
     "shell.execute_reply": "2023-07-27T16:59:27.130955Z"
    },
    "papermill": {
     "duration": 0.038417,
     "end_time": "2023-07-27T16:59:27.134651",
     "exception": false,
     "start_time": "2023-07-27T16:59:27.096234",
     "status": "completed"
    },
    "tags": []
   },
   "outputs": [],
   "source": [
    "y_pred_prob = logsk.predict_proba(X_test[col])"
   ]
  },
  {
   "cell_type": "code",
   "execution_count": 33,
   "id": "6fa9b8f9",
   "metadata": {
    "execution": {
     "iopub.execute_input": "2023-07-27T16:59:27.187786Z",
     "iopub.status.busy": "2023-07-27T16:59:27.187295Z",
     "iopub.status.idle": "2023-07-27T16:59:27.199949Z",
     "shell.execute_reply": "2023-07-27T16:59:27.198759Z"
    },
    "papermill": {
     "duration": 0.042027,
     "end_time": "2023-07-27T16:59:27.202388",
     "exception": false,
     "start_time": "2023-07-27T16:59:27.160361",
     "status": "completed"
    },
    "tags": []
   },
   "outputs": [
    {
     "data": {
      "text/html": [
       "<div>\n",
       "<style scoped>\n",
       "    .dataframe tbody tr th:only-of-type {\n",
       "        vertical-align: middle;\n",
       "    }\n",
       "\n",
       "    .dataframe tbody tr th {\n",
       "        vertical-align: top;\n",
       "    }\n",
       "\n",
       "    .dataframe thead th {\n",
       "        text-align: right;\n",
       "    }\n",
       "</style>\n",
       "<table border=\"1\" class=\"dataframe\">\n",
       "  <thead>\n",
       "    <tr style=\"text-align: right;\">\n",
       "      <th></th>\n",
       "      <th>0</th>\n",
       "      <th>1</th>\n",
       "    </tr>\n",
       "  </thead>\n",
       "  <tbody>\n",
       "    <tr>\n",
       "      <th>0</th>\n",
       "      <td>0.312408</td>\n",
       "      <td>0.687592</td>\n",
       "    </tr>\n",
       "    <tr>\n",
       "      <th>1</th>\n",
       "      <td>0.876472</td>\n",
       "      <td>0.123528</td>\n",
       "    </tr>\n",
       "    <tr>\n",
       "      <th>2</th>\n",
       "      <td>0.470079</td>\n",
       "      <td>0.529921</td>\n",
       "    </tr>\n",
       "    <tr>\n",
       "      <th>3</th>\n",
       "      <td>0.876472</td>\n",
       "      <td>0.123528</td>\n",
       "    </tr>\n",
       "    <tr>\n",
       "      <th>4</th>\n",
       "      <td>0.846090</td>\n",
       "      <td>0.153910</td>\n",
       "    </tr>\n",
       "  </tbody>\n",
       "</table>\n",
       "</div>"
      ],
      "text/plain": [
       "          0         1\n",
       "0  0.312408  0.687592\n",
       "1  0.876472  0.123528\n",
       "2  0.470079  0.529921\n",
       "3  0.876472  0.123528\n",
       "4  0.846090  0.153910"
      ]
     },
     "execution_count": 33,
     "metadata": {},
     "output_type": "execute_result"
    }
   ],
   "source": [
    "y_pred_df = pd.DataFrame(y_pred_prob)\n",
    "y_pred_df.head()"
   ]
  },
  {
   "cell_type": "code",
   "execution_count": 34,
   "id": "c7a78da0",
   "metadata": {
    "execution": {
     "iopub.execute_input": "2023-07-27T16:59:27.256128Z",
     "iopub.status.busy": "2023-07-27T16:59:27.255602Z",
     "iopub.status.idle": "2023-07-27T16:59:27.268367Z",
     "shell.execute_reply": "2023-07-27T16:59:27.267199Z"
    },
    "papermill": {
     "duration": 0.043129,
     "end_time": "2023-07-27T16:59:27.270878",
     "exception": false,
     "start_time": "2023-07-27T16:59:27.227749",
     "status": "completed"
    },
    "tags": []
   },
   "outputs": [
    {
     "data": {
      "text/html": [
       "<div>\n",
       "<style scoped>\n",
       "    .dataframe tbody tr th:only-of-type {\n",
       "        vertical-align: middle;\n",
       "    }\n",
       "\n",
       "    .dataframe tbody tr th {\n",
       "        vertical-align: top;\n",
       "    }\n",
       "\n",
       "    .dataframe thead th {\n",
       "        text-align: right;\n",
       "    }\n",
       "</style>\n",
       "<table border=\"1\" class=\"dataframe\">\n",
       "  <thead>\n",
       "    <tr style=\"text-align: right;\">\n",
       "      <th></th>\n",
       "      <th>1</th>\n",
       "    </tr>\n",
       "  </thead>\n",
       "  <tbody>\n",
       "    <tr>\n",
       "      <th>0</th>\n",
       "      <td>0.687592</td>\n",
       "    </tr>\n",
       "    <tr>\n",
       "      <th>1</th>\n",
       "      <td>0.123528</td>\n",
       "    </tr>\n",
       "    <tr>\n",
       "      <th>2</th>\n",
       "      <td>0.529921</td>\n",
       "    </tr>\n",
       "    <tr>\n",
       "      <th>3</th>\n",
       "      <td>0.123528</td>\n",
       "    </tr>\n",
       "    <tr>\n",
       "      <th>4</th>\n",
       "      <td>0.153910</td>\n",
       "    </tr>\n",
       "  </tbody>\n",
       "</table>\n",
       "</div>"
      ],
      "text/plain": [
       "          1\n",
       "0  0.687592\n",
       "1  0.123528\n",
       "2  0.529921\n",
       "3  0.123528\n",
       "4  0.153910"
      ]
     },
     "execution_count": 34,
     "metadata": {},
     "output_type": "execute_result"
    }
   ],
   "source": [
    "y_pred_1 = y_pred_df.iloc[:,[1]]\n",
    "y_pred_1.head()"
   ]
  },
  {
   "cell_type": "code",
   "execution_count": null,
   "id": "d48b4aa0",
   "metadata": {
    "papermill": {
     "duration": 0.025278,
     "end_time": "2023-07-27T16:59:27.321075",
     "exception": false,
     "start_time": "2023-07-27T16:59:27.295797",
     "status": "completed"
    },
    "tags": []
   },
   "outputs": [],
   "source": []
  },
  {
   "cell_type": "code",
   "execution_count": 35,
   "id": "04c5da35",
   "metadata": {
    "execution": {
     "iopub.execute_input": "2023-07-27T16:59:27.372953Z",
     "iopub.status.busy": "2023-07-27T16:59:27.372442Z",
     "iopub.status.idle": "2023-07-27T16:59:27.383268Z",
     "shell.execute_reply": "2023-07-27T16:59:27.382270Z"
    },
    "papermill": {
     "duration": 0.039838,
     "end_time": "2023-07-27T16:59:27.385574",
     "exception": false,
     "start_time": "2023-07-27T16:59:27.345736",
     "status": "completed"
    },
    "tags": []
   },
   "outputs": [
    {
     "data": {
      "text/html": [
       "<div>\n",
       "<style scoped>\n",
       "    .dataframe tbody tr th:only-of-type {\n",
       "        vertical-align: middle;\n",
       "    }\n",
       "\n",
       "    .dataframe tbody tr th {\n",
       "        vertical-align: top;\n",
       "    }\n",
       "\n",
       "    .dataframe thead th {\n",
       "        text-align: right;\n",
       "    }\n",
       "</style>\n",
       "<table border=\"1\" class=\"dataframe\">\n",
       "  <thead>\n",
       "    <tr style=\"text-align: right;\">\n",
       "      <th></th>\n",
       "      <th>Survived</th>\n",
       "    </tr>\n",
       "  </thead>\n",
       "  <tbody>\n",
       "    <tr>\n",
       "      <th>44</th>\n",
       "      <td>1</td>\n",
       "    </tr>\n",
       "    <tr>\n",
       "      <th>388</th>\n",
       "      <td>1</td>\n",
       "    </tr>\n",
       "    <tr>\n",
       "      <th>703</th>\n",
       "      <td>1</td>\n",
       "    </tr>\n",
       "    <tr>\n",
       "      <th>643</th>\n",
       "      <td>0</td>\n",
       "    </tr>\n",
       "    <tr>\n",
       "      <th>880</th>\n",
       "      <td>0</td>\n",
       "    </tr>\n",
       "  </tbody>\n",
       "</table>\n",
       "</div>"
      ],
      "text/plain": [
       "     Survived\n",
       "44          1\n",
       "388         1\n",
       "703         1\n",
       "643         0\n",
       "880         0"
      ]
     },
     "execution_count": 35,
     "metadata": {},
     "output_type": "execute_result"
    }
   ],
   "source": [
    "y_test_df = pd.DataFrame(y_test)\n",
    "y_test_df.head()"
   ]
  },
  {
   "cell_type": "code",
   "execution_count": 36,
   "id": "2328f3c0",
   "metadata": {
    "execution": {
     "iopub.execute_input": "2023-07-27T16:59:27.437713Z",
     "iopub.status.busy": "2023-07-27T16:59:27.437214Z",
     "iopub.status.idle": "2023-07-27T16:59:27.449643Z",
     "shell.execute_reply": "2023-07-27T16:59:27.448211Z"
    },
    "papermill": {
     "duration": 0.041712,
     "end_time": "2023-07-27T16:59:27.452310",
     "exception": false,
     "start_time": "2023-07-27T16:59:27.410598",
     "status": "completed"
    },
    "tags": []
   },
   "outputs": [
    {
     "data": {
      "text/html": [
       "<div>\n",
       "<style scoped>\n",
       "    .dataframe tbody tr th:only-of-type {\n",
       "        vertical-align: middle;\n",
       "    }\n",
       "\n",
       "    .dataframe tbody tr th {\n",
       "        vertical-align: top;\n",
       "    }\n",
       "\n",
       "    .dataframe thead th {\n",
       "        text-align: right;\n",
       "    }\n",
       "</style>\n",
       "<table border=\"1\" class=\"dataframe\">\n",
       "  <thead>\n",
       "    <tr style=\"text-align: right;\">\n",
       "      <th></th>\n",
       "      <th>Survived</th>\n",
       "      <th>ID</th>\n",
       "    </tr>\n",
       "  </thead>\n",
       "  <tbody>\n",
       "    <tr>\n",
       "      <th>44</th>\n",
       "      <td>1</td>\n",
       "      <td>44</td>\n",
       "    </tr>\n",
       "    <tr>\n",
       "      <th>388</th>\n",
       "      <td>1</td>\n",
       "      <td>388</td>\n",
       "    </tr>\n",
       "    <tr>\n",
       "      <th>703</th>\n",
       "      <td>1</td>\n",
       "      <td>703</td>\n",
       "    </tr>\n",
       "    <tr>\n",
       "      <th>643</th>\n",
       "      <td>0</td>\n",
       "      <td>643</td>\n",
       "    </tr>\n",
       "    <tr>\n",
       "      <th>880</th>\n",
       "      <td>0</td>\n",
       "      <td>880</td>\n",
       "    </tr>\n",
       "  </tbody>\n",
       "</table>\n",
       "</div>"
      ],
      "text/plain": [
       "     Survived   ID\n",
       "44          1   44\n",
       "388         1  388\n",
       "703         1  703\n",
       "643         0  643\n",
       "880         0  880"
      ]
     },
     "execution_count": 36,
     "metadata": {},
     "output_type": "execute_result"
    }
   ],
   "source": [
    "y_test_df['ID'] = y_test_df.index\n",
    "y_test_df.head()"
   ]
  },
  {
   "cell_type": "code",
   "execution_count": 37,
   "id": "929ee97d",
   "metadata": {
    "execution": {
     "iopub.execute_input": "2023-07-27T16:59:27.504891Z",
     "iopub.status.busy": "2023-07-27T16:59:27.504395Z",
     "iopub.status.idle": "2023-07-27T16:59:27.518021Z",
     "shell.execute_reply": "2023-07-27T16:59:27.516682Z"
    },
    "papermill": {
     "duration": 0.043135,
     "end_time": "2023-07-27T16:59:27.520693",
     "exception": false,
     "start_time": "2023-07-27T16:59:27.477558",
     "status": "completed"
    },
    "tags": []
   },
   "outputs": [
    {
     "data": {
      "text/html": [
       "<div>\n",
       "<style scoped>\n",
       "    .dataframe tbody tr th:only-of-type {\n",
       "        vertical-align: middle;\n",
       "    }\n",
       "\n",
       "    .dataframe tbody tr th {\n",
       "        vertical-align: top;\n",
       "    }\n",
       "\n",
       "    .dataframe thead th {\n",
       "        text-align: right;\n",
       "    }\n",
       "</style>\n",
       "<table border=\"1\" class=\"dataframe\">\n",
       "  <thead>\n",
       "    <tr style=\"text-align: right;\">\n",
       "      <th></th>\n",
       "      <th>Survived</th>\n",
       "      <th>ID</th>\n",
       "    </tr>\n",
       "  </thead>\n",
       "  <tbody>\n",
       "    <tr>\n",
       "      <th>0</th>\n",
       "      <td>1</td>\n",
       "      <td>44</td>\n",
       "    </tr>\n",
       "    <tr>\n",
       "      <th>1</th>\n",
       "      <td>1</td>\n",
       "      <td>388</td>\n",
       "    </tr>\n",
       "    <tr>\n",
       "      <th>2</th>\n",
       "      <td>1</td>\n",
       "      <td>703</td>\n",
       "    </tr>\n",
       "    <tr>\n",
       "      <th>3</th>\n",
       "      <td>0</td>\n",
       "      <td>643</td>\n",
       "    </tr>\n",
       "    <tr>\n",
       "      <th>4</th>\n",
       "      <td>0</td>\n",
       "      <td>880</td>\n",
       "    </tr>\n",
       "  </tbody>\n",
       "</table>\n",
       "</div>"
      ],
      "text/plain": [
       "   Survived   ID\n",
       "0         1   44\n",
       "1         1  388\n",
       "2         1  703\n",
       "3         0  643\n",
       "4         0  880"
      ]
     },
     "execution_count": 37,
     "metadata": {},
     "output_type": "execute_result"
    }
   ],
   "source": [
    "y_test_df = y_test_df.reset_index(drop=True)\n",
    "y_test_df.head()"
   ]
  },
  {
   "cell_type": "code",
   "execution_count": null,
   "id": "fbd6dfdb",
   "metadata": {
    "papermill": {
     "duration": 0.025298,
     "end_time": "2023-07-27T16:59:27.571499",
     "exception": false,
     "start_time": "2023-07-27T16:59:27.546201",
     "status": "completed"
    },
    "tags": []
   },
   "outputs": [],
   "source": []
  },
  {
   "cell_type": "code",
   "execution_count": 38,
   "id": "ebc8a12b",
   "metadata": {
    "execution": {
     "iopub.execute_input": "2023-07-27T16:59:27.627006Z",
     "iopub.status.busy": "2023-07-27T16:59:27.626563Z",
     "iopub.status.idle": "2023-07-27T16:59:27.639701Z",
     "shell.execute_reply": "2023-07-27T16:59:27.638522Z"
    },
    "papermill": {
     "duration": 0.044836,
     "end_time": "2023-07-27T16:59:27.641970",
     "exception": false,
     "start_time": "2023-07-27T16:59:27.597134",
     "status": "completed"
    },
    "tags": []
   },
   "outputs": [
    {
     "data": {
      "text/html": [
       "<div>\n",
       "<style scoped>\n",
       "    .dataframe tbody tr th:only-of-type {\n",
       "        vertical-align: middle;\n",
       "    }\n",
       "\n",
       "    .dataframe tbody tr th {\n",
       "        vertical-align: top;\n",
       "    }\n",
       "\n",
       "    .dataframe thead th {\n",
       "        text-align: right;\n",
       "    }\n",
       "</style>\n",
       "<table border=\"1\" class=\"dataframe\">\n",
       "  <thead>\n",
       "    <tr style=\"text-align: right;\">\n",
       "      <th></th>\n",
       "      <th>Survived</th>\n",
       "      <th>ID</th>\n",
       "      <th>1</th>\n",
       "    </tr>\n",
       "  </thead>\n",
       "  <tbody>\n",
       "    <tr>\n",
       "      <th>0</th>\n",
       "      <td>1</td>\n",
       "      <td>44</td>\n",
       "      <td>0.687592</td>\n",
       "    </tr>\n",
       "    <tr>\n",
       "      <th>1</th>\n",
       "      <td>1</td>\n",
       "      <td>388</td>\n",
       "      <td>0.123528</td>\n",
       "    </tr>\n",
       "    <tr>\n",
       "      <th>2</th>\n",
       "      <td>1</td>\n",
       "      <td>703</td>\n",
       "      <td>0.529921</td>\n",
       "    </tr>\n",
       "    <tr>\n",
       "      <th>3</th>\n",
       "      <td>0</td>\n",
       "      <td>643</td>\n",
       "      <td>0.123528</td>\n",
       "    </tr>\n",
       "    <tr>\n",
       "      <th>4</th>\n",
       "      <td>0</td>\n",
       "      <td>880</td>\n",
       "      <td>0.153910</td>\n",
       "    </tr>\n",
       "  </tbody>\n",
       "</table>\n",
       "</div>"
      ],
      "text/plain": [
       "   Survived   ID         1\n",
       "0         1   44  0.687592\n",
       "1         1  388  0.123528\n",
       "2         1  703  0.529921\n",
       "3         0  643  0.123528\n",
       "4         0  880  0.153910"
      ]
     },
     "execution_count": 38,
     "metadata": {},
     "output_type": "execute_result"
    }
   ],
   "source": [
    "y_pred_final = pd.concat([y_test_df, y_pred_1], axis=1)\n",
    "y_pred_final.head()"
   ]
  },
  {
   "cell_type": "code",
   "execution_count": 39,
   "id": "4258ba43",
   "metadata": {
    "execution": {
     "iopub.execute_input": "2023-07-27T16:59:27.695766Z",
     "iopub.status.busy": "2023-07-27T16:59:27.695291Z",
     "iopub.status.idle": "2023-07-27T16:59:27.715213Z",
     "shell.execute_reply": "2023-07-27T16:59:27.713947Z"
    },
    "papermill": {
     "duration": 0.050023,
     "end_time": "2023-07-27T16:59:27.717671",
     "exception": false,
     "start_time": "2023-07-27T16:59:27.667648",
     "status": "completed"
    },
    "tags": []
   },
   "outputs": [
    {
     "data": {
      "text/html": [
       "<div>\n",
       "<style scoped>\n",
       "    .dataframe tbody tr th:only-of-type {\n",
       "        vertical-align: middle;\n",
       "    }\n",
       "\n",
       "    .dataframe tbody tr th {\n",
       "        vertical-align: top;\n",
       "    }\n",
       "\n",
       "    .dataframe thead th {\n",
       "        text-align: right;\n",
       "    }\n",
       "</style>\n",
       "<table border=\"1\" class=\"dataframe\">\n",
       "  <thead>\n",
       "    <tr style=\"text-align: right;\">\n",
       "      <th></th>\n",
       "      <th>ID</th>\n",
       "      <th>Survived</th>\n",
       "      <th>Pred_Prob</th>\n",
       "      <th>Predicted</th>\n",
       "    </tr>\n",
       "  </thead>\n",
       "  <tbody>\n",
       "    <tr>\n",
       "      <th>0</th>\n",
       "      <td>44</td>\n",
       "      <td>1</td>\n",
       "      <td>0.687592</td>\n",
       "      <td>1</td>\n",
       "    </tr>\n",
       "    <tr>\n",
       "      <th>1</th>\n",
       "      <td>388</td>\n",
       "      <td>1</td>\n",
       "      <td>0.123528</td>\n",
       "      <td>0</td>\n",
       "    </tr>\n",
       "    <tr>\n",
       "      <th>2</th>\n",
       "      <td>703</td>\n",
       "      <td>1</td>\n",
       "      <td>0.529921</td>\n",
       "      <td>1</td>\n",
       "    </tr>\n",
       "    <tr>\n",
       "      <th>3</th>\n",
       "      <td>643</td>\n",
       "      <td>0</td>\n",
       "      <td>0.123528</td>\n",
       "      <td>0</td>\n",
       "    </tr>\n",
       "    <tr>\n",
       "      <th>4</th>\n",
       "      <td>880</td>\n",
       "      <td>0</td>\n",
       "      <td>0.153910</td>\n",
       "      <td>0</td>\n",
       "    </tr>\n",
       "  </tbody>\n",
       "</table>\n",
       "</div>"
      ],
      "text/plain": [
       "    ID  Survived  Pred_Prob  Predicted\n",
       "0   44         1   0.687592          1\n",
       "1  388         1   0.123528          0\n",
       "2  703         1   0.529921          1\n",
       "3  643         0   0.123528          0\n",
       "4  880         0   0.153910          0"
      ]
     },
     "execution_count": 39,
     "metadata": {},
     "output_type": "execute_result"
    }
   ],
   "source": [
    "y_pred_final = y_pred_final.rename(columns={1:'Pred_Prob'})\n",
    "y_pred_final = y_pred_final.reindex(['ID', 'Survived', 'Pred_Prob'],axis=1)\n",
    "y_pred_final['Predicted'] = y_pred_final['Pred_Prob'].map(lambda x:1 if x>0.5 else 0)\n",
    "y_pred_final.head()"
   ]
  },
  {
   "cell_type": "code",
   "execution_count": null,
   "id": "50c0d7c5",
   "metadata": {
    "papermill": {
     "duration": 0.026909,
     "end_time": "2023-07-27T16:59:27.770285",
     "exception": false,
     "start_time": "2023-07-27T16:59:27.743376",
     "status": "completed"
    },
    "tags": []
   },
   "outputs": [],
   "source": []
  },
  {
   "cell_type": "code",
   "execution_count": 40,
   "id": "42003ef9",
   "metadata": {
    "execution": {
     "iopub.execute_input": "2023-07-27T16:59:27.824209Z",
     "iopub.status.busy": "2023-07-27T16:59:27.823663Z",
     "iopub.status.idle": "2023-07-27T16:59:27.872740Z",
     "shell.execute_reply": "2023-07-27T16:59:27.871022Z"
    },
    "papermill": {
     "duration": 0.079305,
     "end_time": "2023-07-27T16:59:27.875551",
     "exception": false,
     "start_time": "2023-07-27T16:59:27.796246",
     "status": "completed"
    },
    "tags": []
   },
   "outputs": [
    {
     "name": "stdout",
     "output_type": "stream",
     "text": [
      "     prob  accuracy     sensi     speci\n",
      "0.1   0.1  0.559322  0.921875  0.353982\n",
      "0.2   0.2  0.694915  0.875000  0.592920\n",
      "0.3   0.3  0.757062  0.796875  0.734513\n",
      "0.4   0.4  0.751412  0.781250  0.734513\n",
      "0.5   0.5  0.762712  0.671875  0.814159\n",
      "0.6   0.6  0.768362  0.562500  0.884956\n",
      "0.7   0.7  0.762712  0.453125  0.938053\n",
      "0.8   0.8  0.734463  0.296875  0.982301\n",
      "0.9   0.9  0.700565  0.187500  0.991150\n"
     ]
    }
   ],
   "source": [
    "cutoff_df = pd.DataFrame(columns=['prob', 'accuracy', 'sensi', 'speci'])\n",
    "num = [i/10 for i in range(1,10,1)]\n",
    "for i in num:\n",
    "    cm = metrics.confusion_matrix(y_pred_final['Survived'], y_pred_final['Pred_Prob'] > i)\n",
    "    total = sum(sum(cm))\n",
    "    accuracy = (cm[0,0] + cm[1,1]) / total\n",
    "    sensi = cm[1,1] / (cm[1,1] + cm[1,0])\n",
    "    speci = cm[0,0] / (cm[0,0] + cm[0,1])\n",
    "    \n",
    "    cutoff_df.loc[i] = [i, accuracy, sensi, speci]\n",
    "\n",
    "print(cutoff_df)"
   ]
  },
  {
   "cell_type": "code",
   "execution_count": 41,
   "id": "988e2942",
   "metadata": {
    "execution": {
     "iopub.execute_input": "2023-07-27T16:59:27.930102Z",
     "iopub.status.busy": "2023-07-27T16:59:27.929658Z",
     "iopub.status.idle": "2023-07-27T16:59:28.238052Z",
     "shell.execute_reply": "2023-07-27T16:59:28.236842Z"
    },
    "papermill": {
     "duration": 0.338848,
     "end_time": "2023-07-27T16:59:28.240662",
     "exception": false,
     "start_time": "2023-07-27T16:59:27.901814",
     "status": "completed"
    },
    "tags": []
   },
   "outputs": [
    {
     "data": {
      "image/png": "[encoded data removed]",
      "text/plain": [
       "<Figure size 640x480 with 1 Axes>"
      ]
     },
     "metadata": {},
     "output_type": "display_data"
    }
   ],
   "source": [
    "cutoff_df.plot.line(x='prob', y=['accuracy', 'sensi', 'speci'], xticks = cutoff_df.prob)\n",
    "plt.show()"
   ]
  },
  {
   "cell_type": "code",
   "execution_count": 42,
   "id": "126a3cd6",
   "metadata": {
    "execution": {
     "iopub.execute_input": "2023-07-27T16:59:28.297307Z",
     "iopub.status.busy": "2023-07-27T16:59:28.296833Z",
     "iopub.status.idle": "2023-07-27T16:59:28.301761Z",
     "shell.execute_reply": "2023-07-27T16:59:28.300603Z"
    },
    "papermill": {
     "duration": 0.036062,
     "end_time": "2023-07-27T16:59:28.304194",
     "exception": false,
     "start_time": "2023-07-27T16:59:28.268132",
     "status": "completed"
    },
    "tags": []
   },
   "outputs": [],
   "source": [
    "# Probability cutoff point is 0.4"
   ]
  },
  {
   "cell_type": "code",
   "execution_count": 43,
   "id": "d52c98da",
   "metadata": {
    "execution": {
     "iopub.execute_input": "2023-07-27T16:59:28.361033Z",
     "iopub.status.busy": "2023-07-27T16:59:28.360576Z",
     "iopub.status.idle": "2023-07-27T16:59:28.365392Z",
     "shell.execute_reply": "2023-07-27T16:59:28.364213Z"
    },
    "papermill": {
     "duration": 0.036497,
     "end_time": "2023-07-27T16:59:28.367748",
     "exception": false,
     "start_time": "2023-07-27T16:59:28.331251",
     "status": "completed"
    },
    "tags": []
   },
   "outputs": [],
   "source": [
    "#Testing Test File"
   ]
  },
  {
   "cell_type": "raw",
   "id": "6c68c909",
   "metadata": {
    "execution": {
     "iopub.execute_input": "2023-07-27T16:31:52.650254Z",
     "iopub.status.busy": "2023-07-27T16:31:52.649857Z",
     "iopub.status.idle": "2023-07-27T16:31:52.679717Z",
     "shell.execute_reply": "2023-07-27T16:31:52.678609Z",
     "shell.execute_reply.started": "2023-07-27T16:31:52.650214Z"
    },
    "papermill": {
     "duration": 0.027114,
     "end_time": "2023-07-27T16:59:28.422091",
     "exception": false,
     "start_time": "2023-07-27T16:59:28.394977",
     "status": "completed"
    },
    "tags": []
   },
   "source": [
    "test = pd.read_csv('/kaggle/input/test-woe/Test_WOE.csv')\n",
    "test.head()"
   ]
  },
  {
   "cell_type": "code",
   "execution_count": 44,
   "id": "d9a56a8c",
   "metadata": {
    "execution": {
     "iopub.execute_input": "2023-07-27T16:59:28.479124Z",
     "iopub.status.busy": "2023-07-27T16:59:28.478666Z",
     "iopub.status.idle": "2023-07-27T16:59:28.504867Z",
     "shell.execute_reply": "2023-07-27T16:59:28.503684Z"
    },
    "papermill": {
     "duration": 0.058149,
     "end_time": "2023-07-27T16:59:28.507408",
     "exception": false,
     "start_time": "2023-07-27T16:59:28.449259",
     "status": "completed"
    },
    "tags": []
   },
   "outputs": [
    {
     "data": {
      "text/html": [
       "<div>\n",
       "<style scoped>\n",
       "    .dataframe tbody tr th:only-of-type {\n",
       "        vertical-align: middle;\n",
       "    }\n",
       "\n",
       "    .dataframe tbody tr th {\n",
       "        vertical-align: top;\n",
       "    }\n",
       "\n",
       "    .dataframe thead th {\n",
       "        text-align: right;\n",
       "    }\n",
       "</style>\n",
       "<table border=\"1\" class=\"dataframe\">\n",
       "  <thead>\n",
       "    <tr style=\"text-align: right;\">\n",
       "      <th></th>\n",
       "      <th>PassengerId</th>\n",
       "      <th>Sex</th>\n",
       "      <th>Age</th>\n",
       "      <th>SibSp</th>\n",
       "      <th>Cabin</th>\n",
       "      <th>Embarked</th>\n",
       "    </tr>\n",
       "  </thead>\n",
       "  <tbody>\n",
       "    <tr>\n",
       "      <th>0</th>\n",
       "      <td>892</td>\n",
       "      <td>-0.987308</td>\n",
       "      <td>0.065552</td>\n",
       "      <td>0.042559</td>\n",
       "      <td>1.625627</td>\n",
       "      <td>0.037242</td>\n",
       "    </tr>\n",
       "    <tr>\n",
       "      <th>1</th>\n",
       "      <td>893</td>\n",
       "      <td>1.529823</td>\n",
       "      <td>0.065552</td>\n",
       "      <td>0.042559</td>\n",
       "      <td>1.625627</td>\n",
       "      <td>-0.188350</td>\n",
       "    </tr>\n",
       "    <tr>\n",
       "      <th>2</th>\n",
       "      <td>894</td>\n",
       "      <td>-0.987308</td>\n",
       "      <td>0.065552</td>\n",
       "      <td>0.042559</td>\n",
       "      <td>0.316293</td>\n",
       "      <td>0.037242</td>\n",
       "    </tr>\n",
       "    <tr>\n",
       "      <th>3</th>\n",
       "      <td>895</td>\n",
       "      <td>-0.987308</td>\n",
       "      <td>-0.532753</td>\n",
       "      <td>0.042559</td>\n",
       "      <td>1.625627</td>\n",
       "      <td>-0.188350</td>\n",
       "    </tr>\n",
       "    <tr>\n",
       "      <th>4</th>\n",
       "      <td>896</td>\n",
       "      <td>1.529823</td>\n",
       "      <td>0.346995</td>\n",
       "      <td>0.042559</td>\n",
       "      <td>1.625627</td>\n",
       "      <td>-0.188350</td>\n",
       "    </tr>\n",
       "  </tbody>\n",
       "</table>\n",
       "</div>"
      ],
      "text/plain": [
       "   PassengerId       Sex       Age     SibSp     Cabin  Embarked\n",
       "0          892 -0.987308  0.065552  0.042559  1.625627  0.037242\n",
       "1          893  1.529823  0.065552  0.042559  1.625627 -0.188350\n",
       "2          894 -0.987308  0.065552  0.042559  0.316293  0.037242\n",
       "3          895 -0.987308 -0.532753  0.042559  1.625627 -0.188350\n",
       "4          896  1.529823  0.346995  0.042559  1.625627 -0.188350"
      ]
     },
     "execution_count": 44,
     "metadata": {},
     "output_type": "execute_result"
    }
   ],
   "source": [
    "test = pd.read_csv('/kaggle/input/test-woe/Test_WOE.csv')\n",
    "test.head()"
   ]
  },
  {
   "cell_type": "code",
   "execution_count": null,
   "id": "7f8c7d90",
   "metadata": {
    "papermill": {
     "duration": 0.026941,
     "end_time": "2023-07-27T16:59:28.561595",
     "exception": false,
     "start_time": "2023-07-27T16:59:28.534654",
     "status": "completed"
    },
    "tags": []
   },
   "outputs": [],
   "source": []
  },
  {
   "cell_type": "code",
   "execution_count": 45,
   "id": "265f62b9",
   "metadata": {
    "execution": {
     "iopub.execute_input": "2023-07-27T16:59:28.622686Z",
     "iopub.status.busy": "2023-07-27T16:59:28.621764Z",
     "iopub.status.idle": "2023-07-27T16:59:28.643215Z",
     "shell.execute_reply": "2023-07-27T16:59:28.641734Z"
    },
    "papermill": {
     "duration": 0.057363,
     "end_time": "2023-07-27T16:59:28.646134",
     "exception": false,
     "start_time": "2023-07-27T16:59:28.588771",
     "status": "completed"
    },
    "tags": []
   },
   "outputs": [
    {
     "data": {
      "text/html": [
       "<style>#sk-container-id-2 {color: black;background-color: white;}#sk-container-id-2 pre{padding: 0;}#sk-container-id-2 div.sk-toggleable {background-color: white;}#sk-container-id-2 label.sk-toggleable__label {cursor: pointer;display: block;width: 100%;margin-bottom: 0;padding: 0.3em;box-sizing: border-box;text-align: center;}#sk-container-id-2 label.sk-toggleable__label-arrow:before {content: \"▸\";float: left;margin-right: 0.25em;color: #696969;}#sk-container-id-2 label.sk-toggleable__label-arrow:hover:before {color: black;}#sk-container-id-2 div.sk-estimator:hover label.sk-toggleable__label-arrow:before {color: black;}#sk-container-id-2 div.sk-toggleable__content {max-height: 0;max-width: 0;overflow: hidden;text-align: left;background-color: #f0f8ff;}#sk-container-id-2 div.sk-toggleable__content pre {margin: 0.2em;color: black;border-radius: 0.25em;background-color: #f0f8ff;}#sk-container-id-2 input.sk-toggleable__control:checked~div.sk-toggleable__content {max-height: 200px;max-width: 100%;overflow: auto;}#sk-container-id-2 input.sk-toggleable__control:checked~label.sk-toggleable__label-arrow:before {content: \"▾\";}#sk-container-id-2 div.sk-estimator input.sk-toggleable__control:checked~label.sk-toggleable__label {background-color: #d4ebff;}#sk-container-id-2 div.sk-label input.sk-toggleable__control:checked~label.sk-toggleable__label {background-color: #d4ebff;}#sk-container-id-2 input.sk-hidden--visually {border: 0;clip: rect(1px 1px 1px 1px);clip: rect(1px, 1px, 1px, 1px);height: 1px;margin: -1px;overflow: hidden;padding: 0;position: absolute;width: 1px;}#sk-container-id-2 div.sk-estimator {font-family: monospace;background-color: #f0f8ff;border: 1px dotted black;border-radius: 0.25em;box-sizing: border-box;margin-bottom: 0.5em;}#sk-container-id-2 div.sk-estimator:hover {background-color: #d4ebff;}#sk-container-id-2 div.sk-parallel-item::after {content: \"\";width: 100%;border-bottom: 1px solid gray;flex-grow: 1;}#sk-container-id-2 div.sk-label:hover label.sk-toggleable__label {background-color: #d4ebff;}#sk-container-id-2 div.sk-serial::before {content: \"\";position: absolute;border-left: 1px solid gray;box-sizing: border-box;top: 0;bottom: 0;left: 50%;z-index: 0;}#sk-container-id-2 div.sk-serial {display: flex;flex-direction: column;align-items: center;background-color: white;padding-right: 0.2em;padding-left: 0.2em;position: relative;}#sk-container-id-2 div.sk-item {position: relative;z-index: 1;}#sk-container-id-2 div.sk-parallel {display: flex;align-items: stretch;justify-content: center;background-color: white;position: relative;}#sk-container-id-2 div.sk-item::before, #sk-container-id-2 div.sk-parallel-item::before {content: \"\";position: absolute;border-left: 1px solid gray;box-sizing: border-box;top: 0;bottom: 0;left: 50%;z-index: -1;}#sk-container-id-2 div.sk-parallel-item {display: flex;flex-direction: column;z-index: 1;position: relative;background-color: white;}#sk-container-id-2 div.sk-parallel-item:first-child::after {align-self: flex-end;width: 50%;}#sk-container-id-2 div.sk-parallel-item:last-child::after {align-self: flex-start;width: 50%;}#sk-container-id-2 div.sk-parallel-item:only-child::after {width: 0;}#sk-container-id-2 div.sk-dashed-wrapped {border: 1px dashed gray;margin: 0 0.4em 0.5em 0.4em;box-sizing: border-box;padding-bottom: 0.4em;background-color: white;}#sk-container-id-2 div.sk-label label {font-family: monospace;font-weight: bold;display: inline-block;line-height: 1.2em;}#sk-container-id-2 div.sk-label-container {text-align: center;}#sk-container-id-2 div.sk-container {/* jupyter's `normalize.less` sets `[hidden] { display: none; }` but bootstrap.min.css set `[hidden] { display: none !important; }` so we also need the `!important` here to be able to override the default hidden behavior on the sphinx rendered scikit-learn.org. See: https://github.com/scikit-learn/scikit-learn/issues/21755 */display: inline-block !important;position: relative;}#sk-container-id-2 div.sk-text-repr-fallback {display: none;}</style><div id=\"sk-container-id-2\" class=\"sk-top-container\"><div class=\"sk-text-repr-fallback\"><pre>LogisticRegression()</pre><b>In a Jupyter environment, please rerun this cell to show the HTML representation or trust the notebook. <br />On GitHub, the HTML representation is unable to render, please try loading this page with nbviewer.org.</b></div><div class=\"sk-container\" hidden><div class=\"sk-item\"><div class=\"sk-estimator sk-toggleable\"><input class=\"sk-toggleable__control sk-hidden--visually\" id=\"sk-estimator-id-2\" type=\"checkbox\" checked><label for=\"sk-estimator-id-2\" class=\"sk-toggleable__label sk-toggleable__label-arrow\">LogisticRegression</label><div class=\"sk-toggleable__content\"><pre>LogisticRegression()</pre></div></div></div></div></div>"
      ],
      "text/plain": [
       "LogisticRegression()"
      ]
     },
     "execution_count": 45,
     "metadata": {},
     "output_type": "execute_result"
    }
   ],
   "source": [
    "logsk = LogisticRegression()\n",
    "logsk.fit(X[col], y)"
   ]
  },
  {
   "cell_type": "code",
   "execution_count": 46,
   "id": "99cdd1b0",
   "metadata": {
    "execution": {
     "iopub.execute_input": "2023-07-27T16:59:28.704167Z",
     "iopub.status.busy": "2023-07-27T16:59:28.702872Z",
     "iopub.status.idle": "2023-07-27T16:59:28.713271Z",
     "shell.execute_reply": "2023-07-27T16:59:28.711746Z"
    },
    "papermill": {
     "duration": 0.042216,
     "end_time": "2023-07-27T16:59:28.716160",
     "exception": false,
     "start_time": "2023-07-27T16:59:28.673944",
     "status": "completed"
    },
    "tags": []
   },
   "outputs": [],
   "source": [
    "pred_prob = logsk.predict_proba(test[col])"
   ]
  },
  {
   "cell_type": "code",
   "execution_count": 47,
   "id": "6a5d36cb",
   "metadata": {
    "execution": {
     "iopub.execute_input": "2023-07-27T16:59:28.772831Z",
     "iopub.status.busy": "2023-07-27T16:59:28.772435Z",
     "iopub.status.idle": "2023-07-27T16:59:28.784520Z",
     "shell.execute_reply": "2023-07-27T16:59:28.783426Z"
    },
    "papermill": {
     "duration": 0.042863,
     "end_time": "2023-07-27T16:59:28.786824",
     "exception": false,
     "start_time": "2023-07-27T16:59:28.743961",
     "status": "completed"
    },
    "tags": []
   },
   "outputs": [
    {
     "data": {
      "text/html": [
       "<div>\n",
       "<style scoped>\n",
       "    .dataframe tbody tr th:only-of-type {\n",
       "        vertical-align: middle;\n",
       "    }\n",
       "\n",
       "    .dataframe tbody tr th {\n",
       "        vertical-align: top;\n",
       "    }\n",
       "\n",
       "    .dataframe thead th {\n",
       "        text-align: right;\n",
       "    }\n",
       "</style>\n",
       "<table border=\"1\" class=\"dataframe\">\n",
       "  <thead>\n",
       "    <tr style=\"text-align: right;\">\n",
       "      <th></th>\n",
       "      <th>0</th>\n",
       "      <th>1</th>\n",
       "    </tr>\n",
       "  </thead>\n",
       "  <tbody>\n",
       "    <tr>\n",
       "      <th>0</th>\n",
       "      <td>0.430872</td>\n",
       "      <td>0.569128</td>\n",
       "    </tr>\n",
       "    <tr>\n",
       "      <th>1</th>\n",
       "      <td>0.063897</td>\n",
       "      <td>0.936103</td>\n",
       "    </tr>\n",
       "    <tr>\n",
       "      <th>2</th>\n",
       "      <td>0.741348</td>\n",
       "      <td>0.258652</td>\n",
       "    </tr>\n",
       "    <tr>\n",
       "      <th>3</th>\n",
       "      <td>0.553902</td>\n",
       "      <td>0.446098</td>\n",
       "    </tr>\n",
       "    <tr>\n",
       "      <th>4</th>\n",
       "      <td>0.054594</td>\n",
       "      <td>0.945406</td>\n",
       "    </tr>\n",
       "  </tbody>\n",
       "</table>\n",
       "</div>"
      ],
      "text/plain": [
       "          0         1\n",
       "0  0.430872  0.569128\n",
       "1  0.063897  0.936103\n",
       "2  0.741348  0.258652\n",
       "3  0.553902  0.446098\n",
       "4  0.054594  0.945406"
      ]
     },
     "execution_count": 47,
     "metadata": {},
     "output_type": "execute_result"
    }
   ],
   "source": [
    "pred_df = pd.DataFrame(pred_prob)\n",
    "pred_df.head()"
   ]
  },
  {
   "cell_type": "code",
   "execution_count": 48,
   "id": "cba031ae",
   "metadata": {
    "execution": {
     "iopub.execute_input": "2023-07-27T16:59:28.844976Z",
     "iopub.status.busy": "2023-07-27T16:59:28.844437Z",
     "iopub.status.idle": "2023-07-27T16:59:28.857879Z",
     "shell.execute_reply": "2023-07-27T16:59:28.856858Z"
    },
    "papermill": {
     "duration": 0.0462,
     "end_time": "2023-07-27T16:59:28.860240",
     "exception": false,
     "start_time": "2023-07-27T16:59:28.814040",
     "status": "completed"
    },
    "tags": []
   },
   "outputs": [
    {
     "data": {
      "text/html": [
       "<div>\n",
       "<style scoped>\n",
       "    .dataframe tbody tr th:only-of-type {\n",
       "        vertical-align: middle;\n",
       "    }\n",
       "\n",
       "    .dataframe tbody tr th {\n",
       "        vertical-align: top;\n",
       "    }\n",
       "\n",
       "    .dataframe thead th {\n",
       "        text-align: right;\n",
       "    }\n",
       "</style>\n",
       "<table border=\"1\" class=\"dataframe\">\n",
       "  <thead>\n",
       "    <tr style=\"text-align: right;\">\n",
       "      <th></th>\n",
       "      <th>1</th>\n",
       "    </tr>\n",
       "  </thead>\n",
       "  <tbody>\n",
       "    <tr>\n",
       "      <th>0</th>\n",
       "      <td>0.569128</td>\n",
       "    </tr>\n",
       "    <tr>\n",
       "      <th>1</th>\n",
       "      <td>0.936103</td>\n",
       "    </tr>\n",
       "    <tr>\n",
       "      <th>2</th>\n",
       "      <td>0.258652</td>\n",
       "    </tr>\n",
       "    <tr>\n",
       "      <th>3</th>\n",
       "      <td>0.446098</td>\n",
       "    </tr>\n",
       "    <tr>\n",
       "      <th>4</th>\n",
       "      <td>0.945406</td>\n",
       "    </tr>\n",
       "  </tbody>\n",
       "</table>\n",
       "</div>"
      ],
      "text/plain": [
       "          1\n",
       "0  0.569128\n",
       "1  0.936103\n",
       "2  0.258652\n",
       "3  0.446098\n",
       "4  0.945406"
      ]
     },
     "execution_count": 48,
     "metadata": {},
     "output_type": "execute_result"
    }
   ],
   "source": [
    "pred_1 = pred_df.iloc[:,1]\n",
    "pred_1_df = pd.DataFrame(pred_1)\n",
    "pred_1_df.head()"
   ]
  },
  {
   "cell_type": "code",
   "execution_count": 49,
   "id": "48c05c48",
   "metadata": {
    "execution": {
     "iopub.execute_input": "2023-07-27T16:59:28.924144Z",
     "iopub.status.busy": "2023-07-27T16:59:28.923675Z",
     "iopub.status.idle": "2023-07-27T16:59:28.941753Z",
     "shell.execute_reply": "2023-07-27T16:59:28.940289Z"
    },
    "papermill": {
     "duration": 0.053586,
     "end_time": "2023-07-27T16:59:28.944339",
     "exception": false,
     "start_time": "2023-07-27T16:59:28.890753",
     "status": "completed"
    },
    "tags": []
   },
   "outputs": [
    {
     "data": {
      "text/html": [
       "<div>\n",
       "<style scoped>\n",
       "    .dataframe tbody tr th:only-of-type {\n",
       "        vertical-align: middle;\n",
       "    }\n",
       "\n",
       "    .dataframe tbody tr th {\n",
       "        vertical-align: top;\n",
       "    }\n",
       "\n",
       "    .dataframe thead th {\n",
       "        text-align: right;\n",
       "    }\n",
       "</style>\n",
       "<table border=\"1\" class=\"dataframe\">\n",
       "  <thead>\n",
       "    <tr style=\"text-align: right;\">\n",
       "      <th></th>\n",
       "      <th>PassengerId</th>\n",
       "      <th>1</th>\n",
       "      <th>Survived</th>\n",
       "    </tr>\n",
       "  </thead>\n",
       "  <tbody>\n",
       "    <tr>\n",
       "      <th>0</th>\n",
       "      <td>892</td>\n",
       "      <td>0.569128</td>\n",
       "      <td>0</td>\n",
       "    </tr>\n",
       "    <tr>\n",
       "      <th>1</th>\n",
       "      <td>893</td>\n",
       "      <td>0.936103</td>\n",
       "      <td>1</td>\n",
       "    </tr>\n",
       "    <tr>\n",
       "      <th>2</th>\n",
       "      <td>894</td>\n",
       "      <td>0.258652</td>\n",
       "      <td>0</td>\n",
       "    </tr>\n",
       "    <tr>\n",
       "      <th>3</th>\n",
       "      <td>895</td>\n",
       "      <td>0.446098</td>\n",
       "      <td>0</td>\n",
       "    </tr>\n",
       "    <tr>\n",
       "      <th>4</th>\n",
       "      <td>896</td>\n",
       "      <td>0.945406</td>\n",
       "      <td>1</td>\n",
       "    </tr>\n",
       "  </tbody>\n",
       "</table>\n",
       "</div>"
      ],
      "text/plain": [
       "   PassengerId         1  Survived\n",
       "0          892  0.569128         0\n",
       "1          893  0.936103         1\n",
       "2          894  0.258652         0\n",
       "3          895  0.446098         0\n",
       "4          896  0.945406         1"
      ]
     },
     "execution_count": 49,
     "metadata": {},
     "output_type": "execute_result"
    }
   ],
   "source": [
    "test_pred = pd.concat([test['PassengerId'], pred_1_df], 1)\n",
    "test_pred['Survived'] = test_pred.loc[:,1].map(lambda x:1 if x>0.6 else 0)\n",
    "test_pred.head()"
   ]
  },
  {
   "cell_type": "code",
   "execution_count": 50,
   "id": "f95f9816",
   "metadata": {
    "execution": {
     "iopub.execute_input": "2023-07-27T16:59:29.017037Z",
     "iopub.status.busy": "2023-07-27T16:59:29.016551Z",
     "iopub.status.idle": "2023-07-27T16:59:29.027936Z",
     "shell.execute_reply": "2023-07-27T16:59:29.026045Z"
    },
    "papermill": {
     "duration": 0.055882,
     "end_time": "2023-07-27T16:59:29.031084",
     "exception": false,
     "start_time": "2023-07-27T16:59:28.975202",
     "status": "completed"
    },
    "tags": []
   },
   "outputs": [],
   "source": [
    "test_pred = test_pred.drop(1,axis=1)"
   ]
  },
  {
   "cell_type": "code",
   "execution_count": 51,
   "id": "a3d8fdd2",
   "metadata": {
    "execution": {
     "iopub.execute_input": "2023-07-27T16:59:29.097731Z",
     "iopub.status.busy": "2023-07-27T16:59:29.097268Z",
     "iopub.status.idle": "2023-07-27T16:59:29.107749Z",
     "shell.execute_reply": "2023-07-27T16:59:29.106244Z"
    },
    "papermill": {
     "duration": 0.045376,
     "end_time": "2023-07-27T16:59:29.110465",
     "exception": false,
     "start_time": "2023-07-27T16:59:29.065089",
     "status": "completed"
    },
    "tags": []
   },
   "outputs": [
    {
     "data": {
      "text/html": [
       "<div>\n",
       "<style scoped>\n",
       "    .dataframe tbody tr th:only-of-type {\n",
       "        vertical-align: middle;\n",
       "    }\n",
       "\n",
       "    .dataframe tbody tr th {\n",
       "        vertical-align: top;\n",
       "    }\n",
       "\n",
       "    .dataframe thead th {\n",
       "        text-align: right;\n",
       "    }\n",
       "</style>\n",
       "<table border=\"1\" class=\"dataframe\">\n",
       "  <thead>\n",
       "    <tr style=\"text-align: right;\">\n",
       "      <th></th>\n",
       "      <th>PassengerId</th>\n",
       "      <th>Survived</th>\n",
       "    </tr>\n",
       "  </thead>\n",
       "  <tbody>\n",
       "    <tr>\n",
       "      <th>0</th>\n",
       "      <td>892</td>\n",
       "      <td>0</td>\n",
       "    </tr>\n",
       "    <tr>\n",
       "      <th>1</th>\n",
       "      <td>893</td>\n",
       "      <td>1</td>\n",
       "    </tr>\n",
       "    <tr>\n",
       "      <th>2</th>\n",
       "      <td>894</td>\n",
       "      <td>0</td>\n",
       "    </tr>\n",
       "    <tr>\n",
       "      <th>3</th>\n",
       "      <td>895</td>\n",
       "      <td>0</td>\n",
       "    </tr>\n",
       "    <tr>\n",
       "      <th>4</th>\n",
       "      <td>896</td>\n",
       "      <td>1</td>\n",
       "    </tr>\n",
       "  </tbody>\n",
       "</table>\n",
       "</div>"
      ],
      "text/plain": [
       "   PassengerId  Survived\n",
       "0          892         0\n",
       "1          893         1\n",
       "2          894         0\n",
       "3          895         0\n",
       "4          896         1"
      ]
     },
     "execution_count": 51,
     "metadata": {},
     "output_type": "execute_result"
    }
   ],
   "source": [
    "test_pred.head()"
   ]
  },
  {
   "cell_type": "code",
   "execution_count": 52,
   "id": "e11e7b58",
   "metadata": {
    "execution": {
     "iopub.execute_input": "2023-07-27T16:59:29.171986Z",
     "iopub.status.busy": "2023-07-27T16:59:29.171564Z",
     "iopub.status.idle": "2023-07-27T16:59:29.181689Z",
     "shell.execute_reply": "2023-07-27T16:59:29.180475Z"
    },
    "papermill": {
     "duration": 0.044801,
     "end_time": "2023-07-27T16:59:29.185246",
     "exception": false,
     "start_time": "2023-07-27T16:59:29.140445",
     "status": "completed"
    },
    "tags": []
   },
   "outputs": [],
   "source": [
    "test_pred.to_csv('Logistic_Results_0.6_1.csv', index=False)"
   ]
  },
  {
   "cell_type": "code",
   "execution_count": null,
   "id": "f726ee81",
   "metadata": {
    "papermill": {
     "duration": 0.030364,
     "end_time": "2023-07-27T16:59:29.245144",
     "exception": false,
     "start_time": "2023-07-27T16:59:29.214780",
     "status": "completed"
    },
    "tags": []
   },
   "outputs": [],
   "source": []
  }
 ],
 "metadata": {
  "kernelspec": {
   "display_name": "Python 3",
   "language": "python",
   "name": "python3"
  },
  "language_info": {
   "codemirror_mode": {
    "name": "ipython",
    "version": 3
   },
   "file_extension": ".py",
   "mimetype": "text/x-python",
   "name": "python",
   "nbconvert_exporter": "python",
   "pygments_lexer": "ipython3",
   "version": "3.10.12"
  },
  "papermill": {
   "default_parameters": {},
   "duration": 26.667379,
   "end_time": "2023-07-27T16:59:30.500217",
   "environment_variables": {},
   "exception": null,
   "input_path": "__notebook__.ipynb",
   "output_path": "__notebook__.ipynb",
   "parameters": {},
   "start_time": "2023-07-27T16:59:03.832838",
   "version": "2.4.0"
  }
 },
 "nbformat": 4,
 "nbformat_minor": 5
}
