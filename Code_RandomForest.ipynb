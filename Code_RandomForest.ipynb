{
 "cells": [
  {
   "cell_type": "code",
   "execution_count": 1,
   "id": "eaf63ef9",
   "metadata": {
    "_cell_guid": "b1076dfc-b9ad-4769-8c92-a6c4dae69d19",
    "_uuid": "8f2839f25d086af736a60e9eeb907d3b93b6e0e5",
    "execution": {
     "iopub.execute_input": "2023-07-28T05:00:37.202908Z",
     "iopub.status.busy": "2023-07-28T05:00:37.202373Z",
     "iopub.status.idle": "2023-07-28T05:00:37.215064Z",
     "shell.execute_reply": "2023-07-28T05:00:37.214174Z"
    },
    "papermill": {
     "duration": 0.028277,
     "end_time": "2023-07-28T05:00:37.217172",
     "exception": false,
     "start_time": "2023-07-28T05:00:37.188895",
     "status": "completed"
    },
    "tags": []
   },
   "outputs": [],
   "source": [
    "# This Python 3 environment comes with many helpful analytics libraries installed\n",
    "# It is defined by the kaggle/python Docker image: https://github.com/kaggle/docker-python\n",
    "# For example, here's several helpful packages to load\n",
    "\n",
    "import numpy as np # linear algebra\n",
    "import pandas as pd # data processing, CSV file I/O (e.g. pd.read_csv)\n",
    "\n",
    "# Input data files are available in the read-only \"../input/\" directory\n",
    "# For example, running this (by clicking run or pressing Shift+Enter) will list all files under the input directory\n",
    "\n",
    "import os\n",
    "for dirname, _, filenames in os.walk('/kaggle/input'):\n",
    "    for filename in filenames:\n",
    "        print(os.path.join(dirname, filename))\n",
    "\n",
    "# You can write up to 20GB to the current directory (/kaggle/working/) that gets preserved as output when you create a version using \"Save & Run All\" \n",
    "# You can also write temporary files to /kaggle/temp/, but they won't be saved outside of the current session"
   ]
  },
  {
   "cell_type": "code",
   "execution_count": 2,
   "id": "2b658c9f",
   "metadata": {
    "execution": {
     "iopub.execute_input": "2023-07-28T05:00:37.242580Z",
     "iopub.status.busy": "2023-07-28T05:00:37.241495Z",
     "iopub.status.idle": "2023-07-28T05:00:38.528240Z",
     "shell.execute_reply": "2023-07-28T05:00:38.526977Z"
    },
    "papermill": {
     "duration": 1.302013,
     "end_time": "2023-07-28T05:00:38.530787",
     "exception": false,
     "start_time": "2023-07-28T05:00:37.228774",
     "status": "completed"
    },
    "tags": []
   },
   "outputs": [
    {
     "name": "stderr",
     "output_type": "stream",
     "text": [
      "/opt/conda/lib/python3.10/site-packages/scipy/__init__.py:146: UserWarning: A NumPy version >=1.16.5 and <1.23.0 is required for this version of SciPy (detected version 1.23.5\n",
      "  warnings.warn(f\"A NumPy version >={np_minversion} and <{np_maxversion}\"\n"
     ]
    }
   ],
   "source": [
    "import matplotlib.pyplot as plt\n",
    "import seaborn as sns\n",
    "%matplotlib inline"
   ]
  },
  {
   "cell_type": "code",
   "execution_count": 3,
   "id": "830ab945",
   "metadata": {
    "execution": {
     "iopub.execute_input": "2023-07-28T05:00:38.557257Z",
     "iopub.status.busy": "2023-07-28T05:00:38.556745Z",
     "iopub.status.idle": "2023-07-28T05:00:39.167793Z",
     "shell.execute_reply": "2023-07-28T05:00:39.166319Z"
    },
    "papermill": {
     "duration": 0.627609,
     "end_time": "2023-07-28T05:00:39.171328",
     "exception": false,
     "start_time": "2023-07-28T05:00:38.543719",
     "status": "completed"
    },
    "tags": []
   },
   "outputs": [],
   "source": [
    "from sklearn.model_selection import train_test_split\n",
    "\n",
    "from sklearn.ensemble import RandomForestClassifier\n",
    "\n",
    "from sklearn import metrics\n",
    "\n",
    "from sklearn.model_selection import GridSearchCV\n",
    "\n",
    "import warnings\n",
    "warnings.filterwarnings('ignore')"
   ]
  },
  {
   "cell_type": "code",
   "execution_count": 4,
   "id": "6e444e94",
   "metadata": {
    "execution": {
     "iopub.execute_input": "2023-07-28T05:00:39.196297Z",
     "iopub.status.busy": "2023-07-28T05:00:39.195663Z",
     "iopub.status.idle": "2023-07-28T05:00:39.200337Z",
     "shell.execute_reply": "2023-07-28T05:00:39.199167Z"
    },
    "papermill": {
     "duration": 0.019673,
     "end_time": "2023-07-28T05:00:39.202597",
     "exception": false,
     "start_time": "2023-07-28T05:00:39.182924",
     "status": "completed"
    },
    "tags": []
   },
   "outputs": [],
   "source": [
    "path = 'https://raw.githubusercontent.com/VivekJeldi/Titanic-Survival/main/df_WOE.csv'"
   ]
  },
  {
   "cell_type": "code",
   "execution_count": 5,
   "id": "29bc2bbb",
   "metadata": {
    "execution": {
     "iopub.execute_input": "2023-07-28T05:00:39.227895Z",
     "iopub.status.busy": "2023-07-28T05:00:39.227528Z",
     "iopub.status.idle": "2023-07-28T05:00:39.732630Z",
     "shell.execute_reply": "2023-07-28T05:00:39.731482Z"
    },
    "papermill": {
     "duration": 0.520172,
     "end_time": "2023-07-28T05:00:39.734783",
     "exception": false,
     "start_time": "2023-07-28T05:00:39.214611",
     "status": "completed"
    },
    "tags": []
   },
   "outputs": [
    {
     "data": {
      "text/html": [
       "<div>\n",
       "<style scoped>\n",
       "    .dataframe tbody tr th:only-of-type {\n",
       "        vertical-align: middle;\n",
       "    }\n",
       "\n",
       "    .dataframe tbody tr th {\n",
       "        vertical-align: top;\n",
       "    }\n",
       "\n",
       "    .dataframe thead th {\n",
       "        text-align: right;\n",
       "    }\n",
       "</style>\n",
       "<table border=\"1\" class=\"dataframe\">\n",
       "  <thead>\n",
       "    <tr style=\"text-align: right;\">\n",
       "      <th></th>\n",
       "      <th>Pclass</th>\n",
       "      <th>Sex</th>\n",
       "      <th>Age</th>\n",
       "      <th>SibSp</th>\n",
       "      <th>Parch</th>\n",
       "      <th>Fare</th>\n",
       "      <th>Cabin</th>\n",
       "      <th>Embarked</th>\n",
       "      <th>Survived</th>\n",
       "    </tr>\n",
       "  </thead>\n",
       "  <tbody>\n",
       "    <tr>\n",
       "      <th>0</th>\n",
       "      <td>-0.653578</td>\n",
       "      <td>-0.987308</td>\n",
       "      <td>0.346995</td>\n",
       "      <td>0.042559</td>\n",
       "      <td>-0.042225</td>\n",
       "      <td>-0.879049</td>\n",
       "      <td>-0.685078</td>\n",
       "      <td>-0.188350</td>\n",
       "      <td>0</td>\n",
       "    </tr>\n",
       "    <tr>\n",
       "      <th>1</th>\n",
       "      <td>0.991942</td>\n",
       "      <td>1.529823</td>\n",
       "      <td>0.065552</td>\n",
       "      <td>0.042559</td>\n",
       "      <td>-0.042225</td>\n",
       "      <td>0.701554</td>\n",
       "      <td>0.649822</td>\n",
       "      <td>0.668514</td>\n",
       "      <td>1</td>\n",
       "    </tr>\n",
       "    <tr>\n",
       "      <th>2</th>\n",
       "      <td>-0.653578</td>\n",
       "      <td>1.529823</td>\n",
       "      <td>-0.532753</td>\n",
       "      <td>0.042559</td>\n",
       "      <td>-0.042225</td>\n",
       "      <td>-0.879049</td>\n",
       "      <td>-0.685078</td>\n",
       "      <td>-0.188350</td>\n",
       "      <td>1</td>\n",
       "    </tr>\n",
       "    <tr>\n",
       "      <th>3</th>\n",
       "      <td>0.991942</td>\n",
       "      <td>1.529823</td>\n",
       "      <td>0.065552</td>\n",
       "      <td>0.042559</td>\n",
       "      <td>-0.042225</td>\n",
       "      <td>0.701554</td>\n",
       "      <td>0.649822</td>\n",
       "      <td>-0.188350</td>\n",
       "      <td>1</td>\n",
       "    </tr>\n",
       "    <tr>\n",
       "      <th>4</th>\n",
       "      <td>-0.653578</td>\n",
       "      <td>-0.987308</td>\n",
       "      <td>0.065552</td>\n",
       "      <td>0.042559</td>\n",
       "      <td>-0.042225</td>\n",
       "      <td>-0.879049</td>\n",
       "      <td>-0.685078</td>\n",
       "      <td>-0.188350</td>\n",
       "      <td>0</td>\n",
       "    </tr>\n",
       "  </tbody>\n",
       "</table>\n",
       "</div>"
      ],
      "text/plain": [
       "     Pclass       Sex       Age     SibSp     Parch      Fare     Cabin  \\\n",
       "0 -0.653578 -0.987308  0.346995  0.042559 -0.042225 -0.879049 -0.685078   \n",
       "1  0.991942  1.529823  0.065552  0.042559 -0.042225  0.701554  0.649822   \n",
       "2 -0.653578  1.529823 -0.532753  0.042559 -0.042225 -0.879049 -0.685078   \n",
       "3  0.991942  1.529823  0.065552  0.042559 -0.042225  0.701554  0.649822   \n",
       "4 -0.653578 -0.987308  0.065552  0.042559 -0.042225 -0.879049 -0.685078   \n",
       "\n",
       "   Embarked  Survived  \n",
       "0 -0.188350         0  \n",
       "1  0.668514         1  \n",
       "2 -0.188350         1  \n",
       "3 -0.188350         1  \n",
       "4 -0.188350         0  "
      ]
     },
     "execution_count": 5,
     "metadata": {},
     "output_type": "execute_result"
    }
   ],
   "source": [
    "df = pd.read_csv(path)\n",
    "df.head()"
   ]
  },
  {
   "cell_type": "code",
   "execution_count": 6,
   "id": "2426aa0d",
   "metadata": {
    "execution": {
     "iopub.execute_input": "2023-07-28T05:00:39.759989Z",
     "iopub.status.busy": "2023-07-28T05:00:39.759330Z",
     "iopub.status.idle": "2023-07-28T05:00:39.783669Z",
     "shell.execute_reply": "2023-07-28T05:00:39.782157Z"
    },
    "papermill": {
     "duration": 0.039441,
     "end_time": "2023-07-28T05:00:39.785832",
     "exception": false,
     "start_time": "2023-07-28T05:00:39.746391",
     "status": "completed"
    },
    "tags": []
   },
   "outputs": [
    {
     "name": "stdout",
     "output_type": "stream",
     "text": [
      "<class 'pandas.core.frame.DataFrame'>\n",
      "RangeIndex: 885 entries, 0 to 884\n",
      "Data columns (total 9 columns):\n",
      " #   Column    Non-Null Count  Dtype  \n",
      "---  ------    --------------  -----  \n",
      " 0   Pclass    885 non-null    float64\n",
      " 1   Sex       885 non-null    float64\n",
      " 2   Age       885 non-null    float64\n",
      " 3   SibSp     885 non-null    float64\n",
      " 4   Parch     885 non-null    float64\n",
      " 5   Fare      885 non-null    float64\n",
      " 6   Cabin     885 non-null    float64\n",
      " 7   Embarked  885 non-null    float64\n",
      " 8   Survived  885 non-null    int64  \n",
      "dtypes: float64(8), int64(1)\n",
      "memory usage: 62.4 KB\n"
     ]
    }
   ],
   "source": [
    "df.info()"
   ]
  },
  {
   "cell_type": "code",
   "execution_count": 7,
   "id": "17866094",
   "metadata": {
    "execution": {
     "iopub.execute_input": "2023-07-28T05:00:39.810687Z",
     "iopub.status.busy": "2023-07-28T05:00:39.810330Z",
     "iopub.status.idle": "2023-07-28T05:00:39.818157Z",
     "shell.execute_reply": "2023-07-28T05:00:39.817210Z"
    },
    "papermill": {
     "duration": 0.022788,
     "end_time": "2023-07-28T05:00:39.820178",
     "exception": false,
     "start_time": "2023-07-28T05:00:39.797390",
     "status": "completed"
    },
    "tags": []
   },
   "outputs": [
    {
     "data": {
      "text/plain": [
       "Pclass      0\n",
       "Sex         0\n",
       "Age         0\n",
       "SibSp       0\n",
       "Parch       0\n",
       "Fare        0\n",
       "Cabin       0\n",
       "Embarked    0\n",
       "Survived    0\n",
       "dtype: int64"
      ]
     },
     "execution_count": 7,
     "metadata": {},
     "output_type": "execute_result"
    }
   ],
   "source": [
    "df.isnull().sum()"
   ]
  },
  {
   "cell_type": "code",
   "execution_count": 8,
   "id": "b403a969",
   "metadata": {
    "execution": {
     "iopub.execute_input": "2023-07-28T05:00:39.845591Z",
     "iopub.status.busy": "2023-07-28T05:00:39.845209Z",
     "iopub.status.idle": "2023-07-28T05:00:39.852330Z",
     "shell.execute_reply": "2023-07-28T05:00:39.851376Z"
    },
    "papermill": {
     "duration": 0.022452,
     "end_time": "2023-07-28T05:00:39.854421",
     "exception": false,
     "start_time": "2023-07-28T05:00:39.831969",
     "status": "completed"
    },
    "tags": []
   },
   "outputs": [],
   "source": [
    "df['Survived'] = df['Survived'].astype('category')"
   ]
  },
  {
   "cell_type": "code",
   "execution_count": 9,
   "id": "6b9a8610",
   "metadata": {
    "execution": {
     "iopub.execute_input": "2023-07-28T05:00:39.880642Z",
     "iopub.status.busy": "2023-07-28T05:00:39.879645Z",
     "iopub.status.idle": "2023-07-28T05:00:39.885630Z",
     "shell.execute_reply": "2023-07-28T05:00:39.884878Z"
    },
    "papermill": {
     "duration": 0.021113,
     "end_time": "2023-07-28T05:00:39.887536",
     "exception": false,
     "start_time": "2023-07-28T05:00:39.866423",
     "status": "completed"
    },
    "tags": []
   },
   "outputs": [],
   "source": [
    "y = df['Survived']\n",
    "X = df.drop('Survived',axis=1)"
   ]
  },
  {
   "cell_type": "code",
   "execution_count": 10,
   "id": "312f6e36",
   "metadata": {
    "execution": {
     "iopub.execute_input": "2023-07-28T05:00:39.912424Z",
     "iopub.status.busy": "2023-07-28T05:00:39.912065Z",
     "iopub.status.idle": "2023-07-28T05:00:39.919101Z",
     "shell.execute_reply": "2023-07-28T05:00:39.918272Z"
    },
    "papermill": {
     "duration": 0.022136,
     "end_time": "2023-07-28T05:00:39.921350",
     "exception": false,
     "start_time": "2023-07-28T05:00:39.899214",
     "status": "completed"
    },
    "tags": []
   },
   "outputs": [],
   "source": [
    "X_train, X_test, y_train , y_test = train_test_split(X,y, test_size=0.2, random_state=42)"
   ]
  },
  {
   "cell_type": "code",
   "execution_count": 11,
   "id": "e3a2e05e",
   "metadata": {
    "execution": {
     "iopub.execute_input": "2023-07-28T05:00:39.948102Z",
     "iopub.status.busy": "2023-07-28T05:00:39.947485Z",
     "iopub.status.idle": "2023-07-28T05:00:39.956940Z",
     "shell.execute_reply": "2023-07-28T05:00:39.955964Z"
    },
    "papermill": {
     "duration": 0.025364,
     "end_time": "2023-07-28T05:00:39.959107",
     "exception": false,
     "start_time": "2023-07-28T05:00:39.933743",
     "status": "completed"
    },
    "tags": []
   },
   "outputs": [
    {
     "data": {
      "text/plain": [
       "404    1\n",
       "434    1\n",
       "360    0\n",
       "355    1\n",
       "81     1\n",
       "      ..\n",
       "106    1\n",
       "270    1\n",
       "860    1\n",
       "435    0\n",
       "102    0\n",
       "Name: Survived, Length: 708, dtype: category\n",
       "Categories (2, int64): [0, 1]"
      ]
     },
     "execution_count": 11,
     "metadata": {},
     "output_type": "execute_result"
    }
   ],
   "source": [
    "y_train"
   ]
  },
  {
   "cell_type": "code",
   "execution_count": 12,
   "id": "2c001085",
   "metadata": {
    "execution": {
     "iopub.execute_input": "2023-07-28T05:00:39.984518Z",
     "iopub.status.busy": "2023-07-28T05:00:39.983908Z",
     "iopub.status.idle": "2023-07-28T05:00:39.990755Z",
     "shell.execute_reply": "2023-07-28T05:00:39.989733Z"
    },
    "papermill": {
     "duration": 0.022075,
     "end_time": "2023-07-28T05:00:39.993019",
     "exception": false,
     "start_time": "2023-07-28T05:00:39.970944",
     "status": "completed"
    },
    "tags": []
   },
   "outputs": [
    {
     "data": {
      "text/plain": [
       "Index(['Pclass', 'Sex', 'Age', 'SibSp', 'Parch', 'Fare', 'Cabin', 'Embarked'], dtype='object')"
      ]
     },
     "execution_count": 12,
     "metadata": {},
     "output_type": "execute_result"
    }
   ],
   "source": [
    "X_train.columns"
   ]
  },
  {
   "cell_type": "code",
   "execution_count": 13,
   "id": "b5d4c3c6",
   "metadata": {
    "execution": {
     "iopub.execute_input": "2023-07-28T05:00:40.018781Z",
     "iopub.status.busy": "2023-07-28T05:00:40.018419Z",
     "iopub.status.idle": "2023-07-28T05:00:40.022435Z",
     "shell.execute_reply": "2023-07-28T05:00:40.021517Z"
    },
    "papermill": {
     "duration": 0.019147,
     "end_time": "2023-07-28T05:00:40.024264",
     "exception": false,
     "start_time": "2023-07-28T05:00:40.005117",
     "status": "completed"
    },
    "tags": []
   },
   "outputs": [],
   "source": [
    "# Features from RFE\n",
    "#col = ['Sex', 'Age', 'SibSp', 'Cabin', 'Embarked']\n",
    "#col = ['Pclass', 'Sex', 'Age','SibSp','Fare', 'Cabin', 'Embarked']\n",
    "col = X_train.columns"
   ]
  },
  {
   "cell_type": "code",
   "execution_count": 14,
   "id": "3be35702",
   "metadata": {
    "execution": {
     "iopub.execute_input": "2023-07-28T05:00:40.050589Z",
     "iopub.status.busy": "2023-07-28T05:00:40.050192Z",
     "iopub.status.idle": "2023-07-28T05:00:40.254636Z",
     "shell.execute_reply": "2023-07-28T05:00:40.253621Z"
    },
    "papermill": {
     "duration": 0.220328,
     "end_time": "2023-07-28T05:00:40.256673",
     "exception": false,
     "start_time": "2023-07-28T05:00:40.036345",
     "status": "completed"
    },
    "tags": []
   },
   "outputs": [
    {
     "data": {
      "text/html": [
       "<style>#sk-container-id-1 {color: black;background-color: white;}#sk-container-id-1 pre{padding: 0;}#sk-container-id-1 div.sk-toggleable {background-color: white;}#sk-container-id-1 label.sk-toggleable__label {cursor: pointer;display: block;width: 100%;margin-bottom: 0;padding: 0.3em;box-sizing: border-box;text-align: center;}#sk-container-id-1 label.sk-toggleable__label-arrow:before {content: \"▸\";float: left;margin-right: 0.25em;color: #696969;}#sk-container-id-1 label.sk-toggleable__label-arrow:hover:before {color: black;}#sk-container-id-1 div.sk-estimator:hover label.sk-toggleable__label-arrow:before {color: black;}#sk-container-id-1 div.sk-toggleable__content {max-height: 0;max-width: 0;overflow: hidden;text-align: left;background-color: #f0f8ff;}#sk-container-id-1 div.sk-toggleable__content pre {margin: 0.2em;color: black;border-radius: 0.25em;background-color: #f0f8ff;}#sk-container-id-1 input.sk-toggleable__control:checked~div.sk-toggleable__content {max-height: 200px;max-width: 100%;overflow: auto;}#sk-container-id-1 input.sk-toggleable__control:checked~label.sk-toggleable__label-arrow:before {content: \"▾\";}#sk-container-id-1 div.sk-estimator input.sk-toggleable__control:checked~label.sk-toggleable__label {background-color: #d4ebff;}#sk-container-id-1 div.sk-label input.sk-toggleable__control:checked~label.sk-toggleable__label {background-color: #d4ebff;}#sk-container-id-1 input.sk-hidden--visually {border: 0;clip: rect(1px 1px 1px 1px);clip: rect(1px, 1px, 1px, 1px);height: 1px;margin: -1px;overflow: hidden;padding: 0;position: absolute;width: 1px;}#sk-container-id-1 div.sk-estimator {font-family: monospace;background-color: #f0f8ff;border: 1px dotted black;border-radius: 0.25em;box-sizing: border-box;margin-bottom: 0.5em;}#sk-container-id-1 div.sk-estimator:hover {background-color: #d4ebff;}#sk-container-id-1 div.sk-parallel-item::after {content: \"\";width: 100%;border-bottom: 1px solid gray;flex-grow: 1;}#sk-container-id-1 div.sk-label:hover label.sk-toggleable__label {background-color: #d4ebff;}#sk-container-id-1 div.sk-serial::before {content: \"\";position: absolute;border-left: 1px solid gray;box-sizing: border-box;top: 0;bottom: 0;left: 50%;z-index: 0;}#sk-container-id-1 div.sk-serial {display: flex;flex-direction: column;align-items: center;background-color: white;padding-right: 0.2em;padding-left: 0.2em;position: relative;}#sk-container-id-1 div.sk-item {position: relative;z-index: 1;}#sk-container-id-1 div.sk-parallel {display: flex;align-items: stretch;justify-content: center;background-color: white;position: relative;}#sk-container-id-1 div.sk-item::before, #sk-container-id-1 div.sk-parallel-item::before {content: \"\";position: absolute;border-left: 1px solid gray;box-sizing: border-box;top: 0;bottom: 0;left: 50%;z-index: -1;}#sk-container-id-1 div.sk-parallel-item {display: flex;flex-direction: column;z-index: 1;position: relative;background-color: white;}#sk-container-id-1 div.sk-parallel-item:first-child::after {align-self: flex-end;width: 50%;}#sk-container-id-1 div.sk-parallel-item:last-child::after {align-self: flex-start;width: 50%;}#sk-container-id-1 div.sk-parallel-item:only-child::after {width: 0;}#sk-container-id-1 div.sk-dashed-wrapped {border: 1px dashed gray;margin: 0 0.4em 0.5em 0.4em;box-sizing: border-box;padding-bottom: 0.4em;background-color: white;}#sk-container-id-1 div.sk-label label {font-family: monospace;font-weight: bold;display: inline-block;line-height: 1.2em;}#sk-container-id-1 div.sk-label-container {text-align: center;}#sk-container-id-1 div.sk-container {/* jupyter's `normalize.less` sets `[hidden] { display: none; }` but bootstrap.min.css set `[hidden] { display: none !important; }` so we also need the `!important` here to be able to override the default hidden behavior on the sphinx rendered scikit-learn.org. See: https://github.com/scikit-learn/scikit-learn/issues/21755 */display: inline-block !important;position: relative;}#sk-container-id-1 div.sk-text-repr-fallback {display: none;}</style><div id=\"sk-container-id-1\" class=\"sk-top-container\"><div class=\"sk-text-repr-fallback\"><pre>RandomForestClassifier(random_state=0)</pre><b>In a Jupyter environment, please rerun this cell to show the HTML representation or trust the notebook. <br />On GitHub, the HTML representation is unable to render, please try loading this page with nbviewer.org.</b></div><div class=\"sk-container\" hidden><div class=\"sk-item\"><div class=\"sk-estimator sk-toggleable\"><input class=\"sk-toggleable__control sk-hidden--visually\" id=\"sk-estimator-id-1\" type=\"checkbox\" checked><label for=\"sk-estimator-id-1\" class=\"sk-toggleable__label sk-toggleable__label-arrow\">RandomForestClassifier</label><div class=\"sk-toggleable__content\"><pre>RandomForestClassifier(random_state=0)</pre></div></div></div></div></div>"
      ],
      "text/plain": [
       "RandomForestClassifier(random_state=0)"
      ]
     },
     "execution_count": 14,
     "metadata": {},
     "output_type": "execute_result"
    }
   ],
   "source": [
    "rfc = RandomForestClassifier(random_state=0)\n",
    "rfc.fit(X_train[col], y_train)"
   ]
  },
  {
   "cell_type": "code",
   "execution_count": 15,
   "id": "04fa8762",
   "metadata": {
    "execution": {
     "iopub.execute_input": "2023-07-28T05:00:40.283224Z",
     "iopub.status.busy": "2023-07-28T05:00:40.282820Z",
     "iopub.status.idle": "2023-07-28T05:00:40.304071Z",
     "shell.execute_reply": "2023-07-28T05:00:40.302953Z"
    },
    "papermill": {
     "duration": 0.037289,
     "end_time": "2023-07-28T05:00:40.306310",
     "exception": false,
     "start_time": "2023-07-28T05:00:40.269021",
     "status": "completed"
    },
    "tags": []
   },
   "outputs": [],
   "source": [
    "y_pred = rfc.predict(X_test[col])"
   ]
  },
  {
   "cell_type": "code",
   "execution_count": 16,
   "id": "211fb01c",
   "metadata": {
    "execution": {
     "iopub.execute_input": "2023-07-28T05:00:40.334947Z",
     "iopub.status.busy": "2023-07-28T05:00:40.334535Z",
     "iopub.status.idle": "2023-07-28T05:00:40.350330Z",
     "shell.execute_reply": "2023-07-28T05:00:40.348468Z"
    },
    "papermill": {
     "duration": 0.03385,
     "end_time": "2023-07-28T05:00:40.352672",
     "exception": false,
     "start_time": "2023-07-28T05:00:40.318822",
     "status": "completed"
    },
    "tags": []
   },
   "outputs": [
    {
     "name": "stdout",
     "output_type": "stream",
     "text": [
      "              precision    recall  f1-score   support\n",
      "\n",
      "           0       0.81      0.85      0.83       113\n",
      "           1       0.71      0.64      0.67        64\n",
      "\n",
      "    accuracy                           0.77       177\n",
      "   macro avg       0.76      0.75      0.75       177\n",
      "weighted avg       0.77      0.77      0.77       177\n",
      "\n"
     ]
    }
   ],
   "source": [
    "print(metrics.classification_report(y_test, y_pred))"
   ]
  },
  {
   "cell_type": "code",
   "execution_count": 17,
   "id": "22ff8d8b",
   "metadata": {
    "execution": {
     "iopub.execute_input": "2023-07-28T05:00:40.379408Z",
     "iopub.status.busy": "2023-07-28T05:00:40.379065Z",
     "iopub.status.idle": "2023-07-28T05:00:40.387441Z",
     "shell.execute_reply": "2023-07-28T05:00:40.386695Z"
    },
    "papermill": {
     "duration": 0.024136,
     "end_time": "2023-07-28T05:00:40.389398",
     "exception": false,
     "start_time": "2023-07-28T05:00:40.365262",
     "status": "completed"
    },
    "tags": []
   },
   "outputs": [
    {
     "data": {
      "text/plain": [
       "array([[96, 17],\n",
       "       [23, 41]])"
      ]
     },
     "execution_count": 17,
     "metadata": {},
     "output_type": "execute_result"
    }
   ],
   "source": [
    "metrics.confusion_matrix(y_test, y_pred)"
   ]
  },
  {
   "cell_type": "code",
   "execution_count": null,
   "id": "c707c1e9",
   "metadata": {
    "papermill": {
     "duration": 0.01258,
     "end_time": "2023-07-28T05:00:40.414396",
     "exception": false,
     "start_time": "2023-07-28T05:00:40.401816",
     "status": "completed"
    },
    "tags": []
   },
   "outputs": [],
   "source": []
  },
  {
   "cell_type": "code",
   "execution_count": 18,
   "id": "83b05833",
   "metadata": {
    "execution": {
     "iopub.execute_input": "2023-07-28T05:00:40.441493Z",
     "iopub.status.busy": "2023-07-28T05:00:40.440692Z",
     "iopub.status.idle": "2023-07-28T05:00:40.445496Z",
     "shell.execute_reply": "2023-07-28T05:00:40.444694Z"
    },
    "papermill": {
     "duration": 0.020762,
     "end_time": "2023-07-28T05:00:40.447596",
     "exception": false,
     "start_time": "2023-07-28T05:00:40.426834",
     "status": "completed"
    },
    "tags": []
   },
   "outputs": [],
   "source": [
    "n_folds = 5"
   ]
  },
  {
   "cell_type": "code",
   "execution_count": 19,
   "id": "3acd57e6",
   "metadata": {
    "execution": {
     "iopub.execute_input": "2023-07-28T05:00:40.475330Z",
     "iopub.status.busy": "2023-07-28T05:00:40.474581Z",
     "iopub.status.idle": "2023-07-28T05:00:45.514608Z",
     "shell.execute_reply": "2023-07-28T05:00:45.513494Z"
    },
    "papermill": {
     "duration": 5.056666,
     "end_time": "2023-07-28T05:00:45.516800",
     "exception": false,
     "start_time": "2023-07-28T05:00:40.460134",
     "status": "completed"
    },
    "tags": []
   },
   "outputs": [
    {
     "data": {
      "text/html": [
       "<style>#sk-container-id-2 {color: black;background-color: white;}#sk-container-id-2 pre{padding: 0;}#sk-container-id-2 div.sk-toggleable {background-color: white;}#sk-container-id-2 label.sk-toggleable__label {cursor: pointer;display: block;width: 100%;margin-bottom: 0;padding: 0.3em;box-sizing: border-box;text-align: center;}#sk-container-id-2 label.sk-toggleable__label-arrow:before {content: \"▸\";float: left;margin-right: 0.25em;color: #696969;}#sk-container-id-2 label.sk-toggleable__label-arrow:hover:before {color: black;}#sk-container-id-2 div.sk-estimator:hover label.sk-toggleable__label-arrow:before {color: black;}#sk-container-id-2 div.sk-toggleable__content {max-height: 0;max-width: 0;overflow: hidden;text-align: left;background-color: #f0f8ff;}#sk-container-id-2 div.sk-toggleable__content pre {margin: 0.2em;color: black;border-radius: 0.25em;background-color: #f0f8ff;}#sk-container-id-2 input.sk-toggleable__control:checked~div.sk-toggleable__content {max-height: 200px;max-width: 100%;overflow: auto;}#sk-container-id-2 input.sk-toggleable__control:checked~label.sk-toggleable__label-arrow:before {content: \"▾\";}#sk-container-id-2 div.sk-estimator input.sk-toggleable__control:checked~label.sk-toggleable__label {background-color: #d4ebff;}#sk-container-id-2 div.sk-label input.sk-toggleable__control:checked~label.sk-toggleable__label {background-color: #d4ebff;}#sk-container-id-2 input.sk-hidden--visually {border: 0;clip: rect(1px 1px 1px 1px);clip: rect(1px, 1px, 1px, 1px);height: 1px;margin: -1px;overflow: hidden;padding: 0;position: absolute;width: 1px;}#sk-container-id-2 div.sk-estimator {font-family: monospace;background-color: #f0f8ff;border: 1px dotted black;border-radius: 0.25em;box-sizing: border-box;margin-bottom: 0.5em;}#sk-container-id-2 div.sk-estimator:hover {background-color: #d4ebff;}#sk-container-id-2 div.sk-parallel-item::after {content: \"\";width: 100%;border-bottom: 1px solid gray;flex-grow: 1;}#sk-container-id-2 div.sk-label:hover label.sk-toggleable__label {background-color: #d4ebff;}#sk-container-id-2 div.sk-serial::before {content: \"\";position: absolute;border-left: 1px solid gray;box-sizing: border-box;top: 0;bottom: 0;left: 50%;z-index: 0;}#sk-container-id-2 div.sk-serial {display: flex;flex-direction: column;align-items: center;background-color: white;padding-right: 0.2em;padding-left: 0.2em;position: relative;}#sk-container-id-2 div.sk-item {position: relative;z-index: 1;}#sk-container-id-2 div.sk-parallel {display: flex;align-items: stretch;justify-content: center;background-color: white;position: relative;}#sk-container-id-2 div.sk-item::before, #sk-container-id-2 div.sk-parallel-item::before {content: \"\";position: absolute;border-left: 1px solid gray;box-sizing: border-box;top: 0;bottom: 0;left: 50%;z-index: -1;}#sk-container-id-2 div.sk-parallel-item {display: flex;flex-direction: column;z-index: 1;position: relative;background-color: white;}#sk-container-id-2 div.sk-parallel-item:first-child::after {align-self: flex-end;width: 50%;}#sk-container-id-2 div.sk-parallel-item:last-child::after {align-self: flex-start;width: 50%;}#sk-container-id-2 div.sk-parallel-item:only-child::after {width: 0;}#sk-container-id-2 div.sk-dashed-wrapped {border: 1px dashed gray;margin: 0 0.4em 0.5em 0.4em;box-sizing: border-box;padding-bottom: 0.4em;background-color: white;}#sk-container-id-2 div.sk-label label {font-family: monospace;font-weight: bold;display: inline-block;line-height: 1.2em;}#sk-container-id-2 div.sk-label-container {text-align: center;}#sk-container-id-2 div.sk-container {/* jupyter's `normalize.less` sets `[hidden] { display: none; }` but bootstrap.min.css set `[hidden] { display: none !important; }` so we also need the `!important` here to be able to override the default hidden behavior on the sphinx rendered scikit-learn.org. See: https://github.com/scikit-learn/scikit-learn/issues/21755 */display: inline-block !important;position: relative;}#sk-container-id-2 div.sk-text-repr-fallback {display: none;}</style><div id=\"sk-container-id-2\" class=\"sk-top-container\"><div class=\"sk-text-repr-fallback\"><pre>GridSearchCV(cv=5, estimator=RandomForestClassifier(),\n",
       "             param_grid={&#x27;max_depth&#x27;: range(0, 6)}, return_train_score=True)</pre><b>In a Jupyter environment, please rerun this cell to show the HTML representation or trust the notebook. <br />On GitHub, the HTML representation is unable to render, please try loading this page with nbviewer.org.</b></div><div class=\"sk-container\" hidden><div class=\"sk-item sk-dashed-wrapped\"><div class=\"sk-label-container\"><div class=\"sk-label sk-toggleable\"><input class=\"sk-toggleable__control sk-hidden--visually\" id=\"sk-estimator-id-2\" type=\"checkbox\" ><label for=\"sk-estimator-id-2\" class=\"sk-toggleable__label sk-toggleable__label-arrow\">GridSearchCV</label><div class=\"sk-toggleable__content\"><pre>GridSearchCV(cv=5, estimator=RandomForestClassifier(),\n",
       "             param_grid={&#x27;max_depth&#x27;: range(0, 6)}, return_train_score=True)</pre></div></div></div><div class=\"sk-parallel\"><div class=\"sk-parallel-item\"><div class=\"sk-item\"><div class=\"sk-label-container\"><div class=\"sk-label sk-toggleable\"><input class=\"sk-toggleable__control sk-hidden--visually\" id=\"sk-estimator-id-3\" type=\"checkbox\" ><label for=\"sk-estimator-id-3\" class=\"sk-toggleable__label sk-toggleable__label-arrow\">estimator: RandomForestClassifier</label><div class=\"sk-toggleable__content\"><pre>RandomForestClassifier()</pre></div></div></div><div class=\"sk-serial\"><div class=\"sk-item\"><div class=\"sk-estimator sk-toggleable\"><input class=\"sk-toggleable__control sk-hidden--visually\" id=\"sk-estimator-id-4\" type=\"checkbox\" ><label for=\"sk-estimator-id-4\" class=\"sk-toggleable__label sk-toggleable__label-arrow\">RandomForestClassifier</label><div class=\"sk-toggleable__content\"><pre>RandomForestClassifier()</pre></div></div></div></div></div></div></div></div></div></div>"
      ],
      "text/plain": [
       "GridSearchCV(cv=5, estimator=RandomForestClassifier(),\n",
       "             param_grid={'max_depth': range(0, 6)}, return_train_score=True)"
      ]
     },
     "execution_count": 19,
     "metadata": {},
     "output_type": "execute_result"
    }
   ],
   "source": [
    "# Max Depth\n",
    "parameter = {'max_depth':range(6)}\n",
    "\n",
    "rf = RandomForestClassifier()\n",
    "\n",
    "rf = GridSearchCV(rf,\n",
    "                 parameter,\n",
    "                 cv=n_folds,\n",
    "                 return_train_score=True)\n",
    "\n",
    "rf.fit(X_train, y_train)"
   ]
  },
  {
   "cell_type": "code",
   "execution_count": 20,
   "id": "c4a7379e",
   "metadata": {
    "execution": {
     "iopub.execute_input": "2023-07-28T05:00:45.543704Z",
     "iopub.status.busy": "2023-07-28T05:00:45.543333Z",
     "iopub.status.idle": "2023-07-28T05:00:45.573963Z",
     "shell.execute_reply": "2023-07-28T05:00:45.573005Z"
    },
    "papermill": {
     "duration": 0.046632,
     "end_time": "2023-07-28T05:00:45.576124",
     "exception": false,
     "start_time": "2023-07-28T05:00:45.529492",
     "status": "completed"
    },
    "tags": []
   },
   "outputs": [
    {
     "data": {
      "text/html": [
       "<div>\n",
       "<style scoped>\n",
       "    .dataframe tbody tr th:only-of-type {\n",
       "        vertical-align: middle;\n",
       "    }\n",
       "\n",
       "    .dataframe tbody tr th {\n",
       "        vertical-align: top;\n",
       "    }\n",
       "\n",
       "    .dataframe thead th {\n",
       "        text-align: right;\n",
       "    }\n",
       "</style>\n",
       "<table border=\"1\" class=\"dataframe\">\n",
       "  <thead>\n",
       "    <tr style=\"text-align: right;\">\n",
       "      <th></th>\n",
       "      <th>mean_fit_time</th>\n",
       "      <th>std_fit_time</th>\n",
       "      <th>mean_score_time</th>\n",
       "      <th>std_score_time</th>\n",
       "      <th>param_max_depth</th>\n",
       "      <th>params</th>\n",
       "      <th>split0_test_score</th>\n",
       "      <th>split1_test_score</th>\n",
       "      <th>split2_test_score</th>\n",
       "      <th>split3_test_score</th>\n",
       "      <th>...</th>\n",
       "      <th>mean_test_score</th>\n",
       "      <th>std_test_score</th>\n",
       "      <th>rank_test_score</th>\n",
       "      <th>split0_train_score</th>\n",
       "      <th>split1_train_score</th>\n",
       "      <th>split2_train_score</th>\n",
       "      <th>split3_train_score</th>\n",
       "      <th>split4_train_score</th>\n",
       "      <th>mean_train_score</th>\n",
       "      <th>std_train_score</th>\n",
       "    </tr>\n",
       "  </thead>\n",
       "  <tbody>\n",
       "    <tr>\n",
       "      <th>3</th>\n",
       "      <td>0.164894</td>\n",
       "      <td>0.001340</td>\n",
       "      <td>0.012185</td>\n",
       "      <td>0.000059</td>\n",
       "      <td>3</td>\n",
       "      <td>{'max_depth': 3}</td>\n",
       "      <td>0.809859</td>\n",
       "      <td>0.788732</td>\n",
       "      <td>0.859155</td>\n",
       "      <td>0.815603</td>\n",
       "      <td>...</td>\n",
       "      <td>0.820627</td>\n",
       "      <td>0.023353</td>\n",
       "      <td>1</td>\n",
       "      <td>0.835689</td>\n",
       "      <td>0.830389</td>\n",
       "      <td>0.818021</td>\n",
       "      <td>0.834215</td>\n",
       "      <td>0.823633</td>\n",
       "      <td>0.828389</td>\n",
       "      <td>0.006653</td>\n",
       "    </tr>\n",
       "    <tr>\n",
       "      <th>4</th>\n",
       "      <td>0.165288</td>\n",
       "      <td>0.001318</td>\n",
       "      <td>0.012409</td>\n",
       "      <td>0.000207</td>\n",
       "      <td>4</td>\n",
       "      <td>{'max_depth': 4}</td>\n",
       "      <td>0.809859</td>\n",
       "      <td>0.795775</td>\n",
       "      <td>0.866197</td>\n",
       "      <td>0.794326</td>\n",
       "      <td>...</td>\n",
       "      <td>0.814934</td>\n",
       "      <td>0.026407</td>\n",
       "      <td>2</td>\n",
       "      <td>0.840989</td>\n",
       "      <td>0.837456</td>\n",
       "      <td>0.819788</td>\n",
       "      <td>0.846561</td>\n",
       "      <td>0.834215</td>\n",
       "      <td>0.835802</td>\n",
       "      <td>0.008993</td>\n",
       "    </tr>\n",
       "    <tr>\n",
       "      <th>5</th>\n",
       "      <td>0.167412</td>\n",
       "      <td>0.000519</td>\n",
       "      <td>0.012600</td>\n",
       "      <td>0.000173</td>\n",
       "      <td>5</td>\n",
       "      <td>{'max_depth': 5}</td>\n",
       "      <td>0.802817</td>\n",
       "      <td>0.802817</td>\n",
       "      <td>0.859155</td>\n",
       "      <td>0.787234</td>\n",
       "      <td>...</td>\n",
       "      <td>0.813525</td>\n",
       "      <td>0.024523</td>\n",
       "      <td>3</td>\n",
       "      <td>0.848057</td>\n",
       "      <td>0.840989</td>\n",
       "      <td>0.832155</td>\n",
       "      <td>0.853616</td>\n",
       "      <td>0.848325</td>\n",
       "      <td>0.844628</td>\n",
       "      <td>0.007416</td>\n",
       "    </tr>\n",
       "    <tr>\n",
       "      <th>2</th>\n",
       "      <td>0.164200</td>\n",
       "      <td>0.000611</td>\n",
       "      <td>0.012257</td>\n",
       "      <td>0.000300</td>\n",
       "      <td>2</td>\n",
       "      <td>{'max_depth': 2}</td>\n",
       "      <td>0.774648</td>\n",
       "      <td>0.788732</td>\n",
       "      <td>0.816901</td>\n",
       "      <td>0.787234</td>\n",
       "      <td>...</td>\n",
       "      <td>0.795205</td>\n",
       "      <td>0.015335</td>\n",
       "      <td>4</td>\n",
       "      <td>0.803887</td>\n",
       "      <td>0.796820</td>\n",
       "      <td>0.786219</td>\n",
       "      <td>0.807760</td>\n",
       "      <td>0.790123</td>\n",
       "      <td>0.796962</td>\n",
       "      <td>0.008084</td>\n",
       "    </tr>\n",
       "    <tr>\n",
       "      <th>1</th>\n",
       "      <td>0.164480</td>\n",
       "      <td>0.001997</td>\n",
       "      <td>0.012204</td>\n",
       "      <td>0.000141</td>\n",
       "      <td>1</td>\n",
       "      <td>{'max_depth': 1}</td>\n",
       "      <td>0.760563</td>\n",
       "      <td>0.739437</td>\n",
       "      <td>0.809859</td>\n",
       "      <td>0.758865</td>\n",
       "      <td>...</td>\n",
       "      <td>0.774029</td>\n",
       "      <td>0.026988</td>\n",
       "      <td>5</td>\n",
       "      <td>0.802120</td>\n",
       "      <td>0.750883</td>\n",
       "      <td>0.789753</td>\n",
       "      <td>0.754850</td>\n",
       "      <td>0.790123</td>\n",
       "      <td>0.777546</td>\n",
       "      <td>0.020674</td>\n",
       "    </tr>\n",
       "    <tr>\n",
       "      <th>0</th>\n",
       "      <td>0.000693</td>\n",
       "      <td>0.000106</td>\n",
       "      <td>0.000000</td>\n",
       "      <td>0.000000</td>\n",
       "      <td>0</td>\n",
       "      <td>{'max_depth': 0}</td>\n",
       "      <td>NaN</td>\n",
       "      <td>NaN</td>\n",
       "      <td>NaN</td>\n",
       "      <td>NaN</td>\n",
       "      <td>...</td>\n",
       "      <td>NaN</td>\n",
       "      <td>NaN</td>\n",
       "      <td>6</td>\n",
       "      <td>NaN</td>\n",
       "      <td>NaN</td>\n",
       "      <td>NaN</td>\n",
       "      <td>NaN</td>\n",
       "      <td>NaN</td>\n",
       "      <td>NaN</td>\n",
       "      <td>NaN</td>\n",
       "    </tr>\n",
       "  </tbody>\n",
       "</table>\n",
       "<p>6 rows × 21 columns</p>\n",
       "</div>"
      ],
      "text/plain": [
       "   mean_fit_time  std_fit_time  mean_score_time  std_score_time  \\\n",
       "3       0.164894      0.001340         0.012185        0.000059   \n",
       "4       0.165288      0.001318         0.012409        0.000207   \n",
       "5       0.167412      0.000519         0.012600        0.000173   \n",
       "2       0.164200      0.000611         0.012257        0.000300   \n",
       "1       0.164480      0.001997         0.012204        0.000141   \n",
       "0       0.000693      0.000106         0.000000        0.000000   \n",
       "\n",
       "  param_max_depth            params  split0_test_score  split1_test_score  \\\n",
       "3               3  {'max_depth': 3}           0.809859           0.788732   \n",
       "4               4  {'max_depth': 4}           0.809859           0.795775   \n",
       "5               5  {'max_depth': 5}           0.802817           0.802817   \n",
       "2               2  {'max_depth': 2}           0.774648           0.788732   \n",
       "1               1  {'max_depth': 1}           0.760563           0.739437   \n",
       "0               0  {'max_depth': 0}                NaN                NaN   \n",
       "\n",
       "   split2_test_score  split3_test_score  ...  mean_test_score  std_test_score  \\\n",
       "3           0.859155           0.815603  ...         0.820627        0.023353   \n",
       "4           0.866197           0.794326  ...         0.814934        0.026407   \n",
       "5           0.859155           0.787234  ...         0.813525        0.024523   \n",
       "2           0.816901           0.787234  ...         0.795205        0.015335   \n",
       "1           0.809859           0.758865  ...         0.774029        0.026988   \n",
       "0                NaN                NaN  ...              NaN             NaN   \n",
       "\n",
       "   rank_test_score  split0_train_score  split1_train_score  \\\n",
       "3                1            0.835689            0.830389   \n",
       "4                2            0.840989            0.837456   \n",
       "5                3            0.848057            0.840989   \n",
       "2                4            0.803887            0.796820   \n",
       "1                5            0.802120            0.750883   \n",
       "0                6                 NaN                 NaN   \n",
       "\n",
       "   split2_train_score  split3_train_score  split4_train_score  \\\n",
       "3            0.818021            0.834215            0.823633   \n",
       "4            0.819788            0.846561            0.834215   \n",
       "5            0.832155            0.853616            0.848325   \n",
       "2            0.786219            0.807760            0.790123   \n",
       "1            0.789753            0.754850            0.790123   \n",
       "0                 NaN                 NaN                 NaN   \n",
       "\n",
       "   mean_train_score  std_train_score  \n",
       "3          0.828389         0.006653  \n",
       "4          0.835802         0.008993  \n",
       "5          0.844628         0.007416  \n",
       "2          0.796962         0.008084  \n",
       "1          0.777546         0.020674  \n",
       "0               NaN              NaN  \n",
       "\n",
       "[6 rows x 21 columns]"
      ]
     },
     "execution_count": 20,
     "metadata": {},
     "output_type": "execute_result"
    }
   ],
   "source": [
    "scores = pd.DataFrame(rf.cv_results_)\n",
    "scores.sort_values('rank_test_score')"
   ]
  },
  {
   "cell_type": "code",
   "execution_count": 21,
   "id": "be94feff",
   "metadata": {
    "execution": {
     "iopub.execute_input": "2023-07-28T05:00:45.604147Z",
     "iopub.status.busy": "2023-07-28T05:00:45.603793Z",
     "iopub.status.idle": "2023-07-28T05:00:45.888281Z",
     "shell.execute_reply": "2023-07-28T05:00:45.887220Z"
    },
    "papermill": {
     "duration": 0.301334,
     "end_time": "2023-07-28T05:00:45.890563",
     "exception": false,
     "start_time": "2023-07-28T05:00:45.589229",
     "status": "completed"
    },
    "tags": []
   },
   "outputs": [
    {
     "data": {
      "image/png": "[encoded data removed]",
      "text/plain": [
       "<Figure size 640x480 with 1 Axes>"
      ]
     },
     "metadata": {},
     "output_type": "display_data"
    }
   ],
   "source": [
    "# plotting accuracies with max_depth\n",
    "plt.figure()\n",
    "plt.plot(scores[\"param_max_depth\"], \n",
    "         scores[\"mean_train_score\"], \n",
    "         label=\"training accuracy\")\n",
    "plt.plot(scores[\"param_max_depth\"], \n",
    "         scores[\"mean_test_score\"], \n",
    "         label=\"test accuracy\")\n",
    "plt.xlabel(\"max_depth\")\n",
    "plt.ylabel(\"Accuracy\")\n",
    "plt.legend()\n",
    "plt.show()\n"
   ]
  },
  {
   "cell_type": "code",
   "execution_count": 22,
   "id": "07ff6ccd",
   "metadata": {
    "execution": {
     "iopub.execute_input": "2023-07-28T05:00:45.919764Z",
     "iopub.status.busy": "2023-07-28T05:00:45.919365Z",
     "iopub.status.idle": "2023-07-28T05:00:45.923426Z",
     "shell.execute_reply": "2023-07-28T05:00:45.922361Z"
    },
    "papermill": {
     "duration": 0.021243,
     "end_time": "2023-07-28T05:00:45.925500",
     "exception": false,
     "start_time": "2023-07-28T05:00:45.904257",
     "status": "completed"
    },
    "tags": []
   },
   "outputs": [],
   "source": [
    "# max_depth = 4"
   ]
  },
  {
   "cell_type": "code",
   "execution_count": 23,
   "id": "1c40a1fd",
   "metadata": {
    "execution": {
     "iopub.execute_input": "2023-07-28T05:00:45.954819Z",
     "iopub.status.busy": "2023-07-28T05:00:45.954435Z",
     "iopub.status.idle": "2023-07-28T05:01:18.076048Z",
     "shell.execute_reply": "2023-07-28T05:01:18.074872Z"
    },
    "papermill": {
     "duration": 32.15172,
     "end_time": "2023-07-28T05:01:18.090951",
     "exception": false,
     "start_time": "2023-07-28T05:00:45.939231",
     "status": "completed"
    },
    "tags": []
   },
   "outputs": [
    {
     "data": {
      "text/html": [
       "<style>#sk-container-id-3 {color: black;background-color: white;}#sk-container-id-3 pre{padding: 0;}#sk-container-id-3 div.sk-toggleable {background-color: white;}#sk-container-id-3 label.sk-toggleable__label {cursor: pointer;display: block;width: 100%;margin-bottom: 0;padding: 0.3em;box-sizing: border-box;text-align: center;}#sk-container-id-3 label.sk-toggleable__label-arrow:before {content: \"▸\";float: left;margin-right: 0.25em;color: #696969;}#sk-container-id-3 label.sk-toggleable__label-arrow:hover:before {color: black;}#sk-container-id-3 div.sk-estimator:hover label.sk-toggleable__label-arrow:before {color: black;}#sk-container-id-3 div.sk-toggleable__content {max-height: 0;max-width: 0;overflow: hidden;text-align: left;background-color: #f0f8ff;}#sk-container-id-3 div.sk-toggleable__content pre {margin: 0.2em;color: black;border-radius: 0.25em;background-color: #f0f8ff;}#sk-container-id-3 input.sk-toggleable__control:checked~div.sk-toggleable__content {max-height: 200px;max-width: 100%;overflow: auto;}#sk-container-id-3 input.sk-toggleable__control:checked~label.sk-toggleable__label-arrow:before {content: \"▾\";}#sk-container-id-3 div.sk-estimator input.sk-toggleable__control:checked~label.sk-toggleable__label {background-color: #d4ebff;}#sk-container-id-3 div.sk-label input.sk-toggleable__control:checked~label.sk-toggleable__label {background-color: #d4ebff;}#sk-container-id-3 input.sk-hidden--visually {border: 0;clip: rect(1px 1px 1px 1px);clip: rect(1px, 1px, 1px, 1px);height: 1px;margin: -1px;overflow: hidden;padding: 0;position: absolute;width: 1px;}#sk-container-id-3 div.sk-estimator {font-family: monospace;background-color: #f0f8ff;border: 1px dotted black;border-radius: 0.25em;box-sizing: border-box;margin-bottom: 0.5em;}#sk-container-id-3 div.sk-estimator:hover {background-color: #d4ebff;}#sk-container-id-3 div.sk-parallel-item::after {content: \"\";width: 100%;border-bottom: 1px solid gray;flex-grow: 1;}#sk-container-id-3 div.sk-label:hover label.sk-toggleable__label {background-color: #d4ebff;}#sk-container-id-3 div.sk-serial::before {content: \"\";position: absolute;border-left: 1px solid gray;box-sizing: border-box;top: 0;bottom: 0;left: 50%;z-index: 0;}#sk-container-id-3 div.sk-serial {display: flex;flex-direction: column;align-items: center;background-color: white;padding-right: 0.2em;padding-left: 0.2em;position: relative;}#sk-container-id-3 div.sk-item {position: relative;z-index: 1;}#sk-container-id-3 div.sk-parallel {display: flex;align-items: stretch;justify-content: center;background-color: white;position: relative;}#sk-container-id-3 div.sk-item::before, #sk-container-id-3 div.sk-parallel-item::before {content: \"\";position: absolute;border-left: 1px solid gray;box-sizing: border-box;top: 0;bottom: 0;left: 50%;z-index: -1;}#sk-container-id-3 div.sk-parallel-item {display: flex;flex-direction: column;z-index: 1;position: relative;background-color: white;}#sk-container-id-3 div.sk-parallel-item:first-child::after {align-self: flex-end;width: 50%;}#sk-container-id-3 div.sk-parallel-item:last-child::after {align-self: flex-start;width: 50%;}#sk-container-id-3 div.sk-parallel-item:only-child::after {width: 0;}#sk-container-id-3 div.sk-dashed-wrapped {border: 1px dashed gray;margin: 0 0.4em 0.5em 0.4em;box-sizing: border-box;padding-bottom: 0.4em;background-color: white;}#sk-container-id-3 div.sk-label label {font-family: monospace;font-weight: bold;display: inline-block;line-height: 1.2em;}#sk-container-id-3 div.sk-label-container {text-align: center;}#sk-container-id-3 div.sk-container {/* jupyter's `normalize.less` sets `[hidden] { display: none; }` but bootstrap.min.css set `[hidden] { display: none !important; }` so we also need the `!important` here to be able to override the default hidden behavior on the sphinx rendered scikit-learn.org. See: https://github.com/scikit-learn/scikit-learn/issues/21755 */display: inline-block !important;position: relative;}#sk-container-id-3 div.sk-text-repr-fallback {display: none;}</style><div id=\"sk-container-id-3\" class=\"sk-top-container\"><div class=\"sk-text-repr-fallback\"><pre>GridSearchCV(cv=5, estimator=RandomForestClassifier(),\n",
       "             param_grid={&#x27;n_estimators&#x27;: [100, 500, 1000, 1500]},\n",
       "             return_train_score=True)</pre><b>In a Jupyter environment, please rerun this cell to show the HTML representation or trust the notebook. <br />On GitHub, the HTML representation is unable to render, please try loading this page with nbviewer.org.</b></div><div class=\"sk-container\" hidden><div class=\"sk-item sk-dashed-wrapped\"><div class=\"sk-label-container\"><div class=\"sk-label sk-toggleable\"><input class=\"sk-toggleable__control sk-hidden--visually\" id=\"sk-estimator-id-5\" type=\"checkbox\" ><label for=\"sk-estimator-id-5\" class=\"sk-toggleable__label sk-toggleable__label-arrow\">GridSearchCV</label><div class=\"sk-toggleable__content\"><pre>GridSearchCV(cv=5, estimator=RandomForestClassifier(),\n",
       "             param_grid={&#x27;n_estimators&#x27;: [100, 500, 1000, 1500]},\n",
       "             return_train_score=True)</pre></div></div></div><div class=\"sk-parallel\"><div class=\"sk-parallel-item\"><div class=\"sk-item\"><div class=\"sk-label-container\"><div class=\"sk-label sk-toggleable\"><input class=\"sk-toggleable__control sk-hidden--visually\" id=\"sk-estimator-id-6\" type=\"checkbox\" ><label for=\"sk-estimator-id-6\" class=\"sk-toggleable__label sk-toggleable__label-arrow\">estimator: RandomForestClassifier</label><div class=\"sk-toggleable__content\"><pre>RandomForestClassifier()</pre></div></div></div><div class=\"sk-serial\"><div class=\"sk-item\"><div class=\"sk-estimator sk-toggleable\"><input class=\"sk-toggleable__control sk-hidden--visually\" id=\"sk-estimator-id-7\" type=\"checkbox\" ><label for=\"sk-estimator-id-7\" class=\"sk-toggleable__label sk-toggleable__label-arrow\">RandomForestClassifier</label><div class=\"sk-toggleable__content\"><pre>RandomForestClassifier()</pre></div></div></div></div></div></div></div></div></div></div>"
      ],
      "text/plain": [
       "GridSearchCV(cv=5, estimator=RandomForestClassifier(),\n",
       "             param_grid={'n_estimators': [100, 500, 1000, 1500]},\n",
       "             return_train_score=True)"
      ]
     },
     "execution_count": 23,
     "metadata": {},
     "output_type": "execute_result"
    }
   ],
   "source": [
    "# Number of Estimators\n",
    "parameter = {'n_estimators':[100,500,1000,1500]}\n",
    "\n",
    "rf = RandomForestClassifier()\n",
    "\n",
    "rf = GridSearchCV(rf,\n",
    "                 parameter,\n",
    "                 cv=n_folds,\n",
    "                 return_train_score=True)\n",
    "\n",
    "rf.fit(X_train, y_train)\n"
   ]
  },
  {
   "cell_type": "code",
   "execution_count": 24,
   "id": "9a69d00c",
   "metadata": {
    "execution": {
     "iopub.execute_input": "2023-07-28T05:01:18.125265Z",
     "iopub.status.busy": "2023-07-28T05:01:18.124385Z",
     "iopub.status.idle": "2023-07-28T05:01:18.158400Z",
     "shell.execute_reply": "2023-07-28T05:01:18.156835Z"
    },
    "papermill": {
     "duration": 0.05584,
     "end_time": "2023-07-28T05:01:18.160932",
     "exception": false,
     "start_time": "2023-07-28T05:01:18.105092",
     "status": "completed"
    },
    "tags": []
   },
   "outputs": [
    {
     "data": {
      "text/html": [
       "<div>\n",
       "<style scoped>\n",
       "    .dataframe tbody tr th:only-of-type {\n",
       "        vertical-align: middle;\n",
       "    }\n",
       "\n",
       "    .dataframe tbody tr th {\n",
       "        vertical-align: top;\n",
       "    }\n",
       "\n",
       "    .dataframe thead th {\n",
       "        text-align: right;\n",
       "    }\n",
       "</style>\n",
       "<table border=\"1\" class=\"dataframe\">\n",
       "  <thead>\n",
       "    <tr style=\"text-align: right;\">\n",
       "      <th></th>\n",
       "      <th>mean_fit_time</th>\n",
       "      <th>std_fit_time</th>\n",
       "      <th>mean_score_time</th>\n",
       "      <th>std_score_time</th>\n",
       "      <th>param_n_estimators</th>\n",
       "      <th>params</th>\n",
       "      <th>split0_test_score</th>\n",
       "      <th>split1_test_score</th>\n",
       "      <th>split2_test_score</th>\n",
       "      <th>split3_test_score</th>\n",
       "      <th>...</th>\n",
       "      <th>mean_test_score</th>\n",
       "      <th>std_test_score</th>\n",
       "      <th>rank_test_score</th>\n",
       "      <th>split0_train_score</th>\n",
       "      <th>split1_train_score</th>\n",
       "      <th>split2_train_score</th>\n",
       "      <th>split3_train_score</th>\n",
       "      <th>split4_train_score</th>\n",
       "      <th>mean_train_score</th>\n",
       "      <th>std_train_score</th>\n",
       "    </tr>\n",
       "  </thead>\n",
       "  <tbody>\n",
       "    <tr>\n",
       "      <th>0</th>\n",
       "      <td>0.188698</td>\n",
       "      <td>0.011138</td>\n",
       "      <td>0.013802</td>\n",
       "      <td>0.000612</td>\n",
       "      <td>100</td>\n",
       "      <td>{'n_estimators': 100}</td>\n",
       "      <td>0.760563</td>\n",
       "      <td>0.838028</td>\n",
       "      <td>0.873239</td>\n",
       "      <td>0.801418</td>\n",
       "      <td>...</td>\n",
       "      <td>0.816352</td>\n",
       "      <td>0.037691</td>\n",
       "      <td>1</td>\n",
       "      <td>0.881625</td>\n",
       "      <td>0.871025</td>\n",
       "      <td>0.863958</td>\n",
       "      <td>0.876543</td>\n",
       "      <td>0.878307</td>\n",
       "      <td>0.874292</td>\n",
       "      <td>0.006204</td>\n",
       "    </tr>\n",
       "    <tr>\n",
       "      <th>3</th>\n",
       "      <td>2.651137</td>\n",
       "      <td>0.011603</td>\n",
       "      <td>0.197116</td>\n",
       "      <td>0.064872</td>\n",
       "      <td>1500</td>\n",
       "      <td>{'n_estimators': 1500}</td>\n",
       "      <td>0.760563</td>\n",
       "      <td>0.830986</td>\n",
       "      <td>0.866197</td>\n",
       "      <td>0.801418</td>\n",
       "      <td>...</td>\n",
       "      <td>0.813535</td>\n",
       "      <td>0.034802</td>\n",
       "      <td>2</td>\n",
       "      <td>0.881625</td>\n",
       "      <td>0.871025</td>\n",
       "      <td>0.863958</td>\n",
       "      <td>0.876543</td>\n",
       "      <td>0.878307</td>\n",
       "      <td>0.874292</td>\n",
       "      <td>0.006204</td>\n",
       "    </tr>\n",
       "    <tr>\n",
       "      <th>2</th>\n",
       "      <td>1.773732</td>\n",
       "      <td>0.013354</td>\n",
       "      <td>0.109849</td>\n",
       "      <td>0.001628</td>\n",
       "      <td>1000</td>\n",
       "      <td>{'n_estimators': 1000}</td>\n",
       "      <td>0.767606</td>\n",
       "      <td>0.838028</td>\n",
       "      <td>0.873239</td>\n",
       "      <td>0.801418</td>\n",
       "      <td>...</td>\n",
       "      <td>0.813505</td>\n",
       "      <td>0.037716</td>\n",
       "      <td>3</td>\n",
       "      <td>0.881625</td>\n",
       "      <td>0.871025</td>\n",
       "      <td>0.863958</td>\n",
       "      <td>0.876543</td>\n",
       "      <td>0.878307</td>\n",
       "      <td>0.874292</td>\n",
       "      <td>0.006204</td>\n",
       "    </tr>\n",
       "    <tr>\n",
       "      <th>1</th>\n",
       "      <td>0.888477</td>\n",
       "      <td>0.008940</td>\n",
       "      <td>0.055881</td>\n",
       "      <td>0.000587</td>\n",
       "      <td>500</td>\n",
       "      <td>{'n_estimators': 500}</td>\n",
       "      <td>0.760563</td>\n",
       "      <td>0.845070</td>\n",
       "      <td>0.866197</td>\n",
       "      <td>0.794326</td>\n",
       "      <td>...</td>\n",
       "      <td>0.812097</td>\n",
       "      <td>0.038214</td>\n",
       "      <td>4</td>\n",
       "      <td>0.881625</td>\n",
       "      <td>0.871025</td>\n",
       "      <td>0.863958</td>\n",
       "      <td>0.876543</td>\n",
       "      <td>0.878307</td>\n",
       "      <td>0.874292</td>\n",
       "      <td>0.006204</td>\n",
       "    </tr>\n",
       "  </tbody>\n",
       "</table>\n",
       "<p>4 rows × 21 columns</p>\n",
       "</div>"
      ],
      "text/plain": [
       "   mean_fit_time  std_fit_time  mean_score_time  std_score_time  \\\n",
       "0       0.188698      0.011138         0.013802        0.000612   \n",
       "3       2.651137      0.011603         0.197116        0.064872   \n",
       "2       1.773732      0.013354         0.109849        0.001628   \n",
       "1       0.888477      0.008940         0.055881        0.000587   \n",
       "\n",
       "  param_n_estimators                  params  split0_test_score  \\\n",
       "0                100   {'n_estimators': 100}           0.760563   \n",
       "3               1500  {'n_estimators': 1500}           0.760563   \n",
       "2               1000  {'n_estimators': 1000}           0.767606   \n",
       "1                500   {'n_estimators': 500}           0.760563   \n",
       "\n",
       "   split1_test_score  split2_test_score  split3_test_score  ...  \\\n",
       "0           0.838028           0.873239           0.801418  ...   \n",
       "3           0.830986           0.866197           0.801418  ...   \n",
       "2           0.838028           0.873239           0.801418  ...   \n",
       "1           0.845070           0.866197           0.794326  ...   \n",
       "\n",
       "   mean_test_score  std_test_score  rank_test_score  split0_train_score  \\\n",
       "0         0.816352        0.037691                1            0.881625   \n",
       "3         0.813535        0.034802                2            0.881625   \n",
       "2         0.813505        0.037716                3            0.881625   \n",
       "1         0.812097        0.038214                4            0.881625   \n",
       "\n",
       "   split1_train_score  split2_train_score  split3_train_score  \\\n",
       "0            0.871025            0.863958            0.876543   \n",
       "3            0.871025            0.863958            0.876543   \n",
       "2            0.871025            0.863958            0.876543   \n",
       "1            0.871025            0.863958            0.876543   \n",
       "\n",
       "   split4_train_score  mean_train_score  std_train_score  \n",
       "0            0.878307          0.874292         0.006204  \n",
       "3            0.878307          0.874292         0.006204  \n",
       "2            0.878307          0.874292         0.006204  \n",
       "1            0.878307          0.874292         0.006204  \n",
       "\n",
       "[4 rows x 21 columns]"
      ]
     },
     "execution_count": 24,
     "metadata": {},
     "output_type": "execute_result"
    }
   ],
   "source": [
    "scores = pd.DataFrame(rf.cv_results_)\n",
    "scores.sort_values('rank_test_score')"
   ]
  },
  {
   "cell_type": "code",
   "execution_count": 25,
   "id": "1dbf9500",
   "metadata": {
    "execution": {
     "iopub.execute_input": "2023-07-28T05:01:18.193146Z",
     "iopub.status.busy": "2023-07-28T05:01:18.191966Z",
     "iopub.status.idle": "2023-07-28T05:01:18.478273Z",
     "shell.execute_reply": "2023-07-28T05:01:18.477157Z"
    },
    "papermill": {
     "duration": 0.304848,
     "end_time": "2023-07-28T05:01:18.480638",
     "exception": false,
     "start_time": "2023-07-28T05:01:18.175790",
     "status": "completed"
    },
    "tags": []
   },
   "outputs": [
    {
     "data": {
      "image/png": "[encoded data removed]",
      "text/plain": [
       "<Figure size 640x480 with 1 Axes>"
      ]
     },
     "metadata": {},
     "output_type": "display_data"
    }
   ],
   "source": [
    "# plotting accuracies with n_estimators\n",
    "plt.figure()\n",
    "plt.plot(scores[\"param_n_estimators\"], \n",
    "         scores[\"mean_train_score\"], \n",
    "         label=\"training accuracy\")\n",
    "plt.plot(scores[\"param_n_estimators\"], \n",
    "         scores[\"mean_test_score\"], \n",
    "         label=\"test accuracy\")\n",
    "plt.xlabel(\"n_estimators\")\n",
    "plt.ylabel(\"Accuracy\")\n",
    "plt.legend()\n",
    "plt.show()\n"
   ]
  },
  {
   "cell_type": "code",
   "execution_count": 26,
   "id": "2241d1b6",
   "metadata": {
    "execution": {
     "iopub.execute_input": "2023-07-28T05:01:18.513842Z",
     "iopub.status.busy": "2023-07-28T05:01:18.513432Z",
     "iopub.status.idle": "2023-07-28T05:01:18.518028Z",
     "shell.execute_reply": "2023-07-28T05:01:18.516938Z"
    },
    "papermill": {
     "duration": 0.022977,
     "end_time": "2023-07-28T05:01:18.520132",
     "exception": false,
     "start_time": "2023-07-28T05:01:18.497155",
     "status": "completed"
    },
    "tags": []
   },
   "outputs": [],
   "source": [
    "# n_estimators=1000"
   ]
  },
  {
   "cell_type": "code",
   "execution_count": 27,
   "id": "304dbb0e",
   "metadata": {
    "execution": {
     "iopub.execute_input": "2023-07-28T05:01:18.555763Z",
     "iopub.status.busy": "2023-07-28T05:01:18.553426Z",
     "iopub.status.idle": "2023-07-28T05:01:23.152942Z",
     "shell.execute_reply": "2023-07-28T05:01:23.151802Z"
    },
    "papermill": {
     "duration": 4.620381,
     "end_time": "2023-07-28T05:01:23.155324",
     "exception": false,
     "start_time": "2023-07-28T05:01:18.534943",
     "status": "completed"
    },
    "tags": []
   },
   "outputs": [
    {
     "data": {
      "text/html": [
       "<style>#sk-container-id-4 {color: black;background-color: white;}#sk-container-id-4 pre{padding: 0;}#sk-container-id-4 div.sk-toggleable {background-color: white;}#sk-container-id-4 label.sk-toggleable__label {cursor: pointer;display: block;width: 100%;margin-bottom: 0;padding: 0.3em;box-sizing: border-box;text-align: center;}#sk-container-id-4 label.sk-toggleable__label-arrow:before {content: \"▸\";float: left;margin-right: 0.25em;color: #696969;}#sk-container-id-4 label.sk-toggleable__label-arrow:hover:before {color: black;}#sk-container-id-4 div.sk-estimator:hover label.sk-toggleable__label-arrow:before {color: black;}#sk-container-id-4 div.sk-toggleable__content {max-height: 0;max-width: 0;overflow: hidden;text-align: left;background-color: #f0f8ff;}#sk-container-id-4 div.sk-toggleable__content pre {margin: 0.2em;color: black;border-radius: 0.25em;background-color: #f0f8ff;}#sk-container-id-4 input.sk-toggleable__control:checked~div.sk-toggleable__content {max-height: 200px;max-width: 100%;overflow: auto;}#sk-container-id-4 input.sk-toggleable__control:checked~label.sk-toggleable__label-arrow:before {content: \"▾\";}#sk-container-id-4 div.sk-estimator input.sk-toggleable__control:checked~label.sk-toggleable__label {background-color: #d4ebff;}#sk-container-id-4 div.sk-label input.sk-toggleable__control:checked~label.sk-toggleable__label {background-color: #d4ebff;}#sk-container-id-4 input.sk-hidden--visually {border: 0;clip: rect(1px 1px 1px 1px);clip: rect(1px, 1px, 1px, 1px);height: 1px;margin: -1px;overflow: hidden;padding: 0;position: absolute;width: 1px;}#sk-container-id-4 div.sk-estimator {font-family: monospace;background-color: #f0f8ff;border: 1px dotted black;border-radius: 0.25em;box-sizing: border-box;margin-bottom: 0.5em;}#sk-container-id-4 div.sk-estimator:hover {background-color: #d4ebff;}#sk-container-id-4 div.sk-parallel-item::after {content: \"\";width: 100%;border-bottom: 1px solid gray;flex-grow: 1;}#sk-container-id-4 div.sk-label:hover label.sk-toggleable__label {background-color: #d4ebff;}#sk-container-id-4 div.sk-serial::before {content: \"\";position: absolute;border-left: 1px solid gray;box-sizing: border-box;top: 0;bottom: 0;left: 50%;z-index: 0;}#sk-container-id-4 div.sk-serial {display: flex;flex-direction: column;align-items: center;background-color: white;padding-right: 0.2em;padding-left: 0.2em;position: relative;}#sk-container-id-4 div.sk-item {position: relative;z-index: 1;}#sk-container-id-4 div.sk-parallel {display: flex;align-items: stretch;justify-content: center;background-color: white;position: relative;}#sk-container-id-4 div.sk-item::before, #sk-container-id-4 div.sk-parallel-item::before {content: \"\";position: absolute;border-left: 1px solid gray;box-sizing: border-box;top: 0;bottom: 0;left: 50%;z-index: -1;}#sk-container-id-4 div.sk-parallel-item {display: flex;flex-direction: column;z-index: 1;position: relative;background-color: white;}#sk-container-id-4 div.sk-parallel-item:first-child::after {align-self: flex-end;width: 50%;}#sk-container-id-4 div.sk-parallel-item:last-child::after {align-self: flex-start;width: 50%;}#sk-container-id-4 div.sk-parallel-item:only-child::after {width: 0;}#sk-container-id-4 div.sk-dashed-wrapped {border: 1px dashed gray;margin: 0 0.4em 0.5em 0.4em;box-sizing: border-box;padding-bottom: 0.4em;background-color: white;}#sk-container-id-4 div.sk-label label {font-family: monospace;font-weight: bold;display: inline-block;line-height: 1.2em;}#sk-container-id-4 div.sk-label-container {text-align: center;}#sk-container-id-4 div.sk-container {/* jupyter's `normalize.less` sets `[hidden] { display: none; }` but bootstrap.min.css set `[hidden] { display: none !important; }` so we also need the `!important` here to be able to override the default hidden behavior on the sphinx rendered scikit-learn.org. See: https://github.com/scikit-learn/scikit-learn/issues/21755 */display: inline-block !important;position: relative;}#sk-container-id-4 div.sk-text-repr-fallback {display: none;}</style><div id=\"sk-container-id-4\" class=\"sk-top-container\"><div class=\"sk-text-repr-fallback\"><pre>GridSearchCV(cv=5, estimator=RandomForestClassifier(),\n",
       "             param_grid={&#x27;max_features&#x27;: range(2, 9, 2)},\n",
       "             return_train_score=True)</pre><b>In a Jupyter environment, please rerun this cell to show the HTML representation or trust the notebook. <br />On GitHub, the HTML representation is unable to render, please try loading this page with nbviewer.org.</b></div><div class=\"sk-container\" hidden><div class=\"sk-item sk-dashed-wrapped\"><div class=\"sk-label-container\"><div class=\"sk-label sk-toggleable\"><input class=\"sk-toggleable__control sk-hidden--visually\" id=\"sk-estimator-id-8\" type=\"checkbox\" ><label for=\"sk-estimator-id-8\" class=\"sk-toggleable__label sk-toggleable__label-arrow\">GridSearchCV</label><div class=\"sk-toggleable__content\"><pre>GridSearchCV(cv=5, estimator=RandomForestClassifier(),\n",
       "             param_grid={&#x27;max_features&#x27;: range(2, 9, 2)},\n",
       "             return_train_score=True)</pre></div></div></div><div class=\"sk-parallel\"><div class=\"sk-parallel-item\"><div class=\"sk-item\"><div class=\"sk-label-container\"><div class=\"sk-label sk-toggleable\"><input class=\"sk-toggleable__control sk-hidden--visually\" id=\"sk-estimator-id-9\" type=\"checkbox\" ><label for=\"sk-estimator-id-9\" class=\"sk-toggleable__label sk-toggleable__label-arrow\">estimator: RandomForestClassifier</label><div class=\"sk-toggleable__content\"><pre>RandomForestClassifier()</pre></div></div></div><div class=\"sk-serial\"><div class=\"sk-item\"><div class=\"sk-estimator sk-toggleable\"><input class=\"sk-toggleable__control sk-hidden--visually\" id=\"sk-estimator-id-10\" type=\"checkbox\" ><label for=\"sk-estimator-id-10\" class=\"sk-toggleable__label sk-toggleable__label-arrow\">RandomForestClassifier</label><div class=\"sk-toggleable__content\"><pre>RandomForestClassifier()</pre></div></div></div></div></div></div></div></div></div></div>"
      ],
      "text/plain": [
       "GridSearchCV(cv=5, estimator=RandomForestClassifier(),\n",
       "             param_grid={'max_features': range(2, 9, 2)},\n",
       "             return_train_score=True)"
      ]
     },
     "execution_count": 27,
     "metadata": {},
     "output_type": "execute_result"
    }
   ],
   "source": [
    "# Max Features\n",
    "parameter = {'max_features':range(2,9,2)}\n",
    "\n",
    "rf = RandomForestClassifier()\n",
    "\n",
    "rf = GridSearchCV(rf,\n",
    "                 parameter,\n",
    "                 cv=n_folds,\n",
    "                 return_train_score=True)\n",
    "\n",
    "rf.fit(X_train, y_train)\n"
   ]
  },
  {
   "cell_type": "code",
   "execution_count": 28,
   "id": "54094319",
   "metadata": {
    "execution": {
     "iopub.execute_input": "2023-07-28T05:01:23.189223Z",
     "iopub.status.busy": "2023-07-28T05:01:23.188848Z",
     "iopub.status.idle": "2023-07-28T05:01:23.216818Z",
     "shell.execute_reply": "2023-07-28T05:01:23.215730Z"
    },
    "papermill": {
     "duration": 0.047435,
     "end_time": "2023-07-28T05:01:23.218935",
     "exception": false,
     "start_time": "2023-07-28T05:01:23.171500",
     "status": "completed"
    },
    "tags": []
   },
   "outputs": [
    {
     "data": {
      "text/html": [
       "<div>\n",
       "<style scoped>\n",
       "    .dataframe tbody tr th:only-of-type {\n",
       "        vertical-align: middle;\n",
       "    }\n",
       "\n",
       "    .dataframe tbody tr th {\n",
       "        vertical-align: top;\n",
       "    }\n",
       "\n",
       "    .dataframe thead th {\n",
       "        text-align: right;\n",
       "    }\n",
       "</style>\n",
       "<table border=\"1\" class=\"dataframe\">\n",
       "  <thead>\n",
       "    <tr style=\"text-align: right;\">\n",
       "      <th></th>\n",
       "      <th>mean_fit_time</th>\n",
       "      <th>std_fit_time</th>\n",
       "      <th>mean_score_time</th>\n",
       "      <th>std_score_time</th>\n",
       "      <th>param_max_features</th>\n",
       "      <th>params</th>\n",
       "      <th>split0_test_score</th>\n",
       "      <th>split1_test_score</th>\n",
       "      <th>split2_test_score</th>\n",
       "      <th>split3_test_score</th>\n",
       "      <th>...</th>\n",
       "      <th>mean_test_score</th>\n",
       "      <th>std_test_score</th>\n",
       "      <th>rank_test_score</th>\n",
       "      <th>split0_train_score</th>\n",
       "      <th>split1_train_score</th>\n",
       "      <th>split2_train_score</th>\n",
       "      <th>split3_train_score</th>\n",
       "      <th>split4_train_score</th>\n",
       "      <th>mean_train_score</th>\n",
       "      <th>std_train_score</th>\n",
       "    </tr>\n",
       "  </thead>\n",
       "  <tbody>\n",
       "    <tr>\n",
       "      <th>2</th>\n",
       "      <td>0.187492</td>\n",
       "      <td>0.001197</td>\n",
       "      <td>0.013308</td>\n",
       "      <td>0.000379</td>\n",
       "      <td>6</td>\n",
       "      <td>{'max_features': 6}</td>\n",
       "      <td>0.760563</td>\n",
       "      <td>0.838028</td>\n",
       "      <td>0.873239</td>\n",
       "      <td>0.808511</td>\n",
       "      <td>...</td>\n",
       "      <td>0.817770</td>\n",
       "      <td>0.037233</td>\n",
       "      <td>1</td>\n",
       "      <td>0.881625</td>\n",
       "      <td>0.871025</td>\n",
       "      <td>0.863958</td>\n",
       "      <td>0.876543</td>\n",
       "      <td>0.878307</td>\n",
       "      <td>0.874292</td>\n",
       "      <td>0.006204</td>\n",
       "    </tr>\n",
       "    <tr>\n",
       "      <th>0</th>\n",
       "      <td>0.182366</td>\n",
       "      <td>0.002917</td>\n",
       "      <td>0.013582</td>\n",
       "      <td>0.000409</td>\n",
       "      <td>2</td>\n",
       "      <td>{'max_features': 2}</td>\n",
       "      <td>0.767606</td>\n",
       "      <td>0.838028</td>\n",
       "      <td>0.873239</td>\n",
       "      <td>0.801418</td>\n",
       "      <td>...</td>\n",
       "      <td>0.816342</td>\n",
       "      <td>0.036134</td>\n",
       "      <td>2</td>\n",
       "      <td>0.881625</td>\n",
       "      <td>0.871025</td>\n",
       "      <td>0.863958</td>\n",
       "      <td>0.876543</td>\n",
       "      <td>0.878307</td>\n",
       "      <td>0.874292</td>\n",
       "      <td>0.006204</td>\n",
       "    </tr>\n",
       "    <tr>\n",
       "      <th>3</th>\n",
       "      <td>0.194184</td>\n",
       "      <td>0.001360</td>\n",
       "      <td>0.013107</td>\n",
       "      <td>0.000098</td>\n",
       "      <td>8</td>\n",
       "      <td>{'max_features': 8}</td>\n",
       "      <td>0.760563</td>\n",
       "      <td>0.845070</td>\n",
       "      <td>0.845070</td>\n",
       "      <td>0.794326</td>\n",
       "      <td>...</td>\n",
       "      <td>0.807871</td>\n",
       "      <td>0.032780</td>\n",
       "      <td>3</td>\n",
       "      <td>0.881625</td>\n",
       "      <td>0.871025</td>\n",
       "      <td>0.863958</td>\n",
       "      <td>0.876543</td>\n",
       "      <td>0.878307</td>\n",
       "      <td>0.874292</td>\n",
       "      <td>0.006204</td>\n",
       "    </tr>\n",
       "    <tr>\n",
       "      <th>1</th>\n",
       "      <td>0.183364</td>\n",
       "      <td>0.001215</td>\n",
       "      <td>0.013592</td>\n",
       "      <td>0.000518</td>\n",
       "      <td>4</td>\n",
       "      <td>{'max_features': 4}</td>\n",
       "      <td>0.753521</td>\n",
       "      <td>0.838028</td>\n",
       "      <td>0.866197</td>\n",
       "      <td>0.794326</td>\n",
       "      <td>...</td>\n",
       "      <td>0.807861</td>\n",
       "      <td>0.039685</td>\n",
       "      <td>4</td>\n",
       "      <td>0.881625</td>\n",
       "      <td>0.871025</td>\n",
       "      <td>0.863958</td>\n",
       "      <td>0.876543</td>\n",
       "      <td>0.878307</td>\n",
       "      <td>0.874292</td>\n",
       "      <td>0.006204</td>\n",
       "    </tr>\n",
       "  </tbody>\n",
       "</table>\n",
       "<p>4 rows × 21 columns</p>\n",
       "</div>"
      ],
      "text/plain": [
       "   mean_fit_time  std_fit_time  mean_score_time  std_score_time  \\\n",
       "2       0.187492      0.001197         0.013308        0.000379   \n",
       "0       0.182366      0.002917         0.013582        0.000409   \n",
       "3       0.194184      0.001360         0.013107        0.000098   \n",
       "1       0.183364      0.001215         0.013592        0.000518   \n",
       "\n",
       "  param_max_features               params  split0_test_score  \\\n",
       "2                  6  {'max_features': 6}           0.760563   \n",
       "0                  2  {'max_features': 2}           0.767606   \n",
       "3                  8  {'max_features': 8}           0.760563   \n",
       "1                  4  {'max_features': 4}           0.753521   \n",
       "\n",
       "   split1_test_score  split2_test_score  split3_test_score  ...  \\\n",
       "2           0.838028           0.873239           0.808511  ...   \n",
       "0           0.838028           0.873239           0.801418  ...   \n",
       "3           0.845070           0.845070           0.794326  ...   \n",
       "1           0.838028           0.866197           0.794326  ...   \n",
       "\n",
       "   mean_test_score  std_test_score  rank_test_score  split0_train_score  \\\n",
       "2         0.817770        0.037233                1            0.881625   \n",
       "0         0.816342        0.036134                2            0.881625   \n",
       "3         0.807871        0.032780                3            0.881625   \n",
       "1         0.807861        0.039685                4            0.881625   \n",
       "\n",
       "   split1_train_score  split2_train_score  split3_train_score  \\\n",
       "2            0.871025            0.863958            0.876543   \n",
       "0            0.871025            0.863958            0.876543   \n",
       "3            0.871025            0.863958            0.876543   \n",
       "1            0.871025            0.863958            0.876543   \n",
       "\n",
       "   split4_train_score  mean_train_score  std_train_score  \n",
       "2            0.878307          0.874292         0.006204  \n",
       "0            0.878307          0.874292         0.006204  \n",
       "3            0.878307          0.874292         0.006204  \n",
       "1            0.878307          0.874292         0.006204  \n",
       "\n",
       "[4 rows x 21 columns]"
      ]
     },
     "execution_count": 28,
     "metadata": {},
     "output_type": "execute_result"
    }
   ],
   "source": [
    "scores = pd.DataFrame(rf.cv_results_)\n",
    "scores.sort_values('rank_test_score')"
   ]
  },
  {
   "cell_type": "code",
   "execution_count": 29,
   "id": "bd0c4679",
   "metadata": {
    "execution": {
     "iopub.execute_input": "2023-07-28T05:01:23.251944Z",
     "iopub.status.busy": "2023-07-28T05:01:23.251145Z",
     "iopub.status.idle": "2023-07-28T05:01:23.501035Z",
     "shell.execute_reply": "2023-07-28T05:01:23.499969Z"
    },
    "papermill": {
     "duration": 0.26894,
     "end_time": "2023-07-28T05:01:23.503291",
     "exception": false,
     "start_time": "2023-07-28T05:01:23.234351",
     "status": "completed"
    },
    "tags": []
   },
   "outputs": [
    {
     "data": {
      "image/png": "[encoded data removed]",
      "text/plain": [
       "<Figure size 640x480 with 1 Axes>"
      ]
     },
     "metadata": {},
     "output_type": "display_data"
    }
   ],
   "source": [
    "# plotting accuracies with max_features\n",
    "plt.figure()\n",
    "plt.plot(scores[\"param_max_features\"], \n",
    "         scores[\"mean_train_score\"], \n",
    "         label=\"training accuracy\")\n",
    "plt.plot(scores[\"param_max_features\"], \n",
    "         scores[\"mean_test_score\"], \n",
    "         label=\"test accuracy\")\n",
    "plt.xlabel(\"max_features\")\n",
    "plt.ylabel(\"Accuracy\")\n",
    "plt.legend()\n",
    "plt.show()\n"
   ]
  },
  {
   "cell_type": "code",
   "execution_count": 30,
   "id": "df2d0cde",
   "metadata": {
    "execution": {
     "iopub.execute_input": "2023-07-28T05:01:23.538041Z",
     "iopub.status.busy": "2023-07-28T05:01:23.537286Z",
     "iopub.status.idle": "2023-07-28T05:01:23.541734Z",
     "shell.execute_reply": "2023-07-28T05:01:23.540970Z"
    },
    "papermill": {
     "duration": 0.023531,
     "end_time": "2023-07-28T05:01:23.543863",
     "exception": false,
     "start_time": "2023-07-28T05:01:23.520332",
     "status": "completed"
    },
    "tags": []
   },
   "outputs": [],
   "source": [
    "# max_features=6"
   ]
  },
  {
   "cell_type": "code",
   "execution_count": 31,
   "id": "c5d84505",
   "metadata": {
    "execution": {
     "iopub.execute_input": "2023-07-28T05:01:23.577542Z",
     "iopub.status.busy": "2023-07-28T05:01:23.576770Z",
     "iopub.status.idle": "2023-07-28T05:01:32.754499Z",
     "shell.execute_reply": "2023-07-28T05:01:32.753336Z"
    },
    "papermill": {
     "duration": 9.197225,
     "end_time": "2023-07-28T05:01:32.756858",
     "exception": false,
     "start_time": "2023-07-28T05:01:23.559633",
     "status": "completed"
    },
    "tags": []
   },
   "outputs": [
    {
     "data": {
      "text/html": [
       "<style>#sk-container-id-5 {color: black;background-color: white;}#sk-container-id-5 pre{padding: 0;}#sk-container-id-5 div.sk-toggleable {background-color: white;}#sk-container-id-5 label.sk-toggleable__label {cursor: pointer;display: block;width: 100%;margin-bottom: 0;padding: 0.3em;box-sizing: border-box;text-align: center;}#sk-container-id-5 label.sk-toggleable__label-arrow:before {content: \"▸\";float: left;margin-right: 0.25em;color: #696969;}#sk-container-id-5 label.sk-toggleable__label-arrow:hover:before {color: black;}#sk-container-id-5 div.sk-estimator:hover label.sk-toggleable__label-arrow:before {color: black;}#sk-container-id-5 div.sk-toggleable__content {max-height: 0;max-width: 0;overflow: hidden;text-align: left;background-color: #f0f8ff;}#sk-container-id-5 div.sk-toggleable__content pre {margin: 0.2em;color: black;border-radius: 0.25em;background-color: #f0f8ff;}#sk-container-id-5 input.sk-toggleable__control:checked~div.sk-toggleable__content {max-height: 200px;max-width: 100%;overflow: auto;}#sk-container-id-5 input.sk-toggleable__control:checked~label.sk-toggleable__label-arrow:before {content: \"▾\";}#sk-container-id-5 div.sk-estimator input.sk-toggleable__control:checked~label.sk-toggleable__label {background-color: #d4ebff;}#sk-container-id-5 div.sk-label input.sk-toggleable__control:checked~label.sk-toggleable__label {background-color: #d4ebff;}#sk-container-id-5 input.sk-hidden--visually {border: 0;clip: rect(1px 1px 1px 1px);clip: rect(1px, 1px, 1px, 1px);height: 1px;margin: -1px;overflow: hidden;padding: 0;position: absolute;width: 1px;}#sk-container-id-5 div.sk-estimator {font-family: monospace;background-color: #f0f8ff;border: 1px dotted black;border-radius: 0.25em;box-sizing: border-box;margin-bottom: 0.5em;}#sk-container-id-5 div.sk-estimator:hover {background-color: #d4ebff;}#sk-container-id-5 div.sk-parallel-item::after {content: \"\";width: 100%;border-bottom: 1px solid gray;flex-grow: 1;}#sk-container-id-5 div.sk-label:hover label.sk-toggleable__label {background-color: #d4ebff;}#sk-container-id-5 div.sk-serial::before {content: \"\";position: absolute;border-left: 1px solid gray;box-sizing: border-box;top: 0;bottom: 0;left: 50%;z-index: 0;}#sk-container-id-5 div.sk-serial {display: flex;flex-direction: column;align-items: center;background-color: white;padding-right: 0.2em;padding-left: 0.2em;position: relative;}#sk-container-id-5 div.sk-item {position: relative;z-index: 1;}#sk-container-id-5 div.sk-parallel {display: flex;align-items: stretch;justify-content: center;background-color: white;position: relative;}#sk-container-id-5 div.sk-item::before, #sk-container-id-5 div.sk-parallel-item::before {content: \"\";position: absolute;border-left: 1px solid gray;box-sizing: border-box;top: 0;bottom: 0;left: 50%;z-index: -1;}#sk-container-id-5 div.sk-parallel-item {display: flex;flex-direction: column;z-index: 1;position: relative;background-color: white;}#sk-container-id-5 div.sk-parallel-item:first-child::after {align-self: flex-end;width: 50%;}#sk-container-id-5 div.sk-parallel-item:last-child::after {align-self: flex-start;width: 50%;}#sk-container-id-5 div.sk-parallel-item:only-child::after {width: 0;}#sk-container-id-5 div.sk-dashed-wrapped {border: 1px dashed gray;margin: 0 0.4em 0.5em 0.4em;box-sizing: border-box;padding-bottom: 0.4em;background-color: white;}#sk-container-id-5 div.sk-label label {font-family: monospace;font-weight: bold;display: inline-block;line-height: 1.2em;}#sk-container-id-5 div.sk-label-container {text-align: center;}#sk-container-id-5 div.sk-container {/* jupyter's `normalize.less` sets `[hidden] { display: none; }` but bootstrap.min.css set `[hidden] { display: none !important; }` so we also need the `!important` here to be able to override the default hidden behavior on the sphinx rendered scikit-learn.org. See: https://github.com/scikit-learn/scikit-learn/issues/21755 */display: inline-block !important;position: relative;}#sk-container-id-5 div.sk-text-repr-fallback {display: none;}</style><div id=\"sk-container-id-5\" class=\"sk-top-container\"><div class=\"sk-text-repr-fallback\"><pre>GridSearchCV(cv=5, estimator=RandomForestClassifier(),\n",
       "             param_grid={&#x27;min_samples_leaf&#x27;: range(2, 20, 2)},\n",
       "             return_train_score=True)</pre><b>In a Jupyter environment, please rerun this cell to show the HTML representation or trust the notebook. <br />On GitHub, the HTML representation is unable to render, please try loading this page with nbviewer.org.</b></div><div class=\"sk-container\" hidden><div class=\"sk-item sk-dashed-wrapped\"><div class=\"sk-label-container\"><div class=\"sk-label sk-toggleable\"><input class=\"sk-toggleable__control sk-hidden--visually\" id=\"sk-estimator-id-11\" type=\"checkbox\" ><label for=\"sk-estimator-id-11\" class=\"sk-toggleable__label sk-toggleable__label-arrow\">GridSearchCV</label><div class=\"sk-toggleable__content\"><pre>GridSearchCV(cv=5, estimator=RandomForestClassifier(),\n",
       "             param_grid={&#x27;min_samples_leaf&#x27;: range(2, 20, 2)},\n",
       "             return_train_score=True)</pre></div></div></div><div class=\"sk-parallel\"><div class=\"sk-parallel-item\"><div class=\"sk-item\"><div class=\"sk-label-container\"><div class=\"sk-label sk-toggleable\"><input class=\"sk-toggleable__control sk-hidden--visually\" id=\"sk-estimator-id-12\" type=\"checkbox\" ><label for=\"sk-estimator-id-12\" class=\"sk-toggleable__label sk-toggleable__label-arrow\">estimator: RandomForestClassifier</label><div class=\"sk-toggleable__content\"><pre>RandomForestClassifier()</pre></div></div></div><div class=\"sk-serial\"><div class=\"sk-item\"><div class=\"sk-estimator sk-toggleable\"><input class=\"sk-toggleable__control sk-hidden--visually\" id=\"sk-estimator-id-13\" type=\"checkbox\" ><label for=\"sk-estimator-id-13\" class=\"sk-toggleable__label sk-toggleable__label-arrow\">RandomForestClassifier</label><div class=\"sk-toggleable__content\"><pre>RandomForestClassifier()</pre></div></div></div></div></div></div></div></div></div></div>"
      ],
      "text/plain": [
       "GridSearchCV(cv=5, estimator=RandomForestClassifier(),\n",
       "             param_grid={'min_samples_leaf': range(2, 20, 2)},\n",
       "             return_train_score=True)"
      ]
     },
     "execution_count": 31,
     "metadata": {},
     "output_type": "execute_result"
    }
   ],
   "source": [
    "# Min Samples Leaf\n",
    "parameter = {'min_samples_leaf':range(2,20,2)}\n",
    "\n",
    "rf = RandomForestClassifier()\n",
    "\n",
    "rf = GridSearchCV(rf,\n",
    "                 parameter,\n",
    "                 cv=n_folds,\n",
    "                 return_train_score=True)\n",
    "\n",
    "rf.fit(X_train, y_train)\n"
   ]
  },
  {
   "cell_type": "code",
   "execution_count": 32,
   "id": "f64edbb6",
   "metadata": {
    "execution": {
     "iopub.execute_input": "2023-07-28T05:01:32.790793Z",
     "iopub.status.busy": "2023-07-28T05:01:32.790383Z",
     "iopub.status.idle": "2023-07-28T05:01:32.822376Z",
     "shell.execute_reply": "2023-07-28T05:01:32.821523Z"
    },
    "papermill": {
     "duration": 0.051532,
     "end_time": "2023-07-28T05:01:32.824442",
     "exception": false,
     "start_time": "2023-07-28T05:01:32.772910",
     "status": "completed"
    },
    "tags": []
   },
   "outputs": [
    {
     "data": {
      "text/html": [
       "<div>\n",
       "<style scoped>\n",
       "    .dataframe tbody tr th:only-of-type {\n",
       "        vertical-align: middle;\n",
       "    }\n",
       "\n",
       "    .dataframe tbody tr th {\n",
       "        vertical-align: top;\n",
       "    }\n",
       "\n",
       "    .dataframe thead th {\n",
       "        text-align: right;\n",
       "    }\n",
       "</style>\n",
       "<table border=\"1\" class=\"dataframe\">\n",
       "  <thead>\n",
       "    <tr style=\"text-align: right;\">\n",
       "      <th></th>\n",
       "      <th>mean_fit_time</th>\n",
       "      <th>std_fit_time</th>\n",
       "      <th>mean_score_time</th>\n",
       "      <th>std_score_time</th>\n",
       "      <th>param_min_samples_leaf</th>\n",
       "      <th>params</th>\n",
       "      <th>split0_test_score</th>\n",
       "      <th>split1_test_score</th>\n",
       "      <th>split2_test_score</th>\n",
       "      <th>split3_test_score</th>\n",
       "      <th>...</th>\n",
       "      <th>mean_test_score</th>\n",
       "      <th>std_test_score</th>\n",
       "      <th>rank_test_score</th>\n",
       "      <th>split0_train_score</th>\n",
       "      <th>split1_train_score</th>\n",
       "      <th>split2_train_score</th>\n",
       "      <th>split3_train_score</th>\n",
       "      <th>split4_train_score</th>\n",
       "      <th>mean_train_score</th>\n",
       "      <th>std_train_score</th>\n",
       "    </tr>\n",
       "  </thead>\n",
       "  <tbody>\n",
       "    <tr>\n",
       "      <th>8</th>\n",
       "      <td>0.167430</td>\n",
       "      <td>0.001095</td>\n",
       "      <td>0.012738</td>\n",
       "      <td>0.000706</td>\n",
       "      <td>18</td>\n",
       "      <td>{'min_samples_leaf': 18}</td>\n",
       "      <td>0.816901</td>\n",
       "      <td>0.802817</td>\n",
       "      <td>0.859155</td>\n",
       "      <td>0.808511</td>\n",
       "      <td>...</td>\n",
       "      <td>0.823434</td>\n",
       "      <td>0.020034</td>\n",
       "      <td>1</td>\n",
       "      <td>0.828622</td>\n",
       "      <td>0.832155</td>\n",
       "      <td>0.812721</td>\n",
       "      <td>0.823633</td>\n",
       "      <td>0.816578</td>\n",
       "      <td>0.822742</td>\n",
       "      <td>0.007244</td>\n",
       "    </tr>\n",
       "    <tr>\n",
       "      <th>6</th>\n",
       "      <td>0.167949</td>\n",
       "      <td>0.001360</td>\n",
       "      <td>0.012358</td>\n",
       "      <td>0.000101</td>\n",
       "      <td>14</td>\n",
       "      <td>{'min_samples_leaf': 14}</td>\n",
       "      <td>0.802817</td>\n",
       "      <td>0.795775</td>\n",
       "      <td>0.859155</td>\n",
       "      <td>0.808511</td>\n",
       "      <td>...</td>\n",
       "      <td>0.819209</td>\n",
       "      <td>0.022978</td>\n",
       "      <td>2</td>\n",
       "      <td>0.825088</td>\n",
       "      <td>0.833922</td>\n",
       "      <td>0.818021</td>\n",
       "      <td>0.825397</td>\n",
       "      <td>0.825397</td>\n",
       "      <td>0.825565</td>\n",
       "      <td>0.005041</td>\n",
       "    </tr>\n",
       "    <tr>\n",
       "      <th>5</th>\n",
       "      <td>0.167956</td>\n",
       "      <td>0.000831</td>\n",
       "      <td>0.012614</td>\n",
       "      <td>0.000224</td>\n",
       "      <td>12</td>\n",
       "      <td>{'min_samples_leaf': 12}</td>\n",
       "      <td>0.809859</td>\n",
       "      <td>0.788732</td>\n",
       "      <td>0.859155</td>\n",
       "      <td>0.822695</td>\n",
       "      <td>...</td>\n",
       "      <td>0.819209</td>\n",
       "      <td>0.022966</td>\n",
       "      <td>3</td>\n",
       "      <td>0.826855</td>\n",
       "      <td>0.830389</td>\n",
       "      <td>0.819788</td>\n",
       "      <td>0.827160</td>\n",
       "      <td>0.832451</td>\n",
       "      <td>0.827329</td>\n",
       "      <td>0.004306</td>\n",
       "    </tr>\n",
       "    <tr>\n",
       "      <th>4</th>\n",
       "      <td>0.171789</td>\n",
       "      <td>0.006828</td>\n",
       "      <td>0.013145</td>\n",
       "      <td>0.001315</td>\n",
       "      <td>10</td>\n",
       "      <td>{'min_samples_leaf': 10}</td>\n",
       "      <td>0.809859</td>\n",
       "      <td>0.802817</td>\n",
       "      <td>0.852113</td>\n",
       "      <td>0.808511</td>\n",
       "      <td>...</td>\n",
       "      <td>0.819199</td>\n",
       "      <td>0.017694</td>\n",
       "      <td>4</td>\n",
       "      <td>0.828622</td>\n",
       "      <td>0.828622</td>\n",
       "      <td>0.814488</td>\n",
       "      <td>0.830688</td>\n",
       "      <td>0.823633</td>\n",
       "      <td>0.825210</td>\n",
       "      <td>0.005844</td>\n",
       "    </tr>\n",
       "    <tr>\n",
       "      <th>7</th>\n",
       "      <td>0.166463</td>\n",
       "      <td>0.000851</td>\n",
       "      <td>0.012494</td>\n",
       "      <td>0.000193</td>\n",
       "      <td>16</td>\n",
       "      <td>{'min_samples_leaf': 16}</td>\n",
       "      <td>0.802817</td>\n",
       "      <td>0.802817</td>\n",
       "      <td>0.859155</td>\n",
       "      <td>0.808511</td>\n",
       "      <td>...</td>\n",
       "      <td>0.819199</td>\n",
       "      <td>0.021259</td>\n",
       "      <td>4</td>\n",
       "      <td>0.825088</td>\n",
       "      <td>0.832155</td>\n",
       "      <td>0.818021</td>\n",
       "      <td>0.823633</td>\n",
       "      <td>0.821869</td>\n",
       "      <td>0.824154</td>\n",
       "      <td>0.004648</td>\n",
       "    </tr>\n",
       "    <tr>\n",
       "      <th>2</th>\n",
       "      <td>0.170617</td>\n",
       "      <td>0.001305</td>\n",
       "      <td>0.012704</td>\n",
       "      <td>0.000098</td>\n",
       "      <td>6</td>\n",
       "      <td>{'min_samples_leaf': 6}</td>\n",
       "      <td>0.802817</td>\n",
       "      <td>0.795775</td>\n",
       "      <td>0.859155</td>\n",
       "      <td>0.794326</td>\n",
       "      <td>...</td>\n",
       "      <td>0.813535</td>\n",
       "      <td>0.024020</td>\n",
       "      <td>6</td>\n",
       "      <td>0.837456</td>\n",
       "      <td>0.832155</td>\n",
       "      <td>0.823322</td>\n",
       "      <td>0.837743</td>\n",
       "      <td>0.841270</td>\n",
       "      <td>0.834389</td>\n",
       "      <td>0.006253</td>\n",
       "    </tr>\n",
       "    <tr>\n",
       "      <th>3</th>\n",
       "      <td>0.170222</td>\n",
       "      <td>0.000904</td>\n",
       "      <td>0.012817</td>\n",
       "      <td>0.000196</td>\n",
       "      <td>8</td>\n",
       "      <td>{'min_samples_leaf': 8}</td>\n",
       "      <td>0.795775</td>\n",
       "      <td>0.795775</td>\n",
       "      <td>0.866197</td>\n",
       "      <td>0.794326</td>\n",
       "      <td>...</td>\n",
       "      <td>0.813535</td>\n",
       "      <td>0.027486</td>\n",
       "      <td>6</td>\n",
       "      <td>0.832155</td>\n",
       "      <td>0.830389</td>\n",
       "      <td>0.821555</td>\n",
       "      <td>0.837743</td>\n",
       "      <td>0.830688</td>\n",
       "      <td>0.830506</td>\n",
       "      <td>0.005201</td>\n",
       "    </tr>\n",
       "    <tr>\n",
       "      <th>0</th>\n",
       "      <td>0.174582</td>\n",
       "      <td>0.001727</td>\n",
       "      <td>0.012899</td>\n",
       "      <td>0.000113</td>\n",
       "      <td>2</td>\n",
       "      <td>{'min_samples_leaf': 2}</td>\n",
       "      <td>0.781690</td>\n",
       "      <td>0.809859</td>\n",
       "      <td>0.873239</td>\n",
       "      <td>0.794326</td>\n",
       "      <td>...</td>\n",
       "      <td>0.813525</td>\n",
       "      <td>0.031580</td>\n",
       "      <td>8</td>\n",
       "      <td>0.862191</td>\n",
       "      <td>0.851590</td>\n",
       "      <td>0.848057</td>\n",
       "      <td>0.862434</td>\n",
       "      <td>0.862434</td>\n",
       "      <td>0.857341</td>\n",
       "      <td>0.006240</td>\n",
       "    </tr>\n",
       "    <tr>\n",
       "      <th>1</th>\n",
       "      <td>0.172231</td>\n",
       "      <td>0.002816</td>\n",
       "      <td>0.012899</td>\n",
       "      <td>0.000284</td>\n",
       "      <td>4</td>\n",
       "      <td>{'min_samples_leaf': 4}</td>\n",
       "      <td>0.795775</td>\n",
       "      <td>0.795775</td>\n",
       "      <td>0.866197</td>\n",
       "      <td>0.787234</td>\n",
       "      <td>...</td>\n",
       "      <td>0.809280</td>\n",
       "      <td>0.028817</td>\n",
       "      <td>9</td>\n",
       "      <td>0.849823</td>\n",
       "      <td>0.833922</td>\n",
       "      <td>0.832155</td>\n",
       "      <td>0.848325</td>\n",
       "      <td>0.841270</td>\n",
       "      <td>0.841099</td>\n",
       "      <td>0.007209</td>\n",
       "    </tr>\n",
       "  </tbody>\n",
       "</table>\n",
       "<p>9 rows × 21 columns</p>\n",
       "</div>"
      ],
      "text/plain": [
       "   mean_fit_time  std_fit_time  mean_score_time  std_score_time  \\\n",
       "8       0.167430      0.001095         0.012738        0.000706   \n",
       "6       0.167949      0.001360         0.012358        0.000101   \n",
       "5       0.167956      0.000831         0.012614        0.000224   \n",
       "4       0.171789      0.006828         0.013145        0.001315   \n",
       "7       0.166463      0.000851         0.012494        0.000193   \n",
       "2       0.170617      0.001305         0.012704        0.000098   \n",
       "3       0.170222      0.000904         0.012817        0.000196   \n",
       "0       0.174582      0.001727         0.012899        0.000113   \n",
       "1       0.172231      0.002816         0.012899        0.000284   \n",
       "\n",
       "  param_min_samples_leaf                    params  split0_test_score  \\\n",
       "8                     18  {'min_samples_leaf': 18}           0.816901   \n",
       "6                     14  {'min_samples_leaf': 14}           0.802817   \n",
       "5                     12  {'min_samples_leaf': 12}           0.809859   \n",
       "4                     10  {'min_samples_leaf': 10}           0.809859   \n",
       "7                     16  {'min_samples_leaf': 16}           0.802817   \n",
       "2                      6   {'min_samples_leaf': 6}           0.802817   \n",
       "3                      8   {'min_samples_leaf': 8}           0.795775   \n",
       "0                      2   {'min_samples_leaf': 2}           0.781690   \n",
       "1                      4   {'min_samples_leaf': 4}           0.795775   \n",
       "\n",
       "   split1_test_score  split2_test_score  split3_test_score  ...  \\\n",
       "8           0.802817           0.859155           0.808511  ...   \n",
       "6           0.795775           0.859155           0.808511  ...   \n",
       "5           0.788732           0.859155           0.822695  ...   \n",
       "4           0.802817           0.852113           0.808511  ...   \n",
       "7           0.802817           0.859155           0.808511  ...   \n",
       "2           0.795775           0.859155           0.794326  ...   \n",
       "3           0.795775           0.866197           0.794326  ...   \n",
       "0           0.809859           0.873239           0.794326  ...   \n",
       "1           0.795775           0.866197           0.787234  ...   \n",
       "\n",
       "   mean_test_score  std_test_score  rank_test_score  split0_train_score  \\\n",
       "8         0.823434        0.020034                1            0.828622   \n",
       "6         0.819209        0.022978                2            0.825088   \n",
       "5         0.819209        0.022966                3            0.826855   \n",
       "4         0.819199        0.017694                4            0.828622   \n",
       "7         0.819199        0.021259                4            0.825088   \n",
       "2         0.813535        0.024020                6            0.837456   \n",
       "3         0.813535        0.027486                6            0.832155   \n",
       "0         0.813525        0.031580                8            0.862191   \n",
       "1         0.809280        0.028817                9            0.849823   \n",
       "\n",
       "   split1_train_score  split2_train_score  split3_train_score  \\\n",
       "8            0.832155            0.812721            0.823633   \n",
       "6            0.833922            0.818021            0.825397   \n",
       "5            0.830389            0.819788            0.827160   \n",
       "4            0.828622            0.814488            0.830688   \n",
       "7            0.832155            0.818021            0.823633   \n",
       "2            0.832155            0.823322            0.837743   \n",
       "3            0.830389            0.821555            0.837743   \n",
       "0            0.851590            0.848057            0.862434   \n",
       "1            0.833922            0.832155            0.848325   \n",
       "\n",
       "   split4_train_score  mean_train_score  std_train_score  \n",
       "8            0.816578          0.822742         0.007244  \n",
       "6            0.825397          0.825565         0.005041  \n",
       "5            0.832451          0.827329         0.004306  \n",
       "4            0.823633          0.825210         0.005844  \n",
       "7            0.821869          0.824154         0.004648  \n",
       "2            0.841270          0.834389         0.006253  \n",
       "3            0.830688          0.830506         0.005201  \n",
       "0            0.862434          0.857341         0.006240  \n",
       "1            0.841270          0.841099         0.007209  \n",
       "\n",
       "[9 rows x 21 columns]"
      ]
     },
     "execution_count": 32,
     "metadata": {},
     "output_type": "execute_result"
    }
   ],
   "source": [
    "scores = pd.DataFrame(rf.cv_results_)\n",
    "scores.sort_values('rank_test_score')"
   ]
  },
  {
   "cell_type": "code",
   "execution_count": 33,
   "id": "aa1fba2a",
   "metadata": {
    "execution": {
     "iopub.execute_input": "2023-07-28T05:01:32.859332Z",
     "iopub.status.busy": "2023-07-28T05:01:32.858683Z",
     "iopub.status.idle": "2023-07-28T05:01:33.115261Z",
     "shell.execute_reply": "2023-07-28T05:01:33.114076Z"
    },
    "papermill": {
     "duration": 0.276576,
     "end_time": "2023-07-28T05:01:33.117379",
     "exception": false,
     "start_time": "2023-07-28T05:01:32.840803",
     "status": "completed"
    },
    "tags": []
   },
   "outputs": [
    {
     "data": {
      "image/png": "[encoded data removed]",
      "text/plain": [
       "<Figure size 640x480 with 1 Axes>"
      ]
     },
     "metadata": {},
     "output_type": "display_data"
    }
   ],
   "source": [
    "# plotting accuracies with min_samples_leaf\n",
    "plt.figure()\n",
    "plt.plot(scores[\"param_min_samples_leaf\"], \n",
    "         scores[\"mean_train_score\"], \n",
    "         label=\"training accuracy\")\n",
    "plt.plot(scores[\"param_min_samples_leaf\"], \n",
    "         scores[\"mean_test_score\"], \n",
    "         label=\"test accuracy\")\n",
    "plt.xlabel(\"min_samples_leaf\")\n",
    "plt.ylabel(\"Accuracy\")\n",
    "plt.legend()\n",
    "plt.show()"
   ]
  },
  {
   "cell_type": "code",
   "execution_count": 34,
   "id": "f44abb4d",
   "metadata": {
    "execution": {
     "iopub.execute_input": "2023-07-28T05:01:33.153869Z",
     "iopub.status.busy": "2023-07-28T05:01:33.153182Z",
     "iopub.status.idle": "2023-07-28T05:01:33.157905Z",
     "shell.execute_reply": "2023-07-28T05:01:33.157104Z"
    },
    "papermill": {
     "duration": 0.025326,
     "end_time": "2023-07-28T05:01:33.159872",
     "exception": false,
     "start_time": "2023-07-28T05:01:33.134546",
     "status": "completed"
    },
    "tags": []
   },
   "outputs": [],
   "source": [
    "# min_samples_leaf = 16"
   ]
  },
  {
   "cell_type": "code",
   "execution_count": 35,
   "id": "d81e472e",
   "metadata": {
    "execution": {
     "iopub.execute_input": "2023-07-28T05:01:33.195740Z",
     "iopub.status.busy": "2023-07-28T05:01:33.195087Z",
     "iopub.status.idle": "2023-07-28T05:01:39.374504Z",
     "shell.execute_reply": "2023-07-28T05:01:39.373502Z"
    },
    "papermill": {
     "duration": 6.199881,
     "end_time": "2023-07-28T05:01:39.376671",
     "exception": false,
     "start_time": "2023-07-28T05:01:33.176790",
     "status": "completed"
    },
    "tags": []
   },
   "outputs": [
    {
     "data": {
      "text/html": [
       "<style>#sk-container-id-6 {color: black;background-color: white;}#sk-container-id-6 pre{padding: 0;}#sk-container-id-6 div.sk-toggleable {background-color: white;}#sk-container-id-6 label.sk-toggleable__label {cursor: pointer;display: block;width: 100%;margin-bottom: 0;padding: 0.3em;box-sizing: border-box;text-align: center;}#sk-container-id-6 label.sk-toggleable__label-arrow:before {content: \"▸\";float: left;margin-right: 0.25em;color: #696969;}#sk-container-id-6 label.sk-toggleable__label-arrow:hover:before {color: black;}#sk-container-id-6 div.sk-estimator:hover label.sk-toggleable__label-arrow:before {color: black;}#sk-container-id-6 div.sk-toggleable__content {max-height: 0;max-width: 0;overflow: hidden;text-align: left;background-color: #f0f8ff;}#sk-container-id-6 div.sk-toggleable__content pre {margin: 0.2em;color: black;border-radius: 0.25em;background-color: #f0f8ff;}#sk-container-id-6 input.sk-toggleable__control:checked~div.sk-toggleable__content {max-height: 200px;max-width: 100%;overflow: auto;}#sk-container-id-6 input.sk-toggleable__control:checked~label.sk-toggleable__label-arrow:before {content: \"▾\";}#sk-container-id-6 div.sk-estimator input.sk-toggleable__control:checked~label.sk-toggleable__label {background-color: #d4ebff;}#sk-container-id-6 div.sk-label input.sk-toggleable__control:checked~label.sk-toggleable__label {background-color: #d4ebff;}#sk-container-id-6 input.sk-hidden--visually {border: 0;clip: rect(1px 1px 1px 1px);clip: rect(1px, 1px, 1px, 1px);height: 1px;margin: -1px;overflow: hidden;padding: 0;position: absolute;width: 1px;}#sk-container-id-6 div.sk-estimator {font-family: monospace;background-color: #f0f8ff;border: 1px dotted black;border-radius: 0.25em;box-sizing: border-box;margin-bottom: 0.5em;}#sk-container-id-6 div.sk-estimator:hover {background-color: #d4ebff;}#sk-container-id-6 div.sk-parallel-item::after {content: \"\";width: 100%;border-bottom: 1px solid gray;flex-grow: 1;}#sk-container-id-6 div.sk-label:hover label.sk-toggleable__label {background-color: #d4ebff;}#sk-container-id-6 div.sk-serial::before {content: \"\";position: absolute;border-left: 1px solid gray;box-sizing: border-box;top: 0;bottom: 0;left: 50%;z-index: 0;}#sk-container-id-6 div.sk-serial {display: flex;flex-direction: column;align-items: center;background-color: white;padding-right: 0.2em;padding-left: 0.2em;position: relative;}#sk-container-id-6 div.sk-item {position: relative;z-index: 1;}#sk-container-id-6 div.sk-parallel {display: flex;align-items: stretch;justify-content: center;background-color: white;position: relative;}#sk-container-id-6 div.sk-item::before, #sk-container-id-6 div.sk-parallel-item::before {content: \"\";position: absolute;border-left: 1px solid gray;box-sizing: border-box;top: 0;bottom: 0;left: 50%;z-index: -1;}#sk-container-id-6 div.sk-parallel-item {display: flex;flex-direction: column;z-index: 1;position: relative;background-color: white;}#sk-container-id-6 div.sk-parallel-item:first-child::after {align-self: flex-end;width: 50%;}#sk-container-id-6 div.sk-parallel-item:last-child::after {align-self: flex-start;width: 50%;}#sk-container-id-6 div.sk-parallel-item:only-child::after {width: 0;}#sk-container-id-6 div.sk-dashed-wrapped {border: 1px dashed gray;margin: 0 0.4em 0.5em 0.4em;box-sizing: border-box;padding-bottom: 0.4em;background-color: white;}#sk-container-id-6 div.sk-label label {font-family: monospace;font-weight: bold;display: inline-block;line-height: 1.2em;}#sk-container-id-6 div.sk-label-container {text-align: center;}#sk-container-id-6 div.sk-container {/* jupyter's `normalize.less` sets `[hidden] { display: none; }` but bootstrap.min.css set `[hidden] { display: none !important; }` so we also need the `!important` here to be able to override the default hidden behavior on the sphinx rendered scikit-learn.org. See: https://github.com/scikit-learn/scikit-learn/issues/21755 */display: inline-block !important;position: relative;}#sk-container-id-6 div.sk-text-repr-fallback {display: none;}</style><div id=\"sk-container-id-6\" class=\"sk-top-container\"><div class=\"sk-text-repr-fallback\"><pre>GridSearchCV(cv=5, estimator=RandomForestClassifier(),\n",
       "             param_grid={&#x27;min_samples_split&#x27;: range(30, 60, 5)},\n",
       "             return_train_score=True)</pre><b>In a Jupyter environment, please rerun this cell to show the HTML representation or trust the notebook. <br />On GitHub, the HTML representation is unable to render, please try loading this page with nbviewer.org.</b></div><div class=\"sk-container\" hidden><div class=\"sk-item sk-dashed-wrapped\"><div class=\"sk-label-container\"><div class=\"sk-label sk-toggleable\"><input class=\"sk-toggleable__control sk-hidden--visually\" id=\"sk-estimator-id-14\" type=\"checkbox\" ><label for=\"sk-estimator-id-14\" class=\"sk-toggleable__label sk-toggleable__label-arrow\">GridSearchCV</label><div class=\"sk-toggleable__content\"><pre>GridSearchCV(cv=5, estimator=RandomForestClassifier(),\n",
       "             param_grid={&#x27;min_samples_split&#x27;: range(30, 60, 5)},\n",
       "             return_train_score=True)</pre></div></div></div><div class=\"sk-parallel\"><div class=\"sk-parallel-item\"><div class=\"sk-item\"><div class=\"sk-label-container\"><div class=\"sk-label sk-toggleable\"><input class=\"sk-toggleable__control sk-hidden--visually\" id=\"sk-estimator-id-15\" type=\"checkbox\" ><label for=\"sk-estimator-id-15\" class=\"sk-toggleable__label sk-toggleable__label-arrow\">estimator: RandomForestClassifier</label><div class=\"sk-toggleable__content\"><pre>RandomForestClassifier()</pre></div></div></div><div class=\"sk-serial\"><div class=\"sk-item\"><div class=\"sk-estimator sk-toggleable\"><input class=\"sk-toggleable__control sk-hidden--visually\" id=\"sk-estimator-id-16\" type=\"checkbox\" ><label for=\"sk-estimator-id-16\" class=\"sk-toggleable__label sk-toggleable__label-arrow\">RandomForestClassifier</label><div class=\"sk-toggleable__content\"><pre>RandomForestClassifier()</pre></div></div></div></div></div></div></div></div></div></div>"
      ],
      "text/plain": [
       "GridSearchCV(cv=5, estimator=RandomForestClassifier(),\n",
       "             param_grid={'min_samples_split': range(30, 60, 5)},\n",
       "             return_train_score=True)"
      ]
     },
     "execution_count": 35,
     "metadata": {},
     "output_type": "execute_result"
    }
   ],
   "source": [
    "# Min Samples Split\n",
    "parameter = {'min_samples_split':range(30,60,5)}\n",
    "\n",
    "rf = RandomForestClassifier()\n",
    "\n",
    "rf = GridSearchCV(rf,\n",
    "                 parameter,\n",
    "                 cv=n_folds,\n",
    "                 return_train_score=True)\n",
    "\n",
    "rf.fit(X_train, y_train)\n"
   ]
  },
  {
   "cell_type": "code",
   "execution_count": 36,
   "id": "4f3f03a1",
   "metadata": {
    "execution": {
     "iopub.execute_input": "2023-07-28T05:01:39.413848Z",
     "iopub.status.busy": "2023-07-28T05:01:39.413425Z",
     "iopub.status.idle": "2023-07-28T05:01:39.443143Z",
     "shell.execute_reply": "2023-07-28T05:01:39.442082Z"
    },
    "papermill": {
     "duration": 0.051044,
     "end_time": "2023-07-28T05:01:39.445267",
     "exception": false,
     "start_time": "2023-07-28T05:01:39.394223",
     "status": "completed"
    },
    "tags": []
   },
   "outputs": [
    {
     "data": {
      "text/html": [
       "<div>\n",
       "<style scoped>\n",
       "    .dataframe tbody tr th:only-of-type {\n",
       "        vertical-align: middle;\n",
       "    }\n",
       "\n",
       "    .dataframe tbody tr th {\n",
       "        vertical-align: top;\n",
       "    }\n",
       "\n",
       "    .dataframe thead th {\n",
       "        text-align: right;\n",
       "    }\n",
       "</style>\n",
       "<table border=\"1\" class=\"dataframe\">\n",
       "  <thead>\n",
       "    <tr style=\"text-align: right;\">\n",
       "      <th></th>\n",
       "      <th>mean_fit_time</th>\n",
       "      <th>std_fit_time</th>\n",
       "      <th>mean_score_time</th>\n",
       "      <th>std_score_time</th>\n",
       "      <th>param_min_samples_split</th>\n",
       "      <th>params</th>\n",
       "      <th>split0_test_score</th>\n",
       "      <th>split1_test_score</th>\n",
       "      <th>split2_test_score</th>\n",
       "      <th>split3_test_score</th>\n",
       "      <th>...</th>\n",
       "      <th>mean_test_score</th>\n",
       "      <th>std_test_score</th>\n",
       "      <th>rank_test_score</th>\n",
       "      <th>split0_train_score</th>\n",
       "      <th>split1_train_score</th>\n",
       "      <th>split2_train_score</th>\n",
       "      <th>split3_train_score</th>\n",
       "      <th>split4_train_score</th>\n",
       "      <th>mean_train_score</th>\n",
       "      <th>std_train_score</th>\n",
       "    </tr>\n",
       "  </thead>\n",
       "  <tbody>\n",
       "    <tr>\n",
       "      <th>4</th>\n",
       "      <td>0.168624</td>\n",
       "      <td>0.001015</td>\n",
       "      <td>0.012536</td>\n",
       "      <td>0.000061</td>\n",
       "      <td>50</td>\n",
       "      <td>{'min_samples_split': 50}</td>\n",
       "      <td>0.788732</td>\n",
       "      <td>0.795775</td>\n",
       "      <td>0.859155</td>\n",
       "      <td>0.815603</td>\n",
       "      <td>...</td>\n",
       "      <td>0.814974</td>\n",
       "      <td>0.024536</td>\n",
       "      <td>1</td>\n",
       "      <td>0.835689</td>\n",
       "      <td>0.833922</td>\n",
       "      <td>0.826855</td>\n",
       "      <td>0.827160</td>\n",
       "      <td>0.832451</td>\n",
       "      <td>0.831216</td>\n",
       "      <td>0.003587</td>\n",
       "    </tr>\n",
       "    <tr>\n",
       "      <th>2</th>\n",
       "      <td>0.168861</td>\n",
       "      <td>0.001138</td>\n",
       "      <td>0.012820</td>\n",
       "      <td>0.000285</td>\n",
       "      <td>40</td>\n",
       "      <td>{'min_samples_split': 40}</td>\n",
       "      <td>0.802817</td>\n",
       "      <td>0.795775</td>\n",
       "      <td>0.852113</td>\n",
       "      <td>0.815603</td>\n",
       "      <td>...</td>\n",
       "      <td>0.814964</td>\n",
       "      <td>0.019687</td>\n",
       "      <td>2</td>\n",
       "      <td>0.833922</td>\n",
       "      <td>0.835689</td>\n",
       "      <td>0.821555</td>\n",
       "      <td>0.837743</td>\n",
       "      <td>0.839506</td>\n",
       "      <td>0.833683</td>\n",
       "      <td>0.006349</td>\n",
       "    </tr>\n",
       "    <tr>\n",
       "      <th>5</th>\n",
       "      <td>0.171395</td>\n",
       "      <td>0.005294</td>\n",
       "      <td>0.013562</td>\n",
       "      <td>0.001613</td>\n",
       "      <td>55</td>\n",
       "      <td>{'min_samples_split': 55}</td>\n",
       "      <td>0.809859</td>\n",
       "      <td>0.795775</td>\n",
       "      <td>0.852113</td>\n",
       "      <td>0.815603</td>\n",
       "      <td>...</td>\n",
       "      <td>0.814954</td>\n",
       "      <td>0.019790</td>\n",
       "      <td>3</td>\n",
       "      <td>0.830389</td>\n",
       "      <td>0.835689</td>\n",
       "      <td>0.821555</td>\n",
       "      <td>0.830688</td>\n",
       "      <td>0.828924</td>\n",
       "      <td>0.829449</td>\n",
       "      <td>0.004560</td>\n",
       "    </tr>\n",
       "    <tr>\n",
       "      <th>3</th>\n",
       "      <td>0.168035</td>\n",
       "      <td>0.000342</td>\n",
       "      <td>0.012606</td>\n",
       "      <td>0.000259</td>\n",
       "      <td>45</td>\n",
       "      <td>{'min_samples_split': 45}</td>\n",
       "      <td>0.795775</td>\n",
       "      <td>0.795775</td>\n",
       "      <td>0.852113</td>\n",
       "      <td>0.808511</td>\n",
       "      <td>...</td>\n",
       "      <td>0.812137</td>\n",
       "      <td>0.020784</td>\n",
       "      <td>4</td>\n",
       "      <td>0.839223</td>\n",
       "      <td>0.830389</td>\n",
       "      <td>0.830389</td>\n",
       "      <td>0.835979</td>\n",
       "      <td>0.834215</td>\n",
       "      <td>0.834039</td>\n",
       "      <td>0.003386</td>\n",
       "    </tr>\n",
       "    <tr>\n",
       "      <th>0</th>\n",
       "      <td>0.171046</td>\n",
       "      <td>0.001871</td>\n",
       "      <td>0.012672</td>\n",
       "      <td>0.000095</td>\n",
       "      <td>30</td>\n",
       "      <td>{'min_samples_split': 30}</td>\n",
       "      <td>0.802817</td>\n",
       "      <td>0.809859</td>\n",
       "      <td>0.859155</td>\n",
       "      <td>0.794326</td>\n",
       "      <td>...</td>\n",
       "      <td>0.812097</td>\n",
       "      <td>0.024237</td>\n",
       "      <td>5</td>\n",
       "      <td>0.844523</td>\n",
       "      <td>0.835689</td>\n",
       "      <td>0.830389</td>\n",
       "      <td>0.848325</td>\n",
       "      <td>0.841270</td>\n",
       "      <td>0.840039</td>\n",
       "      <td>0.006361</td>\n",
       "    </tr>\n",
       "    <tr>\n",
       "      <th>1</th>\n",
       "      <td>0.169185</td>\n",
       "      <td>0.000681</td>\n",
       "      <td>0.012670</td>\n",
       "      <td>0.000109</td>\n",
       "      <td>35</td>\n",
       "      <td>{'min_samples_split': 35}</td>\n",
       "      <td>0.788732</td>\n",
       "      <td>0.795775</td>\n",
       "      <td>0.859155</td>\n",
       "      <td>0.808511</td>\n",
       "      <td>...</td>\n",
       "      <td>0.806463</td>\n",
       "      <td>0.027936</td>\n",
       "      <td>6</td>\n",
       "      <td>0.844523</td>\n",
       "      <td>0.835689</td>\n",
       "      <td>0.826855</td>\n",
       "      <td>0.841270</td>\n",
       "      <td>0.841270</td>\n",
       "      <td>0.837921</td>\n",
       "      <td>0.006220</td>\n",
       "    </tr>\n",
       "  </tbody>\n",
       "</table>\n",
       "<p>6 rows × 21 columns</p>\n",
       "</div>"
      ],
      "text/plain": [
       "   mean_fit_time  std_fit_time  mean_score_time  std_score_time  \\\n",
       "4       0.168624      0.001015         0.012536        0.000061   \n",
       "2       0.168861      0.001138         0.012820        0.000285   \n",
       "5       0.171395      0.005294         0.013562        0.001613   \n",
       "3       0.168035      0.000342         0.012606        0.000259   \n",
       "0       0.171046      0.001871         0.012672        0.000095   \n",
       "1       0.169185      0.000681         0.012670        0.000109   \n",
       "\n",
       "  param_min_samples_split                     params  split0_test_score  \\\n",
       "4                      50  {'min_samples_split': 50}           0.788732   \n",
       "2                      40  {'min_samples_split': 40}           0.802817   \n",
       "5                      55  {'min_samples_split': 55}           0.809859   \n",
       "3                      45  {'min_samples_split': 45}           0.795775   \n",
       "0                      30  {'min_samples_split': 30}           0.802817   \n",
       "1                      35  {'min_samples_split': 35}           0.788732   \n",
       "\n",
       "   split1_test_score  split2_test_score  split3_test_score  ...  \\\n",
       "4           0.795775           0.859155           0.815603  ...   \n",
       "2           0.795775           0.852113           0.815603  ...   \n",
       "5           0.795775           0.852113           0.815603  ...   \n",
       "3           0.795775           0.852113           0.808511  ...   \n",
       "0           0.809859           0.859155           0.794326  ...   \n",
       "1           0.795775           0.859155           0.808511  ...   \n",
       "\n",
       "   mean_test_score  std_test_score  rank_test_score  split0_train_score  \\\n",
       "4         0.814974        0.024536                1            0.835689   \n",
       "2         0.814964        0.019687                2            0.833922   \n",
       "5         0.814954        0.019790                3            0.830389   \n",
       "3         0.812137        0.020784                4            0.839223   \n",
       "0         0.812097        0.024237                5            0.844523   \n",
       "1         0.806463        0.027936                6            0.844523   \n",
       "\n",
       "   split1_train_score  split2_train_score  split3_train_score  \\\n",
       "4            0.833922            0.826855            0.827160   \n",
       "2            0.835689            0.821555            0.837743   \n",
       "5            0.835689            0.821555            0.830688   \n",
       "3            0.830389            0.830389            0.835979   \n",
       "0            0.835689            0.830389            0.848325   \n",
       "1            0.835689            0.826855            0.841270   \n",
       "\n",
       "   split4_train_score  mean_train_score  std_train_score  \n",
       "4            0.832451          0.831216         0.003587  \n",
       "2            0.839506          0.833683         0.006349  \n",
       "5            0.828924          0.829449         0.004560  \n",
       "3            0.834215          0.834039         0.003386  \n",
       "0            0.841270          0.840039         0.006361  \n",
       "1            0.841270          0.837921         0.006220  \n",
       "\n",
       "[6 rows x 21 columns]"
      ]
     },
     "execution_count": 36,
     "metadata": {},
     "output_type": "execute_result"
    }
   ],
   "source": [
    "scores = pd.DataFrame(rf.cv_results_)\n",
    "scores.sort_values('rank_test_score')"
   ]
  },
  {
   "cell_type": "code",
   "execution_count": 37,
   "id": "d8c603c0",
   "metadata": {
    "execution": {
     "iopub.execute_input": "2023-07-28T05:01:39.482006Z",
     "iopub.status.busy": "2023-07-28T05:01:39.481609Z",
     "iopub.status.idle": "2023-07-28T05:01:39.717383Z",
     "shell.execute_reply": "2023-07-28T05:01:39.716325Z"
    },
    "papermill": {
     "duration": 0.25698,
     "end_time": "2023-07-28T05:01:39.719822",
     "exception": false,
     "start_time": "2023-07-28T05:01:39.462842",
     "status": "completed"
    },
    "tags": []
   },
   "outputs": [
    {
     "data": {
      "image/png": "[encoded data removed]",
      "text/plain": [
       "<Figure size 640x480 with 1 Axes>"
      ]
     },
     "metadata": {},
     "output_type": "display_data"
    }
   ],
   "source": [
    "# plotting accuracies with min_samples_split\n",
    "plt.figure()\n",
    "plt.plot(scores[\"param_min_samples_split\"], \n",
    "         scores[\"mean_train_score\"], \n",
    "         label=\"training accuracy\")\n",
    "plt.plot(scores[\"param_min_samples_split\"], \n",
    "         scores[\"mean_test_score\"], \n",
    "         label=\"test accuracy\")\n",
    "plt.xlabel(\"min_samples_split\")\n",
    "plt.ylabel(\"Accuracy\")\n",
    "plt.legend()\n",
    "plt.show()"
   ]
  },
  {
   "cell_type": "code",
   "execution_count": 38,
   "id": "70640c02",
   "metadata": {
    "execution": {
     "iopub.execute_input": "2023-07-28T05:01:39.758706Z",
     "iopub.status.busy": "2023-07-28T05:01:39.758304Z",
     "iopub.status.idle": "2023-07-28T05:01:39.762523Z",
     "shell.execute_reply": "2023-07-28T05:01:39.761505Z"
    },
    "papermill": {
     "duration": 0.025923,
     "end_time": "2023-07-28T05:01:39.764471",
     "exception": false,
     "start_time": "2023-07-28T05:01:39.738548",
     "status": "completed"
    },
    "tags": []
   },
   "outputs": [],
   "source": [
    "# min_samples_split = 45"
   ]
  },
  {
   "cell_type": "code",
   "execution_count": 39,
   "id": "6e96edcc",
   "metadata": {
    "execution": {
     "iopub.execute_input": "2023-07-28T05:01:39.802550Z",
     "iopub.status.busy": "2023-07-28T05:01:39.802155Z",
     "iopub.status.idle": "2023-07-28T05:02:38.806599Z",
     "shell.execute_reply": "2023-07-28T05:02:38.805335Z"
    },
    "papermill": {
     "duration": 59.044297,
     "end_time": "2023-07-28T05:02:38.827106",
     "exception": false,
     "start_time": "2023-07-28T05:01:39.782809",
     "status": "completed"
    },
    "tags": []
   },
   "outputs": [
    {
     "name": "stdout",
     "output_type": "stream",
     "text": [
      "Fitting 3 folds for each of 32 candidates, totalling 96 fits\n"
     ]
    },
    {
     "name": "stderr",
     "output_type": "stream",
     "text": [
      "/opt/conda/lib/python3.10/site-packages/scipy/__init__.py:146: UserWarning: A NumPy version >=1.16.5 and <1.23.0 is required for this version of SciPy (detected version 1.23.5\n",
      "  warnings.warn(f\"A NumPy version >={np_minversion} and <{np_maxversion}\"\n",
      "/opt/conda/lib/python3.10/site-packages/scipy/__init__.py:146: UserWarning: A NumPy version >=1.16.5 and <1.23.0 is required for this version of SciPy (detected version 1.23.5\n",
      "  warnings.warn(f\"A NumPy version >={np_minversion} and <{np_maxversion}\"\n",
      "/opt/conda/lib/python3.10/site-packages/scipy/__init__.py:146: UserWarning: A NumPy version >=1.16.5 and <1.23.0 is required for this version of SciPy (detected version 1.23.5\n",
      "  warnings.warn(f\"A NumPy version >={np_minversion} and <{np_maxversion}\"\n",
      "/opt/conda/lib/python3.10/site-packages/scipy/__init__.py:146: UserWarning: A NumPy version >=1.16.5 and <1.23.0 is required for this version of SciPy (detected version 1.23.5\n",
      "  warnings.warn(f\"A NumPy version >={np_minversion} and <{np_maxversion}\"\n"
     ]
    },
    {
     "data": {
      "text/html": [
       "<style>#sk-container-id-7 {color: black;background-color: white;}#sk-container-id-7 pre{padding: 0;}#sk-container-id-7 div.sk-toggleable {background-color: white;}#sk-container-id-7 label.sk-toggleable__label {cursor: pointer;display: block;width: 100%;margin-bottom: 0;padding: 0.3em;box-sizing: border-box;text-align: center;}#sk-container-id-7 label.sk-toggleable__label-arrow:before {content: \"▸\";float: left;margin-right: 0.25em;color: #696969;}#sk-container-id-7 label.sk-toggleable__label-arrow:hover:before {color: black;}#sk-container-id-7 div.sk-estimator:hover label.sk-toggleable__label-arrow:before {color: black;}#sk-container-id-7 div.sk-toggleable__content {max-height: 0;max-width: 0;overflow: hidden;text-align: left;background-color: #f0f8ff;}#sk-container-id-7 div.sk-toggleable__content pre {margin: 0.2em;color: black;border-radius: 0.25em;background-color: #f0f8ff;}#sk-container-id-7 input.sk-toggleable__control:checked~div.sk-toggleable__content {max-height: 200px;max-width: 100%;overflow: auto;}#sk-container-id-7 input.sk-toggleable__control:checked~label.sk-toggleable__label-arrow:before {content: \"▾\";}#sk-container-id-7 div.sk-estimator input.sk-toggleable__control:checked~label.sk-toggleable__label {background-color: #d4ebff;}#sk-container-id-7 div.sk-label input.sk-toggleable__control:checked~label.sk-toggleable__label {background-color: #d4ebff;}#sk-container-id-7 input.sk-hidden--visually {border: 0;clip: rect(1px 1px 1px 1px);clip: rect(1px, 1px, 1px, 1px);height: 1px;margin: -1px;overflow: hidden;padding: 0;position: absolute;width: 1px;}#sk-container-id-7 div.sk-estimator {font-family: monospace;background-color: #f0f8ff;border: 1px dotted black;border-radius: 0.25em;box-sizing: border-box;margin-bottom: 0.5em;}#sk-container-id-7 div.sk-estimator:hover {background-color: #d4ebff;}#sk-container-id-7 div.sk-parallel-item::after {content: \"\";width: 100%;border-bottom: 1px solid gray;flex-grow: 1;}#sk-container-id-7 div.sk-label:hover label.sk-toggleable__label {background-color: #d4ebff;}#sk-container-id-7 div.sk-serial::before {content: \"\";position: absolute;border-left: 1px solid gray;box-sizing: border-box;top: 0;bottom: 0;left: 50%;z-index: 0;}#sk-container-id-7 div.sk-serial {display: flex;flex-direction: column;align-items: center;background-color: white;padding-right: 0.2em;padding-left: 0.2em;position: relative;}#sk-container-id-7 div.sk-item {position: relative;z-index: 1;}#sk-container-id-7 div.sk-parallel {display: flex;align-items: stretch;justify-content: center;background-color: white;position: relative;}#sk-container-id-7 div.sk-item::before, #sk-container-id-7 div.sk-parallel-item::before {content: \"\";position: absolute;border-left: 1px solid gray;box-sizing: border-box;top: 0;bottom: 0;left: 50%;z-index: -1;}#sk-container-id-7 div.sk-parallel-item {display: flex;flex-direction: column;z-index: 1;position: relative;background-color: white;}#sk-container-id-7 div.sk-parallel-item:first-child::after {align-self: flex-end;width: 50%;}#sk-container-id-7 div.sk-parallel-item:last-child::after {align-self: flex-start;width: 50%;}#sk-container-id-7 div.sk-parallel-item:only-child::after {width: 0;}#sk-container-id-7 div.sk-dashed-wrapped {border: 1px dashed gray;margin: 0 0.4em 0.5em 0.4em;box-sizing: border-box;padding-bottom: 0.4em;background-color: white;}#sk-container-id-7 div.sk-label label {font-family: monospace;font-weight: bold;display: inline-block;line-height: 1.2em;}#sk-container-id-7 div.sk-label-container {text-align: center;}#sk-container-id-7 div.sk-container {/* jupyter's `normalize.less` sets `[hidden] { display: none; }` but bootstrap.min.css set `[hidden] { display: none !important; }` so we also need the `!important` here to be able to override the default hidden behavior on the sphinx rendered scikit-learn.org. See: https://github.com/scikit-learn/scikit-learn/issues/21755 */display: inline-block !important;position: relative;}#sk-container-id-7 div.sk-text-repr-fallback {display: none;}</style><div id=\"sk-container-id-7\" class=\"sk-top-container\"><div class=\"sk-text-repr-fallback\"><pre>GridSearchCV(cv=3, estimator=RandomForestClassifier(), n_jobs=-1,\n",
       "             param_grid={&#x27;max_depth&#x27;: [3, 4], &#x27;max_features&#x27;: [5, 6],\n",
       "                         &#x27;min_samples_leaf&#x27;: [14, 16],\n",
       "                         &#x27;min_samples_split&#x27;: [45, 50],\n",
       "                         &#x27;n_estimators&#x27;: [500, 1000]},\n",
       "             return_train_score=True, verbose=1)</pre><b>In a Jupyter environment, please rerun this cell to show the HTML representation or trust the notebook. <br />On GitHub, the HTML representation is unable to render, please try loading this page with nbviewer.org.</b></div><div class=\"sk-container\" hidden><div class=\"sk-item sk-dashed-wrapped\"><div class=\"sk-label-container\"><div class=\"sk-label sk-toggleable\"><input class=\"sk-toggleable__control sk-hidden--visually\" id=\"sk-estimator-id-17\" type=\"checkbox\" ><label for=\"sk-estimator-id-17\" class=\"sk-toggleable__label sk-toggleable__label-arrow\">GridSearchCV</label><div class=\"sk-toggleable__content\"><pre>GridSearchCV(cv=3, estimator=RandomForestClassifier(), n_jobs=-1,\n",
       "             param_grid={&#x27;max_depth&#x27;: [3, 4], &#x27;max_features&#x27;: [5, 6],\n",
       "                         &#x27;min_samples_leaf&#x27;: [14, 16],\n",
       "                         &#x27;min_samples_split&#x27;: [45, 50],\n",
       "                         &#x27;n_estimators&#x27;: [500, 1000]},\n",
       "             return_train_score=True, verbose=1)</pre></div></div></div><div class=\"sk-parallel\"><div class=\"sk-parallel-item\"><div class=\"sk-item\"><div class=\"sk-label-container\"><div class=\"sk-label sk-toggleable\"><input class=\"sk-toggleable__control sk-hidden--visually\" id=\"sk-estimator-id-18\" type=\"checkbox\" ><label for=\"sk-estimator-id-18\" class=\"sk-toggleable__label sk-toggleable__label-arrow\">estimator: RandomForestClassifier</label><div class=\"sk-toggleable__content\"><pre>RandomForestClassifier()</pre></div></div></div><div class=\"sk-serial\"><div class=\"sk-item\"><div class=\"sk-estimator sk-toggleable\"><input class=\"sk-toggleable__control sk-hidden--visually\" id=\"sk-estimator-id-19\" type=\"checkbox\" ><label for=\"sk-estimator-id-19\" class=\"sk-toggleable__label sk-toggleable__label-arrow\">RandomForestClassifier</label><div class=\"sk-toggleable__content\"><pre>RandomForestClassifier()</pre></div></div></div></div></div></div></div></div></div></div>"
      ],
      "text/plain": [
       "GridSearchCV(cv=3, estimator=RandomForestClassifier(), n_jobs=-1,\n",
       "             param_grid={'max_depth': [3, 4], 'max_features': [5, 6],\n",
       "                         'min_samples_leaf': [14, 16],\n",
       "                         'min_samples_split': [45, 50],\n",
       "                         'n_estimators': [500, 1000]},\n",
       "             return_train_score=True, verbose=1)"
      ]
     },
     "execution_count": 39,
     "metadata": {},
     "output_type": "execute_result"
    }
   ],
   "source": [
    "# Create the parameter grid based on the results of random search \n",
    "param_grid = {\n",
    "    'max_depth': [3,4],\n",
    "    'min_samples_leaf': [14,16],\n",
    "    'min_samples_split': [45,50],\n",
    "    'n_estimators': [500, 1000], \n",
    "    'max_features': [5,6]\n",
    "}\n",
    "# Create a based model\n",
    "rf = RandomForestClassifier()\n",
    "# Instantiate the grid search model\n",
    "grid_search = GridSearchCV(estimator = rf, param_grid = param_grid, \n",
    "                          cv = 3, n_jobs = -1,verbose = 1, return_train_score=True)\n",
    "grid_search.fit(X_train, y_train)"
   ]
  },
  {
   "cell_type": "code",
   "execution_count": 40,
   "id": "6ee8a0b0",
   "metadata": {
    "execution": {
     "iopub.execute_input": "2023-07-28T05:02:38.867742Z",
     "iopub.status.busy": "2023-07-28T05:02:38.866987Z",
     "iopub.status.idle": "2023-07-28T05:02:38.897179Z",
     "shell.execute_reply": "2023-07-28T05:02:38.896053Z"
    },
    "papermill": {
     "duration": 0.053251,
     "end_time": "2023-07-28T05:02:38.899288",
     "exception": false,
     "start_time": "2023-07-28T05:02:38.846037",
     "status": "completed"
    },
    "tags": []
   },
   "outputs": [
    {
     "data": {
      "text/html": [
       "<div>\n",
       "<style scoped>\n",
       "    .dataframe tbody tr th:only-of-type {\n",
       "        vertical-align: middle;\n",
       "    }\n",
       "\n",
       "    .dataframe tbody tr th {\n",
       "        vertical-align: top;\n",
       "    }\n",
       "\n",
       "    .dataframe thead th {\n",
       "        text-align: right;\n",
       "    }\n",
       "</style>\n",
       "<table border=\"1\" class=\"dataframe\">\n",
       "  <thead>\n",
       "    <tr style=\"text-align: right;\">\n",
       "      <th></th>\n",
       "      <th>mean_fit_time</th>\n",
       "      <th>std_fit_time</th>\n",
       "      <th>mean_score_time</th>\n",
       "      <th>std_score_time</th>\n",
       "      <th>param_max_depth</th>\n",
       "      <th>param_max_features</th>\n",
       "      <th>param_min_samples_leaf</th>\n",
       "      <th>param_min_samples_split</th>\n",
       "      <th>param_n_estimators</th>\n",
       "      <th>params</th>\n",
       "      <th>...</th>\n",
       "      <th>split1_test_score</th>\n",
       "      <th>split2_test_score</th>\n",
       "      <th>mean_test_score</th>\n",
       "      <th>std_test_score</th>\n",
       "      <th>rank_test_score</th>\n",
       "      <th>split0_train_score</th>\n",
       "      <th>split1_train_score</th>\n",
       "      <th>split2_train_score</th>\n",
       "      <th>mean_train_score</th>\n",
       "      <th>std_train_score</th>\n",
       "    </tr>\n",
       "  </thead>\n",
       "  <tbody>\n",
       "    <tr>\n",
       "      <th>31</th>\n",
       "      <td>2.309844</td>\n",
       "      <td>0.403412</td>\n",
       "      <td>0.159779</td>\n",
       "      <td>0.036487</td>\n",
       "      <td>4</td>\n",
       "      <td>6</td>\n",
       "      <td>16</td>\n",
       "      <td>50</td>\n",
       "      <td>1000</td>\n",
       "      <td>{'max_depth': 4, 'max_features': 6, 'min_sampl...</td>\n",
       "      <td>...</td>\n",
       "      <td>0.855932</td>\n",
       "      <td>0.809322</td>\n",
       "      <td>0.823446</td>\n",
       "      <td>0.023036</td>\n",
       "      <td>1</td>\n",
       "      <td>0.832627</td>\n",
       "      <td>0.811441</td>\n",
       "      <td>0.830508</td>\n",
       "      <td>0.824859</td>\n",
       "      <td>0.009527</td>\n",
       "    </tr>\n",
       "    <tr>\n",
       "      <th>16</th>\n",
       "      <td>1.358843</td>\n",
       "      <td>0.019084</td>\n",
       "      <td>0.096938</td>\n",
       "      <td>0.001847</td>\n",
       "      <td>4</td>\n",
       "      <td>5</td>\n",
       "      <td>14</td>\n",
       "      <td>45</td>\n",
       "      <td>500</td>\n",
       "      <td>{'max_depth': 4, 'max_features': 5, 'min_sampl...</td>\n",
       "      <td>...</td>\n",
       "      <td>0.855932</td>\n",
       "      <td>0.809322</td>\n",
       "      <td>0.823446</td>\n",
       "      <td>0.023036</td>\n",
       "      <td>1</td>\n",
       "      <td>0.832627</td>\n",
       "      <td>0.809322</td>\n",
       "      <td>0.830508</td>\n",
       "      <td>0.824153</td>\n",
       "      <td>0.010522</td>\n",
       "    </tr>\n",
       "    <tr>\n",
       "      <th>24</th>\n",
       "      <td>1.424786</td>\n",
       "      <td>0.104215</td>\n",
       "      <td>0.093572</td>\n",
       "      <td>0.003008</td>\n",
       "      <td>4</td>\n",
       "      <td>6</td>\n",
       "      <td>14</td>\n",
       "      <td>45</td>\n",
       "      <td>500</td>\n",
       "      <td>{'max_depth': 4, 'max_features': 6, 'min_sampl...</td>\n",
       "      <td>...</td>\n",
       "      <td>0.855932</td>\n",
       "      <td>0.809322</td>\n",
       "      <td>0.823446</td>\n",
       "      <td>0.023036</td>\n",
       "      <td>1</td>\n",
       "      <td>0.832627</td>\n",
       "      <td>0.811441</td>\n",
       "      <td>0.830508</td>\n",
       "      <td>0.824859</td>\n",
       "      <td>0.009527</td>\n",
       "    </tr>\n",
       "    <tr>\n",
       "      <th>20</th>\n",
       "      <td>1.293358</td>\n",
       "      <td>0.006977</td>\n",
       "      <td>0.094827</td>\n",
       "      <td>0.000980</td>\n",
       "      <td>4</td>\n",
       "      <td>5</td>\n",
       "      <td>16</td>\n",
       "      <td>45</td>\n",
       "      <td>500</td>\n",
       "      <td>{'max_depth': 4, 'max_features': 5, 'min_sampl...</td>\n",
       "      <td>...</td>\n",
       "      <td>0.855932</td>\n",
       "      <td>0.809322</td>\n",
       "      <td>0.823446</td>\n",
       "      <td>0.023036</td>\n",
       "      <td>1</td>\n",
       "      <td>0.832627</td>\n",
       "      <td>0.811441</td>\n",
       "      <td>0.830508</td>\n",
       "      <td>0.824859</td>\n",
       "      <td>0.009527</td>\n",
       "    </tr>\n",
       "    <tr>\n",
       "      <th>13</th>\n",
       "      <td>2.597709</td>\n",
       "      <td>0.006240</td>\n",
       "      <td>0.191981</td>\n",
       "      <td>0.002548</td>\n",
       "      <td>3</td>\n",
       "      <td>6</td>\n",
       "      <td>16</td>\n",
       "      <td>45</td>\n",
       "      <td>1000</td>\n",
       "      <td>{'max_depth': 3, 'max_features': 6, 'min_sampl...</td>\n",
       "      <td>...</td>\n",
       "      <td>0.855932</td>\n",
       "      <td>0.809322</td>\n",
       "      <td>0.823446</td>\n",
       "      <td>0.023036</td>\n",
       "      <td>1</td>\n",
       "      <td>0.832627</td>\n",
       "      <td>0.807203</td>\n",
       "      <td>0.830508</td>\n",
       "      <td>0.823446</td>\n",
       "      <td>0.011518</td>\n",
       "    </tr>\n",
       "  </tbody>\n",
       "</table>\n",
       "<p>5 rows × 21 columns</p>\n",
       "</div>"
      ],
      "text/plain": [
       "    mean_fit_time  std_fit_time  mean_score_time  std_score_time  \\\n",
       "31       2.309844      0.403412         0.159779        0.036487   \n",
       "16       1.358843      0.019084         0.096938        0.001847   \n",
       "24       1.424786      0.104215         0.093572        0.003008   \n",
       "20       1.293358      0.006977         0.094827        0.000980   \n",
       "13       2.597709      0.006240         0.191981        0.002548   \n",
       "\n",
       "   param_max_depth param_max_features param_min_samples_leaf  \\\n",
       "31               4                  6                     16   \n",
       "16               4                  5                     14   \n",
       "24               4                  6                     14   \n",
       "20               4                  5                     16   \n",
       "13               3                  6                     16   \n",
       "\n",
       "   param_min_samples_split param_n_estimators  \\\n",
       "31                      50               1000   \n",
       "16                      45                500   \n",
       "24                      45                500   \n",
       "20                      45                500   \n",
       "13                      45               1000   \n",
       "\n",
       "                                               params  ...  split1_test_score  \\\n",
       "31  {'max_depth': 4, 'max_features': 6, 'min_sampl...  ...           0.855932   \n",
       "16  {'max_depth': 4, 'max_features': 5, 'min_sampl...  ...           0.855932   \n",
       "24  {'max_depth': 4, 'max_features': 6, 'min_sampl...  ...           0.855932   \n",
       "20  {'max_depth': 4, 'max_features': 5, 'min_sampl...  ...           0.855932   \n",
       "13  {'max_depth': 3, 'max_features': 6, 'min_sampl...  ...           0.855932   \n",
       "\n",
       "    split2_test_score  mean_test_score  std_test_score  rank_test_score  \\\n",
       "31           0.809322         0.823446        0.023036                1   \n",
       "16           0.809322         0.823446        0.023036                1   \n",
       "24           0.809322         0.823446        0.023036                1   \n",
       "20           0.809322         0.823446        0.023036                1   \n",
       "13           0.809322         0.823446        0.023036                1   \n",
       "\n",
       "    split0_train_score  split1_train_score  split2_train_score  \\\n",
       "31            0.832627            0.811441            0.830508   \n",
       "16            0.832627            0.809322            0.830508   \n",
       "24            0.832627            0.811441            0.830508   \n",
       "20            0.832627            0.811441            0.830508   \n",
       "13            0.832627            0.807203            0.830508   \n",
       "\n",
       "    mean_train_score  std_train_score  \n",
       "31          0.824859         0.009527  \n",
       "16          0.824153         0.010522  \n",
       "24          0.824859         0.009527  \n",
       "20          0.824859         0.009527  \n",
       "13          0.823446         0.011518  \n",
       "\n",
       "[5 rows x 21 columns]"
      ]
     },
     "execution_count": 40,
     "metadata": {},
     "output_type": "execute_result"
    }
   ],
   "source": [
    "scores = pd.DataFrame(grid_search.cv_results_)\n",
    "scores.sort_values('rank_test_score').head()"
   ]
  },
  {
   "cell_type": "code",
   "execution_count": 41,
   "id": "95d5efda",
   "metadata": {
    "execution": {
     "iopub.execute_input": "2023-07-28T05:02:38.939058Z",
     "iopub.status.busy": "2023-07-28T05:02:38.938381Z",
     "iopub.status.idle": "2023-07-28T05:02:38.946994Z",
     "shell.execute_reply": "2023-07-28T05:02:38.945955Z"
    },
    "papermill": {
     "duration": 0.030742,
     "end_time": "2023-07-28T05:02:38.948952",
     "exception": false,
     "start_time": "2023-07-28T05:02:38.918210",
     "status": "completed"
    },
    "tags": []
   },
   "outputs": [
    {
     "data": {
      "text/html": [
       "<style>#sk-container-id-8 {color: black;background-color: white;}#sk-container-id-8 pre{padding: 0;}#sk-container-id-8 div.sk-toggleable {background-color: white;}#sk-container-id-8 label.sk-toggleable__label {cursor: pointer;display: block;width: 100%;margin-bottom: 0;padding: 0.3em;box-sizing: border-box;text-align: center;}#sk-container-id-8 label.sk-toggleable__label-arrow:before {content: \"▸\";float: left;margin-right: 0.25em;color: #696969;}#sk-container-id-8 label.sk-toggleable__label-arrow:hover:before {color: black;}#sk-container-id-8 div.sk-estimator:hover label.sk-toggleable__label-arrow:before {color: black;}#sk-container-id-8 div.sk-toggleable__content {max-height: 0;max-width: 0;overflow: hidden;text-align: left;background-color: #f0f8ff;}#sk-container-id-8 div.sk-toggleable__content pre {margin: 0.2em;color: black;border-radius: 0.25em;background-color: #f0f8ff;}#sk-container-id-8 input.sk-toggleable__control:checked~div.sk-toggleable__content {max-height: 200px;max-width: 100%;overflow: auto;}#sk-container-id-8 input.sk-toggleable__control:checked~label.sk-toggleable__label-arrow:before {content: \"▾\";}#sk-container-id-8 div.sk-estimator input.sk-toggleable__control:checked~label.sk-toggleable__label {background-color: #d4ebff;}#sk-container-id-8 div.sk-label input.sk-toggleable__control:checked~label.sk-toggleable__label {background-color: #d4ebff;}#sk-container-id-8 input.sk-hidden--visually {border: 0;clip: rect(1px 1px 1px 1px);clip: rect(1px, 1px, 1px, 1px);height: 1px;margin: -1px;overflow: hidden;padding: 0;position: absolute;width: 1px;}#sk-container-id-8 div.sk-estimator {font-family: monospace;background-color: #f0f8ff;border: 1px dotted black;border-radius: 0.25em;box-sizing: border-box;margin-bottom: 0.5em;}#sk-container-id-8 div.sk-estimator:hover {background-color: #d4ebff;}#sk-container-id-8 div.sk-parallel-item::after {content: \"\";width: 100%;border-bottom: 1px solid gray;flex-grow: 1;}#sk-container-id-8 div.sk-label:hover label.sk-toggleable__label {background-color: #d4ebff;}#sk-container-id-8 div.sk-serial::before {content: \"\";position: absolute;border-left: 1px solid gray;box-sizing: border-box;top: 0;bottom: 0;left: 50%;z-index: 0;}#sk-container-id-8 div.sk-serial {display: flex;flex-direction: column;align-items: center;background-color: white;padding-right: 0.2em;padding-left: 0.2em;position: relative;}#sk-container-id-8 div.sk-item {position: relative;z-index: 1;}#sk-container-id-8 div.sk-parallel {display: flex;align-items: stretch;justify-content: center;background-color: white;position: relative;}#sk-container-id-8 div.sk-item::before, #sk-container-id-8 div.sk-parallel-item::before {content: \"\";position: absolute;border-left: 1px solid gray;box-sizing: border-box;top: 0;bottom: 0;left: 50%;z-index: -1;}#sk-container-id-8 div.sk-parallel-item {display: flex;flex-direction: column;z-index: 1;position: relative;background-color: white;}#sk-container-id-8 div.sk-parallel-item:first-child::after {align-self: flex-end;width: 50%;}#sk-container-id-8 div.sk-parallel-item:last-child::after {align-self: flex-start;width: 50%;}#sk-container-id-8 div.sk-parallel-item:only-child::after {width: 0;}#sk-container-id-8 div.sk-dashed-wrapped {border: 1px dashed gray;margin: 0 0.4em 0.5em 0.4em;box-sizing: border-box;padding-bottom: 0.4em;background-color: white;}#sk-container-id-8 div.sk-label label {font-family: monospace;font-weight: bold;display: inline-block;line-height: 1.2em;}#sk-container-id-8 div.sk-label-container {text-align: center;}#sk-container-id-8 div.sk-container {/* jupyter's `normalize.less` sets `[hidden] { display: none; }` but bootstrap.min.css set `[hidden] { display: none !important; }` so we also need the `!important` here to be able to override the default hidden behavior on the sphinx rendered scikit-learn.org. See: https://github.com/scikit-learn/scikit-learn/issues/21755 */display: inline-block !important;position: relative;}#sk-container-id-8 div.sk-text-repr-fallback {display: none;}</style><div id=\"sk-container-id-8\" class=\"sk-top-container\"><div class=\"sk-text-repr-fallback\"><pre>RandomForestClassifier(max_depth=3, max_features=5, min_samples_leaf=14,\n",
       "                       min_samples_split=45, n_estimators=1000)</pre><b>In a Jupyter environment, please rerun this cell to show the HTML representation or trust the notebook. <br />On GitHub, the HTML representation is unable to render, please try loading this page with nbviewer.org.</b></div><div class=\"sk-container\" hidden><div class=\"sk-item\"><div class=\"sk-estimator sk-toggleable\"><input class=\"sk-toggleable__control sk-hidden--visually\" id=\"sk-estimator-id-20\" type=\"checkbox\" checked><label for=\"sk-estimator-id-20\" class=\"sk-toggleable__label sk-toggleable__label-arrow\">RandomForestClassifier</label><div class=\"sk-toggleable__content\"><pre>RandomForestClassifier(max_depth=3, max_features=5, min_samples_leaf=14,\n",
       "                       min_samples_split=45, n_estimators=1000)</pre></div></div></div></div></div>"
      ],
      "text/plain": [
       "RandomForestClassifier(max_depth=3, max_features=5, min_samples_leaf=14,\n",
       "                       min_samples_split=45, n_estimators=1000)"
      ]
     },
     "execution_count": 41,
     "metadata": {},
     "output_type": "execute_result"
    }
   ],
   "source": [
    "grid_search.best_estimator_"
   ]
  },
  {
   "cell_type": "code",
   "execution_count": 42,
   "id": "084a421b",
   "metadata": {
    "execution": {
     "iopub.execute_input": "2023-07-28T05:02:38.989226Z",
     "iopub.status.busy": "2023-07-28T05:02:38.988588Z",
     "iopub.status.idle": "2023-07-28T05:02:38.993381Z",
     "shell.execute_reply": "2023-07-28T05:02:38.992693Z"
    },
    "papermill": {
     "duration": 0.027418,
     "end_time": "2023-07-28T05:02:38.995315",
     "exception": false,
     "start_time": "2023-07-28T05:02:38.967897",
     "status": "completed"
    },
    "tags": []
   },
   "outputs": [],
   "source": [
    "rfc_final = RandomForestClassifier(bootstrap=True,\n",
    "                                   max_depth=3, \n",
    "                                   max_features=5, \n",
    "                                   min_samples_leaf=14,\n",
    "                                   min_samples_split=50, \n",
    "                                   n_estimators=1000)"
   ]
  },
  {
   "cell_type": "code",
   "execution_count": 43,
   "id": "22cec8e5",
   "metadata": {
    "execution": {
     "iopub.execute_input": "2023-07-28T05:02:39.035465Z",
     "iopub.status.busy": "2023-07-28T05:02:39.034785Z",
     "iopub.status.idle": "2023-07-28T05:02:39.235934Z",
     "shell.execute_reply": "2023-07-28T05:02:39.234835Z"
    },
    "papermill": {
     "duration": 0.22369,
     "end_time": "2023-07-28T05:02:39.238097",
     "exception": false,
     "start_time": "2023-07-28T05:02:39.014407",
     "status": "completed"
    },
    "tags": []
   },
   "outputs": [
    {
     "data": {
      "text/html": [
       "<style>#sk-container-id-9 {color: black;background-color: white;}#sk-container-id-9 pre{padding: 0;}#sk-container-id-9 div.sk-toggleable {background-color: white;}#sk-container-id-9 label.sk-toggleable__label {cursor: pointer;display: block;width: 100%;margin-bottom: 0;padding: 0.3em;box-sizing: border-box;text-align: center;}#sk-container-id-9 label.sk-toggleable__label-arrow:before {content: \"▸\";float: left;margin-right: 0.25em;color: #696969;}#sk-container-id-9 label.sk-toggleable__label-arrow:hover:before {color: black;}#sk-container-id-9 div.sk-estimator:hover label.sk-toggleable__label-arrow:before {color: black;}#sk-container-id-9 div.sk-toggleable__content {max-height: 0;max-width: 0;overflow: hidden;text-align: left;background-color: #f0f8ff;}#sk-container-id-9 div.sk-toggleable__content pre {margin: 0.2em;color: black;border-radius: 0.25em;background-color: #f0f8ff;}#sk-container-id-9 input.sk-toggleable__control:checked~div.sk-toggleable__content {max-height: 200px;max-width: 100%;overflow: auto;}#sk-container-id-9 input.sk-toggleable__control:checked~label.sk-toggleable__label-arrow:before {content: \"▾\";}#sk-container-id-9 div.sk-estimator input.sk-toggleable__control:checked~label.sk-toggleable__label {background-color: #d4ebff;}#sk-container-id-9 div.sk-label input.sk-toggleable__control:checked~label.sk-toggleable__label {background-color: #d4ebff;}#sk-container-id-9 input.sk-hidden--visually {border: 0;clip: rect(1px 1px 1px 1px);clip: rect(1px, 1px, 1px, 1px);height: 1px;margin: -1px;overflow: hidden;padding: 0;position: absolute;width: 1px;}#sk-container-id-9 div.sk-estimator {font-family: monospace;background-color: #f0f8ff;border: 1px dotted black;border-radius: 0.25em;box-sizing: border-box;margin-bottom: 0.5em;}#sk-container-id-9 div.sk-estimator:hover {background-color: #d4ebff;}#sk-container-id-9 div.sk-parallel-item::after {content: \"\";width: 100%;border-bottom: 1px solid gray;flex-grow: 1;}#sk-container-id-9 div.sk-label:hover label.sk-toggleable__label {background-color: #d4ebff;}#sk-container-id-9 div.sk-serial::before {content: \"\";position: absolute;border-left: 1px solid gray;box-sizing: border-box;top: 0;bottom: 0;left: 50%;z-index: 0;}#sk-container-id-9 div.sk-serial {display: flex;flex-direction: column;align-items: center;background-color: white;padding-right: 0.2em;padding-left: 0.2em;position: relative;}#sk-container-id-9 div.sk-item {position: relative;z-index: 1;}#sk-container-id-9 div.sk-parallel {display: flex;align-items: stretch;justify-content: center;background-color: white;position: relative;}#sk-container-id-9 div.sk-item::before, #sk-container-id-9 div.sk-parallel-item::before {content: \"\";position: absolute;border-left: 1px solid gray;box-sizing: border-box;top: 0;bottom: 0;left: 50%;z-index: -1;}#sk-container-id-9 div.sk-parallel-item {display: flex;flex-direction: column;z-index: 1;position: relative;background-color: white;}#sk-container-id-9 div.sk-parallel-item:first-child::after {align-self: flex-end;width: 50%;}#sk-container-id-9 div.sk-parallel-item:last-child::after {align-self: flex-start;width: 50%;}#sk-container-id-9 div.sk-parallel-item:only-child::after {width: 0;}#sk-container-id-9 div.sk-dashed-wrapped {border: 1px dashed gray;margin: 0 0.4em 0.5em 0.4em;box-sizing: border-box;padding-bottom: 0.4em;background-color: white;}#sk-container-id-9 div.sk-label label {font-family: monospace;font-weight: bold;display: inline-block;line-height: 1.2em;}#sk-container-id-9 div.sk-label-container {text-align: center;}#sk-container-id-9 div.sk-container {/* jupyter's `normalize.less` sets `[hidden] { display: none; }` but bootstrap.min.css set `[hidden] { display: none !important; }` so we also need the `!important` here to be able to override the default hidden behavior on the sphinx rendered scikit-learn.org. See: https://github.com/scikit-learn/scikit-learn/issues/21755 */display: inline-block !important;position: relative;}#sk-container-id-9 div.sk-text-repr-fallback {display: none;}</style><div id=\"sk-container-id-9\" class=\"sk-top-container\"><div class=\"sk-text-repr-fallback\"><pre>RandomForestClassifier(random_state=0)</pre><b>In a Jupyter environment, please rerun this cell to show the HTML representation or trust the notebook. <br />On GitHub, the HTML representation is unable to render, please try loading this page with nbviewer.org.</b></div><div class=\"sk-container\" hidden><div class=\"sk-item\"><div class=\"sk-estimator sk-toggleable\"><input class=\"sk-toggleable__control sk-hidden--visually\" id=\"sk-estimator-id-21\" type=\"checkbox\" checked><label for=\"sk-estimator-id-21\" class=\"sk-toggleable__label sk-toggleable__label-arrow\">RandomForestClassifier</label><div class=\"sk-toggleable__content\"><pre>RandomForestClassifier(random_state=0)</pre></div></div></div></div></div>"
      ],
      "text/plain": [
       "RandomForestClassifier(random_state=0)"
      ]
     },
     "execution_count": 43,
     "metadata": {},
     "output_type": "execute_result"
    }
   ],
   "source": [
    "rfc.fit(X,y)"
   ]
  },
  {
   "cell_type": "code",
   "execution_count": 44,
   "id": "b86d5dfd",
   "metadata": {
    "execution": {
     "iopub.execute_input": "2023-07-28T05:02:39.278378Z",
     "iopub.status.busy": "2023-07-28T05:02:39.277739Z",
     "iopub.status.idle": "2023-07-28T05:02:39.284615Z",
     "shell.execute_reply": "2023-07-28T05:02:39.283523Z"
    },
    "papermill": {
     "duration": 0.029426,
     "end_time": "2023-07-28T05:02:39.286660",
     "exception": false,
     "start_time": "2023-07-28T05:02:39.257234",
     "status": "completed"
    },
    "tags": []
   },
   "outputs": [
    {
     "data": {
      "text/plain": [
       "Index(['Pclass', 'Sex', 'Age', 'SibSp', 'Parch', 'Fare', 'Cabin', 'Embarked'], dtype='object')"
      ]
     },
     "execution_count": 44,
     "metadata": {},
     "output_type": "execute_result"
    }
   ],
   "source": [
    "X.columns"
   ]
  },
  {
   "cell_type": "code",
   "execution_count": 45,
   "id": "50c0f97b",
   "metadata": {
    "execution": {
     "iopub.execute_input": "2023-07-28T05:02:39.326982Z",
     "iopub.status.busy": "2023-07-28T05:02:39.326618Z",
     "iopub.status.idle": "2023-07-28T05:02:39.330994Z",
     "shell.execute_reply": "2023-07-28T05:02:39.329752Z"
    },
    "papermill": {
     "duration": 0.026754,
     "end_time": "2023-07-28T05:02:39.332951",
     "exception": false,
     "start_time": "2023-07-28T05:02:39.306197",
     "status": "completed"
    },
    "tags": []
   },
   "outputs": [],
   "source": [
    "test_path = 'https://raw.githubusercontent.com/VivekJeldi/Titanic-Survival/main/Test_WOE.csv'"
   ]
  },
  {
   "cell_type": "code",
   "execution_count": 46,
   "id": "9abf4236",
   "metadata": {
    "execution": {
     "iopub.execute_input": "2023-07-28T05:02:39.373179Z",
     "iopub.status.busy": "2023-07-28T05:02:39.372829Z",
     "iopub.status.idle": "2023-07-28T05:02:39.796994Z",
     "shell.execute_reply": "2023-07-28T05:02:39.796004Z"
    },
    "papermill": {
     "duration": 0.446896,
     "end_time": "2023-07-28T05:02:39.799132",
     "exception": false,
     "start_time": "2023-07-28T05:02:39.352236",
     "status": "completed"
    },
    "tags": []
   },
   "outputs": [
    {
     "data": {
      "text/html": [
       "<div>\n",
       "<style scoped>\n",
       "    .dataframe tbody tr th:only-of-type {\n",
       "        vertical-align: middle;\n",
       "    }\n",
       "\n",
       "    .dataframe tbody tr th {\n",
       "        vertical-align: top;\n",
       "    }\n",
       "\n",
       "    .dataframe thead th {\n",
       "        text-align: right;\n",
       "    }\n",
       "</style>\n",
       "<table border=\"1\" class=\"dataframe\">\n",
       "  <thead>\n",
       "    <tr style=\"text-align: right;\">\n",
       "      <th></th>\n",
       "      <th>PassengerId</th>\n",
       "      <th>Pclass</th>\n",
       "      <th>Name</th>\n",
       "      <th>Sex</th>\n",
       "      <th>Age</th>\n",
       "      <th>SibSp</th>\n",
       "      <th>Parch</th>\n",
       "      <th>Ticket</th>\n",
       "      <th>Fare</th>\n",
       "      <th>Cabin</th>\n",
       "      <th>Embarked</th>\n",
       "    </tr>\n",
       "  </thead>\n",
       "  <tbody>\n",
       "    <tr>\n",
       "      <th>0</th>\n",
       "      <td>892</td>\n",
       "      <td>-0.668306</td>\n",
       "      <td>Kelly, Mr. James</td>\n",
       "      <td>-0.983517</td>\n",
       "      <td>0.054371</td>\n",
       "      <td>0.043481</td>\n",
       "      <td>-0.040032</td>\n",
       "      <td>330911</td>\n",
       "      <td>-0.92705</td>\n",
       "      <td>1.610899</td>\n",
       "      <td>0.022514</td>\n",
       "    </tr>\n",
       "    <tr>\n",
       "      <th>1</th>\n",
       "      <td>893</td>\n",
       "      <td>-0.668306</td>\n",
       "      <td>Wilkes, Mrs. James (Ellen Needs)</td>\n",
       "      <td>1.528054</td>\n",
       "      <td>0.054371</td>\n",
       "      <td>0.043481</td>\n",
       "      <td>-0.040032</td>\n",
       "      <td>363272</td>\n",
       "      <td>-0.92705</td>\n",
       "      <td>1.610899</td>\n",
       "      <td>-0.193903</td>\n",
       "    </tr>\n",
       "    <tr>\n",
       "      <th>2</th>\n",
       "      <td>894</td>\n",
       "      <td>0.362662</td>\n",
       "      <td>Myles, Mr. Thomas Francis</td>\n",
       "      <td>-0.983517</td>\n",
       "      <td>0.054371</td>\n",
       "      <td>0.043481</td>\n",
       "      <td>-0.040032</td>\n",
       "      <td>240276</td>\n",
       "      <td>0.07756</td>\n",
       "      <td>0.301566</td>\n",
       "      <td>0.022514</td>\n",
       "    </tr>\n",
       "    <tr>\n",
       "      <th>3</th>\n",
       "      <td>895</td>\n",
       "      <td>-0.668306</td>\n",
       "      <td>Wirz, Mr. Albert</td>\n",
       "      <td>-0.983517</td>\n",
       "      <td>-0.405875</td>\n",
       "      <td>0.043481</td>\n",
       "      <td>-0.040032</td>\n",
       "      <td>315154</td>\n",
       "      <td>-0.92705</td>\n",
       "      <td>1.610899</td>\n",
       "      <td>-0.193903</td>\n",
       "    </tr>\n",
       "    <tr>\n",
       "      <th>4</th>\n",
       "      <td>896</td>\n",
       "      <td>-0.668306</td>\n",
       "      <td>Hirvonen, Mrs. Alexander (Helga E Lindqvist)</td>\n",
       "      <td>1.528054</td>\n",
       "      <td>0.324534</td>\n",
       "      <td>0.043481</td>\n",
       "      <td>-0.040032</td>\n",
       "      <td>3101298</td>\n",
       "      <td>0.07756</td>\n",
       "      <td>1.610899</td>\n",
       "      <td>-0.193903</td>\n",
       "    </tr>\n",
       "  </tbody>\n",
       "</table>\n",
       "</div>"
      ],
      "text/plain": [
       "   PassengerId    Pclass                                          Name  \\\n",
       "0          892 -0.668306                              Kelly, Mr. James   \n",
       "1          893 -0.668306              Wilkes, Mrs. James (Ellen Needs)   \n",
       "2          894  0.362662                     Myles, Mr. Thomas Francis   \n",
       "3          895 -0.668306                              Wirz, Mr. Albert   \n",
       "4          896 -0.668306  Hirvonen, Mrs. Alexander (Helga E Lindqvist)   \n",
       "\n",
       "        Sex       Age     SibSp     Parch   Ticket     Fare     Cabin  \\\n",
       "0 -0.983517  0.054371  0.043481 -0.040032   330911 -0.92705  1.610899   \n",
       "1  1.528054  0.054371  0.043481 -0.040032   363272 -0.92705  1.610899   \n",
       "2 -0.983517  0.054371  0.043481 -0.040032   240276  0.07756  0.301566   \n",
       "3 -0.983517 -0.405875  0.043481 -0.040032   315154 -0.92705  1.610899   \n",
       "4  1.528054  0.324534  0.043481 -0.040032  3101298  0.07756  1.610899   \n",
       "\n",
       "   Embarked  \n",
       "0  0.022514  \n",
       "1 -0.193903  \n",
       "2  0.022514  \n",
       "3 -0.193903  \n",
       "4 -0.193903  "
      ]
     },
     "execution_count": 46,
     "metadata": {},
     "output_type": "execute_result"
    }
   ],
   "source": [
    "test = pd.read_csv(test_path)\n",
    "test.head()"
   ]
  },
  {
   "cell_type": "code",
   "execution_count": 47,
   "id": "3655f45e",
   "metadata": {
    "execution": {
     "iopub.execute_input": "2023-07-28T05:02:39.839712Z",
     "iopub.status.busy": "2023-07-28T05:02:39.839325Z",
     "iopub.status.idle": "2023-07-28T05:02:39.847841Z",
     "shell.execute_reply": "2023-07-28T05:02:39.846906Z"
    },
    "papermill": {
     "duration": 0.031285,
     "end_time": "2023-07-28T05:02:39.849844",
     "exception": false,
     "start_time": "2023-07-28T05:02:39.818559",
     "status": "completed"
    },
    "tags": []
   },
   "outputs": [
    {
     "data": {
      "text/plain": [
       "PassengerId    0\n",
       "Pclass         0\n",
       "Name           0\n",
       "Sex            0\n",
       "Age            0\n",
       "SibSp          0\n",
       "Parch          0\n",
       "Ticket         0\n",
       "Fare           0\n",
       "Cabin          0\n",
       "Embarked       0\n",
       "dtype: int64"
      ]
     },
     "execution_count": 47,
     "metadata": {},
     "output_type": "execute_result"
    }
   ],
   "source": [
    "test.isnull().sum()"
   ]
  },
  {
   "cell_type": "code",
   "execution_count": 48,
   "id": "a8df8e56",
   "metadata": {
    "execution": {
     "iopub.execute_input": "2023-07-28T05:02:39.892831Z",
     "iopub.status.busy": "2023-07-28T05:02:39.891728Z",
     "iopub.status.idle": "2023-07-28T05:02:39.905351Z",
     "shell.execute_reply": "2023-07-28T05:02:39.904066Z"
    },
    "papermill": {
     "duration": 0.037801,
     "end_time": "2023-07-28T05:02:39.907420",
     "exception": false,
     "start_time": "2023-07-28T05:02:39.869619",
     "status": "completed"
    },
    "tags": []
   },
   "outputs": [
    {
     "data": {
      "text/html": [
       "<div>\n",
       "<style scoped>\n",
       "    .dataframe tbody tr th:only-of-type {\n",
       "        vertical-align: middle;\n",
       "    }\n",
       "\n",
       "    .dataframe tbody tr th {\n",
       "        vertical-align: top;\n",
       "    }\n",
       "\n",
       "    .dataframe thead th {\n",
       "        text-align: right;\n",
       "    }\n",
       "</style>\n",
       "<table border=\"1\" class=\"dataframe\">\n",
       "  <thead>\n",
       "    <tr style=\"text-align: right;\">\n",
       "      <th></th>\n",
       "      <th>PassengerId</th>\n",
       "      <th>Pclass</th>\n",
       "      <th>Name</th>\n",
       "      <th>Sex</th>\n",
       "      <th>Age</th>\n",
       "      <th>SibSp</th>\n",
       "      <th>Parch</th>\n",
       "      <th>Ticket</th>\n",
       "      <th>Fare</th>\n",
       "      <th>Cabin</th>\n",
       "      <th>Embarked</th>\n",
       "    </tr>\n",
       "  </thead>\n",
       "  <tbody>\n",
       "  </tbody>\n",
       "</table>\n",
       "</div>"
      ],
      "text/plain": [
       "Empty DataFrame\n",
       "Columns: [PassengerId, Pclass, Name, Sex, Age, SibSp, Parch, Ticket, Fare, Cabin, Embarked]\n",
       "Index: []"
      ]
     },
     "execution_count": 48,
     "metadata": {},
     "output_type": "execute_result"
    }
   ],
   "source": [
    "test[test['Fare'].isna()]"
   ]
  },
  {
   "cell_type": "code",
   "execution_count": 49,
   "id": "5daa4f46",
   "metadata": {
    "execution": {
     "iopub.execute_input": "2023-07-28T05:02:39.949186Z",
     "iopub.status.busy": "2023-07-28T05:02:39.948350Z",
     "iopub.status.idle": "2023-07-28T05:02:39.960273Z",
     "shell.execute_reply": "2023-07-28T05:02:39.959249Z"
    },
    "papermill": {
     "duration": 0.035344,
     "end_time": "2023-07-28T05:02:39.962499",
     "exception": false,
     "start_time": "2023-07-28T05:02:39.927155",
     "status": "completed"
    },
    "tags": []
   },
   "outputs": [
    {
     "data": {
      "text/html": [
       "<div>\n",
       "<style scoped>\n",
       "    .dataframe tbody tr th:only-of-type {\n",
       "        vertical-align: middle;\n",
       "    }\n",
       "\n",
       "    .dataframe tbody tr th {\n",
       "        vertical-align: top;\n",
       "    }\n",
       "\n",
       "    .dataframe thead th {\n",
       "        text-align: right;\n",
       "    }\n",
       "</style>\n",
       "<table border=\"1\" class=\"dataframe\">\n",
       "  <thead>\n",
       "    <tr style=\"text-align: right;\">\n",
       "      <th></th>\n",
       "      <th>PassengerId</th>\n",
       "      <th>Pclass</th>\n",
       "      <th>Name</th>\n",
       "      <th>Sex</th>\n",
       "      <th>Age</th>\n",
       "      <th>SibSp</th>\n",
       "      <th>Parch</th>\n",
       "      <th>Ticket</th>\n",
       "      <th>Fare</th>\n",
       "      <th>Cabin</th>\n",
       "      <th>Embarked</th>\n",
       "    </tr>\n",
       "  </thead>\n",
       "  <tbody>\n",
       "  </tbody>\n",
       "</table>\n",
       "</div>"
      ],
      "text/plain": [
       "Empty DataFrame\n",
       "Columns: [PassengerId, Pclass, Name, Sex, Age, SibSp, Parch, Ticket, Fare, Cabin, Embarked]\n",
       "Index: []"
      ]
     },
     "execution_count": 49,
     "metadata": {},
     "output_type": "execute_result"
    }
   ],
   "source": [
    "test[test['Parch'].isna()]"
   ]
  },
  {
   "cell_type": "code",
   "execution_count": 50,
   "id": "6b95277b",
   "metadata": {
    "execution": {
     "iopub.execute_input": "2023-07-28T05:02:40.005580Z",
     "iopub.status.busy": "2023-07-28T05:02:40.005165Z",
     "iopub.status.idle": "2023-07-28T05:02:40.028219Z",
     "shell.execute_reply": "2023-07-28T05:02:40.027122Z"
    },
    "papermill": {
     "duration": 0.047359,
     "end_time": "2023-07-28T05:02:40.030598",
     "exception": false,
     "start_time": "2023-07-28T05:02:39.983239",
     "status": "completed"
    },
    "tags": []
   },
   "outputs": [],
   "source": [
    "y_pred = rfc.predict_proba(test[X.columns])"
   ]
  },
  {
   "cell_type": "code",
   "execution_count": 51,
   "id": "5ac847c6",
   "metadata": {
    "execution": {
     "iopub.execute_input": "2023-07-28T05:02:40.072084Z",
     "iopub.status.busy": "2023-07-28T05:02:40.071701Z",
     "iopub.status.idle": "2023-07-28T05:02:40.083528Z",
     "shell.execute_reply": "2023-07-28T05:02:40.082506Z"
    },
    "papermill": {
     "duration": 0.035199,
     "end_time": "2023-07-28T05:02:40.085751",
     "exception": false,
     "start_time": "2023-07-28T05:02:40.050552",
     "status": "completed"
    },
    "tags": []
   },
   "outputs": [
    {
     "data": {
      "text/html": [
       "<div>\n",
       "<style scoped>\n",
       "    .dataframe tbody tr th:only-of-type {\n",
       "        vertical-align: middle;\n",
       "    }\n",
       "\n",
       "    .dataframe tbody tr th {\n",
       "        vertical-align: top;\n",
       "    }\n",
       "\n",
       "    .dataframe thead th {\n",
       "        text-align: right;\n",
       "    }\n",
       "</style>\n",
       "<table border=\"1\" class=\"dataframe\">\n",
       "  <thead>\n",
       "    <tr style=\"text-align: right;\">\n",
       "      <th></th>\n",
       "      <th>0</th>\n",
       "      <th>1</th>\n",
       "    </tr>\n",
       "  </thead>\n",
       "  <tbody>\n",
       "    <tr>\n",
       "      <th>0</th>\n",
       "      <td>0.500000</td>\n",
       "      <td>0.500000</td>\n",
       "    </tr>\n",
       "    <tr>\n",
       "      <th>1</th>\n",
       "      <td>0.446307</td>\n",
       "      <td>0.553693</td>\n",
       "    </tr>\n",
       "    <tr>\n",
       "      <th>2</th>\n",
       "      <td>0.956144</td>\n",
       "      <td>0.043856</td>\n",
       "    </tr>\n",
       "    <tr>\n",
       "      <th>3</th>\n",
       "      <td>0.203876</td>\n",
       "      <td>0.796124</td>\n",
       "    </tr>\n",
       "    <tr>\n",
       "      <th>4</th>\n",
       "      <td>0.144123</td>\n",
       "      <td>0.855877</td>\n",
       "    </tr>\n",
       "    <tr>\n",
       "      <th>...</th>\n",
       "      <td>...</td>\n",
       "      <td>...</td>\n",
       "    </tr>\n",
       "    <tr>\n",
       "      <th>413</th>\n",
       "      <td>0.203876</td>\n",
       "      <td>0.796124</td>\n",
       "    </tr>\n",
       "    <tr>\n",
       "      <th>414</th>\n",
       "      <td>0.088027</td>\n",
       "      <td>0.911973</td>\n",
       "    </tr>\n",
       "    <tr>\n",
       "      <th>415</th>\n",
       "      <td>0.378521</td>\n",
       "      <td>0.621479</td>\n",
       "    </tr>\n",
       "    <tr>\n",
       "      <th>416</th>\n",
       "      <td>0.203876</td>\n",
       "      <td>0.796124</td>\n",
       "    </tr>\n",
       "    <tr>\n",
       "      <th>417</th>\n",
       "      <td>0.512726</td>\n",
       "      <td>0.487274</td>\n",
       "    </tr>\n",
       "  </tbody>\n",
       "</table>\n",
       "<p>418 rows × 2 columns</p>\n",
       "</div>"
      ],
      "text/plain": [
       "            0         1\n",
       "0    0.500000  0.500000\n",
       "1    0.446307  0.553693\n",
       "2    0.956144  0.043856\n",
       "3    0.203876  0.796124\n",
       "4    0.144123  0.855877\n",
       "..        ...       ...\n",
       "413  0.203876  0.796124\n",
       "414  0.088027  0.911973\n",
       "415  0.378521  0.621479\n",
       "416  0.203876  0.796124\n",
       "417  0.512726  0.487274\n",
       "\n",
       "[418 rows x 2 columns]"
      ]
     },
     "execution_count": 51,
     "metadata": {},
     "output_type": "execute_result"
    }
   ],
   "source": [
    "y_pred_df = pd.DataFrame(y_pred)\n",
    "y_pred_df"
   ]
  },
  {
   "cell_type": "code",
   "execution_count": 52,
   "id": "8a5e7b3e",
   "metadata": {
    "execution": {
     "iopub.execute_input": "2023-07-28T05:02:40.129157Z",
     "iopub.status.busy": "2023-07-28T05:02:40.128040Z",
     "iopub.status.idle": "2023-07-28T05:02:40.139048Z",
     "shell.execute_reply": "2023-07-28T05:02:40.137900Z"
    },
    "papermill": {
     "duration": 0.03484,
     "end_time": "2023-07-28T05:02:40.141159",
     "exception": false,
     "start_time": "2023-07-28T05:02:40.106319",
     "status": "completed"
    },
    "tags": []
   },
   "outputs": [
    {
     "data": {
      "text/html": [
       "<div>\n",
       "<style scoped>\n",
       "    .dataframe tbody tr th:only-of-type {\n",
       "        vertical-align: middle;\n",
       "    }\n",
       "\n",
       "    .dataframe tbody tr th {\n",
       "        vertical-align: top;\n",
       "    }\n",
       "\n",
       "    .dataframe thead th {\n",
       "        text-align: right;\n",
       "    }\n",
       "</style>\n",
       "<table border=\"1\" class=\"dataframe\">\n",
       "  <thead>\n",
       "    <tr style=\"text-align: right;\">\n",
       "      <th></th>\n",
       "      <th>1</th>\n",
       "    </tr>\n",
       "  </thead>\n",
       "  <tbody>\n",
       "    <tr>\n",
       "      <th>0</th>\n",
       "      <td>0.500000</td>\n",
       "    </tr>\n",
       "    <tr>\n",
       "      <th>1</th>\n",
       "      <td>0.553693</td>\n",
       "    </tr>\n",
       "    <tr>\n",
       "      <th>2</th>\n",
       "      <td>0.043856</td>\n",
       "    </tr>\n",
       "    <tr>\n",
       "      <th>3</th>\n",
       "      <td>0.796124</td>\n",
       "    </tr>\n",
       "    <tr>\n",
       "      <th>4</th>\n",
       "      <td>0.855877</td>\n",
       "    </tr>\n",
       "  </tbody>\n",
       "</table>\n",
       "</div>"
      ],
      "text/plain": [
       "          1\n",
       "0  0.500000\n",
       "1  0.553693\n",
       "2  0.043856\n",
       "3  0.796124\n",
       "4  0.855877"
      ]
     },
     "execution_count": 52,
     "metadata": {},
     "output_type": "execute_result"
    }
   ],
   "source": [
    "y_pred_1 = y_pred_df.iloc[:,1]\n",
    "pred_1_df = pd.DataFrame(y_pred_1)\n",
    "pred_1_df.head()"
   ]
  },
  {
   "cell_type": "code",
   "execution_count": 53,
   "id": "7acc5e18",
   "metadata": {
    "execution": {
     "iopub.execute_input": "2023-07-28T05:02:40.184243Z",
     "iopub.status.busy": "2023-07-28T05:02:40.183891Z",
     "iopub.status.idle": "2023-07-28T05:02:40.197569Z",
     "shell.execute_reply": "2023-07-28T05:02:40.196717Z"
    },
    "papermill": {
     "duration": 0.037886,
     "end_time": "2023-07-28T05:02:40.199651",
     "exception": false,
     "start_time": "2023-07-28T05:02:40.161765",
     "status": "completed"
    },
    "tags": []
   },
   "outputs": [
    {
     "data": {
      "text/html": [
       "<div>\n",
       "<style scoped>\n",
       "    .dataframe tbody tr th:only-of-type {\n",
       "        vertical-align: middle;\n",
       "    }\n",
       "\n",
       "    .dataframe tbody tr th {\n",
       "        vertical-align: top;\n",
       "    }\n",
       "\n",
       "    .dataframe thead th {\n",
       "        text-align: right;\n",
       "    }\n",
       "</style>\n",
       "<table border=\"1\" class=\"dataframe\">\n",
       "  <thead>\n",
       "    <tr style=\"text-align: right;\">\n",
       "      <th></th>\n",
       "      <th>PassengerId</th>\n",
       "      <th>1</th>\n",
       "      <th>Survived</th>\n",
       "    </tr>\n",
       "  </thead>\n",
       "  <tbody>\n",
       "    <tr>\n",
       "      <th>0</th>\n",
       "      <td>892</td>\n",
       "      <td>0.500000</td>\n",
       "      <td>0</td>\n",
       "    </tr>\n",
       "    <tr>\n",
       "      <th>1</th>\n",
       "      <td>893</td>\n",
       "      <td>0.553693</td>\n",
       "      <td>1</td>\n",
       "    </tr>\n",
       "    <tr>\n",
       "      <th>2</th>\n",
       "      <td>894</td>\n",
       "      <td>0.043856</td>\n",
       "      <td>0</td>\n",
       "    </tr>\n",
       "    <tr>\n",
       "      <th>3</th>\n",
       "      <td>895</td>\n",
       "      <td>0.796124</td>\n",
       "      <td>1</td>\n",
       "    </tr>\n",
       "    <tr>\n",
       "      <th>4</th>\n",
       "      <td>896</td>\n",
       "      <td>0.855877</td>\n",
       "      <td>1</td>\n",
       "    </tr>\n",
       "  </tbody>\n",
       "</table>\n",
       "</div>"
      ],
      "text/plain": [
       "   PassengerId         1  Survived\n",
       "0          892  0.500000         0\n",
       "1          893  0.553693         1\n",
       "2          894  0.043856         0\n",
       "3          895  0.796124         1\n",
       "4          896  0.855877         1"
      ]
     },
     "execution_count": 53,
     "metadata": {},
     "output_type": "execute_result"
    }
   ],
   "source": [
    "test_pred = pd.concat([test['PassengerId'], pred_1_df], 1)\n",
    "test_pred['Survived'] = test_pred.loc[:,1].map(lambda x:1 if x>0.5 else 0)\n",
    "test_pred.head()"
   ]
  },
  {
   "cell_type": "code",
   "execution_count": 54,
   "id": "193c0393",
   "metadata": {
    "execution": {
     "iopub.execute_input": "2023-07-28T05:02:40.243126Z",
     "iopub.status.busy": "2023-07-28T05:02:40.242743Z",
     "iopub.status.idle": "2023-07-28T05:02:40.252669Z",
     "shell.execute_reply": "2023-07-28T05:02:40.251684Z"
    },
    "papermill": {
     "duration": 0.034354,
     "end_time": "2023-07-28T05:02:40.254708",
     "exception": false,
     "start_time": "2023-07-28T05:02:40.220354",
     "status": "completed"
    },
    "tags": []
   },
   "outputs": [
    {
     "data": {
      "text/html": [
       "<div>\n",
       "<style scoped>\n",
       "    .dataframe tbody tr th:only-of-type {\n",
       "        vertical-align: middle;\n",
       "    }\n",
       "\n",
       "    .dataframe tbody tr th {\n",
       "        vertical-align: top;\n",
       "    }\n",
       "\n",
       "    .dataframe thead th {\n",
       "        text-align: right;\n",
       "    }\n",
       "</style>\n",
       "<table border=\"1\" class=\"dataframe\">\n",
       "  <thead>\n",
       "    <tr style=\"text-align: right;\">\n",
       "      <th></th>\n",
       "      <th>PassengerId</th>\n",
       "      <th>Survived</th>\n",
       "    </tr>\n",
       "  </thead>\n",
       "  <tbody>\n",
       "    <tr>\n",
       "      <th>0</th>\n",
       "      <td>892</td>\n",
       "      <td>0</td>\n",
       "    </tr>\n",
       "    <tr>\n",
       "      <th>1</th>\n",
       "      <td>893</td>\n",
       "      <td>1</td>\n",
       "    </tr>\n",
       "    <tr>\n",
       "      <th>2</th>\n",
       "      <td>894</td>\n",
       "      <td>0</td>\n",
       "    </tr>\n",
       "    <tr>\n",
       "      <th>3</th>\n",
       "      <td>895</td>\n",
       "      <td>1</td>\n",
       "    </tr>\n",
       "    <tr>\n",
       "      <th>4</th>\n",
       "      <td>896</td>\n",
       "      <td>1</td>\n",
       "    </tr>\n",
       "  </tbody>\n",
       "</table>\n",
       "</div>"
      ],
      "text/plain": [
       "   PassengerId  Survived\n",
       "0          892         0\n",
       "1          893         1\n",
       "2          894         0\n",
       "3          895         1\n",
       "4          896         1"
      ]
     },
     "execution_count": 54,
     "metadata": {},
     "output_type": "execute_result"
    }
   ],
   "source": [
    "test_pred = test_pred.drop(1, axis=1)\n",
    "test_pred.head()"
   ]
  },
  {
   "cell_type": "code",
   "execution_count": 55,
   "id": "5c03dfc7",
   "metadata": {
    "execution": {
     "iopub.execute_input": "2023-07-28T05:02:40.298148Z",
     "iopub.status.busy": "2023-07-28T05:02:40.297779Z",
     "iopub.status.idle": "2023-07-28T05:02:40.306063Z",
     "shell.execute_reply": "2023-07-28T05:02:40.305192Z"
    },
    "papermill": {
     "duration": 0.032834,
     "end_time": "2023-07-28T05:02:40.308178",
     "exception": false,
     "start_time": "2023-07-28T05:02:40.275344",
     "status": "completed"
    },
    "tags": []
   },
   "outputs": [],
   "source": [
    "test_pred.to_csv('RF_0.7.csv', index=False)"
   ]
  },
  {
   "cell_type": "code",
   "execution_count": null,
   "id": "c69658de",
   "metadata": {
    "papermill": {
     "duration": 0.020193,
     "end_time": "2023-07-28T05:02:40.349685",
     "exception": false,
     "start_time": "2023-07-28T05:02:40.329492",
     "status": "completed"
    },
    "tags": []
   },
   "outputs": [],
   "source": []
  }
 ],
 "metadata": {
  "kernelspec": {
   "display_name": "Python 3",
   "language": "python",
   "name": "python3"
  },
  "language_info": {
   "codemirror_mode": {
    "name": "ipython",
    "version": 3
   },
   "file_extension": ".py",
   "mimetype": "text/x-python",
   "name": "python",
   "nbconvert_exporter": "python",
   "pygments_lexer": "ipython3",
   "version": "3.10.12"
  },
  "papermill": {
   "default_parameters": {},
   "duration": 134.824862,
   "end_time": "2023-07-28T05:02:42.990316",
   "environment_variables": {},
   "exception": null,
   "input_path": "__notebook__.ipynb",
   "output_path": "__notebook__.ipynb",
   "parameters": {},
   "start_time": "2023-07-28T05:00:28.165454",
   "version": "2.4.0"
  }
 },
 "nbformat": 4,
 "nbformat_minor": 5
}
