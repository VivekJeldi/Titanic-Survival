{
 "cells": [
  {
   "cell_type": "code",
   "execution_count": 1,
   "id": "153d0529",
   "metadata": {
    "_cell_guid": "b1076dfc-b9ad-4769-8c92-a6c4dae69d19",
    "_uuid": "8f2839f25d086af736a60e9eeb907d3b93b6e0e5",
    "execution": {
     "iopub.execute_input": "2023-08-04T19:42:24.107668Z",
     "iopub.status.busy": "2023-08-04T19:42:24.106823Z",
     "iopub.status.idle": "2023-08-04T19:42:24.123822Z",
     "shell.execute_reply": "2023-08-04T19:42:24.122928Z"
    },
    "papermill": {
     "duration": 0.044418,
     "end_time": "2023-08-04T19:42:24.126368",
     "exception": false,
     "start_time": "2023-08-04T19:42:24.081950",
     "status": "completed"
    },
    "tags": []
   },
   "outputs": [],
   "source": [
    "# This Python 3 environment comes with many helpful analytics libraries installed\n",
    "# It is defined by the kaggle/python Docker image: https://github.com/kaggle/docker-python\n",
    "# For example, here's several helpful packages to load\n",
    "\n",
    "import numpy as np # linear algebra\n",
    "import pandas as pd # data processing, CSV file I/O (e.g. pd.read_csv)\n",
    "\n",
    "# Input data files are available in the read-only \"../input/\" directory\n",
    "# For example, running this (by clicking run or pressing Shift+Enter) will list all files under the input directory\n",
    "\n",
    "import os\n",
    "for dirname, _, filenames in os.walk('/kaggle/input'):\n",
    "    for filename in filenames:\n",
    "        print(os.path.join(dirname, filename))\n",
    "\n",
    "# You can write up to 20GB to the current directory (/kaggle/working/) that gets preserved as output when you create a version using \"Save & Run All\" \n",
    "# You can also write temporary files to /kaggle/temp/, but they won't be saved outside of the current session"
   ]
  },
  {
   "cell_type": "code",
   "execution_count": 2,
   "id": "0916f728",
   "metadata": {
    "execution": {
     "iopub.execute_input": "2023-08-04T19:42:24.175282Z",
     "iopub.status.busy": "2023-08-04T19:42:24.174624Z",
     "iopub.status.idle": "2023-08-04T19:42:25.806169Z",
     "shell.execute_reply": "2023-08-04T19:42:25.804913Z"
    },
    "papermill": {
     "duration": 1.659214,
     "end_time": "2023-08-04T19:42:25.810135",
     "exception": false,
     "start_time": "2023-08-04T19:42:24.150921",
     "status": "completed"
    },
    "tags": []
   },
   "outputs": [
    {
     "name": "stderr",
     "output_type": "stream",
     "text": [
      "/opt/conda/lib/python3.10/site-packages/scipy/__init__.py:146: UserWarning: A NumPy version >=1.16.5 and <1.23.0 is required for this version of SciPy (detected version 1.23.5\n",
      "  warnings.warn(f\"A NumPy version >={np_minversion} and <{np_maxversion}\"\n"
     ]
    }
   ],
   "source": [
    "import matplotlib.pyplot as plt\n",
    "import seaborn as sns\n",
    "%matplotlib inline"
   ]
  },
  {
   "cell_type": "code",
   "execution_count": 3,
   "id": "ea66504a",
   "metadata": {
    "execution": {
     "iopub.execute_input": "2023-08-04T19:42:25.857782Z",
     "iopub.status.busy": "2023-08-04T19:42:25.857110Z",
     "iopub.status.idle": "2023-08-04T19:42:26.620735Z",
     "shell.execute_reply": "2023-08-04T19:42:26.619381Z"
    },
    "papermill": {
     "duration": 0.790676,
     "end_time": "2023-08-04T19:42:26.623777",
     "exception": false,
     "start_time": "2023-08-04T19:42:25.833101",
     "status": "completed"
    },
    "tags": []
   },
   "outputs": [],
   "source": [
    "from sklearn.model_selection import train_test_split\n",
    "\n",
    "from sklearn.ensemble import RandomForestClassifier\n",
    "\n",
    "from sklearn import metrics\n",
    "\n",
    "from sklearn.model_selection import GridSearchCV\n",
    "\n",
    "import warnings\n",
    "warnings.filterwarnings('ignore')"
   ]
  },
  {
   "cell_type": "code",
   "execution_count": 4,
   "id": "8dd1db40",
   "metadata": {
    "execution": {
     "iopub.execute_input": "2023-08-04T19:42:26.670013Z",
     "iopub.status.busy": "2023-08-04T19:42:26.669512Z",
     "iopub.status.idle": "2023-08-04T19:42:26.674761Z",
     "shell.execute_reply": "2023-08-04T19:42:26.673553Z"
    },
    "papermill": {
     "duration": 0.031674,
     "end_time": "2023-08-04T19:42:26.677086",
     "exception": false,
     "start_time": "2023-08-04T19:42:26.645412",
     "status": "completed"
    },
    "tags": []
   },
   "outputs": [],
   "source": [
    "path = 'https://raw.githubusercontent.com/VivekJeldi/Titanic-Survival/main/df_WOE.csv'"
   ]
  },
  {
   "cell_type": "code",
   "execution_count": 5,
   "id": "c5b3c160",
   "metadata": {
    "execution": {
     "iopub.execute_input": "2023-08-04T19:42:26.722960Z",
     "iopub.status.busy": "2023-08-04T19:42:26.722177Z",
     "iopub.status.idle": "2023-08-04T19:42:27.318478Z",
     "shell.execute_reply": "2023-08-04T19:42:27.317316Z"
    },
    "papermill": {
     "duration": 0.621922,
     "end_time": "2023-08-04T19:42:27.321149",
     "exception": false,
     "start_time": "2023-08-04T19:42:26.699227",
     "status": "completed"
    },
    "tags": []
   },
   "outputs": [
    {
     "data": {
      "text/html": [
       "<div>\n",
       "<style scoped>\n",
       "    .dataframe tbody tr th:only-of-type {\n",
       "        vertical-align: middle;\n",
       "    }\n",
       "\n",
       "    .dataframe tbody tr th {\n",
       "        vertical-align: top;\n",
       "    }\n",
       "\n",
       "    .dataframe thead th {\n",
       "        text-align: right;\n",
       "    }\n",
       "</style>\n",
       "<table border=\"1\" class=\"dataframe\">\n",
       "  <thead>\n",
       "    <tr style=\"text-align: right;\">\n",
       "      <th></th>\n",
       "      <th>Pclass</th>\n",
       "      <th>Sex</th>\n",
       "      <th>Age</th>\n",
       "      <th>SibSp</th>\n",
       "      <th>Parch</th>\n",
       "      <th>Fare</th>\n",
       "      <th>Cabin</th>\n",
       "      <th>Embarked</th>\n",
       "      <th>Survived</th>\n",
       "    </tr>\n",
       "  </thead>\n",
       "  <tbody>\n",
       "    <tr>\n",
       "      <th>0</th>\n",
       "      <td>-0.668306</td>\n",
       "      <td>-0.983517</td>\n",
       "      <td>-0.05768</td>\n",
       "      <td>0.043481</td>\n",
       "      <td>-0.040032</td>\n",
       "      <td>-0.390257</td>\n",
       "      <td>-0.699805</td>\n",
       "      <td>-0.193903</td>\n",
       "      <td>0</td>\n",
       "    </tr>\n",
       "    <tr>\n",
       "      <th>1</th>\n",
       "      <td>1.014672</td>\n",
       "      <td>1.528054</td>\n",
       "      <td>-0.05768</td>\n",
       "      <td>0.043481</td>\n",
       "      <td>-0.040032</td>\n",
       "      <td>1.038842</td>\n",
       "      <td>0.653786</td>\n",
       "      <td>0.686576</td>\n",
       "      <td>1</td>\n",
       "    </tr>\n",
       "    <tr>\n",
       "      <th>2</th>\n",
       "      <td>-0.668306</td>\n",
       "      <td>1.528054</td>\n",
       "      <td>-0.05768</td>\n",
       "      <td>0.043481</td>\n",
       "      <td>-0.040032</td>\n",
       "      <td>-0.390257</td>\n",
       "      <td>-0.699805</td>\n",
       "      <td>-0.193903</td>\n",
       "      <td>1</td>\n",
       "    </tr>\n",
       "    <tr>\n",
       "      <th>3</th>\n",
       "      <td>1.014672</td>\n",
       "      <td>1.528054</td>\n",
       "      <td>-0.05768</td>\n",
       "      <td>0.043481</td>\n",
       "      <td>-0.040032</td>\n",
       "      <td>1.038842</td>\n",
       "      <td>0.653786</td>\n",
       "      <td>-0.193903</td>\n",
       "      <td>1</td>\n",
       "    </tr>\n",
       "    <tr>\n",
       "      <th>4</th>\n",
       "      <td>-0.668306</td>\n",
       "      <td>-0.983517</td>\n",
       "      <td>-0.05768</td>\n",
       "      <td>0.043481</td>\n",
       "      <td>-0.040032</td>\n",
       "      <td>-0.390257</td>\n",
       "      <td>-0.699805</td>\n",
       "      <td>-0.193903</td>\n",
       "      <td>0</td>\n",
       "    </tr>\n",
       "  </tbody>\n",
       "</table>\n",
       "</div>"
      ],
      "text/plain": [
       "     Pclass       Sex      Age     SibSp     Parch      Fare     Cabin  \\\n",
       "0 -0.668306 -0.983517 -0.05768  0.043481 -0.040032 -0.390257 -0.699805   \n",
       "1  1.014672  1.528054 -0.05768  0.043481 -0.040032  1.038842  0.653786   \n",
       "2 -0.668306  1.528054 -0.05768  0.043481 -0.040032 -0.390257 -0.699805   \n",
       "3  1.014672  1.528054 -0.05768  0.043481 -0.040032  1.038842  0.653786   \n",
       "4 -0.668306 -0.983517 -0.05768  0.043481 -0.040032 -0.390257 -0.699805   \n",
       "\n",
       "   Embarked  Survived  \n",
       "0 -0.193903         0  \n",
       "1  0.686576         1  \n",
       "2 -0.193903         1  \n",
       "3 -0.193903         1  \n",
       "4 -0.193903         0  "
      ]
     },
     "execution_count": 5,
     "metadata": {},
     "output_type": "execute_result"
    }
   ],
   "source": [
    "df = pd.read_csv(path)\n",
    "df.head()"
   ]
  },
  {
   "cell_type": "code",
   "execution_count": 6,
   "id": "943a18be",
   "metadata": {
    "execution": {
     "iopub.execute_input": "2023-08-04T19:42:27.368106Z",
     "iopub.status.busy": "2023-08-04T19:42:27.367422Z",
     "iopub.status.idle": "2023-08-04T19:42:27.397384Z",
     "shell.execute_reply": "2023-08-04T19:42:27.396141Z"
    },
    "papermill": {
     "duration": 0.057437,
     "end_time": "2023-08-04T19:42:27.400332",
     "exception": false,
     "start_time": "2023-08-04T19:42:27.342895",
     "status": "completed"
    },
    "tags": []
   },
   "outputs": [
    {
     "name": "stdout",
     "output_type": "stream",
     "text": [
      "<class 'pandas.core.frame.DataFrame'>\n",
      "RangeIndex: 890 entries, 0 to 889\n",
      "Data columns (total 9 columns):\n",
      " #   Column    Non-Null Count  Dtype  \n",
      "---  ------    --------------  -----  \n",
      " 0   Pclass    890 non-null    float64\n",
      " 1   Sex       890 non-null    float64\n",
      " 2   Age       890 non-null    float64\n",
      " 3   SibSp     890 non-null    float64\n",
      " 4   Parch     890 non-null    float64\n",
      " 5   Fare      890 non-null    float64\n",
      " 6   Cabin     890 non-null    float64\n",
      " 7   Embarked  890 non-null    float64\n",
      " 8   Survived  890 non-null    int64  \n",
      "dtypes: float64(8), int64(1)\n",
      "memory usage: 62.7 KB\n"
     ]
    }
   ],
   "source": [
    "df.info()"
   ]
  },
  {
   "cell_type": "code",
   "execution_count": 7,
   "id": "b1aa1602",
   "metadata": {
    "execution": {
     "iopub.execute_input": "2023-08-04T19:42:27.449477Z",
     "iopub.status.busy": "2023-08-04T19:42:27.449009Z",
     "iopub.status.idle": "2023-08-04T19:42:27.460311Z",
     "shell.execute_reply": "2023-08-04T19:42:27.459104Z"
    },
    "papermill": {
     "duration": 0.038468,
     "end_time": "2023-08-04T19:42:27.462815",
     "exception": false,
     "start_time": "2023-08-04T19:42:27.424347",
     "status": "completed"
    },
    "tags": []
   },
   "outputs": [
    {
     "data": {
      "text/plain": [
       "Pclass      0\n",
       "Sex         0\n",
       "Age         0\n",
       "SibSp       0\n",
       "Parch       0\n",
       "Fare        0\n",
       "Cabin       0\n",
       "Embarked    0\n",
       "Survived    0\n",
       "dtype: int64"
      ]
     },
     "execution_count": 7,
     "metadata": {},
     "output_type": "execute_result"
    }
   ],
   "source": [
    "df.isnull().sum()"
   ]
  },
  {
   "cell_type": "code",
   "execution_count": 8,
   "id": "e227e616",
   "metadata": {
    "execution": {
     "iopub.execute_input": "2023-08-04T19:42:27.510537Z",
     "iopub.status.busy": "2023-08-04T19:42:27.509700Z",
     "iopub.status.idle": "2023-08-04T19:42:27.517853Z",
     "shell.execute_reply": "2023-08-04T19:42:27.516916Z"
    },
    "papermill": {
     "duration": 0.035095,
     "end_time": "2023-08-04T19:42:27.520474",
     "exception": false,
     "start_time": "2023-08-04T19:42:27.485379",
     "status": "completed"
    },
    "tags": []
   },
   "outputs": [],
   "source": [
    "df['Survived'] = df['Survived'].astype('category')"
   ]
  },
  {
   "cell_type": "code",
   "execution_count": 9,
   "id": "2328319e",
   "metadata": {
    "execution": {
     "iopub.execute_input": "2023-08-04T19:42:27.569514Z",
     "iopub.status.busy": "2023-08-04T19:42:27.568235Z",
     "iopub.status.idle": "2023-08-04T19:42:27.574238Z",
     "shell.execute_reply": "2023-08-04T19:42:27.573333Z"
    },
    "papermill": {
     "duration": 0.033256,
     "end_time": "2023-08-04T19:42:27.576836",
     "exception": false,
     "start_time": "2023-08-04T19:42:27.543580",
     "status": "completed"
    },
    "tags": []
   },
   "outputs": [],
   "source": [
    "col = ['Pclass', 'Sex', 'Fare', 'Embarked']\n"
   ]
  },
  {
   "cell_type": "code",
   "execution_count": 10,
   "id": "a111c1db",
   "metadata": {
    "execution": {
     "iopub.execute_input": "2023-08-04T19:42:27.623552Z",
     "iopub.status.busy": "2023-08-04T19:42:27.623132Z",
     "iopub.status.idle": "2023-08-04T19:42:27.629986Z",
     "shell.execute_reply": "2023-08-04T19:42:27.628807Z"
    },
    "papermill": {
     "duration": 0.033217,
     "end_time": "2023-08-04T19:42:27.632685",
     "exception": false,
     "start_time": "2023-08-04T19:42:27.599468",
     "status": "completed"
    },
    "tags": []
   },
   "outputs": [],
   "source": [
    "y = df['Survived']\n",
    "# X = df.drop('Survived',axis=1)\n",
    "X = df[col]"
   ]
  },
  {
   "cell_type": "code",
   "execution_count": 11,
   "id": "3687e9b9",
   "metadata": {
    "execution": {
     "iopub.execute_input": "2023-08-04T19:42:27.680853Z",
     "iopub.status.busy": "2023-08-04T19:42:27.679759Z",
     "iopub.status.idle": "2023-08-04T19:42:27.687810Z",
     "shell.execute_reply": "2023-08-04T19:42:27.686634Z"
    },
    "papermill": {
     "duration": 0.035756,
     "end_time": "2023-08-04T19:42:27.690494",
     "exception": false,
     "start_time": "2023-08-04T19:42:27.654738",
     "status": "completed"
    },
    "tags": []
   },
   "outputs": [],
   "source": [
    "X_train, X_test, y_train , y_test = train_test_split(X,y, test_size=0.2, random_state=42)"
   ]
  },
  {
   "cell_type": "code",
   "execution_count": 12,
   "id": "52dac300",
   "metadata": {
    "execution": {
     "iopub.execute_input": "2023-08-04T19:42:27.737754Z",
     "iopub.status.busy": "2023-08-04T19:42:27.737179Z",
     "iopub.status.idle": "2023-08-04T19:42:27.747862Z",
     "shell.execute_reply": "2023-08-04T19:42:27.746557Z"
    },
    "papermill": {
     "duration": 0.036753,
     "end_time": "2023-08-04T19:42:27.750479",
     "exception": false,
     "start_time": "2023-08-04T19:42:27.713726",
     "status": "completed"
    },
    "tags": []
   },
   "outputs": [
    {
     "data": {
      "text/plain": [
       "708    1\n",
       "239    0\n",
       "381    0\n",
       "792    0\n",
       "672    1\n",
       "      ..\n",
       "106    1\n",
       "270    0\n",
       "860    0\n",
       "435    0\n",
       "102    0\n",
       "Name: Survived, Length: 712, dtype: category\n",
       "Categories (2, int64): [0, 1]"
      ]
     },
     "execution_count": 12,
     "metadata": {},
     "output_type": "execute_result"
    }
   ],
   "source": [
    "y_train"
   ]
  },
  {
   "cell_type": "code",
   "execution_count": 13,
   "id": "1e45acd8",
   "metadata": {
    "execution": {
     "iopub.execute_input": "2023-08-04T19:42:27.799387Z",
     "iopub.status.busy": "2023-08-04T19:42:27.798041Z",
     "iopub.status.idle": "2023-08-04T19:42:27.806993Z",
     "shell.execute_reply": "2023-08-04T19:42:27.805733Z"
    },
    "papermill": {
     "duration": 0.036198,
     "end_time": "2023-08-04T19:42:27.809724",
     "exception": false,
     "start_time": "2023-08-04T19:42:27.773526",
     "status": "completed"
    },
    "tags": []
   },
   "outputs": [
    {
     "data": {
      "text/plain": [
       "Index(['Pclass', 'Sex', 'Fare', 'Embarked'], dtype='object')"
      ]
     },
     "execution_count": 13,
     "metadata": {},
     "output_type": "execute_result"
    }
   ],
   "source": [
    "X_train.columns"
   ]
  },
  {
   "cell_type": "code",
   "execution_count": 14,
   "id": "65bbfe8c",
   "metadata": {
    "execution": {
     "iopub.execute_input": "2023-08-04T19:42:27.859916Z",
     "iopub.status.busy": "2023-08-04T19:42:27.859488Z",
     "iopub.status.idle": "2023-08-04T19:42:27.865497Z",
     "shell.execute_reply": "2023-08-04T19:42:27.864275Z"
    },
    "papermill": {
     "duration": 0.036156,
     "end_time": "2023-08-04T19:42:27.868833",
     "exception": false,
     "start_time": "2023-08-04T19:42:27.832677",
     "status": "completed"
    },
    "tags": []
   },
   "outputs": [],
   "source": [
    "# Features from WOE\n",
    "col = ['Pclass', 'Sex', 'Fare', 'Embarked']\n",
    "\n",
    "#col = ['Pclass', 'Sex', 'Age','SibSp','Fare', 'Cabin', 'Embarked']\n",
    "#col = X_train.columns"
   ]
  },
  {
   "cell_type": "code",
   "execution_count": 15,
   "id": "56ce1310",
   "metadata": {
    "execution": {
     "iopub.execute_input": "2023-08-04T19:42:27.915991Z",
     "iopub.status.busy": "2023-08-04T19:42:27.915576Z",
     "iopub.status.idle": "2023-08-04T19:42:28.190373Z",
     "shell.execute_reply": "2023-08-04T19:42:28.188695Z"
    },
    "papermill": {
     "duration": 0.302243,
     "end_time": "2023-08-04T19:42:28.193500",
     "exception": false,
     "start_time": "2023-08-04T19:42:27.891257",
     "status": "completed"
    },
    "tags": []
   },
   "outputs": [
    {
     "data": {
      "text/html": [
       "<style>#sk-container-id-1 {color: black;background-color: white;}#sk-container-id-1 pre{padding: 0;}#sk-container-id-1 div.sk-toggleable {background-color: white;}#sk-container-id-1 label.sk-toggleable__label {cursor: pointer;display: block;width: 100%;margin-bottom: 0;padding: 0.3em;box-sizing: border-box;text-align: center;}#sk-container-id-1 label.sk-toggleable__label-arrow:before {content: \"▸\";float: left;margin-right: 0.25em;color: #696969;}#sk-container-id-1 label.sk-toggleable__label-arrow:hover:before {color: black;}#sk-container-id-1 div.sk-estimator:hover label.sk-toggleable__label-arrow:before {color: black;}#sk-container-id-1 div.sk-toggleable__content {max-height: 0;max-width: 0;overflow: hidden;text-align: left;background-color: #f0f8ff;}#sk-container-id-1 div.sk-toggleable__content pre {margin: 0.2em;color: black;border-radius: 0.25em;background-color: #f0f8ff;}#sk-container-id-1 input.sk-toggleable__control:checked~div.sk-toggleable__content {max-height: 200px;max-width: 100%;overflow: auto;}#sk-container-id-1 input.sk-toggleable__control:checked~label.sk-toggleable__label-arrow:before {content: \"▾\";}#sk-container-id-1 div.sk-estimator input.sk-toggleable__control:checked~label.sk-toggleable__label {background-color: #d4ebff;}#sk-container-id-1 div.sk-label input.sk-toggleable__control:checked~label.sk-toggleable__label {background-color: #d4ebff;}#sk-container-id-1 input.sk-hidden--visually {border: 0;clip: rect(1px 1px 1px 1px);clip: rect(1px, 1px, 1px, 1px);height: 1px;margin: -1px;overflow: hidden;padding: 0;position: absolute;width: 1px;}#sk-container-id-1 div.sk-estimator {font-family: monospace;background-color: #f0f8ff;border: 1px dotted black;border-radius: 0.25em;box-sizing: border-box;margin-bottom: 0.5em;}#sk-container-id-1 div.sk-estimator:hover {background-color: #d4ebff;}#sk-container-id-1 div.sk-parallel-item::after {content: \"\";width: 100%;border-bottom: 1px solid gray;flex-grow: 1;}#sk-container-id-1 div.sk-label:hover label.sk-toggleable__label {background-color: #d4ebff;}#sk-container-id-1 div.sk-serial::before {content: \"\";position: absolute;border-left: 1px solid gray;box-sizing: border-box;top: 0;bottom: 0;left: 50%;z-index: 0;}#sk-container-id-1 div.sk-serial {display: flex;flex-direction: column;align-items: center;background-color: white;padding-right: 0.2em;padding-left: 0.2em;position: relative;}#sk-container-id-1 div.sk-item {position: relative;z-index: 1;}#sk-container-id-1 div.sk-parallel {display: flex;align-items: stretch;justify-content: center;background-color: white;position: relative;}#sk-container-id-1 div.sk-item::before, #sk-container-id-1 div.sk-parallel-item::before {content: \"\";position: absolute;border-left: 1px solid gray;box-sizing: border-box;top: 0;bottom: 0;left: 50%;z-index: -1;}#sk-container-id-1 div.sk-parallel-item {display: flex;flex-direction: column;z-index: 1;position: relative;background-color: white;}#sk-container-id-1 div.sk-parallel-item:first-child::after {align-self: flex-end;width: 50%;}#sk-container-id-1 div.sk-parallel-item:last-child::after {align-self: flex-start;width: 50%;}#sk-container-id-1 div.sk-parallel-item:only-child::after {width: 0;}#sk-container-id-1 div.sk-dashed-wrapped {border: 1px dashed gray;margin: 0 0.4em 0.5em 0.4em;box-sizing: border-box;padding-bottom: 0.4em;background-color: white;}#sk-container-id-1 div.sk-label label {font-family: monospace;font-weight: bold;display: inline-block;line-height: 1.2em;}#sk-container-id-1 div.sk-label-container {text-align: center;}#sk-container-id-1 div.sk-container {/* jupyter's `normalize.less` sets `[hidden] { display: none; }` but bootstrap.min.css set `[hidden] { display: none !important; }` so we also need the `!important` here to be able to override the default hidden behavior on the sphinx rendered scikit-learn.org. See: https://github.com/scikit-learn/scikit-learn/issues/21755 */display: inline-block !important;position: relative;}#sk-container-id-1 div.sk-text-repr-fallback {display: none;}</style><div id=\"sk-container-id-1\" class=\"sk-top-container\"><div class=\"sk-text-repr-fallback\"><pre>RandomForestClassifier(random_state=42)</pre><b>In a Jupyter environment, please rerun this cell to show the HTML representation or trust the notebook. <br />On GitHub, the HTML representation is unable to render, please try loading this page with nbviewer.org.</b></div><div class=\"sk-container\" hidden><div class=\"sk-item\"><div class=\"sk-estimator sk-toggleable\"><input class=\"sk-toggleable__control sk-hidden--visually\" id=\"sk-estimator-id-1\" type=\"checkbox\" checked><label for=\"sk-estimator-id-1\" class=\"sk-toggleable__label sk-toggleable__label-arrow\">RandomForestClassifier</label><div class=\"sk-toggleable__content\"><pre>RandomForestClassifier(random_state=42)</pre></div></div></div></div></div>"
      ],
      "text/plain": [
       "RandomForestClassifier(random_state=42)"
      ]
     },
     "execution_count": 15,
     "metadata": {},
     "output_type": "execute_result"
    }
   ],
   "source": [
    "rfc = RandomForestClassifier(random_state=42)\n",
    "rfc.fit(X_train[col], y_train)"
   ]
  },
  {
   "cell_type": "code",
   "execution_count": 16,
   "id": "9deff48b",
   "metadata": {
    "execution": {
     "iopub.execute_input": "2023-08-04T19:42:28.241978Z",
     "iopub.status.busy": "2023-08-04T19:42:28.241567Z",
     "iopub.status.idle": "2023-08-04T19:42:28.268212Z",
     "shell.execute_reply": "2023-08-04T19:42:28.266778Z"
    },
    "papermill": {
     "duration": 0.054208,
     "end_time": "2023-08-04T19:42:28.271030",
     "exception": false,
     "start_time": "2023-08-04T19:42:28.216822",
     "status": "completed"
    },
    "tags": []
   },
   "outputs": [],
   "source": [
    "y_pred = rfc.predict(X_test[col])"
   ]
  },
  {
   "cell_type": "code",
   "execution_count": 17,
   "id": "60689936",
   "metadata": {
    "execution": {
     "iopub.execute_input": "2023-08-04T19:42:28.319716Z",
     "iopub.status.busy": "2023-08-04T19:42:28.319319Z",
     "iopub.status.idle": "2023-08-04T19:42:28.337528Z",
     "shell.execute_reply": "2023-08-04T19:42:28.335938Z"
    },
    "papermill": {
     "duration": 0.046324,
     "end_time": "2023-08-04T19:42:28.340440",
     "exception": false,
     "start_time": "2023-08-04T19:42:28.294116",
     "status": "completed"
    },
    "tags": []
   },
   "outputs": [
    {
     "name": "stdout",
     "output_type": "stream",
     "text": [
      "              precision    recall  f1-score   support\n",
      "\n",
      "           0       0.79      0.94      0.86        98\n",
      "           1       0.90      0.69      0.78        80\n",
      "\n",
      "    accuracy                           0.83       178\n",
      "   macro avg       0.84      0.81      0.82       178\n",
      "weighted avg       0.84      0.83      0.82       178\n",
      "\n"
     ]
    }
   ],
   "source": [
    "print(metrics.classification_report(y_test, y_pred))"
   ]
  },
  {
   "cell_type": "code",
   "execution_count": 18,
   "id": "9e55240e",
   "metadata": {
    "execution": {
     "iopub.execute_input": "2023-08-04T19:42:28.390010Z",
     "iopub.status.busy": "2023-08-04T19:42:28.389519Z",
     "iopub.status.idle": "2023-08-04T19:42:28.401760Z",
     "shell.execute_reply": "2023-08-04T19:42:28.400253Z"
    },
    "papermill": {
     "duration": 0.04125,
     "end_time": "2023-08-04T19:42:28.404590",
     "exception": false,
     "start_time": "2023-08-04T19:42:28.363340",
     "status": "completed"
    },
    "tags": []
   },
   "outputs": [
    {
     "data": {
      "text/plain": [
       "array([[92,  6],\n",
       "       [25, 55]])"
      ]
     },
     "execution_count": 18,
     "metadata": {},
     "output_type": "execute_result"
    }
   ],
   "source": [
    "metrics.confusion_matrix(y_test, y_pred)"
   ]
  },
  {
   "cell_type": "code",
   "execution_count": 19,
   "id": "d63ad880",
   "metadata": {
    "execution": {
     "iopub.execute_input": "2023-08-04T19:42:28.453699Z",
     "iopub.status.busy": "2023-08-04T19:42:28.453255Z",
     "iopub.status.idle": "2023-08-04T19:42:28.717508Z",
     "shell.execute_reply": "2023-08-04T19:42:28.716211Z"
    },
    "papermill": {
     "duration": 0.292704,
     "end_time": "2023-08-04T19:42:28.720227",
     "exception": false,
     "start_time": "2023-08-04T19:42:28.427523",
     "status": "completed"
    },
    "tags": []
   },
   "outputs": [
    {
     "data": {
      "text/html": [
       "<style>#sk-container-id-2 {color: black;background-color: white;}#sk-container-id-2 pre{padding: 0;}#sk-container-id-2 div.sk-toggleable {background-color: white;}#sk-container-id-2 label.sk-toggleable__label {cursor: pointer;display: block;width: 100%;margin-bottom: 0;padding: 0.3em;box-sizing: border-box;text-align: center;}#sk-container-id-2 label.sk-toggleable__label-arrow:before {content: \"▸\";float: left;margin-right: 0.25em;color: #696969;}#sk-container-id-2 label.sk-toggleable__label-arrow:hover:before {color: black;}#sk-container-id-2 div.sk-estimator:hover label.sk-toggleable__label-arrow:before {color: black;}#sk-container-id-2 div.sk-toggleable__content {max-height: 0;max-width: 0;overflow: hidden;text-align: left;background-color: #f0f8ff;}#sk-container-id-2 div.sk-toggleable__content pre {margin: 0.2em;color: black;border-radius: 0.25em;background-color: #f0f8ff;}#sk-container-id-2 input.sk-toggleable__control:checked~div.sk-toggleable__content {max-height: 200px;max-width: 100%;overflow: auto;}#sk-container-id-2 input.sk-toggleable__control:checked~label.sk-toggleable__label-arrow:before {content: \"▾\";}#sk-container-id-2 div.sk-estimator input.sk-toggleable__control:checked~label.sk-toggleable__label {background-color: #d4ebff;}#sk-container-id-2 div.sk-label input.sk-toggleable__control:checked~label.sk-toggleable__label {background-color: #d4ebff;}#sk-container-id-2 input.sk-hidden--visually {border: 0;clip: rect(1px 1px 1px 1px);clip: rect(1px, 1px, 1px, 1px);height: 1px;margin: -1px;overflow: hidden;padding: 0;position: absolute;width: 1px;}#sk-container-id-2 div.sk-estimator {font-family: monospace;background-color: #f0f8ff;border: 1px dotted black;border-radius: 0.25em;box-sizing: border-box;margin-bottom: 0.5em;}#sk-container-id-2 div.sk-estimator:hover {background-color: #d4ebff;}#sk-container-id-2 div.sk-parallel-item::after {content: \"\";width: 100%;border-bottom: 1px solid gray;flex-grow: 1;}#sk-container-id-2 div.sk-label:hover label.sk-toggleable__label {background-color: #d4ebff;}#sk-container-id-2 div.sk-serial::before {content: \"\";position: absolute;border-left: 1px solid gray;box-sizing: border-box;top: 0;bottom: 0;left: 50%;z-index: 0;}#sk-container-id-2 div.sk-serial {display: flex;flex-direction: column;align-items: center;background-color: white;padding-right: 0.2em;padding-left: 0.2em;position: relative;}#sk-container-id-2 div.sk-item {position: relative;z-index: 1;}#sk-container-id-2 div.sk-parallel {display: flex;align-items: stretch;justify-content: center;background-color: white;position: relative;}#sk-container-id-2 div.sk-item::before, #sk-container-id-2 div.sk-parallel-item::before {content: \"\";position: absolute;border-left: 1px solid gray;box-sizing: border-box;top: 0;bottom: 0;left: 50%;z-index: -1;}#sk-container-id-2 div.sk-parallel-item {display: flex;flex-direction: column;z-index: 1;position: relative;background-color: white;}#sk-container-id-2 div.sk-parallel-item:first-child::after {align-self: flex-end;width: 50%;}#sk-container-id-2 div.sk-parallel-item:last-child::after {align-self: flex-start;width: 50%;}#sk-container-id-2 div.sk-parallel-item:only-child::after {width: 0;}#sk-container-id-2 div.sk-dashed-wrapped {border: 1px dashed gray;margin: 0 0.4em 0.5em 0.4em;box-sizing: border-box;padding-bottom: 0.4em;background-color: white;}#sk-container-id-2 div.sk-label label {font-family: monospace;font-weight: bold;display: inline-block;line-height: 1.2em;}#sk-container-id-2 div.sk-label-container {text-align: center;}#sk-container-id-2 div.sk-container {/* jupyter's `normalize.less` sets `[hidden] { display: none; }` but bootstrap.min.css set `[hidden] { display: none !important; }` so we also need the `!important` here to be able to override the default hidden behavior on the sphinx rendered scikit-learn.org. See: https://github.com/scikit-learn/scikit-learn/issues/21755 */display: inline-block !important;position: relative;}#sk-container-id-2 div.sk-text-repr-fallback {display: none;}</style><div id=\"sk-container-id-2\" class=\"sk-top-container\"><div class=\"sk-text-repr-fallback\"><pre>RandomForestClassifier(random_state=42)</pre><b>In a Jupyter environment, please rerun this cell to show the HTML representation or trust the notebook. <br />On GitHub, the HTML representation is unable to render, please try loading this page with nbviewer.org.</b></div><div class=\"sk-container\" hidden><div class=\"sk-item\"><div class=\"sk-estimator sk-toggleable\"><input class=\"sk-toggleable__control sk-hidden--visually\" id=\"sk-estimator-id-2\" type=\"checkbox\" checked><label for=\"sk-estimator-id-2\" class=\"sk-toggleable__label sk-toggleable__label-arrow\">RandomForestClassifier</label><div class=\"sk-toggleable__content\"><pre>RandomForestClassifier(random_state=42)</pre></div></div></div></div></div>"
      ],
      "text/plain": [
       "RandomForestClassifier(random_state=42)"
      ]
     },
     "execution_count": 19,
     "metadata": {},
     "output_type": "execute_result"
    }
   ],
   "source": [
    "rfc = RandomForestClassifier(random_state=42)\n",
    "\n",
    "rfc.fit(X[col],y)"
   ]
  },
  {
   "cell_type": "code",
   "execution_count": null,
   "id": "f59bca0f",
   "metadata": {
    "papermill": {
     "duration": 0.023984,
     "end_time": "2023-08-04T19:42:28.767391",
     "exception": false,
     "start_time": "2023-08-04T19:42:28.743407",
     "status": "completed"
    },
    "tags": []
   },
   "outputs": [],
   "source": []
  },
  {
   "cell_type": "code",
   "execution_count": 20,
   "id": "24ebe596",
   "metadata": {
    "execution": {
     "iopub.execute_input": "2023-08-04T19:42:28.817131Z",
     "iopub.status.busy": "2023-08-04T19:42:28.816695Z",
     "iopub.status.idle": "2023-08-04T19:42:28.822763Z",
     "shell.execute_reply": "2023-08-04T19:42:28.821535Z"
    },
    "papermill": {
     "duration": 0.033657,
     "end_time": "2023-08-04T19:42:28.825532",
     "exception": false,
     "start_time": "2023-08-04T19:42:28.791875",
     "status": "completed"
    },
    "tags": []
   },
   "outputs": [],
   "source": [
    "test_path = 'https://raw.githubusercontent.com/VivekJeldi/Titanic-Survival/main/Test_WOE.csv'"
   ]
  },
  {
   "cell_type": "code",
   "execution_count": 21,
   "id": "99ac6727",
   "metadata": {
    "execution": {
     "iopub.execute_input": "2023-08-04T19:42:28.875303Z",
     "iopub.status.busy": "2023-08-04T19:42:28.874854Z",
     "iopub.status.idle": "2023-08-04T19:42:29.102819Z",
     "shell.execute_reply": "2023-08-04T19:42:29.101453Z"
    },
    "papermill": {
     "duration": 0.256809,
     "end_time": "2023-08-04T19:42:29.105515",
     "exception": false,
     "start_time": "2023-08-04T19:42:28.848706",
     "status": "completed"
    },
    "tags": []
   },
   "outputs": [
    {
     "data": {
      "text/html": [
       "<div>\n",
       "<style scoped>\n",
       "    .dataframe tbody tr th:only-of-type {\n",
       "        vertical-align: middle;\n",
       "    }\n",
       "\n",
       "    .dataframe tbody tr th {\n",
       "        vertical-align: top;\n",
       "    }\n",
       "\n",
       "    .dataframe thead th {\n",
       "        text-align: right;\n",
       "    }\n",
       "</style>\n",
       "<table border=\"1\" class=\"dataframe\">\n",
       "  <thead>\n",
       "    <tr style=\"text-align: right;\">\n",
       "      <th></th>\n",
       "      <th>PassengerId</th>\n",
       "      <th>Pclass</th>\n",
       "      <th>Name</th>\n",
       "      <th>Sex</th>\n",
       "      <th>Age</th>\n",
       "      <th>SibSp</th>\n",
       "      <th>Parch</th>\n",
       "      <th>Ticket</th>\n",
       "      <th>Fare</th>\n",
       "      <th>Cabin</th>\n",
       "      <th>Embarked</th>\n",
       "    </tr>\n",
       "  </thead>\n",
       "  <tbody>\n",
       "    <tr>\n",
       "      <th>0</th>\n",
       "      <td>892</td>\n",
       "      <td>-0.668306</td>\n",
       "      <td>Kelly, Mr. James</td>\n",
       "      <td>-0.983517</td>\n",
       "      <td>-0.057680</td>\n",
       "      <td>0.043481</td>\n",
       "      <td>-0.040032</td>\n",
       "      <td>330911</td>\n",
       "      <td>-0.390257</td>\n",
       "      <td>1.610899</td>\n",
       "      <td>0.022514</td>\n",
       "    </tr>\n",
       "    <tr>\n",
       "      <th>1</th>\n",
       "      <td>893</td>\n",
       "      <td>-0.668306</td>\n",
       "      <td>Wilkes, Mrs. James (Ellen Needs)</td>\n",
       "      <td>1.528054</td>\n",
       "      <td>-0.221683</td>\n",
       "      <td>0.043481</td>\n",
       "      <td>-0.040032</td>\n",
       "      <td>363272</td>\n",
       "      <td>-0.390257</td>\n",
       "      <td>1.610899</td>\n",
       "      <td>-0.193903</td>\n",
       "    </tr>\n",
       "    <tr>\n",
       "      <th>2</th>\n",
       "      <td>894</td>\n",
       "      <td>0.362662</td>\n",
       "      <td>Myles, Mr. Thomas Francis</td>\n",
       "      <td>-0.983517</td>\n",
       "      <td>-0.221683</td>\n",
       "      <td>0.043481</td>\n",
       "      <td>-0.040032</td>\n",
       "      <td>240276</td>\n",
       "      <td>-0.390257</td>\n",
       "      <td>0.301566</td>\n",
       "      <td>0.022514</td>\n",
       "    </tr>\n",
       "    <tr>\n",
       "      <th>3</th>\n",
       "      <td>895</td>\n",
       "      <td>-0.668306</td>\n",
       "      <td>Wirz, Mr. Albert</td>\n",
       "      <td>-0.983517</td>\n",
       "      <td>-0.057680</td>\n",
       "      <td>0.043481</td>\n",
       "      <td>-0.040032</td>\n",
       "      <td>315154</td>\n",
       "      <td>-0.390257</td>\n",
       "      <td>1.610899</td>\n",
       "      <td>-0.193903</td>\n",
       "    </tr>\n",
       "    <tr>\n",
       "      <th>4</th>\n",
       "      <td>896</td>\n",
       "      <td>-0.668306</td>\n",
       "      <td>Hirvonen, Mrs. Alexander (Helga E Lindqvist)</td>\n",
       "      <td>1.528054</td>\n",
       "      <td>-0.057680</td>\n",
       "      <td>0.043481</td>\n",
       "      <td>-0.040032</td>\n",
       "      <td>3101298</td>\n",
       "      <td>-0.390257</td>\n",
       "      <td>1.610899</td>\n",
       "      <td>-0.193903</td>\n",
       "    </tr>\n",
       "  </tbody>\n",
       "</table>\n",
       "</div>"
      ],
      "text/plain": [
       "   PassengerId    Pclass                                          Name  \\\n",
       "0          892 -0.668306                              Kelly, Mr. James   \n",
       "1          893 -0.668306              Wilkes, Mrs. James (Ellen Needs)   \n",
       "2          894  0.362662                     Myles, Mr. Thomas Francis   \n",
       "3          895 -0.668306                              Wirz, Mr. Albert   \n",
       "4          896 -0.668306  Hirvonen, Mrs. Alexander (Helga E Lindqvist)   \n",
       "\n",
       "        Sex       Age     SibSp     Parch   Ticket      Fare     Cabin  \\\n",
       "0 -0.983517 -0.057680  0.043481 -0.040032   330911 -0.390257  1.610899   \n",
       "1  1.528054 -0.221683  0.043481 -0.040032   363272 -0.390257  1.610899   \n",
       "2 -0.983517 -0.221683  0.043481 -0.040032   240276 -0.390257  0.301566   \n",
       "3 -0.983517 -0.057680  0.043481 -0.040032   315154 -0.390257  1.610899   \n",
       "4  1.528054 -0.057680  0.043481 -0.040032  3101298 -0.390257  1.610899   \n",
       "\n",
       "   Embarked  \n",
       "0  0.022514  \n",
       "1 -0.193903  \n",
       "2  0.022514  \n",
       "3 -0.193903  \n",
       "4 -0.193903  "
      ]
     },
     "execution_count": 21,
     "metadata": {},
     "output_type": "execute_result"
    }
   ],
   "source": [
    "test = pd.read_csv(test_path)\n",
    "test.head()"
   ]
  },
  {
   "cell_type": "code",
   "execution_count": 22,
   "id": "e0a2003f",
   "metadata": {
    "execution": {
     "iopub.execute_input": "2023-08-04T19:42:29.155856Z",
     "iopub.status.busy": "2023-08-04T19:42:29.155447Z",
     "iopub.status.idle": "2023-08-04T19:42:29.183371Z",
     "shell.execute_reply": "2023-08-04T19:42:29.182393Z"
    },
    "papermill": {
     "duration": 0.056402,
     "end_time": "2023-08-04T19:42:29.185958",
     "exception": false,
     "start_time": "2023-08-04T19:42:29.129556",
     "status": "completed"
    },
    "tags": []
   },
   "outputs": [],
   "source": [
    "y_pred = rfc.predict_proba(test[col])\n"
   ]
  },
  {
   "cell_type": "code",
   "execution_count": 23,
   "id": "2d87af69",
   "metadata": {
    "execution": {
     "iopub.execute_input": "2023-08-04T19:42:29.236499Z",
     "iopub.status.busy": "2023-08-04T19:42:29.236054Z",
     "iopub.status.idle": "2023-08-04T19:42:29.247481Z",
     "shell.execute_reply": "2023-08-04T19:42:29.246289Z"
    },
    "papermill": {
     "duration": 0.040063,
     "end_time": "2023-08-04T19:42:29.250496",
     "exception": false,
     "start_time": "2023-08-04T19:42:29.210433",
     "status": "completed"
    },
    "tags": []
   },
   "outputs": [
    {
     "data": {
      "text/html": [
       "<div>\n",
       "<style scoped>\n",
       "    .dataframe tbody tr th:only-of-type {\n",
       "        vertical-align: middle;\n",
       "    }\n",
       "\n",
       "    .dataframe tbody tr th {\n",
       "        vertical-align: top;\n",
       "    }\n",
       "\n",
       "    .dataframe thead th {\n",
       "        text-align: right;\n",
       "    }\n",
       "</style>\n",
       "<table border=\"1\" class=\"dataframe\">\n",
       "  <thead>\n",
       "    <tr style=\"text-align: right;\">\n",
       "      <th></th>\n",
       "      <th>0</th>\n",
       "      <th>1</th>\n",
       "    </tr>\n",
       "  </thead>\n",
       "  <tbody>\n",
       "    <tr>\n",
       "      <th>0</th>\n",
       "      <td>0.920245</td>\n",
       "      <td>0.079755</td>\n",
       "    </tr>\n",
       "    <tr>\n",
       "      <th>1</th>\n",
       "      <td>0.558049</td>\n",
       "      <td>0.441951</td>\n",
       "    </tr>\n",
       "    <tr>\n",
       "      <th>2</th>\n",
       "      <td>0.966812</td>\n",
       "      <td>0.033188</td>\n",
       "    </tr>\n",
       "    <tr>\n",
       "      <th>3</th>\n",
       "      <td>0.880924</td>\n",
       "      <td>0.119076</td>\n",
       "    </tr>\n",
       "    <tr>\n",
       "      <th>4</th>\n",
       "      <td>0.558049</td>\n",
       "      <td>0.441951</td>\n",
       "    </tr>\n",
       "  </tbody>\n",
       "</table>\n",
       "</div>"
      ],
      "text/plain": [
       "          0         1\n",
       "0  0.920245  0.079755\n",
       "1  0.558049  0.441951\n",
       "2  0.966812  0.033188\n",
       "3  0.880924  0.119076\n",
       "4  0.558049  0.441951"
      ]
     },
     "execution_count": 23,
     "metadata": {},
     "output_type": "execute_result"
    }
   ],
   "source": [
    "y_pred_df = pd.DataFrame(y_pred)\n",
    "y_pred_df.head()"
   ]
  },
  {
   "cell_type": "code",
   "execution_count": 24,
   "id": "f16d4181",
   "metadata": {
    "execution": {
     "iopub.execute_input": "2023-08-04T19:42:29.300523Z",
     "iopub.status.busy": "2023-08-04T19:42:29.300081Z",
     "iopub.status.idle": "2023-08-04T19:42:29.312823Z",
     "shell.execute_reply": "2023-08-04T19:42:29.311246Z"
    },
    "papermill": {
     "duration": 0.040987,
     "end_time": "2023-08-04T19:42:29.315288",
     "exception": false,
     "start_time": "2023-08-04T19:42:29.274301",
     "status": "completed"
    },
    "tags": []
   },
   "outputs": [
    {
     "data": {
      "text/html": [
       "<div>\n",
       "<style scoped>\n",
       "    .dataframe tbody tr th:only-of-type {\n",
       "        vertical-align: middle;\n",
       "    }\n",
       "\n",
       "    .dataframe tbody tr th {\n",
       "        vertical-align: top;\n",
       "    }\n",
       "\n",
       "    .dataframe thead th {\n",
       "        text-align: right;\n",
       "    }\n",
       "</style>\n",
       "<table border=\"1\" class=\"dataframe\">\n",
       "  <thead>\n",
       "    <tr style=\"text-align: right;\">\n",
       "      <th></th>\n",
       "      <th>1</th>\n",
       "    </tr>\n",
       "  </thead>\n",
       "  <tbody>\n",
       "    <tr>\n",
       "      <th>0</th>\n",
       "      <td>0.079755</td>\n",
       "    </tr>\n",
       "    <tr>\n",
       "      <th>1</th>\n",
       "      <td>0.441951</td>\n",
       "    </tr>\n",
       "    <tr>\n",
       "      <th>2</th>\n",
       "      <td>0.033188</td>\n",
       "    </tr>\n",
       "    <tr>\n",
       "      <th>3</th>\n",
       "      <td>0.119076</td>\n",
       "    </tr>\n",
       "    <tr>\n",
       "      <th>4</th>\n",
       "      <td>0.441951</td>\n",
       "    </tr>\n",
       "  </tbody>\n",
       "</table>\n",
       "</div>"
      ],
      "text/plain": [
       "          1\n",
       "0  0.079755\n",
       "1  0.441951\n",
       "2  0.033188\n",
       "3  0.119076\n",
       "4  0.441951"
      ]
     },
     "execution_count": 24,
     "metadata": {},
     "output_type": "execute_result"
    }
   ],
   "source": [
    "y_pred_1 = y_pred_df.iloc[:,1]\n",
    "pred_1_df = pd.DataFrame(y_pred_1)\n",
    "pred_1_df.head()"
   ]
  },
  {
   "cell_type": "code",
   "execution_count": 25,
   "id": "ae976a24",
   "metadata": {
    "execution": {
     "iopub.execute_input": "2023-08-04T19:42:29.366213Z",
     "iopub.status.busy": "2023-08-04T19:42:29.365577Z",
     "iopub.status.idle": "2023-08-04T19:42:29.379221Z",
     "shell.execute_reply": "2023-08-04T19:42:29.378002Z"
    },
    "papermill": {
     "duration": 0.041692,
     "end_time": "2023-08-04T19:42:29.381614",
     "exception": false,
     "start_time": "2023-08-04T19:42:29.339922",
     "status": "completed"
    },
    "tags": []
   },
   "outputs": [
    {
     "data": {
      "text/html": [
       "<div>\n",
       "<style scoped>\n",
       "    .dataframe tbody tr th:only-of-type {\n",
       "        vertical-align: middle;\n",
       "    }\n",
       "\n",
       "    .dataframe tbody tr th {\n",
       "        vertical-align: top;\n",
       "    }\n",
       "\n",
       "    .dataframe thead th {\n",
       "        text-align: right;\n",
       "    }\n",
       "</style>\n",
       "<table border=\"1\" class=\"dataframe\">\n",
       "  <thead>\n",
       "    <tr style=\"text-align: right;\">\n",
       "      <th></th>\n",
       "      <th>PassengerId</th>\n",
       "      <th>1</th>\n",
       "      <th>Survived</th>\n",
       "    </tr>\n",
       "  </thead>\n",
       "  <tbody>\n",
       "    <tr>\n",
       "      <th>0</th>\n",
       "      <td>892</td>\n",
       "      <td>0.079755</td>\n",
       "      <td>0</td>\n",
       "    </tr>\n",
       "    <tr>\n",
       "      <th>1</th>\n",
       "      <td>893</td>\n",
       "      <td>0.441951</td>\n",
       "      <td>0</td>\n",
       "    </tr>\n",
       "    <tr>\n",
       "      <th>2</th>\n",
       "      <td>894</td>\n",
       "      <td>0.033188</td>\n",
       "      <td>0</td>\n",
       "    </tr>\n",
       "    <tr>\n",
       "      <th>3</th>\n",
       "      <td>895</td>\n",
       "      <td>0.119076</td>\n",
       "      <td>0</td>\n",
       "    </tr>\n",
       "    <tr>\n",
       "      <th>4</th>\n",
       "      <td>896</td>\n",
       "      <td>0.441951</td>\n",
       "      <td>0</td>\n",
       "    </tr>\n",
       "  </tbody>\n",
       "</table>\n",
       "</div>"
      ],
      "text/plain": [
       "   PassengerId         1  Survived\n",
       "0          892  0.079755         0\n",
       "1          893  0.441951         0\n",
       "2          894  0.033188         0\n",
       "3          895  0.119076         0\n",
       "4          896  0.441951         0"
      ]
     },
     "execution_count": 25,
     "metadata": {},
     "output_type": "execute_result"
    }
   ],
   "source": [
    "test_pred = pd.concat([test['PassengerId'], pred_1_df], 1)\n",
    "test_pred['Survived'] = test_pred.loc[:,1].map(lambda x:1 if x>0.5 else 0)\n",
    "test_pred.head()"
   ]
  },
  {
   "cell_type": "code",
   "execution_count": 26,
   "id": "965ed506",
   "metadata": {
    "execution": {
     "iopub.execute_input": "2023-08-04T19:42:29.433356Z",
     "iopub.status.busy": "2023-08-04T19:42:29.432647Z",
     "iopub.status.idle": "2023-08-04T19:42:29.446070Z",
     "shell.execute_reply": "2023-08-04T19:42:29.445083Z"
    },
    "papermill": {
     "duration": 0.042522,
     "end_time": "2023-08-04T19:42:29.448786",
     "exception": false,
     "start_time": "2023-08-04T19:42:29.406264",
     "status": "completed"
    },
    "tags": []
   },
   "outputs": [
    {
     "data": {
      "text/html": [
       "<div>\n",
       "<style scoped>\n",
       "    .dataframe tbody tr th:only-of-type {\n",
       "        vertical-align: middle;\n",
       "    }\n",
       "\n",
       "    .dataframe tbody tr th {\n",
       "        vertical-align: top;\n",
       "    }\n",
       "\n",
       "    .dataframe thead th {\n",
       "        text-align: right;\n",
       "    }\n",
       "</style>\n",
       "<table border=\"1\" class=\"dataframe\">\n",
       "  <thead>\n",
       "    <tr style=\"text-align: right;\">\n",
       "      <th></th>\n",
       "      <th>PassengerId</th>\n",
       "      <th>Survived</th>\n",
       "    </tr>\n",
       "  </thead>\n",
       "  <tbody>\n",
       "    <tr>\n",
       "      <th>0</th>\n",
       "      <td>892</td>\n",
       "      <td>0</td>\n",
       "    </tr>\n",
       "    <tr>\n",
       "      <th>1</th>\n",
       "      <td>893</td>\n",
       "      <td>0</td>\n",
       "    </tr>\n",
       "    <tr>\n",
       "      <th>2</th>\n",
       "      <td>894</td>\n",
       "      <td>0</td>\n",
       "    </tr>\n",
       "    <tr>\n",
       "      <th>3</th>\n",
       "      <td>895</td>\n",
       "      <td>0</td>\n",
       "    </tr>\n",
       "    <tr>\n",
       "      <th>4</th>\n",
       "      <td>896</td>\n",
       "      <td>0</td>\n",
       "    </tr>\n",
       "  </tbody>\n",
       "</table>\n",
       "</div>"
      ],
      "text/plain": [
       "   PassengerId  Survived\n",
       "0          892         0\n",
       "1          893         0\n",
       "2          894         0\n",
       "3          895         0\n",
       "4          896         0"
      ]
     },
     "execution_count": 26,
     "metadata": {},
     "output_type": "execute_result"
    }
   ],
   "source": [
    "test_pred = test_pred.drop(1, axis=1)\n",
    "test_pred.head()"
   ]
  },
  {
   "cell_type": "code",
   "execution_count": 27,
   "id": "b5e5f817",
   "metadata": {
    "execution": {
     "iopub.execute_input": "2023-08-04T19:42:29.500370Z",
     "iopub.status.busy": "2023-08-04T19:42:29.499570Z",
     "iopub.status.idle": "2023-08-04T19:42:29.509701Z",
     "shell.execute_reply": "2023-08-04T19:42:29.508568Z"
    },
    "papermill": {
     "duration": 0.038933,
     "end_time": "2023-08-04T19:42:29.512522",
     "exception": false,
     "start_time": "2023-08-04T19:42:29.473589",
     "status": "completed"
    },
    "tags": []
   },
   "outputs": [],
   "source": [
    "test_pred.to_csv('RF_0.5_default_col_3.csv', index=False)"
   ]
  },
  {
   "cell_type": "code",
   "execution_count": null,
   "id": "f2dc736b",
   "metadata": {
    "papermill": {
     "duration": 0.024945,
     "end_time": "2023-08-04T19:42:29.563482",
     "exception": false,
     "start_time": "2023-08-04T19:42:29.538537",
     "status": "completed"
    },
    "tags": []
   },
   "outputs": [],
   "source": []
  },
  {
   "cell_type": "code",
   "execution_count": null,
   "id": "e8de8247",
   "metadata": {
    "papermill": {
     "duration": 0.024478,
     "end_time": "2023-08-04T19:42:29.612789",
     "exception": false,
     "start_time": "2023-08-04T19:42:29.588311",
     "status": "completed"
    },
    "tags": []
   },
   "outputs": [],
   "source": []
  },
  {
   "cell_type": "code",
   "execution_count": 28,
   "id": "e3425a04",
   "metadata": {
    "execution": {
     "iopub.execute_input": "2023-08-04T19:42:29.664392Z",
     "iopub.status.busy": "2023-08-04T19:42:29.663971Z",
     "iopub.status.idle": "2023-08-04T19:42:29.668929Z",
     "shell.execute_reply": "2023-08-04T19:42:29.667746Z"
    },
    "papermill": {
     "duration": 0.033613,
     "end_time": "2023-08-04T19:42:29.671709",
     "exception": false,
     "start_time": "2023-08-04T19:42:29.638096",
     "status": "completed"
    },
    "tags": []
   },
   "outputs": [],
   "source": [
    "n_folds = 5"
   ]
  },
  {
   "cell_type": "code",
   "execution_count": 29,
   "id": "07784466",
   "metadata": {
    "execution": {
     "iopub.execute_input": "2023-08-04T19:42:29.723034Z",
     "iopub.status.busy": "2023-08-04T19:42:29.722017Z",
     "iopub.status.idle": "2023-08-04T19:42:36.868439Z",
     "shell.execute_reply": "2023-08-04T19:42:36.867566Z"
    },
    "papermill": {
     "duration": 7.174643,
     "end_time": "2023-08-04T19:42:36.870699",
     "exception": false,
     "start_time": "2023-08-04T19:42:29.696056",
     "status": "completed"
    },
    "tags": []
   },
   "outputs": [
    {
     "data": {
      "text/html": [
       "<style>#sk-container-id-3 {color: black;background-color: white;}#sk-container-id-3 pre{padding: 0;}#sk-container-id-3 div.sk-toggleable {background-color: white;}#sk-container-id-3 label.sk-toggleable__label {cursor: pointer;display: block;width: 100%;margin-bottom: 0;padding: 0.3em;box-sizing: border-box;text-align: center;}#sk-container-id-3 label.sk-toggleable__label-arrow:before {content: \"▸\";float: left;margin-right: 0.25em;color: #696969;}#sk-container-id-3 label.sk-toggleable__label-arrow:hover:before {color: black;}#sk-container-id-3 div.sk-estimator:hover label.sk-toggleable__label-arrow:before {color: black;}#sk-container-id-3 div.sk-toggleable__content {max-height: 0;max-width: 0;overflow: hidden;text-align: left;background-color: #f0f8ff;}#sk-container-id-3 div.sk-toggleable__content pre {margin: 0.2em;color: black;border-radius: 0.25em;background-color: #f0f8ff;}#sk-container-id-3 input.sk-toggleable__control:checked~div.sk-toggleable__content {max-height: 200px;max-width: 100%;overflow: auto;}#sk-container-id-3 input.sk-toggleable__control:checked~label.sk-toggleable__label-arrow:before {content: \"▾\";}#sk-container-id-3 div.sk-estimator input.sk-toggleable__control:checked~label.sk-toggleable__label {background-color: #d4ebff;}#sk-container-id-3 div.sk-label input.sk-toggleable__control:checked~label.sk-toggleable__label {background-color: #d4ebff;}#sk-container-id-3 input.sk-hidden--visually {border: 0;clip: rect(1px 1px 1px 1px);clip: rect(1px, 1px, 1px, 1px);height: 1px;margin: -1px;overflow: hidden;padding: 0;position: absolute;width: 1px;}#sk-container-id-3 div.sk-estimator {font-family: monospace;background-color: #f0f8ff;border: 1px dotted black;border-radius: 0.25em;box-sizing: border-box;margin-bottom: 0.5em;}#sk-container-id-3 div.sk-estimator:hover {background-color: #d4ebff;}#sk-container-id-3 div.sk-parallel-item::after {content: \"\";width: 100%;border-bottom: 1px solid gray;flex-grow: 1;}#sk-container-id-3 div.sk-label:hover label.sk-toggleable__label {background-color: #d4ebff;}#sk-container-id-3 div.sk-serial::before {content: \"\";position: absolute;border-left: 1px solid gray;box-sizing: border-box;top: 0;bottom: 0;left: 50%;z-index: 0;}#sk-container-id-3 div.sk-serial {display: flex;flex-direction: column;align-items: center;background-color: white;padding-right: 0.2em;padding-left: 0.2em;position: relative;}#sk-container-id-3 div.sk-item {position: relative;z-index: 1;}#sk-container-id-3 div.sk-parallel {display: flex;align-items: stretch;justify-content: center;background-color: white;position: relative;}#sk-container-id-3 div.sk-item::before, #sk-container-id-3 div.sk-parallel-item::before {content: \"\";position: absolute;border-left: 1px solid gray;box-sizing: border-box;top: 0;bottom: 0;left: 50%;z-index: -1;}#sk-container-id-3 div.sk-parallel-item {display: flex;flex-direction: column;z-index: 1;position: relative;background-color: white;}#sk-container-id-3 div.sk-parallel-item:first-child::after {align-self: flex-end;width: 50%;}#sk-container-id-3 div.sk-parallel-item:last-child::after {align-self: flex-start;width: 50%;}#sk-container-id-3 div.sk-parallel-item:only-child::after {width: 0;}#sk-container-id-3 div.sk-dashed-wrapped {border: 1px dashed gray;margin: 0 0.4em 0.5em 0.4em;box-sizing: border-box;padding-bottom: 0.4em;background-color: white;}#sk-container-id-3 div.sk-label label {font-family: monospace;font-weight: bold;display: inline-block;line-height: 1.2em;}#sk-container-id-3 div.sk-label-container {text-align: center;}#sk-container-id-3 div.sk-container {/* jupyter's `normalize.less` sets `[hidden] { display: none; }` but bootstrap.min.css set `[hidden] { display: none !important; }` so we also need the `!important` here to be able to override the default hidden behavior on the sphinx rendered scikit-learn.org. See: https://github.com/scikit-learn/scikit-learn/issues/21755 */display: inline-block !important;position: relative;}#sk-container-id-3 div.sk-text-repr-fallback {display: none;}</style><div id=\"sk-container-id-3\" class=\"sk-top-container\"><div class=\"sk-text-repr-fallback\"><pre>GridSearchCV(cv=5, estimator=RandomForestClassifier(),\n",
       "             param_grid={&#x27;max_depth&#x27;: range(0, 6)}, return_train_score=True)</pre><b>In a Jupyter environment, please rerun this cell to show the HTML representation or trust the notebook. <br />On GitHub, the HTML representation is unable to render, please try loading this page with nbviewer.org.</b></div><div class=\"sk-container\" hidden><div class=\"sk-item sk-dashed-wrapped\"><div class=\"sk-label-container\"><div class=\"sk-label sk-toggleable\"><input class=\"sk-toggleable__control sk-hidden--visually\" id=\"sk-estimator-id-3\" type=\"checkbox\" ><label for=\"sk-estimator-id-3\" class=\"sk-toggleable__label sk-toggleable__label-arrow\">GridSearchCV</label><div class=\"sk-toggleable__content\"><pre>GridSearchCV(cv=5, estimator=RandomForestClassifier(),\n",
       "             param_grid={&#x27;max_depth&#x27;: range(0, 6)}, return_train_score=True)</pre></div></div></div><div class=\"sk-parallel\"><div class=\"sk-parallel-item\"><div class=\"sk-item\"><div class=\"sk-label-container\"><div class=\"sk-label sk-toggleable\"><input class=\"sk-toggleable__control sk-hidden--visually\" id=\"sk-estimator-id-4\" type=\"checkbox\" ><label for=\"sk-estimator-id-4\" class=\"sk-toggleable__label sk-toggleable__label-arrow\">estimator: RandomForestClassifier</label><div class=\"sk-toggleable__content\"><pre>RandomForestClassifier()</pre></div></div></div><div class=\"sk-serial\"><div class=\"sk-item\"><div class=\"sk-estimator sk-toggleable\"><input class=\"sk-toggleable__control sk-hidden--visually\" id=\"sk-estimator-id-5\" type=\"checkbox\" ><label for=\"sk-estimator-id-5\" class=\"sk-toggleable__label sk-toggleable__label-arrow\">RandomForestClassifier</label><div class=\"sk-toggleable__content\"><pre>RandomForestClassifier()</pre></div></div></div></div></div></div></div></div></div></div>"
      ],
      "text/plain": [
       "GridSearchCV(cv=5, estimator=RandomForestClassifier(),\n",
       "             param_grid={'max_depth': range(0, 6)}, return_train_score=True)"
      ]
     },
     "execution_count": 29,
     "metadata": {},
     "output_type": "execute_result"
    }
   ],
   "source": [
    "# Max Depth\n",
    "parameter = {'max_depth':range(6)}\n",
    "\n",
    "rf = RandomForestClassifier()\n",
    "\n",
    "rf = GridSearchCV(rf,\n",
    "                 parameter,\n",
    "                 cv=n_folds,\n",
    "                 return_train_score=True)\n",
    "\n",
    "rf.fit(X_train, y_train)"
   ]
  },
  {
   "cell_type": "code",
   "execution_count": 30,
   "id": "2e1b355d",
   "metadata": {
    "execution": {
     "iopub.execute_input": "2023-08-04T19:42:36.922346Z",
     "iopub.status.busy": "2023-08-04T19:42:36.921591Z",
     "iopub.status.idle": "2023-08-04T19:42:36.956792Z",
     "shell.execute_reply": "2023-08-04T19:42:36.955633Z"
    },
    "papermill": {
     "duration": 0.063668,
     "end_time": "2023-08-04T19:42:36.959291",
     "exception": false,
     "start_time": "2023-08-04T19:42:36.895623",
     "status": "completed"
    },
    "tags": []
   },
   "outputs": [
    {
     "data": {
      "text/html": [
       "<div>\n",
       "<style scoped>\n",
       "    .dataframe tbody tr th:only-of-type {\n",
       "        vertical-align: middle;\n",
       "    }\n",
       "\n",
       "    .dataframe tbody tr th {\n",
       "        vertical-align: top;\n",
       "    }\n",
       "\n",
       "    .dataframe thead th {\n",
       "        text-align: right;\n",
       "    }\n",
       "</style>\n",
       "<table border=\"1\" class=\"dataframe\">\n",
       "  <thead>\n",
       "    <tr style=\"text-align: right;\">\n",
       "      <th></th>\n",
       "      <th>mean_fit_time</th>\n",
       "      <th>std_fit_time</th>\n",
       "      <th>mean_score_time</th>\n",
       "      <th>std_score_time</th>\n",
       "      <th>param_max_depth</th>\n",
       "      <th>params</th>\n",
       "      <th>split0_test_score</th>\n",
       "      <th>split1_test_score</th>\n",
       "      <th>split2_test_score</th>\n",
       "      <th>split3_test_score</th>\n",
       "      <th>...</th>\n",
       "      <th>mean_test_score</th>\n",
       "      <th>std_test_score</th>\n",
       "      <th>rank_test_score</th>\n",
       "      <th>split0_train_score</th>\n",
       "      <th>split1_train_score</th>\n",
       "      <th>split2_train_score</th>\n",
       "      <th>split3_train_score</th>\n",
       "      <th>split4_train_score</th>\n",
       "      <th>mean_train_score</th>\n",
       "      <th>std_train_score</th>\n",
       "    </tr>\n",
       "  </thead>\n",
       "  <tbody>\n",
       "    <tr>\n",
       "      <th>4</th>\n",
       "      <td>0.243470</td>\n",
       "      <td>0.004726</td>\n",
       "      <td>0.016282</td>\n",
       "      <td>0.000560</td>\n",
       "      <td>4</td>\n",
       "      <td>{'max_depth': 4}</td>\n",
       "      <td>0.790210</td>\n",
       "      <td>0.825175</td>\n",
       "      <td>0.823944</td>\n",
       "      <td>0.774648</td>\n",
       "      <td>...</td>\n",
       "      <td>0.803359</td>\n",
       "      <td>0.019479</td>\n",
       "      <td>1</td>\n",
       "      <td>0.813708</td>\n",
       "      <td>0.804921</td>\n",
       "      <td>0.805263</td>\n",
       "      <td>0.817544</td>\n",
       "      <td>0.808772</td>\n",
       "      <td>0.810042</td>\n",
       "      <td>0.004907</td>\n",
       "    </tr>\n",
       "    <tr>\n",
       "      <th>3</th>\n",
       "      <td>0.233745</td>\n",
       "      <td>0.003946</td>\n",
       "      <td>0.015739</td>\n",
       "      <td>0.000845</td>\n",
       "      <td>3</td>\n",
       "      <td>{'max_depth': 3}</td>\n",
       "      <td>0.790210</td>\n",
       "      <td>0.825175</td>\n",
       "      <td>0.788732</td>\n",
       "      <td>0.774648</td>\n",
       "      <td>...</td>\n",
       "      <td>0.801950</td>\n",
       "      <td>0.022093</td>\n",
       "      <td>2</td>\n",
       "      <td>0.813708</td>\n",
       "      <td>0.804921</td>\n",
       "      <td>0.803509</td>\n",
       "      <td>0.817544</td>\n",
       "      <td>0.803509</td>\n",
       "      <td>0.808638</td>\n",
       "      <td>0.005856</td>\n",
       "    </tr>\n",
       "    <tr>\n",
       "      <th>2</th>\n",
       "      <td>0.232915</td>\n",
       "      <td>0.002328</td>\n",
       "      <td>0.015011</td>\n",
       "      <td>0.000431</td>\n",
       "      <td>2</td>\n",
       "      <td>{'max_depth': 2}</td>\n",
       "      <td>0.790210</td>\n",
       "      <td>0.825175</td>\n",
       "      <td>0.816901</td>\n",
       "      <td>0.739437</td>\n",
       "      <td>...</td>\n",
       "      <td>0.799133</td>\n",
       "      <td>0.032412</td>\n",
       "      <td>3</td>\n",
       "      <td>0.813708</td>\n",
       "      <td>0.797891</td>\n",
       "      <td>0.800000</td>\n",
       "      <td>0.801754</td>\n",
       "      <td>0.798246</td>\n",
       "      <td>0.802320</td>\n",
       "      <td>0.005859</td>\n",
       "    </tr>\n",
       "    <tr>\n",
       "      <th>5</th>\n",
       "      <td>0.246585</td>\n",
       "      <td>0.013162</td>\n",
       "      <td>0.015773</td>\n",
       "      <td>0.000724</td>\n",
       "      <td>5</td>\n",
       "      <td>{'max_depth': 5}</td>\n",
       "      <td>0.769231</td>\n",
       "      <td>0.825175</td>\n",
       "      <td>0.823944</td>\n",
       "      <td>0.774648</td>\n",
       "      <td>...</td>\n",
       "      <td>0.793529</td>\n",
       "      <td>0.025416</td>\n",
       "      <td>4</td>\n",
       "      <td>0.817223</td>\n",
       "      <td>0.804921</td>\n",
       "      <td>0.805263</td>\n",
       "      <td>0.817544</td>\n",
       "      <td>0.814035</td>\n",
       "      <td>0.811797</td>\n",
       "      <td>0.005612</td>\n",
       "    </tr>\n",
       "    <tr>\n",
       "      <th>1</th>\n",
       "      <td>0.239252</td>\n",
       "      <td>0.012810</td>\n",
       "      <td>0.015699</td>\n",
       "      <td>0.000780</td>\n",
       "      <td>1</td>\n",
       "      <td>{'max_depth': 1}</td>\n",
       "      <td>0.755245</td>\n",
       "      <td>0.797203</td>\n",
       "      <td>0.767606</td>\n",
       "      <td>0.732394</td>\n",
       "      <td>...</td>\n",
       "      <td>0.769644</td>\n",
       "      <td>0.024663</td>\n",
       "      <td>5</td>\n",
       "      <td>0.766257</td>\n",
       "      <td>0.776801</td>\n",
       "      <td>0.784211</td>\n",
       "      <td>0.792982</td>\n",
       "      <td>0.777193</td>\n",
       "      <td>0.779489</td>\n",
       "      <td>0.008854</td>\n",
       "    </tr>\n",
       "    <tr>\n",
       "      <th>0</th>\n",
       "      <td>0.000846</td>\n",
       "      <td>0.000125</td>\n",
       "      <td>0.000000</td>\n",
       "      <td>0.000000</td>\n",
       "      <td>0</td>\n",
       "      <td>{'max_depth': 0}</td>\n",
       "      <td>NaN</td>\n",
       "      <td>NaN</td>\n",
       "      <td>NaN</td>\n",
       "      <td>NaN</td>\n",
       "      <td>...</td>\n",
       "      <td>NaN</td>\n",
       "      <td>NaN</td>\n",
       "      <td>6</td>\n",
       "      <td>NaN</td>\n",
       "      <td>NaN</td>\n",
       "      <td>NaN</td>\n",
       "      <td>NaN</td>\n",
       "      <td>NaN</td>\n",
       "      <td>NaN</td>\n",
       "      <td>NaN</td>\n",
       "    </tr>\n",
       "  </tbody>\n",
       "</table>\n",
       "<p>6 rows × 21 columns</p>\n",
       "</div>"
      ],
      "text/plain": [
       "   mean_fit_time  std_fit_time  mean_score_time  std_score_time  \\\n",
       "4       0.243470      0.004726         0.016282        0.000560   \n",
       "3       0.233745      0.003946         0.015739        0.000845   \n",
       "2       0.232915      0.002328         0.015011        0.000431   \n",
       "5       0.246585      0.013162         0.015773        0.000724   \n",
       "1       0.239252      0.012810         0.015699        0.000780   \n",
       "0       0.000846      0.000125         0.000000        0.000000   \n",
       "\n",
       "  param_max_depth            params  split0_test_score  split1_test_score  \\\n",
       "4               4  {'max_depth': 4}           0.790210           0.825175   \n",
       "3               3  {'max_depth': 3}           0.790210           0.825175   \n",
       "2               2  {'max_depth': 2}           0.790210           0.825175   \n",
       "5               5  {'max_depth': 5}           0.769231           0.825175   \n",
       "1               1  {'max_depth': 1}           0.755245           0.797203   \n",
       "0               0  {'max_depth': 0}                NaN                NaN   \n",
       "\n",
       "   split2_test_score  split3_test_score  ...  mean_test_score  std_test_score  \\\n",
       "4           0.823944           0.774648  ...         0.803359        0.019479   \n",
       "3           0.788732           0.774648  ...         0.801950        0.022093   \n",
       "2           0.816901           0.739437  ...         0.799133        0.032412   \n",
       "5           0.823944           0.774648  ...         0.793529        0.025416   \n",
       "1           0.767606           0.732394  ...         0.769644        0.024663   \n",
       "0                NaN                NaN  ...              NaN             NaN   \n",
       "\n",
       "   rank_test_score  split0_train_score  split1_train_score  \\\n",
       "4                1            0.813708            0.804921   \n",
       "3                2            0.813708            0.804921   \n",
       "2                3            0.813708            0.797891   \n",
       "5                4            0.817223            0.804921   \n",
       "1                5            0.766257            0.776801   \n",
       "0                6                 NaN                 NaN   \n",
       "\n",
       "   split2_train_score  split3_train_score  split4_train_score  \\\n",
       "4            0.805263            0.817544            0.808772   \n",
       "3            0.803509            0.817544            0.803509   \n",
       "2            0.800000            0.801754            0.798246   \n",
       "5            0.805263            0.817544            0.814035   \n",
       "1            0.784211            0.792982            0.777193   \n",
       "0                 NaN                 NaN                 NaN   \n",
       "\n",
       "   mean_train_score  std_train_score  \n",
       "4          0.810042         0.004907  \n",
       "3          0.808638         0.005856  \n",
       "2          0.802320         0.005859  \n",
       "5          0.811797         0.005612  \n",
       "1          0.779489         0.008854  \n",
       "0               NaN              NaN  \n",
       "\n",
       "[6 rows x 21 columns]"
      ]
     },
     "execution_count": 30,
     "metadata": {},
     "output_type": "execute_result"
    }
   ],
   "source": [
    "scores = pd.DataFrame(rf.cv_results_)\n",
    "scores.sort_values('rank_test_score')"
   ]
  },
  {
   "cell_type": "code",
   "execution_count": 31,
   "id": "a5985c71",
   "metadata": {
    "execution": {
     "iopub.execute_input": "2023-08-04T19:42:37.012858Z",
     "iopub.status.busy": "2023-08-04T19:42:37.011873Z",
     "iopub.status.idle": "2023-08-04T19:42:37.349958Z",
     "shell.execute_reply": "2023-08-04T19:42:37.348942Z"
    },
    "papermill": {
     "duration": 0.367934,
     "end_time": "2023-08-04T19:42:37.352702",
     "exception": false,
     "start_time": "2023-08-04T19:42:36.984768",
     "status": "completed"
    },
    "tags": []
   },
   "outputs": [
    {
     "data": {
      "image/png": "[encoded data removed]",
      "text/plain": [
       "<Figure size 640x480 with 1 Axes>"
      ]
     },
     "metadata": {},
     "output_type": "display_data"
    }
   ],
   "source": [
    "# plotting accuracies with max_depth\n",
    "plt.figure()\n",
    "plt.plot(scores[\"param_max_depth\"], \n",
    "         scores[\"mean_train_score\"], \n",
    "         label=\"training accuracy\")\n",
    "plt.plot(scores[\"param_max_depth\"], \n",
    "         scores[\"mean_test_score\"], \n",
    "         label=\"test accuracy\")\n",
    "plt.xlabel(\"max_depth\")\n",
    "plt.ylabel(\"Accuracy\")\n",
    "plt.legend()\n",
    "plt.show()\n"
   ]
  },
  {
   "cell_type": "code",
   "execution_count": 32,
   "id": "b63272ea",
   "metadata": {
    "execution": {
     "iopub.execute_input": "2023-08-04T19:42:37.406990Z",
     "iopub.status.busy": "2023-08-04T19:42:37.406355Z",
     "iopub.status.idle": "2023-08-04T19:42:37.410981Z",
     "shell.execute_reply": "2023-08-04T19:42:37.410107Z"
    },
    "papermill": {
     "duration": 0.03435,
     "end_time": "2023-08-04T19:42:37.413289",
     "exception": false,
     "start_time": "2023-08-04T19:42:37.378939",
     "status": "completed"
    },
    "tags": []
   },
   "outputs": [],
   "source": [
    "# max_depth = 4"
   ]
  },
  {
   "cell_type": "code",
   "execution_count": 33,
   "id": "9a78926b",
   "metadata": {
    "execution": {
     "iopub.execute_input": "2023-08-04T19:42:37.467313Z",
     "iopub.status.busy": "2023-08-04T19:42:37.466886Z",
     "iopub.status.idle": "2023-08-04T19:43:20.379216Z",
     "shell.execute_reply": "2023-08-04T19:43:20.377859Z"
    },
    "papermill": {
     "duration": 42.96942,
     "end_time": "2023-08-04T19:43:20.408476",
     "exception": false,
     "start_time": "2023-08-04T19:42:37.439056",
     "status": "completed"
    },
    "tags": []
   },
   "outputs": [
    {
     "data": {
      "text/html": [
       "<style>#sk-container-id-4 {color: black;background-color: white;}#sk-container-id-4 pre{padding: 0;}#sk-container-id-4 div.sk-toggleable {background-color: white;}#sk-container-id-4 label.sk-toggleable__label {cursor: pointer;display: block;width: 100%;margin-bottom: 0;padding: 0.3em;box-sizing: border-box;text-align: center;}#sk-container-id-4 label.sk-toggleable__label-arrow:before {content: \"▸\";float: left;margin-right: 0.25em;color: #696969;}#sk-container-id-4 label.sk-toggleable__label-arrow:hover:before {color: black;}#sk-container-id-4 div.sk-estimator:hover label.sk-toggleable__label-arrow:before {color: black;}#sk-container-id-4 div.sk-toggleable__content {max-height: 0;max-width: 0;overflow: hidden;text-align: left;background-color: #f0f8ff;}#sk-container-id-4 div.sk-toggleable__content pre {margin: 0.2em;color: black;border-radius: 0.25em;background-color: #f0f8ff;}#sk-container-id-4 input.sk-toggleable__control:checked~div.sk-toggleable__content {max-height: 200px;max-width: 100%;overflow: auto;}#sk-container-id-4 input.sk-toggleable__control:checked~label.sk-toggleable__label-arrow:before {content: \"▾\";}#sk-container-id-4 div.sk-estimator input.sk-toggleable__control:checked~label.sk-toggleable__label {background-color: #d4ebff;}#sk-container-id-4 div.sk-label input.sk-toggleable__control:checked~label.sk-toggleable__label {background-color: #d4ebff;}#sk-container-id-4 input.sk-hidden--visually {border: 0;clip: rect(1px 1px 1px 1px);clip: rect(1px, 1px, 1px, 1px);height: 1px;margin: -1px;overflow: hidden;padding: 0;position: absolute;width: 1px;}#sk-container-id-4 div.sk-estimator {font-family: monospace;background-color: #f0f8ff;border: 1px dotted black;border-radius: 0.25em;box-sizing: border-box;margin-bottom: 0.5em;}#sk-container-id-4 div.sk-estimator:hover {background-color: #d4ebff;}#sk-container-id-4 div.sk-parallel-item::after {content: \"\";width: 100%;border-bottom: 1px solid gray;flex-grow: 1;}#sk-container-id-4 div.sk-label:hover label.sk-toggleable__label {background-color: #d4ebff;}#sk-container-id-4 div.sk-serial::before {content: \"\";position: absolute;border-left: 1px solid gray;box-sizing: border-box;top: 0;bottom: 0;left: 50%;z-index: 0;}#sk-container-id-4 div.sk-serial {display: flex;flex-direction: column;align-items: center;background-color: white;padding-right: 0.2em;padding-left: 0.2em;position: relative;}#sk-container-id-4 div.sk-item {position: relative;z-index: 1;}#sk-container-id-4 div.sk-parallel {display: flex;align-items: stretch;justify-content: center;background-color: white;position: relative;}#sk-container-id-4 div.sk-item::before, #sk-container-id-4 div.sk-parallel-item::before {content: \"\";position: absolute;border-left: 1px solid gray;box-sizing: border-box;top: 0;bottom: 0;left: 50%;z-index: -1;}#sk-container-id-4 div.sk-parallel-item {display: flex;flex-direction: column;z-index: 1;position: relative;background-color: white;}#sk-container-id-4 div.sk-parallel-item:first-child::after {align-self: flex-end;width: 50%;}#sk-container-id-4 div.sk-parallel-item:last-child::after {align-self: flex-start;width: 50%;}#sk-container-id-4 div.sk-parallel-item:only-child::after {width: 0;}#sk-container-id-4 div.sk-dashed-wrapped {border: 1px dashed gray;margin: 0 0.4em 0.5em 0.4em;box-sizing: border-box;padding-bottom: 0.4em;background-color: white;}#sk-container-id-4 div.sk-label label {font-family: monospace;font-weight: bold;display: inline-block;line-height: 1.2em;}#sk-container-id-4 div.sk-label-container {text-align: center;}#sk-container-id-4 div.sk-container {/* jupyter's `normalize.less` sets `[hidden] { display: none; }` but bootstrap.min.css set `[hidden] { display: none !important; }` so we also need the `!important` here to be able to override the default hidden behavior on the sphinx rendered scikit-learn.org. See: https://github.com/scikit-learn/scikit-learn/issues/21755 */display: inline-block !important;position: relative;}#sk-container-id-4 div.sk-text-repr-fallback {display: none;}</style><div id=\"sk-container-id-4\" class=\"sk-top-container\"><div class=\"sk-text-repr-fallback\"><pre>GridSearchCV(cv=5, estimator=RandomForestClassifier(),\n",
       "             param_grid={&#x27;n_estimators&#x27;: [100, 500, 1000, 1500]},\n",
       "             return_train_score=True)</pre><b>In a Jupyter environment, please rerun this cell to show the HTML representation or trust the notebook. <br />On GitHub, the HTML representation is unable to render, please try loading this page with nbviewer.org.</b></div><div class=\"sk-container\" hidden><div class=\"sk-item sk-dashed-wrapped\"><div class=\"sk-label-container\"><div class=\"sk-label sk-toggleable\"><input class=\"sk-toggleable__control sk-hidden--visually\" id=\"sk-estimator-id-6\" type=\"checkbox\" ><label for=\"sk-estimator-id-6\" class=\"sk-toggleable__label sk-toggleable__label-arrow\">GridSearchCV</label><div class=\"sk-toggleable__content\"><pre>GridSearchCV(cv=5, estimator=RandomForestClassifier(),\n",
       "             param_grid={&#x27;n_estimators&#x27;: [100, 500, 1000, 1500]},\n",
       "             return_train_score=True)</pre></div></div></div><div class=\"sk-parallel\"><div class=\"sk-parallel-item\"><div class=\"sk-item\"><div class=\"sk-label-container\"><div class=\"sk-label sk-toggleable\"><input class=\"sk-toggleable__control sk-hidden--visually\" id=\"sk-estimator-id-7\" type=\"checkbox\" ><label for=\"sk-estimator-id-7\" class=\"sk-toggleable__label sk-toggleable__label-arrow\">estimator: RandomForestClassifier</label><div class=\"sk-toggleable__content\"><pre>RandomForestClassifier()</pre></div></div></div><div class=\"sk-serial\"><div class=\"sk-item\"><div class=\"sk-estimator sk-toggleable\"><input class=\"sk-toggleable__control sk-hidden--visually\" id=\"sk-estimator-id-8\" type=\"checkbox\" ><label for=\"sk-estimator-id-8\" class=\"sk-toggleable__label sk-toggleable__label-arrow\">RandomForestClassifier</label><div class=\"sk-toggleable__content\"><pre>RandomForestClassifier()</pre></div></div></div></div></div></div></div></div></div></div>"
      ],
      "text/plain": [
       "GridSearchCV(cv=5, estimator=RandomForestClassifier(),\n",
       "             param_grid={'n_estimators': [100, 500, 1000, 1500]},\n",
       "             return_train_score=True)"
      ]
     },
     "execution_count": 33,
     "metadata": {},
     "output_type": "execute_result"
    }
   ],
   "source": [
    "# Number of Estimators\n",
    "parameter = {'n_estimators':[100,500,1000,1500]}\n",
    "\n",
    "rf = RandomForestClassifier()\n",
    "\n",
    "rf = GridSearchCV(rf,\n",
    "                 parameter,\n",
    "                 cv=n_folds,\n",
    "                 return_train_score=True)\n",
    "\n",
    "rf.fit(X_train, y_train)\n"
   ]
  },
  {
   "cell_type": "code",
   "execution_count": 34,
   "id": "0faf9004",
   "metadata": {
    "execution": {
     "iopub.execute_input": "2023-08-04T19:43:20.465664Z",
     "iopub.status.busy": "2023-08-04T19:43:20.465255Z",
     "iopub.status.idle": "2023-08-04T19:43:20.497257Z",
     "shell.execute_reply": "2023-08-04T19:43:20.496289Z"
    },
    "papermill": {
     "duration": 0.063469,
     "end_time": "2023-08-04T19:43:20.499720",
     "exception": false,
     "start_time": "2023-08-04T19:43:20.436251",
     "status": "completed"
    },
    "tags": []
   },
   "outputs": [
    {
     "data": {
      "text/html": [
       "<div>\n",
       "<style scoped>\n",
       "    .dataframe tbody tr th:only-of-type {\n",
       "        vertical-align: middle;\n",
       "    }\n",
       "\n",
       "    .dataframe tbody tr th {\n",
       "        vertical-align: top;\n",
       "    }\n",
       "\n",
       "    .dataframe thead th {\n",
       "        text-align: right;\n",
       "    }\n",
       "</style>\n",
       "<table border=\"1\" class=\"dataframe\">\n",
       "  <thead>\n",
       "    <tr style=\"text-align: right;\">\n",
       "      <th></th>\n",
       "      <th>mean_fit_time</th>\n",
       "      <th>std_fit_time</th>\n",
       "      <th>mean_score_time</th>\n",
       "      <th>std_score_time</th>\n",
       "      <th>param_n_estimators</th>\n",
       "      <th>params</th>\n",
       "      <th>split0_test_score</th>\n",
       "      <th>split1_test_score</th>\n",
       "      <th>split2_test_score</th>\n",
       "      <th>split3_test_score</th>\n",
       "      <th>...</th>\n",
       "      <th>mean_test_score</th>\n",
       "      <th>std_test_score</th>\n",
       "      <th>rank_test_score</th>\n",
       "      <th>split0_train_score</th>\n",
       "      <th>split1_train_score</th>\n",
       "      <th>split2_train_score</th>\n",
       "      <th>split3_train_score</th>\n",
       "      <th>split4_train_score</th>\n",
       "      <th>mean_train_score</th>\n",
       "      <th>std_train_score</th>\n",
       "    </tr>\n",
       "  </thead>\n",
       "  <tbody>\n",
       "    <tr>\n",
       "      <th>0</th>\n",
       "      <td>0.244516</td>\n",
       "      <td>0.005053</td>\n",
       "      <td>0.016302</td>\n",
       "      <td>0.000476</td>\n",
       "      <td>100</td>\n",
       "      <td>{'n_estimators': 100}</td>\n",
       "      <td>0.769231</td>\n",
       "      <td>0.811189</td>\n",
       "      <td>0.823944</td>\n",
       "      <td>0.774648</td>\n",
       "      <td>...</td>\n",
       "      <td>0.790732</td>\n",
       "      <td>0.022366</td>\n",
       "      <td>1</td>\n",
       "      <td>0.817223</td>\n",
       "      <td>0.806678</td>\n",
       "      <td>0.805263</td>\n",
       "      <td>0.817544</td>\n",
       "      <td>0.814035</td>\n",
       "      <td>0.812149</td>\n",
       "      <td>0.005211</td>\n",
       "    </tr>\n",
       "    <tr>\n",
       "      <th>1</th>\n",
       "      <td>1.198258</td>\n",
       "      <td>0.012899</td>\n",
       "      <td>0.067709</td>\n",
       "      <td>0.002001</td>\n",
       "      <td>500</td>\n",
       "      <td>{'n_estimators': 500}</td>\n",
       "      <td>0.769231</td>\n",
       "      <td>0.811189</td>\n",
       "      <td>0.823944</td>\n",
       "      <td>0.774648</td>\n",
       "      <td>...</td>\n",
       "      <td>0.790732</td>\n",
       "      <td>0.022366</td>\n",
       "      <td>1</td>\n",
       "      <td>0.817223</td>\n",
       "      <td>0.806678</td>\n",
       "      <td>0.805263</td>\n",
       "      <td>0.817544</td>\n",
       "      <td>0.814035</td>\n",
       "      <td>0.812149</td>\n",
       "      <td>0.005211</td>\n",
       "    </tr>\n",
       "    <tr>\n",
       "      <th>2</th>\n",
       "      <td>2.454162</td>\n",
       "      <td>0.060235</td>\n",
       "      <td>0.136162</td>\n",
       "      <td>0.001679</td>\n",
       "      <td>1000</td>\n",
       "      <td>{'n_estimators': 1000}</td>\n",
       "      <td>0.769231</td>\n",
       "      <td>0.811189</td>\n",
       "      <td>0.823944</td>\n",
       "      <td>0.774648</td>\n",
       "      <td>...</td>\n",
       "      <td>0.790732</td>\n",
       "      <td>0.022366</td>\n",
       "      <td>1</td>\n",
       "      <td>0.817223</td>\n",
       "      <td>0.806678</td>\n",
       "      <td>0.805263</td>\n",
       "      <td>0.817544</td>\n",
       "      <td>0.814035</td>\n",
       "      <td>0.812149</td>\n",
       "      <td>0.005211</td>\n",
       "    </tr>\n",
       "    <tr>\n",
       "      <th>3</th>\n",
       "      <td>3.613247</td>\n",
       "      <td>0.055867</td>\n",
       "      <td>0.235304</td>\n",
       "      <td>0.063143</td>\n",
       "      <td>1500</td>\n",
       "      <td>{'n_estimators': 1500}</td>\n",
       "      <td>0.769231</td>\n",
       "      <td>0.811189</td>\n",
       "      <td>0.823944</td>\n",
       "      <td>0.774648</td>\n",
       "      <td>...</td>\n",
       "      <td>0.790732</td>\n",
       "      <td>0.022366</td>\n",
       "      <td>1</td>\n",
       "      <td>0.817223</td>\n",
       "      <td>0.806678</td>\n",
       "      <td>0.805263</td>\n",
       "      <td>0.817544</td>\n",
       "      <td>0.814035</td>\n",
       "      <td>0.812149</td>\n",
       "      <td>0.005211</td>\n",
       "    </tr>\n",
       "  </tbody>\n",
       "</table>\n",
       "<p>4 rows × 21 columns</p>\n",
       "</div>"
      ],
      "text/plain": [
       "   mean_fit_time  std_fit_time  mean_score_time  std_score_time  \\\n",
       "0       0.244516      0.005053         0.016302        0.000476   \n",
       "1       1.198258      0.012899         0.067709        0.002001   \n",
       "2       2.454162      0.060235         0.136162        0.001679   \n",
       "3       3.613247      0.055867         0.235304        0.063143   \n",
       "\n",
       "  param_n_estimators                  params  split0_test_score  \\\n",
       "0                100   {'n_estimators': 100}           0.769231   \n",
       "1                500   {'n_estimators': 500}           0.769231   \n",
       "2               1000  {'n_estimators': 1000}           0.769231   \n",
       "3               1500  {'n_estimators': 1500}           0.769231   \n",
       "\n",
       "   split1_test_score  split2_test_score  split3_test_score  ...  \\\n",
       "0           0.811189           0.823944           0.774648  ...   \n",
       "1           0.811189           0.823944           0.774648  ...   \n",
       "2           0.811189           0.823944           0.774648  ...   \n",
       "3           0.811189           0.823944           0.774648  ...   \n",
       "\n",
       "   mean_test_score  std_test_score  rank_test_score  split0_train_score  \\\n",
       "0         0.790732        0.022366                1            0.817223   \n",
       "1         0.790732        0.022366                1            0.817223   \n",
       "2         0.790732        0.022366                1            0.817223   \n",
       "3         0.790732        0.022366                1            0.817223   \n",
       "\n",
       "   split1_train_score  split2_train_score  split3_train_score  \\\n",
       "0            0.806678            0.805263            0.817544   \n",
       "1            0.806678            0.805263            0.817544   \n",
       "2            0.806678            0.805263            0.817544   \n",
       "3            0.806678            0.805263            0.817544   \n",
       "\n",
       "   split4_train_score  mean_train_score  std_train_score  \n",
       "0            0.814035          0.812149         0.005211  \n",
       "1            0.814035          0.812149         0.005211  \n",
       "2            0.814035          0.812149         0.005211  \n",
       "3            0.814035          0.812149         0.005211  \n",
       "\n",
       "[4 rows x 21 columns]"
      ]
     },
     "execution_count": 34,
     "metadata": {},
     "output_type": "execute_result"
    }
   ],
   "source": [
    "scores = pd.DataFrame(rf.cv_results_)\n",
    "scores.sort_values('rank_test_score')"
   ]
  },
  {
   "cell_type": "code",
   "execution_count": 35,
   "id": "593da387",
   "metadata": {
    "execution": {
     "iopub.execute_input": "2023-08-04T19:43:20.556413Z",
     "iopub.status.busy": "2023-08-04T19:43:20.555764Z",
     "iopub.status.idle": "2023-08-04T19:43:20.853775Z",
     "shell.execute_reply": "2023-08-04T19:43:20.852348Z"
    },
    "papermill": {
     "duration": 0.329608,
     "end_time": "2023-08-04T19:43:20.856626",
     "exception": false,
     "start_time": "2023-08-04T19:43:20.527018",
     "status": "completed"
    },
    "tags": []
   },
   "outputs": [
    {
     "data": {
      "image/png": "[encoded data removed]",
      "text/plain": [
       "<Figure size 640x480 with 1 Axes>"
      ]
     },
     "metadata": {},
     "output_type": "display_data"
    }
   ],
   "source": [
    "# plotting accuracies with n_estimators\n",
    "plt.figure()\n",
    "plt.plot(scores[\"param_n_estimators\"], \n",
    "         scores[\"mean_train_score\"], \n",
    "         label=\"training accuracy\")\n",
    "plt.plot(scores[\"param_n_estimators\"], \n",
    "         scores[\"mean_test_score\"], \n",
    "         label=\"test accuracy\")\n",
    "plt.xlabel(\"n_estimators\")\n",
    "plt.ylabel(\"Accuracy\")\n",
    "plt.legend()\n",
    "plt.show()\n"
   ]
  },
  {
   "cell_type": "code",
   "execution_count": 36,
   "id": "414b2848",
   "metadata": {
    "execution": {
     "iopub.execute_input": "2023-08-04T19:43:20.916108Z",
     "iopub.status.busy": "2023-08-04T19:43:20.915304Z",
     "iopub.status.idle": "2023-08-04T19:43:20.921083Z",
     "shell.execute_reply": "2023-08-04T19:43:20.919800Z"
    },
    "papermill": {
     "duration": 0.039858,
     "end_time": "2023-08-04T19:43:20.923806",
     "exception": false,
     "start_time": "2023-08-04T19:43:20.883948",
     "status": "completed"
    },
    "tags": []
   },
   "outputs": [],
   "source": [
    "# n_estimators=500"
   ]
  },
  {
   "cell_type": "code",
   "execution_count": 37,
   "id": "2edce8a9",
   "metadata": {
    "execution": {
     "iopub.execute_input": "2023-08-04T19:43:20.992205Z",
     "iopub.status.busy": "2023-08-04T19:43:20.991613Z",
     "iopub.status.idle": "2023-08-04T19:43:26.959718Z",
     "shell.execute_reply": "2023-08-04T19:43:26.958348Z"
    },
    "papermill": {
     "duration": 6.004947,
     "end_time": "2023-08-04T19:43:26.962397",
     "exception": false,
     "start_time": "2023-08-04T19:43:20.957450",
     "status": "completed"
    },
    "tags": []
   },
   "outputs": [
    {
     "data": {
      "text/html": [
       "<style>#sk-container-id-5 {color: black;background-color: white;}#sk-container-id-5 pre{padding: 0;}#sk-container-id-5 div.sk-toggleable {background-color: white;}#sk-container-id-5 label.sk-toggleable__label {cursor: pointer;display: block;width: 100%;margin-bottom: 0;padding: 0.3em;box-sizing: border-box;text-align: center;}#sk-container-id-5 label.sk-toggleable__label-arrow:before {content: \"▸\";float: left;margin-right: 0.25em;color: #696969;}#sk-container-id-5 label.sk-toggleable__label-arrow:hover:before {color: black;}#sk-container-id-5 div.sk-estimator:hover label.sk-toggleable__label-arrow:before {color: black;}#sk-container-id-5 div.sk-toggleable__content {max-height: 0;max-width: 0;overflow: hidden;text-align: left;background-color: #f0f8ff;}#sk-container-id-5 div.sk-toggleable__content pre {margin: 0.2em;color: black;border-radius: 0.25em;background-color: #f0f8ff;}#sk-container-id-5 input.sk-toggleable__control:checked~div.sk-toggleable__content {max-height: 200px;max-width: 100%;overflow: auto;}#sk-container-id-5 input.sk-toggleable__control:checked~label.sk-toggleable__label-arrow:before {content: \"▾\";}#sk-container-id-5 div.sk-estimator input.sk-toggleable__control:checked~label.sk-toggleable__label {background-color: #d4ebff;}#sk-container-id-5 div.sk-label input.sk-toggleable__control:checked~label.sk-toggleable__label {background-color: #d4ebff;}#sk-container-id-5 input.sk-hidden--visually {border: 0;clip: rect(1px 1px 1px 1px);clip: rect(1px, 1px, 1px, 1px);height: 1px;margin: -1px;overflow: hidden;padding: 0;position: absolute;width: 1px;}#sk-container-id-5 div.sk-estimator {font-family: monospace;background-color: #f0f8ff;border: 1px dotted black;border-radius: 0.25em;box-sizing: border-box;margin-bottom: 0.5em;}#sk-container-id-5 div.sk-estimator:hover {background-color: #d4ebff;}#sk-container-id-5 div.sk-parallel-item::after {content: \"\";width: 100%;border-bottom: 1px solid gray;flex-grow: 1;}#sk-container-id-5 div.sk-label:hover label.sk-toggleable__label {background-color: #d4ebff;}#sk-container-id-5 div.sk-serial::before {content: \"\";position: absolute;border-left: 1px solid gray;box-sizing: border-box;top: 0;bottom: 0;left: 50%;z-index: 0;}#sk-container-id-5 div.sk-serial {display: flex;flex-direction: column;align-items: center;background-color: white;padding-right: 0.2em;padding-left: 0.2em;position: relative;}#sk-container-id-5 div.sk-item {position: relative;z-index: 1;}#sk-container-id-5 div.sk-parallel {display: flex;align-items: stretch;justify-content: center;background-color: white;position: relative;}#sk-container-id-5 div.sk-item::before, #sk-container-id-5 div.sk-parallel-item::before {content: \"\";position: absolute;border-left: 1px solid gray;box-sizing: border-box;top: 0;bottom: 0;left: 50%;z-index: -1;}#sk-container-id-5 div.sk-parallel-item {display: flex;flex-direction: column;z-index: 1;position: relative;background-color: white;}#sk-container-id-5 div.sk-parallel-item:first-child::after {align-self: flex-end;width: 50%;}#sk-container-id-5 div.sk-parallel-item:last-child::after {align-self: flex-start;width: 50%;}#sk-container-id-5 div.sk-parallel-item:only-child::after {width: 0;}#sk-container-id-5 div.sk-dashed-wrapped {border: 1px dashed gray;margin: 0 0.4em 0.5em 0.4em;box-sizing: border-box;padding-bottom: 0.4em;background-color: white;}#sk-container-id-5 div.sk-label label {font-family: monospace;font-weight: bold;display: inline-block;line-height: 1.2em;}#sk-container-id-5 div.sk-label-container {text-align: center;}#sk-container-id-5 div.sk-container {/* jupyter's `normalize.less` sets `[hidden] { display: none; }` but bootstrap.min.css set `[hidden] { display: none !important; }` so we also need the `!important` here to be able to override the default hidden behavior on the sphinx rendered scikit-learn.org. See: https://github.com/scikit-learn/scikit-learn/issues/21755 */display: inline-block !important;position: relative;}#sk-container-id-5 div.sk-text-repr-fallback {display: none;}</style><div id=\"sk-container-id-5\" class=\"sk-top-container\"><div class=\"sk-text-repr-fallback\"><pre>GridSearchCV(cv=5, estimator=RandomForestClassifier(),\n",
       "             param_grid={&#x27;max_features&#x27;: range(0, 5)}, return_train_score=True)</pre><b>In a Jupyter environment, please rerun this cell to show the HTML representation or trust the notebook. <br />On GitHub, the HTML representation is unable to render, please try loading this page with nbviewer.org.</b></div><div class=\"sk-container\" hidden><div class=\"sk-item sk-dashed-wrapped\"><div class=\"sk-label-container\"><div class=\"sk-label sk-toggleable\"><input class=\"sk-toggleable__control sk-hidden--visually\" id=\"sk-estimator-id-9\" type=\"checkbox\" ><label for=\"sk-estimator-id-9\" class=\"sk-toggleable__label sk-toggleable__label-arrow\">GridSearchCV</label><div class=\"sk-toggleable__content\"><pre>GridSearchCV(cv=5, estimator=RandomForestClassifier(),\n",
       "             param_grid={&#x27;max_features&#x27;: range(0, 5)}, return_train_score=True)</pre></div></div></div><div class=\"sk-parallel\"><div class=\"sk-parallel-item\"><div class=\"sk-item\"><div class=\"sk-label-container\"><div class=\"sk-label sk-toggleable\"><input class=\"sk-toggleable__control sk-hidden--visually\" id=\"sk-estimator-id-10\" type=\"checkbox\" ><label for=\"sk-estimator-id-10\" class=\"sk-toggleable__label sk-toggleable__label-arrow\">estimator: RandomForestClassifier</label><div class=\"sk-toggleable__content\"><pre>RandomForestClassifier()</pre></div></div></div><div class=\"sk-serial\"><div class=\"sk-item\"><div class=\"sk-estimator sk-toggleable\"><input class=\"sk-toggleable__control sk-hidden--visually\" id=\"sk-estimator-id-11\" type=\"checkbox\" ><label for=\"sk-estimator-id-11\" class=\"sk-toggleable__label sk-toggleable__label-arrow\">RandomForestClassifier</label><div class=\"sk-toggleable__content\"><pre>RandomForestClassifier()</pre></div></div></div></div></div></div></div></div></div></div>"
      ],
      "text/plain": [
       "GridSearchCV(cv=5, estimator=RandomForestClassifier(),\n",
       "             param_grid={'max_features': range(0, 5)}, return_train_score=True)"
      ]
     },
     "execution_count": 37,
     "metadata": {},
     "output_type": "execute_result"
    }
   ],
   "source": [
    "# Max Features\n",
    "parameter = {'max_features':range(5)}\n",
    "\n",
    "rf = RandomForestClassifier()\n",
    "\n",
    "rf = GridSearchCV(rf,\n",
    "                 parameter,\n",
    "                 cv=n_folds,\n",
    "                 return_train_score=True)\n",
    "\n",
    "rf.fit(X_train, y_train)\n"
   ]
  },
  {
   "cell_type": "code",
   "execution_count": 38,
   "id": "65c9176a",
   "metadata": {
    "execution": {
     "iopub.execute_input": "2023-08-04T19:43:27.019980Z",
     "iopub.status.busy": "2023-08-04T19:43:27.019594Z",
     "iopub.status.idle": "2023-08-04T19:43:27.058625Z",
     "shell.execute_reply": "2023-08-04T19:43:27.057195Z"
    },
    "papermill": {
     "duration": 0.071099,
     "end_time": "2023-08-04T19:43:27.061515",
     "exception": false,
     "start_time": "2023-08-04T19:43:26.990416",
     "status": "completed"
    },
    "tags": []
   },
   "outputs": [
    {
     "data": {
      "text/html": [
       "<div>\n",
       "<style scoped>\n",
       "    .dataframe tbody tr th:only-of-type {\n",
       "        vertical-align: middle;\n",
       "    }\n",
       "\n",
       "    .dataframe tbody tr th {\n",
       "        vertical-align: top;\n",
       "    }\n",
       "\n",
       "    .dataframe thead th {\n",
       "        text-align: right;\n",
       "    }\n",
       "</style>\n",
       "<table border=\"1\" class=\"dataframe\">\n",
       "  <thead>\n",
       "    <tr style=\"text-align: right;\">\n",
       "      <th></th>\n",
       "      <th>mean_fit_time</th>\n",
       "      <th>std_fit_time</th>\n",
       "      <th>mean_score_time</th>\n",
       "      <th>std_score_time</th>\n",
       "      <th>param_max_features</th>\n",
       "      <th>params</th>\n",
       "      <th>split0_test_score</th>\n",
       "      <th>split1_test_score</th>\n",
       "      <th>split2_test_score</th>\n",
       "      <th>split3_test_score</th>\n",
       "      <th>...</th>\n",
       "      <th>mean_test_score</th>\n",
       "      <th>std_test_score</th>\n",
       "      <th>rank_test_score</th>\n",
       "      <th>split0_train_score</th>\n",
       "      <th>split1_train_score</th>\n",
       "      <th>split2_train_score</th>\n",
       "      <th>split3_train_score</th>\n",
       "      <th>split4_train_score</th>\n",
       "      <th>mean_train_score</th>\n",
       "      <th>std_train_score</th>\n",
       "    </tr>\n",
       "  </thead>\n",
       "  <tbody>\n",
       "    <tr>\n",
       "      <th>1</th>\n",
       "      <td>0.243899</td>\n",
       "      <td>0.002608</td>\n",
       "      <td>0.016811</td>\n",
       "      <td>0.000730</td>\n",
       "      <td>1</td>\n",
       "      <td>{'max_features': 1}</td>\n",
       "      <td>0.769231</td>\n",
       "      <td>0.811189</td>\n",
       "      <td>0.823944</td>\n",
       "      <td>0.774648</td>\n",
       "      <td>...</td>\n",
       "      <td>0.790732</td>\n",
       "      <td>0.022366</td>\n",
       "      <td>1</td>\n",
       "      <td>0.817223</td>\n",
       "      <td>0.806678</td>\n",
       "      <td>0.805263</td>\n",
       "      <td>0.817544</td>\n",
       "      <td>0.814035</td>\n",
       "      <td>0.812149</td>\n",
       "      <td>0.005211</td>\n",
       "    </tr>\n",
       "    <tr>\n",
       "      <th>2</th>\n",
       "      <td>0.244224</td>\n",
       "      <td>0.005024</td>\n",
       "      <td>0.016463</td>\n",
       "      <td>0.000467</td>\n",
       "      <td>2</td>\n",
       "      <td>{'max_features': 2}</td>\n",
       "      <td>0.769231</td>\n",
       "      <td>0.811189</td>\n",
       "      <td>0.823944</td>\n",
       "      <td>0.774648</td>\n",
       "      <td>...</td>\n",
       "      <td>0.790732</td>\n",
       "      <td>0.022366</td>\n",
       "      <td>1</td>\n",
       "      <td>0.817223</td>\n",
       "      <td>0.806678</td>\n",
       "      <td>0.805263</td>\n",
       "      <td>0.817544</td>\n",
       "      <td>0.814035</td>\n",
       "      <td>0.812149</td>\n",
       "      <td>0.005211</td>\n",
       "    </tr>\n",
       "    <tr>\n",
       "      <th>3</th>\n",
       "      <td>0.245662</td>\n",
       "      <td>0.005514</td>\n",
       "      <td>0.016236</td>\n",
       "      <td>0.000422</td>\n",
       "      <td>3</td>\n",
       "      <td>{'max_features': 3}</td>\n",
       "      <td>0.769231</td>\n",
       "      <td>0.811189</td>\n",
       "      <td>0.816901</td>\n",
       "      <td>0.774648</td>\n",
       "      <td>...</td>\n",
       "      <td>0.789323</td>\n",
       "      <td>0.020362</td>\n",
       "      <td>3</td>\n",
       "      <td>0.815466</td>\n",
       "      <td>0.806678</td>\n",
       "      <td>0.805263</td>\n",
       "      <td>0.817544</td>\n",
       "      <td>0.814035</td>\n",
       "      <td>0.811797</td>\n",
       "      <td>0.004907</td>\n",
       "    </tr>\n",
       "    <tr>\n",
       "      <th>4</th>\n",
       "      <td>0.250438</td>\n",
       "      <td>0.006726</td>\n",
       "      <td>0.016384</td>\n",
       "      <td>0.000859</td>\n",
       "      <td>4</td>\n",
       "      <td>{'max_features': 4}</td>\n",
       "      <td>0.748252</td>\n",
       "      <td>0.811189</td>\n",
       "      <td>0.823944</td>\n",
       "      <td>0.774648</td>\n",
       "      <td>...</td>\n",
       "      <td>0.786536</td>\n",
       "      <td>0.027406</td>\n",
       "      <td>4</td>\n",
       "      <td>0.817223</td>\n",
       "      <td>0.806678</td>\n",
       "      <td>0.805263</td>\n",
       "      <td>0.817544</td>\n",
       "      <td>0.814035</td>\n",
       "      <td>0.812149</td>\n",
       "      <td>0.005211</td>\n",
       "    </tr>\n",
       "    <tr>\n",
       "      <th>0</th>\n",
       "      <td>0.000834</td>\n",
       "      <td>0.000243</td>\n",
       "      <td>0.000000</td>\n",
       "      <td>0.000000</td>\n",
       "      <td>0</td>\n",
       "      <td>{'max_features': 0}</td>\n",
       "      <td>NaN</td>\n",
       "      <td>NaN</td>\n",
       "      <td>NaN</td>\n",
       "      <td>NaN</td>\n",
       "      <td>...</td>\n",
       "      <td>NaN</td>\n",
       "      <td>NaN</td>\n",
       "      <td>5</td>\n",
       "      <td>NaN</td>\n",
       "      <td>NaN</td>\n",
       "      <td>NaN</td>\n",
       "      <td>NaN</td>\n",
       "      <td>NaN</td>\n",
       "      <td>NaN</td>\n",
       "      <td>NaN</td>\n",
       "    </tr>\n",
       "  </tbody>\n",
       "</table>\n",
       "<p>5 rows × 21 columns</p>\n",
       "</div>"
      ],
      "text/plain": [
       "   mean_fit_time  std_fit_time  mean_score_time  std_score_time  \\\n",
       "1       0.243899      0.002608         0.016811        0.000730   \n",
       "2       0.244224      0.005024         0.016463        0.000467   \n",
       "3       0.245662      0.005514         0.016236        0.000422   \n",
       "4       0.250438      0.006726         0.016384        0.000859   \n",
       "0       0.000834      0.000243         0.000000        0.000000   \n",
       "\n",
       "  param_max_features               params  split0_test_score  \\\n",
       "1                  1  {'max_features': 1}           0.769231   \n",
       "2                  2  {'max_features': 2}           0.769231   \n",
       "3                  3  {'max_features': 3}           0.769231   \n",
       "4                  4  {'max_features': 4}           0.748252   \n",
       "0                  0  {'max_features': 0}                NaN   \n",
       "\n",
       "   split1_test_score  split2_test_score  split3_test_score  ...  \\\n",
       "1           0.811189           0.823944           0.774648  ...   \n",
       "2           0.811189           0.823944           0.774648  ...   \n",
       "3           0.811189           0.816901           0.774648  ...   \n",
       "4           0.811189           0.823944           0.774648  ...   \n",
       "0                NaN                NaN                NaN  ...   \n",
       "\n",
       "   mean_test_score  std_test_score  rank_test_score  split0_train_score  \\\n",
       "1         0.790732        0.022366                1            0.817223   \n",
       "2         0.790732        0.022366                1            0.817223   \n",
       "3         0.789323        0.020362                3            0.815466   \n",
       "4         0.786536        0.027406                4            0.817223   \n",
       "0              NaN             NaN                5                 NaN   \n",
       "\n",
       "   split1_train_score  split2_train_score  split3_train_score  \\\n",
       "1            0.806678            0.805263            0.817544   \n",
       "2            0.806678            0.805263            0.817544   \n",
       "3            0.806678            0.805263            0.817544   \n",
       "4            0.806678            0.805263            0.817544   \n",
       "0                 NaN                 NaN                 NaN   \n",
       "\n",
       "   split4_train_score  mean_train_score  std_train_score  \n",
       "1            0.814035          0.812149         0.005211  \n",
       "2            0.814035          0.812149         0.005211  \n",
       "3            0.814035          0.811797         0.004907  \n",
       "4            0.814035          0.812149         0.005211  \n",
       "0                 NaN               NaN              NaN  \n",
       "\n",
       "[5 rows x 21 columns]"
      ]
     },
     "execution_count": 38,
     "metadata": {},
     "output_type": "execute_result"
    }
   ],
   "source": [
    "scores = pd.DataFrame(rf.cv_results_)\n",
    "scores.sort_values('rank_test_score')"
   ]
  },
  {
   "cell_type": "code",
   "execution_count": 39,
   "id": "b825f5fe",
   "metadata": {
    "execution": {
     "iopub.execute_input": "2023-08-04T19:43:27.119067Z",
     "iopub.status.busy": "2023-08-04T19:43:27.118640Z",
     "iopub.status.idle": "2023-08-04T19:43:27.430541Z",
     "shell.execute_reply": "2023-08-04T19:43:27.428745Z"
    },
    "papermill": {
     "duration": 0.345173,
     "end_time": "2023-08-04T19:43:27.434311",
     "exception": false,
     "start_time": "2023-08-04T19:43:27.089138",
     "status": "completed"
    },
    "tags": []
   },
   "outputs": [
    {
     "data": {
      "image/png": "[encoded data removed]",
      "text/plain": [
       "<Figure size 640x480 with 1 Axes>"
      ]
     },
     "metadata": {},
     "output_type": "display_data"
    }
   ],
   "source": [
    "# plotting accuracies with max_features\n",
    "plt.figure()\n",
    "plt.plot(scores[\"param_max_features\"], \n",
    "         scores[\"mean_train_score\"], \n",
    "         label=\"training accuracy\")\n",
    "plt.plot(scores[\"param_max_features\"], \n",
    "         scores[\"mean_test_score\"], \n",
    "         label=\"test accuracy\")\n",
    "plt.xlabel(\"max_features\")\n",
    "plt.ylabel(\"Accuracy\")\n",
    "plt.legend()\n",
    "plt.show()\n"
   ]
  },
  {
   "cell_type": "code",
   "execution_count": 40,
   "id": "f02b5e83",
   "metadata": {
    "execution": {
     "iopub.execute_input": "2023-08-04T19:43:27.493782Z",
     "iopub.status.busy": "2023-08-04T19:43:27.493365Z",
     "iopub.status.idle": "2023-08-04T19:43:27.497892Z",
     "shell.execute_reply": "2023-08-04T19:43:27.496741Z"
    },
    "papermill": {
     "duration": 0.037278,
     "end_time": "2023-08-04T19:43:27.500532",
     "exception": false,
     "start_time": "2023-08-04T19:43:27.463254",
     "status": "completed"
    },
    "tags": []
   },
   "outputs": [],
   "source": [
    "# max_features=2"
   ]
  },
  {
   "cell_type": "code",
   "execution_count": 41,
   "id": "20f9fab8",
   "metadata": {
    "execution": {
     "iopub.execute_input": "2023-08-04T19:43:27.561355Z",
     "iopub.status.busy": "2023-08-04T19:43:27.560926Z",
     "iopub.status.idle": "2023-08-04T19:43:40.286456Z",
     "shell.execute_reply": "2023-08-04T19:43:40.285175Z"
    },
    "papermill": {
     "duration": 12.758632,
     "end_time": "2023-08-04T19:43:40.289050",
     "exception": false,
     "start_time": "2023-08-04T19:43:27.530418",
     "status": "completed"
    },
    "tags": []
   },
   "outputs": [
    {
     "data": {
      "text/html": [
       "<style>#sk-container-id-6 {color: black;background-color: white;}#sk-container-id-6 pre{padding: 0;}#sk-container-id-6 div.sk-toggleable {background-color: white;}#sk-container-id-6 label.sk-toggleable__label {cursor: pointer;display: block;width: 100%;margin-bottom: 0;padding: 0.3em;box-sizing: border-box;text-align: center;}#sk-container-id-6 label.sk-toggleable__label-arrow:before {content: \"▸\";float: left;margin-right: 0.25em;color: #696969;}#sk-container-id-6 label.sk-toggleable__label-arrow:hover:before {color: black;}#sk-container-id-6 div.sk-estimator:hover label.sk-toggleable__label-arrow:before {color: black;}#sk-container-id-6 div.sk-toggleable__content {max-height: 0;max-width: 0;overflow: hidden;text-align: left;background-color: #f0f8ff;}#sk-container-id-6 div.sk-toggleable__content pre {margin: 0.2em;color: black;border-radius: 0.25em;background-color: #f0f8ff;}#sk-container-id-6 input.sk-toggleable__control:checked~div.sk-toggleable__content {max-height: 200px;max-width: 100%;overflow: auto;}#sk-container-id-6 input.sk-toggleable__control:checked~label.sk-toggleable__label-arrow:before {content: \"▾\";}#sk-container-id-6 div.sk-estimator input.sk-toggleable__control:checked~label.sk-toggleable__label {background-color: #d4ebff;}#sk-container-id-6 div.sk-label input.sk-toggleable__control:checked~label.sk-toggleable__label {background-color: #d4ebff;}#sk-container-id-6 input.sk-hidden--visually {border: 0;clip: rect(1px 1px 1px 1px);clip: rect(1px, 1px, 1px, 1px);height: 1px;margin: -1px;overflow: hidden;padding: 0;position: absolute;width: 1px;}#sk-container-id-6 div.sk-estimator {font-family: monospace;background-color: #f0f8ff;border: 1px dotted black;border-radius: 0.25em;box-sizing: border-box;margin-bottom: 0.5em;}#sk-container-id-6 div.sk-estimator:hover {background-color: #d4ebff;}#sk-container-id-6 div.sk-parallel-item::after {content: \"\";width: 100%;border-bottom: 1px solid gray;flex-grow: 1;}#sk-container-id-6 div.sk-label:hover label.sk-toggleable__label {background-color: #d4ebff;}#sk-container-id-6 div.sk-serial::before {content: \"\";position: absolute;border-left: 1px solid gray;box-sizing: border-box;top: 0;bottom: 0;left: 50%;z-index: 0;}#sk-container-id-6 div.sk-serial {display: flex;flex-direction: column;align-items: center;background-color: white;padding-right: 0.2em;padding-left: 0.2em;position: relative;}#sk-container-id-6 div.sk-item {position: relative;z-index: 1;}#sk-container-id-6 div.sk-parallel {display: flex;align-items: stretch;justify-content: center;background-color: white;position: relative;}#sk-container-id-6 div.sk-item::before, #sk-container-id-6 div.sk-parallel-item::before {content: \"\";position: absolute;border-left: 1px solid gray;box-sizing: border-box;top: 0;bottom: 0;left: 50%;z-index: -1;}#sk-container-id-6 div.sk-parallel-item {display: flex;flex-direction: column;z-index: 1;position: relative;background-color: white;}#sk-container-id-6 div.sk-parallel-item:first-child::after {align-self: flex-end;width: 50%;}#sk-container-id-6 div.sk-parallel-item:last-child::after {align-self: flex-start;width: 50%;}#sk-container-id-6 div.sk-parallel-item:only-child::after {width: 0;}#sk-container-id-6 div.sk-dashed-wrapped {border: 1px dashed gray;margin: 0 0.4em 0.5em 0.4em;box-sizing: border-box;padding-bottom: 0.4em;background-color: white;}#sk-container-id-6 div.sk-label label {font-family: monospace;font-weight: bold;display: inline-block;line-height: 1.2em;}#sk-container-id-6 div.sk-label-container {text-align: center;}#sk-container-id-6 div.sk-container {/* jupyter's `normalize.less` sets `[hidden] { display: none; }` but bootstrap.min.css set `[hidden] { display: none !important; }` so we also need the `!important` here to be able to override the default hidden behavior on the sphinx rendered scikit-learn.org. See: https://github.com/scikit-learn/scikit-learn/issues/21755 */display: inline-block !important;position: relative;}#sk-container-id-6 div.sk-text-repr-fallback {display: none;}</style><div id=\"sk-container-id-6\" class=\"sk-top-container\"><div class=\"sk-text-repr-fallback\"><pre>GridSearchCV(cv=5, estimator=RandomForestClassifier(),\n",
       "             param_grid={&#x27;min_samples_leaf&#x27;: range(2, 20, 2)},\n",
       "             return_train_score=True)</pre><b>In a Jupyter environment, please rerun this cell to show the HTML representation or trust the notebook. <br />On GitHub, the HTML representation is unable to render, please try loading this page with nbviewer.org.</b></div><div class=\"sk-container\" hidden><div class=\"sk-item sk-dashed-wrapped\"><div class=\"sk-label-container\"><div class=\"sk-label sk-toggleable\"><input class=\"sk-toggleable__control sk-hidden--visually\" id=\"sk-estimator-id-12\" type=\"checkbox\" ><label for=\"sk-estimator-id-12\" class=\"sk-toggleable__label sk-toggleable__label-arrow\">GridSearchCV</label><div class=\"sk-toggleable__content\"><pre>GridSearchCV(cv=5, estimator=RandomForestClassifier(),\n",
       "             param_grid={&#x27;min_samples_leaf&#x27;: range(2, 20, 2)},\n",
       "             return_train_score=True)</pre></div></div></div><div class=\"sk-parallel\"><div class=\"sk-parallel-item\"><div class=\"sk-item\"><div class=\"sk-label-container\"><div class=\"sk-label sk-toggleable\"><input class=\"sk-toggleable__control sk-hidden--visually\" id=\"sk-estimator-id-13\" type=\"checkbox\" ><label for=\"sk-estimator-id-13\" class=\"sk-toggleable__label sk-toggleable__label-arrow\">estimator: RandomForestClassifier</label><div class=\"sk-toggleable__content\"><pre>RandomForestClassifier()</pre></div></div></div><div class=\"sk-serial\"><div class=\"sk-item\"><div class=\"sk-estimator sk-toggleable\"><input class=\"sk-toggleable__control sk-hidden--visually\" id=\"sk-estimator-id-14\" type=\"checkbox\" ><label for=\"sk-estimator-id-14\" class=\"sk-toggleable__label sk-toggleable__label-arrow\">RandomForestClassifier</label><div class=\"sk-toggleable__content\"><pre>RandomForestClassifier()</pre></div></div></div></div></div></div></div></div></div></div>"
      ],
      "text/plain": [
       "GridSearchCV(cv=5, estimator=RandomForestClassifier(),\n",
       "             param_grid={'min_samples_leaf': range(2, 20, 2)},\n",
       "             return_train_score=True)"
      ]
     },
     "execution_count": 41,
     "metadata": {},
     "output_type": "execute_result"
    }
   ],
   "source": [
    "# Min Samples Leaf\n",
    "parameter = {'min_samples_leaf':range(2,20,2)}\n",
    "\n",
    "rf = RandomForestClassifier()\n",
    "\n",
    "rf = GridSearchCV(rf,\n",
    "                 parameter,\n",
    "                 cv=n_folds,\n",
    "                 return_train_score=True)\n",
    "\n",
    "rf.fit(X_train, y_train)\n"
   ]
  },
  {
   "cell_type": "code",
   "execution_count": 42,
   "id": "01e02cbd",
   "metadata": {
    "execution": {
     "iopub.execute_input": "2023-08-04T19:43:40.350064Z",
     "iopub.status.busy": "2023-08-04T19:43:40.349687Z",
     "iopub.status.idle": "2023-08-04T19:43:40.391930Z",
     "shell.execute_reply": "2023-08-04T19:43:40.390575Z"
    },
    "papermill": {
     "duration": 0.076095,
     "end_time": "2023-08-04T19:43:40.394610",
     "exception": false,
     "start_time": "2023-08-04T19:43:40.318515",
     "status": "completed"
    },
    "tags": []
   },
   "outputs": [
    {
     "data": {
      "text/html": [
       "<div>\n",
       "<style scoped>\n",
       "    .dataframe tbody tr th:only-of-type {\n",
       "        vertical-align: middle;\n",
       "    }\n",
       "\n",
       "    .dataframe tbody tr th {\n",
       "        vertical-align: top;\n",
       "    }\n",
       "\n",
       "    .dataframe thead th {\n",
       "        text-align: right;\n",
       "    }\n",
       "</style>\n",
       "<table border=\"1\" class=\"dataframe\">\n",
       "  <thead>\n",
       "    <tr style=\"text-align: right;\">\n",
       "      <th></th>\n",
       "      <th>mean_fit_time</th>\n",
       "      <th>std_fit_time</th>\n",
       "      <th>mean_score_time</th>\n",
       "      <th>std_score_time</th>\n",
       "      <th>param_min_samples_leaf</th>\n",
       "      <th>params</th>\n",
       "      <th>split0_test_score</th>\n",
       "      <th>split1_test_score</th>\n",
       "      <th>split2_test_score</th>\n",
       "      <th>split3_test_score</th>\n",
       "      <th>...</th>\n",
       "      <th>mean_test_score</th>\n",
       "      <th>std_test_score</th>\n",
       "      <th>rank_test_score</th>\n",
       "      <th>split0_train_score</th>\n",
       "      <th>split1_train_score</th>\n",
       "      <th>split2_train_score</th>\n",
       "      <th>split3_train_score</th>\n",
       "      <th>split4_train_score</th>\n",
       "      <th>mean_train_score</th>\n",
       "      <th>std_train_score</th>\n",
       "    </tr>\n",
       "  </thead>\n",
       "  <tbody>\n",
       "    <tr>\n",
       "      <th>2</th>\n",
       "      <td>0.241641</td>\n",
       "      <td>0.009921</td>\n",
       "      <td>0.015953</td>\n",
       "      <td>0.000426</td>\n",
       "      <td>6</td>\n",
       "      <td>{'min_samples_leaf': 6}</td>\n",
       "      <td>0.790210</td>\n",
       "      <td>0.825175</td>\n",
       "      <td>0.823944</td>\n",
       "      <td>0.774648</td>\n",
       "      <td>...</td>\n",
       "      <td>0.808992</td>\n",
       "      <td>0.022367</td>\n",
       "      <td>1</td>\n",
       "      <td>0.813708</td>\n",
       "      <td>0.804921</td>\n",
       "      <td>0.805263</td>\n",
       "      <td>0.817544</td>\n",
       "      <td>0.803509</td>\n",
       "      <td>0.808989</td>\n",
       "      <td>0.005584</td>\n",
       "    </tr>\n",
       "    <tr>\n",
       "      <th>4</th>\n",
       "      <td>0.232693</td>\n",
       "      <td>0.001968</td>\n",
       "      <td>0.015855</td>\n",
       "      <td>0.001012</td>\n",
       "      <td>10</td>\n",
       "      <td>{'min_samples_leaf': 10}</td>\n",
       "      <td>0.790210</td>\n",
       "      <td>0.825175</td>\n",
       "      <td>0.823944</td>\n",
       "      <td>0.767606</td>\n",
       "      <td>...</td>\n",
       "      <td>0.807584</td>\n",
       "      <td>0.024596</td>\n",
       "      <td>2</td>\n",
       "      <td>0.813708</td>\n",
       "      <td>0.804921</td>\n",
       "      <td>0.805263</td>\n",
       "      <td>0.812281</td>\n",
       "      <td>0.803509</td>\n",
       "      <td>0.807936</td>\n",
       "      <td>0.004196</td>\n",
       "    </tr>\n",
       "    <tr>\n",
       "      <th>7</th>\n",
       "      <td>0.244935</td>\n",
       "      <td>0.006447</td>\n",
       "      <td>0.017698</td>\n",
       "      <td>0.003567</td>\n",
       "      <td>16</td>\n",
       "      <td>{'min_samples_leaf': 16}</td>\n",
       "      <td>0.790210</td>\n",
       "      <td>0.825175</td>\n",
       "      <td>0.816901</td>\n",
       "      <td>0.774648</td>\n",
       "      <td>...</td>\n",
       "      <td>0.806176</td>\n",
       "      <td>0.020202</td>\n",
       "      <td>3</td>\n",
       "      <td>0.813708</td>\n",
       "      <td>0.804921</td>\n",
       "      <td>0.800000</td>\n",
       "      <td>0.817544</td>\n",
       "      <td>0.798246</td>\n",
       "      <td>0.806884</td>\n",
       "      <td>0.007564</td>\n",
       "    </tr>\n",
       "    <tr>\n",
       "      <th>5</th>\n",
       "      <td>0.239552</td>\n",
       "      <td>0.004072</td>\n",
       "      <td>0.015899</td>\n",
       "      <td>0.000884</td>\n",
       "      <td>12</td>\n",
       "      <td>{'min_samples_leaf': 12}</td>\n",
       "      <td>0.790210</td>\n",
       "      <td>0.825175</td>\n",
       "      <td>0.816901</td>\n",
       "      <td>0.767606</td>\n",
       "      <td>...</td>\n",
       "      <td>0.804767</td>\n",
       "      <td>0.022469</td>\n",
       "      <td>4</td>\n",
       "      <td>0.813708</td>\n",
       "      <td>0.804921</td>\n",
       "      <td>0.800000</td>\n",
       "      <td>0.812281</td>\n",
       "      <td>0.798246</td>\n",
       "      <td>0.805831</td>\n",
       "      <td>0.006261</td>\n",
       "    </tr>\n",
       "    <tr>\n",
       "      <th>6</th>\n",
       "      <td>0.239067</td>\n",
       "      <td>0.001452</td>\n",
       "      <td>0.015642</td>\n",
       "      <td>0.000533</td>\n",
       "      <td>14</td>\n",
       "      <td>{'min_samples_leaf': 14}</td>\n",
       "      <td>0.783217</td>\n",
       "      <td>0.825175</td>\n",
       "      <td>0.816901</td>\n",
       "      <td>0.767606</td>\n",
       "      <td>...</td>\n",
       "      <td>0.803368</td>\n",
       "      <td>0.023525</td>\n",
       "      <td>5</td>\n",
       "      <td>0.808436</td>\n",
       "      <td>0.797891</td>\n",
       "      <td>0.800000</td>\n",
       "      <td>0.812281</td>\n",
       "      <td>0.798246</td>\n",
       "      <td>0.803371</td>\n",
       "      <td>0.005877</td>\n",
       "    </tr>\n",
       "    <tr>\n",
       "      <th>8</th>\n",
       "      <td>0.239018</td>\n",
       "      <td>0.006571</td>\n",
       "      <td>0.016019</td>\n",
       "      <td>0.001237</td>\n",
       "      <td>18</td>\n",
       "      <td>{'min_samples_leaf': 18}</td>\n",
       "      <td>0.783217</td>\n",
       "      <td>0.825175</td>\n",
       "      <td>0.816901</td>\n",
       "      <td>0.767606</td>\n",
       "      <td>...</td>\n",
       "      <td>0.803368</td>\n",
       "      <td>0.023525</td>\n",
       "      <td>5</td>\n",
       "      <td>0.808436</td>\n",
       "      <td>0.797891</td>\n",
       "      <td>0.800000</td>\n",
       "      <td>0.812281</td>\n",
       "      <td>0.798246</td>\n",
       "      <td>0.803371</td>\n",
       "      <td>0.005877</td>\n",
       "    </tr>\n",
       "    <tr>\n",
       "      <th>3</th>\n",
       "      <td>0.239517</td>\n",
       "      <td>0.005544</td>\n",
       "      <td>0.015750</td>\n",
       "      <td>0.000407</td>\n",
       "      <td>8</td>\n",
       "      <td>{'min_samples_leaf': 8}</td>\n",
       "      <td>0.790210</td>\n",
       "      <td>0.825175</td>\n",
       "      <td>0.823944</td>\n",
       "      <td>0.767606</td>\n",
       "      <td>...</td>\n",
       "      <td>0.796316</td>\n",
       "      <td>0.024196</td>\n",
       "      <td>7</td>\n",
       "      <td>0.813708</td>\n",
       "      <td>0.804921</td>\n",
       "      <td>0.805263</td>\n",
       "      <td>0.812281</td>\n",
       "      <td>0.810526</td>\n",
       "      <td>0.809340</td>\n",
       "      <td>0.003613</td>\n",
       "    </tr>\n",
       "    <tr>\n",
       "      <th>1</th>\n",
       "      <td>0.240308</td>\n",
       "      <td>0.003438</td>\n",
       "      <td>0.016239</td>\n",
       "      <td>0.000907</td>\n",
       "      <td>4</td>\n",
       "      <td>{'min_samples_leaf': 4}</td>\n",
       "      <td>0.769231</td>\n",
       "      <td>0.825175</td>\n",
       "      <td>0.823944</td>\n",
       "      <td>0.774648</td>\n",
       "      <td>...</td>\n",
       "      <td>0.793529</td>\n",
       "      <td>0.025416</td>\n",
       "      <td>8</td>\n",
       "      <td>0.817223</td>\n",
       "      <td>0.804921</td>\n",
       "      <td>0.805263</td>\n",
       "      <td>0.817544</td>\n",
       "      <td>0.814035</td>\n",
       "      <td>0.811797</td>\n",
       "      <td>0.005612</td>\n",
       "    </tr>\n",
       "    <tr>\n",
       "      <th>0</th>\n",
       "      <td>0.243661</td>\n",
       "      <td>0.001625</td>\n",
       "      <td>0.016240</td>\n",
       "      <td>0.000719</td>\n",
       "      <td>2</td>\n",
       "      <td>{'min_samples_leaf': 2}</td>\n",
       "      <td>0.769231</td>\n",
       "      <td>0.811189</td>\n",
       "      <td>0.823944</td>\n",
       "      <td>0.774648</td>\n",
       "      <td>...</td>\n",
       "      <td>0.790732</td>\n",
       "      <td>0.022366</td>\n",
       "      <td>9</td>\n",
       "      <td>0.817223</td>\n",
       "      <td>0.806678</td>\n",
       "      <td>0.805263</td>\n",
       "      <td>0.817544</td>\n",
       "      <td>0.814035</td>\n",
       "      <td>0.812149</td>\n",
       "      <td>0.005211</td>\n",
       "    </tr>\n",
       "  </tbody>\n",
       "</table>\n",
       "<p>9 rows × 21 columns</p>\n",
       "</div>"
      ],
      "text/plain": [
       "   mean_fit_time  std_fit_time  mean_score_time  std_score_time  \\\n",
       "2       0.241641      0.009921         0.015953        0.000426   \n",
       "4       0.232693      0.001968         0.015855        0.001012   \n",
       "7       0.244935      0.006447         0.017698        0.003567   \n",
       "5       0.239552      0.004072         0.015899        0.000884   \n",
       "6       0.239067      0.001452         0.015642        0.000533   \n",
       "8       0.239018      0.006571         0.016019        0.001237   \n",
       "3       0.239517      0.005544         0.015750        0.000407   \n",
       "1       0.240308      0.003438         0.016239        0.000907   \n",
       "0       0.243661      0.001625         0.016240        0.000719   \n",
       "\n",
       "  param_min_samples_leaf                    params  split0_test_score  \\\n",
       "2                      6   {'min_samples_leaf': 6}           0.790210   \n",
       "4                     10  {'min_samples_leaf': 10}           0.790210   \n",
       "7                     16  {'min_samples_leaf': 16}           0.790210   \n",
       "5                     12  {'min_samples_leaf': 12}           0.790210   \n",
       "6                     14  {'min_samples_leaf': 14}           0.783217   \n",
       "8                     18  {'min_samples_leaf': 18}           0.783217   \n",
       "3                      8   {'min_samples_leaf': 8}           0.790210   \n",
       "1                      4   {'min_samples_leaf': 4}           0.769231   \n",
       "0                      2   {'min_samples_leaf': 2}           0.769231   \n",
       "\n",
       "   split1_test_score  split2_test_score  split3_test_score  ...  \\\n",
       "2           0.825175           0.823944           0.774648  ...   \n",
       "4           0.825175           0.823944           0.767606  ...   \n",
       "7           0.825175           0.816901           0.774648  ...   \n",
       "5           0.825175           0.816901           0.767606  ...   \n",
       "6           0.825175           0.816901           0.767606  ...   \n",
       "8           0.825175           0.816901           0.767606  ...   \n",
       "3           0.825175           0.823944           0.767606  ...   \n",
       "1           0.825175           0.823944           0.774648  ...   \n",
       "0           0.811189           0.823944           0.774648  ...   \n",
       "\n",
       "   mean_test_score  std_test_score  rank_test_score  split0_train_score  \\\n",
       "2         0.808992        0.022367                1            0.813708   \n",
       "4         0.807584        0.024596                2            0.813708   \n",
       "7         0.806176        0.020202                3            0.813708   \n",
       "5         0.804767        0.022469                4            0.813708   \n",
       "6         0.803368        0.023525                5            0.808436   \n",
       "8         0.803368        0.023525                5            0.808436   \n",
       "3         0.796316        0.024196                7            0.813708   \n",
       "1         0.793529        0.025416                8            0.817223   \n",
       "0         0.790732        0.022366                9            0.817223   \n",
       "\n",
       "   split1_train_score  split2_train_score  split3_train_score  \\\n",
       "2            0.804921            0.805263            0.817544   \n",
       "4            0.804921            0.805263            0.812281   \n",
       "7            0.804921            0.800000            0.817544   \n",
       "5            0.804921            0.800000            0.812281   \n",
       "6            0.797891            0.800000            0.812281   \n",
       "8            0.797891            0.800000            0.812281   \n",
       "3            0.804921            0.805263            0.812281   \n",
       "1            0.804921            0.805263            0.817544   \n",
       "0            0.806678            0.805263            0.817544   \n",
       "\n",
       "   split4_train_score  mean_train_score  std_train_score  \n",
       "2            0.803509          0.808989         0.005584  \n",
       "4            0.803509          0.807936         0.004196  \n",
       "7            0.798246          0.806884         0.007564  \n",
       "5            0.798246          0.805831         0.006261  \n",
       "6            0.798246          0.803371         0.005877  \n",
       "8            0.798246          0.803371         0.005877  \n",
       "3            0.810526          0.809340         0.003613  \n",
       "1            0.814035          0.811797         0.005612  \n",
       "0            0.814035          0.812149         0.005211  \n",
       "\n",
       "[9 rows x 21 columns]"
      ]
     },
     "execution_count": 42,
     "metadata": {},
     "output_type": "execute_result"
    }
   ],
   "source": [
    "scores = pd.DataFrame(rf.cv_results_)\n",
    "scores.sort_values('rank_test_score')"
   ]
  },
  {
   "cell_type": "code",
   "execution_count": 43,
   "id": "21a946f1",
   "metadata": {
    "execution": {
     "iopub.execute_input": "2023-08-04T19:43:40.456210Z",
     "iopub.status.busy": "2023-08-04T19:43:40.455788Z",
     "iopub.status.idle": "2023-08-04T19:43:40.763400Z",
     "shell.execute_reply": "2023-08-04T19:43:40.761883Z"
    },
    "papermill": {
     "duration": 0.342037,
     "end_time": "2023-08-04T19:43:40.767068",
     "exception": false,
     "start_time": "2023-08-04T19:43:40.425031",
     "status": "completed"
    },
    "tags": []
   },
   "outputs": [
    {
     "data": {
      "image/png": "[encoded data removed]",
      "text/plain": [
       "<Figure size 640x480 with 1 Axes>"
      ]
     },
     "metadata": {},
     "output_type": "display_data"
    }
   ],
   "source": [
    "# plotting accuracies with min_samples_leaf\n",
    "plt.figure()\n",
    "plt.plot(scores[\"param_min_samples_leaf\"], \n",
    "         scores[\"mean_train_score\"], \n",
    "         label=\"training accuracy\")\n",
    "plt.plot(scores[\"param_min_samples_leaf\"], \n",
    "         scores[\"mean_test_score\"], \n",
    "         label=\"test accuracy\")\n",
    "plt.xlabel(\"min_samples_leaf\")\n",
    "plt.ylabel(\"Accuracy\")\n",
    "plt.legend()\n",
    "plt.show()"
   ]
  },
  {
   "cell_type": "code",
   "execution_count": 44,
   "id": "c53c234f",
   "metadata": {
    "execution": {
     "iopub.execute_input": "2023-08-04T19:43:40.832345Z",
     "iopub.status.busy": "2023-08-04T19:43:40.831888Z",
     "iopub.status.idle": "2023-08-04T19:43:40.836781Z",
     "shell.execute_reply": "2023-08-04T19:43:40.835666Z"
    },
    "papermill": {
     "duration": 0.039109,
     "end_time": "2023-08-04T19:43:40.839219",
     "exception": false,
     "start_time": "2023-08-04T19:43:40.800110",
     "status": "completed"
    },
    "tags": []
   },
   "outputs": [],
   "source": [
    "# min_samples_leaf = 10"
   ]
  },
  {
   "cell_type": "code",
   "execution_count": 45,
   "id": "991db9dc",
   "metadata": {
    "execution": {
     "iopub.execute_input": "2023-08-04T19:43:40.902127Z",
     "iopub.status.busy": "2023-08-04T19:43:40.901343Z",
     "iopub.status.idle": "2023-08-04T19:43:46.665618Z",
     "shell.execute_reply": "2023-08-04T19:43:46.664379Z"
    },
    "papermill": {
     "duration": 5.798586,
     "end_time": "2023-08-04T19:43:46.668219",
     "exception": false,
     "start_time": "2023-08-04T19:43:40.869633",
     "status": "completed"
    },
    "tags": []
   },
   "outputs": [
    {
     "data": {
      "text/html": [
       "<style>#sk-container-id-7 {color: black;background-color: white;}#sk-container-id-7 pre{padding: 0;}#sk-container-id-7 div.sk-toggleable {background-color: white;}#sk-container-id-7 label.sk-toggleable__label {cursor: pointer;display: block;width: 100%;margin-bottom: 0;padding: 0.3em;box-sizing: border-box;text-align: center;}#sk-container-id-7 label.sk-toggleable__label-arrow:before {content: \"▸\";float: left;margin-right: 0.25em;color: #696969;}#sk-container-id-7 label.sk-toggleable__label-arrow:hover:before {color: black;}#sk-container-id-7 div.sk-estimator:hover label.sk-toggleable__label-arrow:before {color: black;}#sk-container-id-7 div.sk-toggleable__content {max-height: 0;max-width: 0;overflow: hidden;text-align: left;background-color: #f0f8ff;}#sk-container-id-7 div.sk-toggleable__content pre {margin: 0.2em;color: black;border-radius: 0.25em;background-color: #f0f8ff;}#sk-container-id-7 input.sk-toggleable__control:checked~div.sk-toggleable__content {max-height: 200px;max-width: 100%;overflow: auto;}#sk-container-id-7 input.sk-toggleable__control:checked~label.sk-toggleable__label-arrow:before {content: \"▾\";}#sk-container-id-7 div.sk-estimator input.sk-toggleable__control:checked~label.sk-toggleable__label {background-color: #d4ebff;}#sk-container-id-7 div.sk-label input.sk-toggleable__control:checked~label.sk-toggleable__label {background-color: #d4ebff;}#sk-container-id-7 input.sk-hidden--visually {border: 0;clip: rect(1px 1px 1px 1px);clip: rect(1px, 1px, 1px, 1px);height: 1px;margin: -1px;overflow: hidden;padding: 0;position: absolute;width: 1px;}#sk-container-id-7 div.sk-estimator {font-family: monospace;background-color: #f0f8ff;border: 1px dotted black;border-radius: 0.25em;box-sizing: border-box;margin-bottom: 0.5em;}#sk-container-id-7 div.sk-estimator:hover {background-color: #d4ebff;}#sk-container-id-7 div.sk-parallel-item::after {content: \"\";width: 100%;border-bottom: 1px solid gray;flex-grow: 1;}#sk-container-id-7 div.sk-label:hover label.sk-toggleable__label {background-color: #d4ebff;}#sk-container-id-7 div.sk-serial::before {content: \"\";position: absolute;border-left: 1px solid gray;box-sizing: border-box;top: 0;bottom: 0;left: 50%;z-index: 0;}#sk-container-id-7 div.sk-serial {display: flex;flex-direction: column;align-items: center;background-color: white;padding-right: 0.2em;padding-left: 0.2em;position: relative;}#sk-container-id-7 div.sk-item {position: relative;z-index: 1;}#sk-container-id-7 div.sk-parallel {display: flex;align-items: stretch;justify-content: center;background-color: white;position: relative;}#sk-container-id-7 div.sk-item::before, #sk-container-id-7 div.sk-parallel-item::before {content: \"\";position: absolute;border-left: 1px solid gray;box-sizing: border-box;top: 0;bottom: 0;left: 50%;z-index: -1;}#sk-container-id-7 div.sk-parallel-item {display: flex;flex-direction: column;z-index: 1;position: relative;background-color: white;}#sk-container-id-7 div.sk-parallel-item:first-child::after {align-self: flex-end;width: 50%;}#sk-container-id-7 div.sk-parallel-item:last-child::after {align-self: flex-start;width: 50%;}#sk-container-id-7 div.sk-parallel-item:only-child::after {width: 0;}#sk-container-id-7 div.sk-dashed-wrapped {border: 1px dashed gray;margin: 0 0.4em 0.5em 0.4em;box-sizing: border-box;padding-bottom: 0.4em;background-color: white;}#sk-container-id-7 div.sk-label label {font-family: monospace;font-weight: bold;display: inline-block;line-height: 1.2em;}#sk-container-id-7 div.sk-label-container {text-align: center;}#sk-container-id-7 div.sk-container {/* jupyter's `normalize.less` sets `[hidden] { display: none; }` but bootstrap.min.css set `[hidden] { display: none !important; }` so we also need the `!important` here to be able to override the default hidden behavior on the sphinx rendered scikit-learn.org. See: https://github.com/scikit-learn/scikit-learn/issues/21755 */display: inline-block !important;position: relative;}#sk-container-id-7 div.sk-text-repr-fallback {display: none;}</style><div id=\"sk-container-id-7\" class=\"sk-top-container\"><div class=\"sk-text-repr-fallback\"><pre>GridSearchCV(cv=5, estimator=RandomForestClassifier(),\n",
       "             param_grid={&#x27;min_samples_split&#x27;: range(50, 70, 5)},\n",
       "             return_train_score=True)</pre><b>In a Jupyter environment, please rerun this cell to show the HTML representation or trust the notebook. <br />On GitHub, the HTML representation is unable to render, please try loading this page with nbviewer.org.</b></div><div class=\"sk-container\" hidden><div class=\"sk-item sk-dashed-wrapped\"><div class=\"sk-label-container\"><div class=\"sk-label sk-toggleable\"><input class=\"sk-toggleable__control sk-hidden--visually\" id=\"sk-estimator-id-15\" type=\"checkbox\" ><label for=\"sk-estimator-id-15\" class=\"sk-toggleable__label sk-toggleable__label-arrow\">GridSearchCV</label><div class=\"sk-toggleable__content\"><pre>GridSearchCV(cv=5, estimator=RandomForestClassifier(),\n",
       "             param_grid={&#x27;min_samples_split&#x27;: range(50, 70, 5)},\n",
       "             return_train_score=True)</pre></div></div></div><div class=\"sk-parallel\"><div class=\"sk-parallel-item\"><div class=\"sk-item\"><div class=\"sk-label-container\"><div class=\"sk-label sk-toggleable\"><input class=\"sk-toggleable__control sk-hidden--visually\" id=\"sk-estimator-id-16\" type=\"checkbox\" ><label for=\"sk-estimator-id-16\" class=\"sk-toggleable__label sk-toggleable__label-arrow\">estimator: RandomForestClassifier</label><div class=\"sk-toggleable__content\"><pre>RandomForestClassifier()</pre></div></div></div><div class=\"sk-serial\"><div class=\"sk-item\"><div class=\"sk-estimator sk-toggleable\"><input class=\"sk-toggleable__control sk-hidden--visually\" id=\"sk-estimator-id-17\" type=\"checkbox\" ><label for=\"sk-estimator-id-17\" class=\"sk-toggleable__label sk-toggleable__label-arrow\">RandomForestClassifier</label><div class=\"sk-toggleable__content\"><pre>RandomForestClassifier()</pre></div></div></div></div></div></div></div></div></div></div>"
      ],
      "text/plain": [
       "GridSearchCV(cv=5, estimator=RandomForestClassifier(),\n",
       "             param_grid={'min_samples_split': range(50, 70, 5)},\n",
       "             return_train_score=True)"
      ]
     },
     "execution_count": 45,
     "metadata": {},
     "output_type": "execute_result"
    }
   ],
   "source": [
    "# Min Samples Split\n",
    "parameter = {'min_samples_split':range(50,70,5)}\n",
    "\n",
    "rf = RandomForestClassifier()\n",
    "\n",
    "rf = GridSearchCV(rf,\n",
    "                 parameter,\n",
    "                 cv=n_folds,\n",
    "                 return_train_score=True)\n",
    "\n",
    "rf.fit(X_train, y_train)\n"
   ]
  },
  {
   "cell_type": "code",
   "execution_count": 46,
   "id": "644424c7",
   "metadata": {
    "execution": {
     "iopub.execute_input": "2023-08-04T19:43:46.732475Z",
     "iopub.status.busy": "2023-08-04T19:43:46.731818Z",
     "iopub.status.idle": "2023-08-04T19:43:46.763900Z",
     "shell.execute_reply": "2023-08-04T19:43:46.762708Z"
    },
    "papermill": {
     "duration": 0.067973,
     "end_time": "2023-08-04T19:43:46.766544",
     "exception": false,
     "start_time": "2023-08-04T19:43:46.698571",
     "status": "completed"
    },
    "tags": []
   },
   "outputs": [
    {
     "data": {
      "text/html": [
       "<div>\n",
       "<style scoped>\n",
       "    .dataframe tbody tr th:only-of-type {\n",
       "        vertical-align: middle;\n",
       "    }\n",
       "\n",
       "    .dataframe tbody tr th {\n",
       "        vertical-align: top;\n",
       "    }\n",
       "\n",
       "    .dataframe thead th {\n",
       "        text-align: right;\n",
       "    }\n",
       "</style>\n",
       "<table border=\"1\" class=\"dataframe\">\n",
       "  <thead>\n",
       "    <tr style=\"text-align: right;\">\n",
       "      <th></th>\n",
       "      <th>mean_fit_time</th>\n",
       "      <th>std_fit_time</th>\n",
       "      <th>mean_score_time</th>\n",
       "      <th>std_score_time</th>\n",
       "      <th>param_min_samples_split</th>\n",
       "      <th>params</th>\n",
       "      <th>split0_test_score</th>\n",
       "      <th>split1_test_score</th>\n",
       "      <th>split2_test_score</th>\n",
       "      <th>split3_test_score</th>\n",
       "      <th>...</th>\n",
       "      <th>mean_test_score</th>\n",
       "      <th>std_test_score</th>\n",
       "      <th>rank_test_score</th>\n",
       "      <th>split0_train_score</th>\n",
       "      <th>split1_train_score</th>\n",
       "      <th>split2_train_score</th>\n",
       "      <th>split3_train_score</th>\n",
       "      <th>split4_train_score</th>\n",
       "      <th>mean_train_score</th>\n",
       "      <th>std_train_score</th>\n",
       "    </tr>\n",
       "  </thead>\n",
       "  <tbody>\n",
       "    <tr>\n",
       "      <th>0</th>\n",
       "      <td>0.238708</td>\n",
       "      <td>0.008846</td>\n",
       "      <td>0.015835</td>\n",
       "      <td>0.000461</td>\n",
       "      <td>50</td>\n",
       "      <td>{'min_samples_split': 50}</td>\n",
       "      <td>0.790210</td>\n",
       "      <td>0.825175</td>\n",
       "      <td>0.823944</td>\n",
       "      <td>0.774648</td>\n",
       "      <td>...</td>\n",
       "      <td>0.808992</td>\n",
       "      <td>0.022367</td>\n",
       "      <td>1</td>\n",
       "      <td>0.813708</td>\n",
       "      <td>0.804921</td>\n",
       "      <td>0.805263</td>\n",
       "      <td>0.817544</td>\n",
       "      <td>0.803509</td>\n",
       "      <td>0.808989</td>\n",
       "      <td>0.005584</td>\n",
       "    </tr>\n",
       "    <tr>\n",
       "      <th>1</th>\n",
       "      <td>0.236678</td>\n",
       "      <td>0.002833</td>\n",
       "      <td>0.015892</td>\n",
       "      <td>0.000419</td>\n",
       "      <td>55</td>\n",
       "      <td>{'min_samples_split': 55}</td>\n",
       "      <td>0.790210</td>\n",
       "      <td>0.825175</td>\n",
       "      <td>0.823944</td>\n",
       "      <td>0.774648</td>\n",
       "      <td>...</td>\n",
       "      <td>0.808992</td>\n",
       "      <td>0.022367</td>\n",
       "      <td>1</td>\n",
       "      <td>0.813708</td>\n",
       "      <td>0.804921</td>\n",
       "      <td>0.805263</td>\n",
       "      <td>0.817544</td>\n",
       "      <td>0.803509</td>\n",
       "      <td>0.808989</td>\n",
       "      <td>0.005584</td>\n",
       "    </tr>\n",
       "    <tr>\n",
       "      <th>2</th>\n",
       "      <td>0.238945</td>\n",
       "      <td>0.003472</td>\n",
       "      <td>0.015563</td>\n",
       "      <td>0.000243</td>\n",
       "      <td>60</td>\n",
       "      <td>{'min_samples_split': 60}</td>\n",
       "      <td>0.790210</td>\n",
       "      <td>0.825175</td>\n",
       "      <td>0.823944</td>\n",
       "      <td>0.767606</td>\n",
       "      <td>...</td>\n",
       "      <td>0.806176</td>\n",
       "      <td>0.023388</td>\n",
       "      <td>3</td>\n",
       "      <td>0.813708</td>\n",
       "      <td>0.797891</td>\n",
       "      <td>0.805263</td>\n",
       "      <td>0.812281</td>\n",
       "      <td>0.798246</td>\n",
       "      <td>0.805478</td>\n",
       "      <td>0.006692</td>\n",
       "    </tr>\n",
       "    <tr>\n",
       "      <th>3</th>\n",
       "      <td>0.240573</td>\n",
       "      <td>0.004809</td>\n",
       "      <td>0.015862</td>\n",
       "      <td>0.000815</td>\n",
       "      <td>65</td>\n",
       "      <td>{'min_samples_split': 65}</td>\n",
       "      <td>0.783217</td>\n",
       "      <td>0.811189</td>\n",
       "      <td>0.781690</td>\n",
       "      <td>0.760563</td>\n",
       "      <td>...</td>\n",
       "      <td>0.785078</td>\n",
       "      <td>0.016193</td>\n",
       "      <td>4</td>\n",
       "      <td>0.808436</td>\n",
       "      <td>0.790861</td>\n",
       "      <td>0.798246</td>\n",
       "      <td>0.803509</td>\n",
       "      <td>0.785965</td>\n",
       "      <td>0.797403</td>\n",
       "      <td>0.008165</td>\n",
       "    </tr>\n",
       "  </tbody>\n",
       "</table>\n",
       "<p>4 rows × 21 columns</p>\n",
       "</div>"
      ],
      "text/plain": [
       "   mean_fit_time  std_fit_time  mean_score_time  std_score_time  \\\n",
       "0       0.238708      0.008846         0.015835        0.000461   \n",
       "1       0.236678      0.002833         0.015892        0.000419   \n",
       "2       0.238945      0.003472         0.015563        0.000243   \n",
       "3       0.240573      0.004809         0.015862        0.000815   \n",
       "\n",
       "  param_min_samples_split                     params  split0_test_score  \\\n",
       "0                      50  {'min_samples_split': 50}           0.790210   \n",
       "1                      55  {'min_samples_split': 55}           0.790210   \n",
       "2                      60  {'min_samples_split': 60}           0.790210   \n",
       "3                      65  {'min_samples_split': 65}           0.783217   \n",
       "\n",
       "   split1_test_score  split2_test_score  split3_test_score  ...  \\\n",
       "0           0.825175           0.823944           0.774648  ...   \n",
       "1           0.825175           0.823944           0.774648  ...   \n",
       "2           0.825175           0.823944           0.767606  ...   \n",
       "3           0.811189           0.781690           0.760563  ...   \n",
       "\n",
       "   mean_test_score  std_test_score  rank_test_score  split0_train_score  \\\n",
       "0         0.808992        0.022367                1            0.813708   \n",
       "1         0.808992        0.022367                1            0.813708   \n",
       "2         0.806176        0.023388                3            0.813708   \n",
       "3         0.785078        0.016193                4            0.808436   \n",
       "\n",
       "   split1_train_score  split2_train_score  split3_train_score  \\\n",
       "0            0.804921            0.805263            0.817544   \n",
       "1            0.804921            0.805263            0.817544   \n",
       "2            0.797891            0.805263            0.812281   \n",
       "3            0.790861            0.798246            0.803509   \n",
       "\n",
       "   split4_train_score  mean_train_score  std_train_score  \n",
       "0            0.803509          0.808989         0.005584  \n",
       "1            0.803509          0.808989         0.005584  \n",
       "2            0.798246          0.805478         0.006692  \n",
       "3            0.785965          0.797403         0.008165  \n",
       "\n",
       "[4 rows x 21 columns]"
      ]
     },
     "execution_count": 46,
     "metadata": {},
     "output_type": "execute_result"
    }
   ],
   "source": [
    "scores = pd.DataFrame(rf.cv_results_)\n",
    "scores.sort_values('rank_test_score')"
   ]
  },
  {
   "cell_type": "code",
   "execution_count": 47,
   "id": "a9bd9eed",
   "metadata": {
    "execution": {
     "iopub.execute_input": "2023-08-04T19:43:46.829178Z",
     "iopub.status.busy": "2023-08-04T19:43:46.828326Z",
     "iopub.status.idle": "2023-08-04T19:43:47.130576Z",
     "shell.execute_reply": "2023-08-04T19:43:47.129217Z"
    },
    "papermill": {
     "duration": 0.336671,
     "end_time": "2023-08-04T19:43:47.133379",
     "exception": false,
     "start_time": "2023-08-04T19:43:46.796708",
     "status": "completed"
    },
    "tags": []
   },
   "outputs": [
    {
     "data": {
      "image/png": "[encoded data removed]",
      "text/plain": [
       "<Figure size 640x480 with 1 Axes>"
      ]
     },
     "metadata": {},
     "output_type": "display_data"
    }
   ],
   "source": [
    "# plotting accuracies with min_samples_split\n",
    "plt.figure()\n",
    "plt.plot(scores[\"param_min_samples_split\"], \n",
    "         scores[\"mean_train_score\"], \n",
    "         label=\"training accuracy\")\n",
    "plt.plot(scores[\"param_min_samples_split\"], \n",
    "         scores[\"mean_test_score\"], \n",
    "         label=\"test accuracy\")\n",
    "plt.xlabel(\"min_samples_split\")\n",
    "plt.ylabel(\"Accuracy\")\n",
    "plt.legend()\n",
    "plt.show()"
   ]
  },
  {
   "cell_type": "code",
   "execution_count": 48,
   "id": "5dac2b27",
   "metadata": {
    "execution": {
     "iopub.execute_input": "2023-08-04T19:43:47.197803Z",
     "iopub.status.busy": "2023-08-04T19:43:47.197434Z",
     "iopub.status.idle": "2023-08-04T19:43:47.201659Z",
     "shell.execute_reply": "2023-08-04T19:43:47.200534Z"
    },
    "papermill": {
     "duration": 0.039322,
     "end_time": "2023-08-04T19:43:47.204241",
     "exception": false,
     "start_time": "2023-08-04T19:43:47.164919",
     "status": "completed"
    },
    "tags": []
   },
   "outputs": [],
   "source": [
    "# min_samples_split = 50"
   ]
  },
  {
   "cell_type": "code",
   "execution_count": 49,
   "id": "196cf430",
   "metadata": {
    "execution": {
     "iopub.execute_input": "2023-08-04T19:43:47.271816Z",
     "iopub.status.busy": "2023-08-04T19:43:47.271416Z",
     "iopub.status.idle": "2023-08-04T19:44:30.202672Z",
     "shell.execute_reply": "2023-08-04T19:44:30.201005Z"
    },
    "papermill": {
     "duration": 42.999409,
     "end_time": "2023-08-04T19:44:30.236914",
     "exception": false,
     "start_time": "2023-08-04T19:43:47.237505",
     "status": "completed"
    },
    "tags": []
   },
   "outputs": [
    {
     "name": "stdout",
     "output_type": "stream",
     "text": [
      "Fitting 3 folds for each of 24 candidates, totalling 72 fits\n"
     ]
    },
    {
     "name": "stderr",
     "output_type": "stream",
     "text": [
      "/opt/conda/lib/python3.10/site-packages/scipy/__init__.py:146: UserWarning: A NumPy version >=1.16.5 and <1.23.0 is required for this version of SciPy (detected version 1.23.5\n",
      "  warnings.warn(f\"A NumPy version >={np_minversion} and <{np_maxversion}\"\n",
      "/opt/conda/lib/python3.10/site-packages/scipy/__init__.py:146: UserWarning: A NumPy version >=1.16.5 and <1.23.0 is required for this version of SciPy (detected version 1.23.5\n",
      "  warnings.warn(f\"A NumPy version >={np_minversion} and <{np_maxversion}\"\n",
      "/opt/conda/lib/python3.10/site-packages/scipy/__init__.py:146: UserWarning: A NumPy version >=1.16.5 and <1.23.0 is required for this version of SciPy (detected version 1.23.5\n",
      "  warnings.warn(f\"A NumPy version >={np_minversion} and <{np_maxversion}\"\n",
      "/opt/conda/lib/python3.10/site-packages/scipy/__init__.py:146: UserWarning: A NumPy version >=1.16.5 and <1.23.0 is required for this version of SciPy (detected version 1.23.5\n",
      "  warnings.warn(f\"A NumPy version >={np_minversion} and <{np_maxversion}\"\n"
     ]
    },
    {
     "data": {
      "text/html": [
       "<style>#sk-container-id-8 {color: black;background-color: white;}#sk-container-id-8 pre{padding: 0;}#sk-container-id-8 div.sk-toggleable {background-color: white;}#sk-container-id-8 label.sk-toggleable__label {cursor: pointer;display: block;width: 100%;margin-bottom: 0;padding: 0.3em;box-sizing: border-box;text-align: center;}#sk-container-id-8 label.sk-toggleable__label-arrow:before {content: \"▸\";float: left;margin-right: 0.25em;color: #696969;}#sk-container-id-8 label.sk-toggleable__label-arrow:hover:before {color: black;}#sk-container-id-8 div.sk-estimator:hover label.sk-toggleable__label-arrow:before {color: black;}#sk-container-id-8 div.sk-toggleable__content {max-height: 0;max-width: 0;overflow: hidden;text-align: left;background-color: #f0f8ff;}#sk-container-id-8 div.sk-toggleable__content pre {margin: 0.2em;color: black;border-radius: 0.25em;background-color: #f0f8ff;}#sk-container-id-8 input.sk-toggleable__control:checked~div.sk-toggleable__content {max-height: 200px;max-width: 100%;overflow: auto;}#sk-container-id-8 input.sk-toggleable__control:checked~label.sk-toggleable__label-arrow:before {content: \"▾\";}#sk-container-id-8 div.sk-estimator input.sk-toggleable__control:checked~label.sk-toggleable__label {background-color: #d4ebff;}#sk-container-id-8 div.sk-label input.sk-toggleable__control:checked~label.sk-toggleable__label {background-color: #d4ebff;}#sk-container-id-8 input.sk-hidden--visually {border: 0;clip: rect(1px 1px 1px 1px);clip: rect(1px, 1px, 1px, 1px);height: 1px;margin: -1px;overflow: hidden;padding: 0;position: absolute;width: 1px;}#sk-container-id-8 div.sk-estimator {font-family: monospace;background-color: #f0f8ff;border: 1px dotted black;border-radius: 0.25em;box-sizing: border-box;margin-bottom: 0.5em;}#sk-container-id-8 div.sk-estimator:hover {background-color: #d4ebff;}#sk-container-id-8 div.sk-parallel-item::after {content: \"\";width: 100%;border-bottom: 1px solid gray;flex-grow: 1;}#sk-container-id-8 div.sk-label:hover label.sk-toggleable__label {background-color: #d4ebff;}#sk-container-id-8 div.sk-serial::before {content: \"\";position: absolute;border-left: 1px solid gray;box-sizing: border-box;top: 0;bottom: 0;left: 50%;z-index: 0;}#sk-container-id-8 div.sk-serial {display: flex;flex-direction: column;align-items: center;background-color: white;padding-right: 0.2em;padding-left: 0.2em;position: relative;}#sk-container-id-8 div.sk-item {position: relative;z-index: 1;}#sk-container-id-8 div.sk-parallel {display: flex;align-items: stretch;justify-content: center;background-color: white;position: relative;}#sk-container-id-8 div.sk-item::before, #sk-container-id-8 div.sk-parallel-item::before {content: \"\";position: absolute;border-left: 1px solid gray;box-sizing: border-box;top: 0;bottom: 0;left: 50%;z-index: -1;}#sk-container-id-8 div.sk-parallel-item {display: flex;flex-direction: column;z-index: 1;position: relative;background-color: white;}#sk-container-id-8 div.sk-parallel-item:first-child::after {align-self: flex-end;width: 50%;}#sk-container-id-8 div.sk-parallel-item:last-child::after {align-self: flex-start;width: 50%;}#sk-container-id-8 div.sk-parallel-item:only-child::after {width: 0;}#sk-container-id-8 div.sk-dashed-wrapped {border: 1px dashed gray;margin: 0 0.4em 0.5em 0.4em;box-sizing: border-box;padding-bottom: 0.4em;background-color: white;}#sk-container-id-8 div.sk-label label {font-family: monospace;font-weight: bold;display: inline-block;line-height: 1.2em;}#sk-container-id-8 div.sk-label-container {text-align: center;}#sk-container-id-8 div.sk-container {/* jupyter's `normalize.less` sets `[hidden] { display: none; }` but bootstrap.min.css set `[hidden] { display: none !important; }` so we also need the `!important` here to be able to override the default hidden behavior on the sphinx rendered scikit-learn.org. See: https://github.com/scikit-learn/scikit-learn/issues/21755 */display: inline-block !important;position: relative;}#sk-container-id-8 div.sk-text-repr-fallback {display: none;}</style><div id=\"sk-container-id-8\" class=\"sk-top-container\"><div class=\"sk-text-repr-fallback\"><pre>GridSearchCV(cv=3, estimator=RandomForestClassifier(), n_jobs=-1,\n",
       "             param_grid={&#x27;max_depth&#x27;: [3, 4], &#x27;min_samples_leaf&#x27;: [10, 12],\n",
       "                         &#x27;min_samples_split&#x27;: [50, 55],\n",
       "                         &#x27;n_estimators&#x27;: [100, 500, 1000]},\n",
       "             return_train_score=True, verbose=1)</pre><b>In a Jupyter environment, please rerun this cell to show the HTML representation or trust the notebook. <br />On GitHub, the HTML representation is unable to render, please try loading this page with nbviewer.org.</b></div><div class=\"sk-container\" hidden><div class=\"sk-item sk-dashed-wrapped\"><div class=\"sk-label-container\"><div class=\"sk-label sk-toggleable\"><input class=\"sk-toggleable__control sk-hidden--visually\" id=\"sk-estimator-id-18\" type=\"checkbox\" ><label for=\"sk-estimator-id-18\" class=\"sk-toggleable__label sk-toggleable__label-arrow\">GridSearchCV</label><div class=\"sk-toggleable__content\"><pre>GridSearchCV(cv=3, estimator=RandomForestClassifier(), n_jobs=-1,\n",
       "             param_grid={&#x27;max_depth&#x27;: [3, 4], &#x27;min_samples_leaf&#x27;: [10, 12],\n",
       "                         &#x27;min_samples_split&#x27;: [50, 55],\n",
       "                         &#x27;n_estimators&#x27;: [100, 500, 1000]},\n",
       "             return_train_score=True, verbose=1)</pre></div></div></div><div class=\"sk-parallel\"><div class=\"sk-parallel-item\"><div class=\"sk-item\"><div class=\"sk-label-container\"><div class=\"sk-label sk-toggleable\"><input class=\"sk-toggleable__control sk-hidden--visually\" id=\"sk-estimator-id-19\" type=\"checkbox\" ><label for=\"sk-estimator-id-19\" class=\"sk-toggleable__label sk-toggleable__label-arrow\">estimator: RandomForestClassifier</label><div class=\"sk-toggleable__content\"><pre>RandomForestClassifier()</pre></div></div></div><div class=\"sk-serial\"><div class=\"sk-item\"><div class=\"sk-estimator sk-toggleable\"><input class=\"sk-toggleable__control sk-hidden--visually\" id=\"sk-estimator-id-20\" type=\"checkbox\" ><label for=\"sk-estimator-id-20\" class=\"sk-toggleable__label sk-toggleable__label-arrow\">RandomForestClassifier</label><div class=\"sk-toggleable__content\"><pre>RandomForestClassifier()</pre></div></div></div></div></div></div></div></div></div></div>"
      ],
      "text/plain": [
       "GridSearchCV(cv=3, estimator=RandomForestClassifier(), n_jobs=-1,\n",
       "             param_grid={'max_depth': [3, 4], 'min_samples_leaf': [10, 12],\n",
       "                         'min_samples_split': [50, 55],\n",
       "                         'n_estimators': [100, 500, 1000]},\n",
       "             return_train_score=True, verbose=1)"
      ]
     },
     "execution_count": 49,
     "metadata": {},
     "output_type": "execute_result"
    }
   ],
   "source": [
    "# Create the parameter grid based on the results of random search \n",
    "param_grid = {\n",
    "    'max_depth': [3,4],\n",
    "    'min_samples_leaf': [10,12],\n",
    "    'min_samples_split': [50,55],\n",
    "    'n_estimators': [100,500,1000], \n",
    "    #'max_features': [3,4,5]\n",
    "}\n",
    "# Create a based model\n",
    "rf = RandomForestClassifier()\n",
    "# Instantiate the grid search model\n",
    "grid_search = GridSearchCV(estimator = rf, param_grid = param_grid, \n",
    "                          cv = 3, n_jobs = -1,verbose = 1, return_train_score=True)\n",
    "grid_search.fit(X_train, y_train)"
   ]
  },
  {
   "cell_type": "code",
   "execution_count": 50,
   "id": "c4e994f6",
   "metadata": {
    "execution": {
     "iopub.execute_input": "2023-08-04T19:44:30.302015Z",
     "iopub.status.busy": "2023-08-04T19:44:30.301615Z",
     "iopub.status.idle": "2023-08-04T19:44:30.334830Z",
     "shell.execute_reply": "2023-08-04T19:44:30.333505Z"
    },
    "papermill": {
     "duration": 0.068867,
     "end_time": "2023-08-04T19:44:30.337490",
     "exception": false,
     "start_time": "2023-08-04T19:44:30.268623",
     "status": "completed"
    },
    "tags": []
   },
   "outputs": [
    {
     "data": {
      "text/html": [
       "<div>\n",
       "<style scoped>\n",
       "    .dataframe tbody tr th:only-of-type {\n",
       "        vertical-align: middle;\n",
       "    }\n",
       "\n",
       "    .dataframe tbody tr th {\n",
       "        vertical-align: top;\n",
       "    }\n",
       "\n",
       "    .dataframe thead th {\n",
       "        text-align: right;\n",
       "    }\n",
       "</style>\n",
       "<table border=\"1\" class=\"dataframe\">\n",
       "  <thead>\n",
       "    <tr style=\"text-align: right;\">\n",
       "      <th></th>\n",
       "      <th>mean_fit_time</th>\n",
       "      <th>std_fit_time</th>\n",
       "      <th>mean_score_time</th>\n",
       "      <th>std_score_time</th>\n",
       "      <th>param_max_depth</th>\n",
       "      <th>param_min_samples_leaf</th>\n",
       "      <th>param_min_samples_split</th>\n",
       "      <th>param_n_estimators</th>\n",
       "      <th>params</th>\n",
       "      <th>split0_test_score</th>\n",
       "      <th>split1_test_score</th>\n",
       "      <th>split2_test_score</th>\n",
       "      <th>mean_test_score</th>\n",
       "      <th>std_test_score</th>\n",
       "      <th>rank_test_score</th>\n",
       "      <th>split0_train_score</th>\n",
       "      <th>split1_train_score</th>\n",
       "      <th>split2_train_score</th>\n",
       "      <th>mean_train_score</th>\n",
       "      <th>std_train_score</th>\n",
       "    </tr>\n",
       "  </thead>\n",
       "  <tbody>\n",
       "    <tr>\n",
       "      <th>2</th>\n",
       "      <td>3.451250</td>\n",
       "      <td>0.013881</td>\n",
       "      <td>0.204674</td>\n",
       "      <td>0.003673</td>\n",
       "      <td>3</td>\n",
       "      <td>10</td>\n",
       "      <td>50</td>\n",
       "      <td>1000</td>\n",
       "      <td>{'max_depth': 3, 'min_samples_leaf': 10, 'min_...</td>\n",
       "      <td>0.810924</td>\n",
       "      <td>0.801688</td>\n",
       "      <td>0.801688</td>\n",
       "      <td>0.804767</td>\n",
       "      <td>0.004354</td>\n",
       "      <td>1</td>\n",
       "      <td>0.808017</td>\n",
       "      <td>0.804211</td>\n",
       "      <td>0.804211</td>\n",
       "      <td>0.805479</td>\n",
       "      <td>0.001794</td>\n",
       "    </tr>\n",
       "    <tr>\n",
       "      <th>12</th>\n",
       "      <td>0.355641</td>\n",
       "      <td>0.003560</td>\n",
       "      <td>0.023705</td>\n",
       "      <td>0.000573</td>\n",
       "      <td>4</td>\n",
       "      <td>10</td>\n",
       "      <td>50</td>\n",
       "      <td>100</td>\n",
       "      <td>{'max_depth': 4, 'min_samples_leaf': 10, 'min_...</td>\n",
       "      <td>0.810924</td>\n",
       "      <td>0.801688</td>\n",
       "      <td>0.801688</td>\n",
       "      <td>0.804767</td>\n",
       "      <td>0.004354</td>\n",
       "      <td>1</td>\n",
       "      <td>0.808017</td>\n",
       "      <td>0.804211</td>\n",
       "      <td>0.804211</td>\n",
       "      <td>0.805479</td>\n",
       "      <td>0.001794</td>\n",
       "    </tr>\n",
       "    <tr>\n",
       "      <th>6</th>\n",
       "      <td>0.339432</td>\n",
       "      <td>0.004932</td>\n",
       "      <td>0.023783</td>\n",
       "      <td>0.000610</td>\n",
       "      <td>3</td>\n",
       "      <td>12</td>\n",
       "      <td>50</td>\n",
       "      <td>100</td>\n",
       "      <td>{'max_depth': 3, 'min_samples_leaf': 12, 'min_...</td>\n",
       "      <td>0.810924</td>\n",
       "      <td>0.801688</td>\n",
       "      <td>0.801688</td>\n",
       "      <td>0.804767</td>\n",
       "      <td>0.004354</td>\n",
       "      <td>1</td>\n",
       "      <td>0.808017</td>\n",
       "      <td>0.804211</td>\n",
       "      <td>0.804211</td>\n",
       "      <td>0.805479</td>\n",
       "      <td>0.001794</td>\n",
       "    </tr>\n",
       "    <tr>\n",
       "      <th>8</th>\n",
       "      <td>3.463769</td>\n",
       "      <td>0.025397</td>\n",
       "      <td>0.215099</td>\n",
       "      <td>0.011720</td>\n",
       "      <td>3</td>\n",
       "      <td>12</td>\n",
       "      <td>50</td>\n",
       "      <td>1000</td>\n",
       "      <td>{'max_depth': 3, 'min_samples_leaf': 12, 'min_...</td>\n",
       "      <td>0.810924</td>\n",
       "      <td>0.801688</td>\n",
       "      <td>0.801688</td>\n",
       "      <td>0.804767</td>\n",
       "      <td>0.004354</td>\n",
       "      <td>1</td>\n",
       "      <td>0.808017</td>\n",
       "      <td>0.804211</td>\n",
       "      <td>0.804211</td>\n",
       "      <td>0.805479</td>\n",
       "      <td>0.001794</td>\n",
       "    </tr>\n",
       "    <tr>\n",
       "      <th>0</th>\n",
       "      <td>0.348766</td>\n",
       "      <td>0.002336</td>\n",
       "      <td>0.025004</td>\n",
       "      <td>0.000538</td>\n",
       "      <td>3</td>\n",
       "      <td>10</td>\n",
       "      <td>50</td>\n",
       "      <td>100</td>\n",
       "      <td>{'max_depth': 3, 'min_samples_leaf': 10, 'min_...</td>\n",
       "      <td>0.806723</td>\n",
       "      <td>0.801688</td>\n",
       "      <td>0.801688</td>\n",
       "      <td>0.803366</td>\n",
       "      <td>0.002373</td>\n",
       "      <td>5</td>\n",
       "      <td>0.801688</td>\n",
       "      <td>0.804211</td>\n",
       "      <td>0.804211</td>\n",
       "      <td>0.803370</td>\n",
       "      <td>0.001189</td>\n",
       "    </tr>\n",
       "  </tbody>\n",
       "</table>\n",
       "</div>"
      ],
      "text/plain": [
       "    mean_fit_time  std_fit_time  mean_score_time  std_score_time  \\\n",
       "2        3.451250      0.013881         0.204674        0.003673   \n",
       "12       0.355641      0.003560         0.023705        0.000573   \n",
       "6        0.339432      0.004932         0.023783        0.000610   \n",
       "8        3.463769      0.025397         0.215099        0.011720   \n",
       "0        0.348766      0.002336         0.025004        0.000538   \n",
       "\n",
       "   param_max_depth param_min_samples_leaf param_min_samples_split  \\\n",
       "2                3                     10                      50   \n",
       "12               4                     10                      50   \n",
       "6                3                     12                      50   \n",
       "8                3                     12                      50   \n",
       "0                3                     10                      50   \n",
       "\n",
       "   param_n_estimators                                             params  \\\n",
       "2                1000  {'max_depth': 3, 'min_samples_leaf': 10, 'min_...   \n",
       "12                100  {'max_depth': 4, 'min_samples_leaf': 10, 'min_...   \n",
       "6                 100  {'max_depth': 3, 'min_samples_leaf': 12, 'min_...   \n",
       "8                1000  {'max_depth': 3, 'min_samples_leaf': 12, 'min_...   \n",
       "0                 100  {'max_depth': 3, 'min_samples_leaf': 10, 'min_...   \n",
       "\n",
       "    split0_test_score  split1_test_score  split2_test_score  mean_test_score  \\\n",
       "2            0.810924           0.801688           0.801688         0.804767   \n",
       "12           0.810924           0.801688           0.801688         0.804767   \n",
       "6            0.810924           0.801688           0.801688         0.804767   \n",
       "8            0.810924           0.801688           0.801688         0.804767   \n",
       "0            0.806723           0.801688           0.801688         0.803366   \n",
       "\n",
       "    std_test_score  rank_test_score  split0_train_score  split1_train_score  \\\n",
       "2         0.004354                1            0.808017            0.804211   \n",
       "12        0.004354                1            0.808017            0.804211   \n",
       "6         0.004354                1            0.808017            0.804211   \n",
       "8         0.004354                1            0.808017            0.804211   \n",
       "0         0.002373                5            0.801688            0.804211   \n",
       "\n",
       "    split2_train_score  mean_train_score  std_train_score  \n",
       "2             0.804211          0.805479         0.001794  \n",
       "12            0.804211          0.805479         0.001794  \n",
       "6             0.804211          0.805479         0.001794  \n",
       "8             0.804211          0.805479         0.001794  \n",
       "0             0.804211          0.803370         0.001189  "
      ]
     },
     "execution_count": 50,
     "metadata": {},
     "output_type": "execute_result"
    }
   ],
   "source": [
    "scores = pd.DataFrame(grid_search.cv_results_)\n",
    "scores.sort_values('rank_test_score').head()"
   ]
  },
  {
   "cell_type": "code",
   "execution_count": 51,
   "id": "4d53f3aa",
   "metadata": {
    "execution": {
     "iopub.execute_input": "2023-08-04T19:44:30.405379Z",
     "iopub.status.busy": "2023-08-04T19:44:30.404923Z",
     "iopub.status.idle": "2023-08-04T19:44:30.414496Z",
     "shell.execute_reply": "2023-08-04T19:44:30.413570Z"
    },
    "papermill": {
     "duration": 0.047174,
     "end_time": "2023-08-04T19:44:30.416914",
     "exception": false,
     "start_time": "2023-08-04T19:44:30.369740",
     "status": "completed"
    },
    "tags": []
   },
   "outputs": [
    {
     "data": {
      "text/html": [
       "<style>#sk-container-id-9 {color: black;background-color: white;}#sk-container-id-9 pre{padding: 0;}#sk-container-id-9 div.sk-toggleable {background-color: white;}#sk-container-id-9 label.sk-toggleable__label {cursor: pointer;display: block;width: 100%;margin-bottom: 0;padding: 0.3em;box-sizing: border-box;text-align: center;}#sk-container-id-9 label.sk-toggleable__label-arrow:before {content: \"▸\";float: left;margin-right: 0.25em;color: #696969;}#sk-container-id-9 label.sk-toggleable__label-arrow:hover:before {color: black;}#sk-container-id-9 div.sk-estimator:hover label.sk-toggleable__label-arrow:before {color: black;}#sk-container-id-9 div.sk-toggleable__content {max-height: 0;max-width: 0;overflow: hidden;text-align: left;background-color: #f0f8ff;}#sk-container-id-9 div.sk-toggleable__content pre {margin: 0.2em;color: black;border-radius: 0.25em;background-color: #f0f8ff;}#sk-container-id-9 input.sk-toggleable__control:checked~div.sk-toggleable__content {max-height: 200px;max-width: 100%;overflow: auto;}#sk-container-id-9 input.sk-toggleable__control:checked~label.sk-toggleable__label-arrow:before {content: \"▾\";}#sk-container-id-9 div.sk-estimator input.sk-toggleable__control:checked~label.sk-toggleable__label {background-color: #d4ebff;}#sk-container-id-9 div.sk-label input.sk-toggleable__control:checked~label.sk-toggleable__label {background-color: #d4ebff;}#sk-container-id-9 input.sk-hidden--visually {border: 0;clip: rect(1px 1px 1px 1px);clip: rect(1px, 1px, 1px, 1px);height: 1px;margin: -1px;overflow: hidden;padding: 0;position: absolute;width: 1px;}#sk-container-id-9 div.sk-estimator {font-family: monospace;background-color: #f0f8ff;border: 1px dotted black;border-radius: 0.25em;box-sizing: border-box;margin-bottom: 0.5em;}#sk-container-id-9 div.sk-estimator:hover {background-color: #d4ebff;}#sk-container-id-9 div.sk-parallel-item::after {content: \"\";width: 100%;border-bottom: 1px solid gray;flex-grow: 1;}#sk-container-id-9 div.sk-label:hover label.sk-toggleable__label {background-color: #d4ebff;}#sk-container-id-9 div.sk-serial::before {content: \"\";position: absolute;border-left: 1px solid gray;box-sizing: border-box;top: 0;bottom: 0;left: 50%;z-index: 0;}#sk-container-id-9 div.sk-serial {display: flex;flex-direction: column;align-items: center;background-color: white;padding-right: 0.2em;padding-left: 0.2em;position: relative;}#sk-container-id-9 div.sk-item {position: relative;z-index: 1;}#sk-container-id-9 div.sk-parallel {display: flex;align-items: stretch;justify-content: center;background-color: white;position: relative;}#sk-container-id-9 div.sk-item::before, #sk-container-id-9 div.sk-parallel-item::before {content: \"\";position: absolute;border-left: 1px solid gray;box-sizing: border-box;top: 0;bottom: 0;left: 50%;z-index: -1;}#sk-container-id-9 div.sk-parallel-item {display: flex;flex-direction: column;z-index: 1;position: relative;background-color: white;}#sk-container-id-9 div.sk-parallel-item:first-child::after {align-self: flex-end;width: 50%;}#sk-container-id-9 div.sk-parallel-item:last-child::after {align-self: flex-start;width: 50%;}#sk-container-id-9 div.sk-parallel-item:only-child::after {width: 0;}#sk-container-id-9 div.sk-dashed-wrapped {border: 1px dashed gray;margin: 0 0.4em 0.5em 0.4em;box-sizing: border-box;padding-bottom: 0.4em;background-color: white;}#sk-container-id-9 div.sk-label label {font-family: monospace;font-weight: bold;display: inline-block;line-height: 1.2em;}#sk-container-id-9 div.sk-label-container {text-align: center;}#sk-container-id-9 div.sk-container {/* jupyter's `normalize.less` sets `[hidden] { display: none; }` but bootstrap.min.css set `[hidden] { display: none !important; }` so we also need the `!important` here to be able to override the default hidden behavior on the sphinx rendered scikit-learn.org. See: https://github.com/scikit-learn/scikit-learn/issues/21755 */display: inline-block !important;position: relative;}#sk-container-id-9 div.sk-text-repr-fallback {display: none;}</style><div id=\"sk-container-id-9\" class=\"sk-top-container\"><div class=\"sk-text-repr-fallback\"><pre>RandomForestClassifier(max_depth=3, min_samples_leaf=10, min_samples_split=50,\n",
       "                       n_estimators=1000)</pre><b>In a Jupyter environment, please rerun this cell to show the HTML representation or trust the notebook. <br />On GitHub, the HTML representation is unable to render, please try loading this page with nbviewer.org.</b></div><div class=\"sk-container\" hidden><div class=\"sk-item\"><div class=\"sk-estimator sk-toggleable\"><input class=\"sk-toggleable__control sk-hidden--visually\" id=\"sk-estimator-id-21\" type=\"checkbox\" checked><label for=\"sk-estimator-id-21\" class=\"sk-toggleable__label sk-toggleable__label-arrow\">RandomForestClassifier</label><div class=\"sk-toggleable__content\"><pre>RandomForestClassifier(max_depth=3, min_samples_leaf=10, min_samples_split=50,\n",
       "                       n_estimators=1000)</pre></div></div></div></div></div>"
      ],
      "text/plain": [
       "RandomForestClassifier(max_depth=3, min_samples_leaf=10, min_samples_split=50,\n",
       "                       n_estimators=1000)"
      ]
     },
     "execution_count": 51,
     "metadata": {},
     "output_type": "execute_result"
    }
   ],
   "source": [
    "grid_search.best_estimator_"
   ]
  },
  {
   "cell_type": "code",
   "execution_count": 52,
   "id": "a47049aa",
   "metadata": {
    "execution": {
     "iopub.execute_input": "2023-08-04T19:44:30.486354Z",
     "iopub.status.busy": "2023-08-04T19:44:30.485569Z",
     "iopub.status.idle": "2023-08-04T19:44:30.629758Z",
     "shell.execute_reply": "2023-08-04T19:44:30.628451Z"
    },
    "papermill": {
     "duration": 0.181812,
     "end_time": "2023-08-04T19:44:30.632625",
     "exception": false,
     "start_time": "2023-08-04T19:44:30.450813",
     "status": "completed"
    },
    "tags": []
   },
   "outputs": [],
   "source": [
    "y_pred = grid_search.predict(X_test)"
   ]
  },
  {
   "cell_type": "code",
   "execution_count": 53,
   "id": "c667b4d0",
   "metadata": {
    "execution": {
     "iopub.execute_input": "2023-08-04T19:44:30.699814Z",
     "iopub.status.busy": "2023-08-04T19:44:30.699371Z",
     "iopub.status.idle": "2023-08-04T19:44:30.717231Z",
     "shell.execute_reply": "2023-08-04T19:44:30.715710Z"
    },
    "papermill": {
     "duration": 0.054726,
     "end_time": "2023-08-04T19:44:30.720562",
     "exception": false,
     "start_time": "2023-08-04T19:44:30.665836",
     "status": "completed"
    },
    "tags": []
   },
   "outputs": [
    {
     "name": "stdout",
     "output_type": "stream",
     "text": [
      "              precision    recall  f1-score   support\n",
      "\n",
      "           0       0.78      0.93      0.85        98\n",
      "           1       0.89      0.69      0.77        80\n",
      "\n",
      "    accuracy                           0.82       178\n",
      "   macro avg       0.84      0.81      0.81       178\n",
      "weighted avg       0.83      0.82      0.82       178\n",
      "\n"
     ]
    }
   ],
   "source": [
    "print(metrics.classification_report(y_test, y_pred))"
   ]
  },
  {
   "cell_type": "code",
   "execution_count": 54,
   "id": "67275905",
   "metadata": {
    "execution": {
     "iopub.execute_input": "2023-08-04T19:44:30.791082Z",
     "iopub.status.busy": "2023-08-04T19:44:30.790684Z",
     "iopub.status.idle": "2023-08-04T19:44:30.802835Z",
     "shell.execute_reply": "2023-08-04T19:44:30.801711Z"
    },
    "papermill": {
     "duration": 0.052656,
     "end_time": "2023-08-04T19:44:30.805637",
     "exception": false,
     "start_time": "2023-08-04T19:44:30.752981",
     "status": "completed"
    },
    "tags": []
   },
   "outputs": [
    {
     "data": {
      "text/plain": [
       "array([[91,  7],\n",
       "       [25, 55]])"
      ]
     },
     "execution_count": 54,
     "metadata": {},
     "output_type": "execute_result"
    }
   ],
   "source": [
    "metrics.confusion_matrix(y_test, y_pred)"
   ]
  },
  {
   "cell_type": "code",
   "execution_count": null,
   "id": "cfca9b0d",
   "metadata": {
    "papermill": {
     "duration": 0.033696,
     "end_time": "2023-08-04T19:44:30.872417",
     "exception": false,
     "start_time": "2023-08-04T19:44:30.838721",
     "status": "completed"
    },
    "tags": []
   },
   "outputs": [],
   "source": []
  },
  {
   "cell_type": "code",
   "execution_count": 55,
   "id": "d1df4adf",
   "metadata": {
    "execution": {
     "iopub.execute_input": "2023-08-04T19:44:30.952407Z",
     "iopub.status.busy": "2023-08-04T19:44:30.950752Z",
     "iopub.status.idle": "2023-08-04T19:44:30.960047Z",
     "shell.execute_reply": "2023-08-04T19:44:30.958870Z"
    },
    "papermill": {
     "duration": 0.060841,
     "end_time": "2023-08-04T19:44:30.967818",
     "exception": false,
     "start_time": "2023-08-04T19:44:30.906977",
     "status": "completed"
    },
    "tags": []
   },
   "outputs": [],
   "source": [
    "rfc_final = RandomForestClassifier(bootstrap=True,\n",
    "                                   max_depth=4, \n",
    "                                   #max_features=4, \n",
    "                                   min_samples_leaf=10,\n",
    "                                   min_samples_split=50, \n",
    "                                   n_estimators=500,\n",
    "                                  random_state=42)"
   ]
  },
  {
   "cell_type": "code",
   "execution_count": 56,
   "id": "8ea94414",
   "metadata": {
    "execution": {
     "iopub.execute_input": "2023-08-04T19:44:31.049294Z",
     "iopub.status.busy": "2023-08-04T19:44:31.048435Z",
     "iopub.status.idle": "2023-08-04T19:44:31.321770Z",
     "shell.execute_reply": "2023-08-04T19:44:31.320789Z"
    },
    "papermill": {
     "duration": 0.310917,
     "end_time": "2023-08-04T19:44:31.324473",
     "exception": false,
     "start_time": "2023-08-04T19:44:31.013556",
     "status": "completed"
    },
    "tags": []
   },
   "outputs": [
    {
     "data": {
      "text/html": [
       "<style>#sk-container-id-10 {color: black;background-color: white;}#sk-container-id-10 pre{padding: 0;}#sk-container-id-10 div.sk-toggleable {background-color: white;}#sk-container-id-10 label.sk-toggleable__label {cursor: pointer;display: block;width: 100%;margin-bottom: 0;padding: 0.3em;box-sizing: border-box;text-align: center;}#sk-container-id-10 label.sk-toggleable__label-arrow:before {content: \"▸\";float: left;margin-right: 0.25em;color: #696969;}#sk-container-id-10 label.sk-toggleable__label-arrow:hover:before {color: black;}#sk-container-id-10 div.sk-estimator:hover label.sk-toggleable__label-arrow:before {color: black;}#sk-container-id-10 div.sk-toggleable__content {max-height: 0;max-width: 0;overflow: hidden;text-align: left;background-color: #f0f8ff;}#sk-container-id-10 div.sk-toggleable__content pre {margin: 0.2em;color: black;border-radius: 0.25em;background-color: #f0f8ff;}#sk-container-id-10 input.sk-toggleable__control:checked~div.sk-toggleable__content {max-height: 200px;max-width: 100%;overflow: auto;}#sk-container-id-10 input.sk-toggleable__control:checked~label.sk-toggleable__label-arrow:before {content: \"▾\";}#sk-container-id-10 div.sk-estimator input.sk-toggleable__control:checked~label.sk-toggleable__label {background-color: #d4ebff;}#sk-container-id-10 div.sk-label input.sk-toggleable__control:checked~label.sk-toggleable__label {background-color: #d4ebff;}#sk-container-id-10 input.sk-hidden--visually {border: 0;clip: rect(1px 1px 1px 1px);clip: rect(1px, 1px, 1px, 1px);height: 1px;margin: -1px;overflow: hidden;padding: 0;position: absolute;width: 1px;}#sk-container-id-10 div.sk-estimator {font-family: monospace;background-color: #f0f8ff;border: 1px dotted black;border-radius: 0.25em;box-sizing: border-box;margin-bottom: 0.5em;}#sk-container-id-10 div.sk-estimator:hover {background-color: #d4ebff;}#sk-container-id-10 div.sk-parallel-item::after {content: \"\";width: 100%;border-bottom: 1px solid gray;flex-grow: 1;}#sk-container-id-10 div.sk-label:hover label.sk-toggleable__label {background-color: #d4ebff;}#sk-container-id-10 div.sk-serial::before {content: \"\";position: absolute;border-left: 1px solid gray;box-sizing: border-box;top: 0;bottom: 0;left: 50%;z-index: 0;}#sk-container-id-10 div.sk-serial {display: flex;flex-direction: column;align-items: center;background-color: white;padding-right: 0.2em;padding-left: 0.2em;position: relative;}#sk-container-id-10 div.sk-item {position: relative;z-index: 1;}#sk-container-id-10 div.sk-parallel {display: flex;align-items: stretch;justify-content: center;background-color: white;position: relative;}#sk-container-id-10 div.sk-item::before, #sk-container-id-10 div.sk-parallel-item::before {content: \"\";position: absolute;border-left: 1px solid gray;box-sizing: border-box;top: 0;bottom: 0;left: 50%;z-index: -1;}#sk-container-id-10 div.sk-parallel-item {display: flex;flex-direction: column;z-index: 1;position: relative;background-color: white;}#sk-container-id-10 div.sk-parallel-item:first-child::after {align-self: flex-end;width: 50%;}#sk-container-id-10 div.sk-parallel-item:last-child::after {align-self: flex-start;width: 50%;}#sk-container-id-10 div.sk-parallel-item:only-child::after {width: 0;}#sk-container-id-10 div.sk-dashed-wrapped {border: 1px dashed gray;margin: 0 0.4em 0.5em 0.4em;box-sizing: border-box;padding-bottom: 0.4em;background-color: white;}#sk-container-id-10 div.sk-label label {font-family: monospace;font-weight: bold;display: inline-block;line-height: 1.2em;}#sk-container-id-10 div.sk-label-container {text-align: center;}#sk-container-id-10 div.sk-container {/* jupyter's `normalize.less` sets `[hidden] { display: none; }` but bootstrap.min.css set `[hidden] { display: none !important; }` so we also need the `!important` here to be able to override the default hidden behavior on the sphinx rendered scikit-learn.org. See: https://github.com/scikit-learn/scikit-learn/issues/21755 */display: inline-block !important;position: relative;}#sk-container-id-10 div.sk-text-repr-fallback {display: none;}</style><div id=\"sk-container-id-10\" class=\"sk-top-container\"><div class=\"sk-text-repr-fallback\"><pre>RandomForestClassifier(random_state=42)</pre><b>In a Jupyter environment, please rerun this cell to show the HTML representation or trust the notebook. <br />On GitHub, the HTML representation is unable to render, please try loading this page with nbviewer.org.</b></div><div class=\"sk-container\" hidden><div class=\"sk-item\"><div class=\"sk-estimator sk-toggleable\"><input class=\"sk-toggleable__control sk-hidden--visually\" id=\"sk-estimator-id-22\" type=\"checkbox\" checked><label for=\"sk-estimator-id-22\" class=\"sk-toggleable__label sk-toggleable__label-arrow\">RandomForestClassifier</label><div class=\"sk-toggleable__content\"><pre>RandomForestClassifier(random_state=42)</pre></div></div></div></div></div>"
      ],
      "text/plain": [
       "RandomForestClassifier(random_state=42)"
      ]
     },
     "execution_count": 56,
     "metadata": {},
     "output_type": "execute_result"
    }
   ],
   "source": [
    "rfc.fit(X[col],y)"
   ]
  },
  {
   "cell_type": "code",
   "execution_count": 57,
   "id": "e5025526",
   "metadata": {
    "execution": {
     "iopub.execute_input": "2023-08-04T19:44:31.395789Z",
     "iopub.status.busy": "2023-08-04T19:44:31.395138Z",
     "iopub.status.idle": "2023-08-04T19:44:31.401065Z",
     "shell.execute_reply": "2023-08-04T19:44:31.400182Z"
    },
    "papermill": {
     "duration": 0.044418,
     "end_time": "2023-08-04T19:44:31.403719",
     "exception": false,
     "start_time": "2023-08-04T19:44:31.359301",
     "status": "completed"
    },
    "tags": []
   },
   "outputs": [
    {
     "data": {
      "text/plain": [
       "Index(['Pclass', 'Sex', 'Fare', 'Embarked'], dtype='object')"
      ]
     },
     "execution_count": 57,
     "metadata": {},
     "output_type": "execute_result"
    }
   ],
   "source": [
    "X.columns"
   ]
  },
  {
   "cell_type": "code",
   "execution_count": 58,
   "id": "d90ad2fb",
   "metadata": {
    "execution": {
     "iopub.execute_input": "2023-08-04T19:44:31.471525Z",
     "iopub.status.busy": "2023-08-04T19:44:31.471119Z",
     "iopub.status.idle": "2023-08-04T19:44:31.476773Z",
     "shell.execute_reply": "2023-08-04T19:44:31.475229Z"
    },
    "papermill": {
     "duration": 0.042593,
     "end_time": "2023-08-04T19:44:31.479111",
     "exception": false,
     "start_time": "2023-08-04T19:44:31.436518",
     "status": "completed"
    },
    "tags": []
   },
   "outputs": [],
   "source": [
    "test_path = 'https://raw.githubusercontent.com/VivekJeldi/Titanic-Survival/main/Test_WOE.csv'"
   ]
  },
  {
   "cell_type": "code",
   "execution_count": 59,
   "id": "4c8e2db3",
   "metadata": {
    "execution": {
     "iopub.execute_input": "2023-08-04T19:44:31.549067Z",
     "iopub.status.busy": "2023-08-04T19:44:31.548256Z",
     "iopub.status.idle": "2023-08-04T19:44:31.623769Z",
     "shell.execute_reply": "2023-08-04T19:44:31.622412Z"
    },
    "papermill": {
     "duration": 0.113476,
     "end_time": "2023-08-04T19:44:31.626401",
     "exception": false,
     "start_time": "2023-08-04T19:44:31.512925",
     "status": "completed"
    },
    "tags": []
   },
   "outputs": [
    {
     "data": {
      "text/html": [
       "<div>\n",
       "<style scoped>\n",
       "    .dataframe tbody tr th:only-of-type {\n",
       "        vertical-align: middle;\n",
       "    }\n",
       "\n",
       "    .dataframe tbody tr th {\n",
       "        vertical-align: top;\n",
       "    }\n",
       "\n",
       "    .dataframe thead th {\n",
       "        text-align: right;\n",
       "    }\n",
       "</style>\n",
       "<table border=\"1\" class=\"dataframe\">\n",
       "  <thead>\n",
       "    <tr style=\"text-align: right;\">\n",
       "      <th></th>\n",
       "      <th>PassengerId</th>\n",
       "      <th>Pclass</th>\n",
       "      <th>Name</th>\n",
       "      <th>Sex</th>\n",
       "      <th>Age</th>\n",
       "      <th>SibSp</th>\n",
       "      <th>Parch</th>\n",
       "      <th>Ticket</th>\n",
       "      <th>Fare</th>\n",
       "      <th>Cabin</th>\n",
       "      <th>Embarked</th>\n",
       "    </tr>\n",
       "  </thead>\n",
       "  <tbody>\n",
       "    <tr>\n",
       "      <th>0</th>\n",
       "      <td>892</td>\n",
       "      <td>-0.668306</td>\n",
       "      <td>Kelly, Mr. James</td>\n",
       "      <td>-0.983517</td>\n",
       "      <td>-0.057680</td>\n",
       "      <td>0.043481</td>\n",
       "      <td>-0.040032</td>\n",
       "      <td>330911</td>\n",
       "      <td>-0.390257</td>\n",
       "      <td>1.610899</td>\n",
       "      <td>0.022514</td>\n",
       "    </tr>\n",
       "    <tr>\n",
       "      <th>1</th>\n",
       "      <td>893</td>\n",
       "      <td>-0.668306</td>\n",
       "      <td>Wilkes, Mrs. James (Ellen Needs)</td>\n",
       "      <td>1.528054</td>\n",
       "      <td>-0.221683</td>\n",
       "      <td>0.043481</td>\n",
       "      <td>-0.040032</td>\n",
       "      <td>363272</td>\n",
       "      <td>-0.390257</td>\n",
       "      <td>1.610899</td>\n",
       "      <td>-0.193903</td>\n",
       "    </tr>\n",
       "    <tr>\n",
       "      <th>2</th>\n",
       "      <td>894</td>\n",
       "      <td>0.362662</td>\n",
       "      <td>Myles, Mr. Thomas Francis</td>\n",
       "      <td>-0.983517</td>\n",
       "      <td>-0.221683</td>\n",
       "      <td>0.043481</td>\n",
       "      <td>-0.040032</td>\n",
       "      <td>240276</td>\n",
       "      <td>-0.390257</td>\n",
       "      <td>0.301566</td>\n",
       "      <td>0.022514</td>\n",
       "    </tr>\n",
       "    <tr>\n",
       "      <th>3</th>\n",
       "      <td>895</td>\n",
       "      <td>-0.668306</td>\n",
       "      <td>Wirz, Mr. Albert</td>\n",
       "      <td>-0.983517</td>\n",
       "      <td>-0.057680</td>\n",
       "      <td>0.043481</td>\n",
       "      <td>-0.040032</td>\n",
       "      <td>315154</td>\n",
       "      <td>-0.390257</td>\n",
       "      <td>1.610899</td>\n",
       "      <td>-0.193903</td>\n",
       "    </tr>\n",
       "    <tr>\n",
       "      <th>4</th>\n",
       "      <td>896</td>\n",
       "      <td>-0.668306</td>\n",
       "      <td>Hirvonen, Mrs. Alexander (Helga E Lindqvist)</td>\n",
       "      <td>1.528054</td>\n",
       "      <td>-0.057680</td>\n",
       "      <td>0.043481</td>\n",
       "      <td>-0.040032</td>\n",
       "      <td>3101298</td>\n",
       "      <td>-0.390257</td>\n",
       "      <td>1.610899</td>\n",
       "      <td>-0.193903</td>\n",
       "    </tr>\n",
       "  </tbody>\n",
       "</table>\n",
       "</div>"
      ],
      "text/plain": [
       "   PassengerId    Pclass                                          Name  \\\n",
       "0          892 -0.668306                              Kelly, Mr. James   \n",
       "1          893 -0.668306              Wilkes, Mrs. James (Ellen Needs)   \n",
       "2          894  0.362662                     Myles, Mr. Thomas Francis   \n",
       "3          895 -0.668306                              Wirz, Mr. Albert   \n",
       "4          896 -0.668306  Hirvonen, Mrs. Alexander (Helga E Lindqvist)   \n",
       "\n",
       "        Sex       Age     SibSp     Parch   Ticket      Fare     Cabin  \\\n",
       "0 -0.983517 -0.057680  0.043481 -0.040032   330911 -0.390257  1.610899   \n",
       "1  1.528054 -0.221683  0.043481 -0.040032   363272 -0.390257  1.610899   \n",
       "2 -0.983517 -0.221683  0.043481 -0.040032   240276 -0.390257  0.301566   \n",
       "3 -0.983517 -0.057680  0.043481 -0.040032   315154 -0.390257  1.610899   \n",
       "4  1.528054 -0.057680  0.043481 -0.040032  3101298 -0.390257  1.610899   \n",
       "\n",
       "   Embarked  \n",
       "0  0.022514  \n",
       "1 -0.193903  \n",
       "2  0.022514  \n",
       "3 -0.193903  \n",
       "4 -0.193903  "
      ]
     },
     "execution_count": 59,
     "metadata": {},
     "output_type": "execute_result"
    }
   ],
   "source": [
    "test = pd.read_csv(test_path)\n",
    "test.head()"
   ]
  },
  {
   "cell_type": "code",
   "execution_count": 60,
   "id": "a4e6c544",
   "metadata": {
    "execution": {
     "iopub.execute_input": "2023-08-04T19:44:31.697486Z",
     "iopub.status.busy": "2023-08-04T19:44:31.697043Z",
     "iopub.status.idle": "2023-08-04T19:44:31.707704Z",
     "shell.execute_reply": "2023-08-04T19:44:31.706637Z"
    },
    "papermill": {
     "duration": 0.049426,
     "end_time": "2023-08-04T19:44:31.709966",
     "exception": false,
     "start_time": "2023-08-04T19:44:31.660540",
     "status": "completed"
    },
    "tags": []
   },
   "outputs": [
    {
     "data": {
      "text/plain": [
       "PassengerId    0\n",
       "Pclass         0\n",
       "Name           0\n",
       "Sex            0\n",
       "Age            0\n",
       "SibSp          0\n",
       "Parch          2\n",
       "Ticket         0\n",
       "Fare           0\n",
       "Cabin          0\n",
       "Embarked       0\n",
       "dtype: int64"
      ]
     },
     "execution_count": 60,
     "metadata": {},
     "output_type": "execute_result"
    }
   ],
   "source": [
    "test.isnull().sum()"
   ]
  },
  {
   "cell_type": "code",
   "execution_count": 61,
   "id": "d6625d8c",
   "metadata": {
    "execution": {
     "iopub.execute_input": "2023-08-04T19:44:31.781805Z",
     "iopub.status.busy": "2023-08-04T19:44:31.781394Z",
     "iopub.status.idle": "2023-08-04T19:44:31.786595Z",
     "shell.execute_reply": "2023-08-04T19:44:31.785714Z"
    },
    "papermill": {
     "duration": 0.044506,
     "end_time": "2023-08-04T19:44:31.788829",
     "exception": false,
     "start_time": "2023-08-04T19:44:31.744323",
     "status": "completed"
    },
    "tags": []
   },
   "outputs": [],
   "source": [
    "#test[test['Fare'].isna()]"
   ]
  },
  {
   "cell_type": "code",
   "execution_count": 62,
   "id": "c34b6083",
   "metadata": {
    "execution": {
     "iopub.execute_input": "2023-08-04T19:44:31.860377Z",
     "iopub.status.busy": "2023-08-04T19:44:31.859924Z",
     "iopub.status.idle": "2023-08-04T19:44:31.865308Z",
     "shell.execute_reply": "2023-08-04T19:44:31.863831Z"
    },
    "papermill": {
     "duration": 0.044242,
     "end_time": "2023-08-04T19:44:31.868259",
     "exception": false,
     "start_time": "2023-08-04T19:44:31.824017",
     "status": "completed"
    },
    "tags": []
   },
   "outputs": [],
   "source": [
    "#test[test['Parch'].isna()]"
   ]
  },
  {
   "cell_type": "code",
   "execution_count": 63,
   "id": "679734a9",
   "metadata": {
    "execution": {
     "iopub.execute_input": "2023-08-04T19:44:31.938243Z",
     "iopub.status.busy": "2023-08-04T19:44:31.937840Z",
     "iopub.status.idle": "2023-08-04T19:44:31.965278Z",
     "shell.execute_reply": "2023-08-04T19:44:31.964274Z"
    },
    "papermill": {
     "duration": 0.065949,
     "end_time": "2023-08-04T19:44:31.968425",
     "exception": false,
     "start_time": "2023-08-04T19:44:31.902476",
     "status": "completed"
    },
    "tags": []
   },
   "outputs": [],
   "source": [
    "y_pred = rfc.predict_proba(test[col])"
   ]
  },
  {
   "cell_type": "code",
   "execution_count": 64,
   "id": "98db96dc",
   "metadata": {
    "execution": {
     "iopub.execute_input": "2023-08-04T19:44:32.038333Z",
     "iopub.status.busy": "2023-08-04T19:44:32.037910Z",
     "iopub.status.idle": "2023-08-04T19:44:32.052062Z",
     "shell.execute_reply": "2023-08-04T19:44:32.050561Z"
    },
    "papermill": {
     "duration": 0.052222,
     "end_time": "2023-08-04T19:44:32.054661",
     "exception": false,
     "start_time": "2023-08-04T19:44:32.002439",
     "status": "completed"
    },
    "tags": []
   },
   "outputs": [
    {
     "data": {
      "text/html": [
       "<div>\n",
       "<style scoped>\n",
       "    .dataframe tbody tr th:only-of-type {\n",
       "        vertical-align: middle;\n",
       "    }\n",
       "\n",
       "    .dataframe tbody tr th {\n",
       "        vertical-align: top;\n",
       "    }\n",
       "\n",
       "    .dataframe thead th {\n",
       "        text-align: right;\n",
       "    }\n",
       "</style>\n",
       "<table border=\"1\" class=\"dataframe\">\n",
       "  <thead>\n",
       "    <tr style=\"text-align: right;\">\n",
       "      <th></th>\n",
       "      <th>0</th>\n",
       "      <th>1</th>\n",
       "    </tr>\n",
       "  </thead>\n",
       "  <tbody>\n",
       "    <tr>\n",
       "      <th>0</th>\n",
       "      <td>0.920245</td>\n",
       "      <td>0.079755</td>\n",
       "    </tr>\n",
       "    <tr>\n",
       "      <th>1</th>\n",
       "      <td>0.558049</td>\n",
       "      <td>0.441951</td>\n",
       "    </tr>\n",
       "    <tr>\n",
       "      <th>2</th>\n",
       "      <td>0.966812</td>\n",
       "      <td>0.033188</td>\n",
       "    </tr>\n",
       "    <tr>\n",
       "      <th>3</th>\n",
       "      <td>0.880924</td>\n",
       "      <td>0.119076</td>\n",
       "    </tr>\n",
       "    <tr>\n",
       "      <th>4</th>\n",
       "      <td>0.558049</td>\n",
       "      <td>0.441951</td>\n",
       "    </tr>\n",
       "    <tr>\n",
       "      <th>...</th>\n",
       "      <td>...</td>\n",
       "      <td>...</td>\n",
       "    </tr>\n",
       "    <tr>\n",
       "      <th>413</th>\n",
       "      <td>0.880924</td>\n",
       "      <td>0.119076</td>\n",
       "    </tr>\n",
       "    <tr>\n",
       "      <th>414</th>\n",
       "      <td>0.000000</td>\n",
       "      <td>1.000000</td>\n",
       "    </tr>\n",
       "    <tr>\n",
       "      <th>415</th>\n",
       "      <td>0.880924</td>\n",
       "      <td>0.119076</td>\n",
       "    </tr>\n",
       "    <tr>\n",
       "      <th>416</th>\n",
       "      <td>0.880924</td>\n",
       "      <td>0.119076</td>\n",
       "    </tr>\n",
       "    <tr>\n",
       "      <th>417</th>\n",
       "      <td>0.746749</td>\n",
       "      <td>0.253251</td>\n",
       "    </tr>\n",
       "  </tbody>\n",
       "</table>\n",
       "<p>418 rows × 2 columns</p>\n",
       "</div>"
      ],
      "text/plain": [
       "            0         1\n",
       "0    0.920245  0.079755\n",
       "1    0.558049  0.441951\n",
       "2    0.966812  0.033188\n",
       "3    0.880924  0.119076\n",
       "4    0.558049  0.441951\n",
       "..        ...       ...\n",
       "413  0.880924  0.119076\n",
       "414  0.000000  1.000000\n",
       "415  0.880924  0.119076\n",
       "416  0.880924  0.119076\n",
       "417  0.746749  0.253251\n",
       "\n",
       "[418 rows x 2 columns]"
      ]
     },
     "execution_count": 64,
     "metadata": {},
     "output_type": "execute_result"
    }
   ],
   "source": [
    "y_pred_df = pd.DataFrame(y_pred)\n",
    "y_pred_df"
   ]
  },
  {
   "cell_type": "code",
   "execution_count": 65,
   "id": "a71756ee",
   "metadata": {
    "execution": {
     "iopub.execute_input": "2023-08-04T19:44:32.124193Z",
     "iopub.status.busy": "2023-08-04T19:44:32.123763Z",
     "iopub.status.idle": "2023-08-04T19:44:32.135675Z",
     "shell.execute_reply": "2023-08-04T19:44:32.134511Z"
    },
    "papermill": {
     "duration": 0.049603,
     "end_time": "2023-08-04T19:44:32.138103",
     "exception": false,
     "start_time": "2023-08-04T19:44:32.088500",
     "status": "completed"
    },
    "tags": []
   },
   "outputs": [
    {
     "data": {
      "text/html": [
       "<div>\n",
       "<style scoped>\n",
       "    .dataframe tbody tr th:only-of-type {\n",
       "        vertical-align: middle;\n",
       "    }\n",
       "\n",
       "    .dataframe tbody tr th {\n",
       "        vertical-align: top;\n",
       "    }\n",
       "\n",
       "    .dataframe thead th {\n",
       "        text-align: right;\n",
       "    }\n",
       "</style>\n",
       "<table border=\"1\" class=\"dataframe\">\n",
       "  <thead>\n",
       "    <tr style=\"text-align: right;\">\n",
       "      <th></th>\n",
       "      <th>1</th>\n",
       "    </tr>\n",
       "  </thead>\n",
       "  <tbody>\n",
       "    <tr>\n",
       "      <th>0</th>\n",
       "      <td>0.079755</td>\n",
       "    </tr>\n",
       "    <tr>\n",
       "      <th>1</th>\n",
       "      <td>0.441951</td>\n",
       "    </tr>\n",
       "    <tr>\n",
       "      <th>2</th>\n",
       "      <td>0.033188</td>\n",
       "    </tr>\n",
       "    <tr>\n",
       "      <th>3</th>\n",
       "      <td>0.119076</td>\n",
       "    </tr>\n",
       "    <tr>\n",
       "      <th>4</th>\n",
       "      <td>0.441951</td>\n",
       "    </tr>\n",
       "  </tbody>\n",
       "</table>\n",
       "</div>"
      ],
      "text/plain": [
       "          1\n",
       "0  0.079755\n",
       "1  0.441951\n",
       "2  0.033188\n",
       "3  0.119076\n",
       "4  0.441951"
      ]
     },
     "execution_count": 65,
     "metadata": {},
     "output_type": "execute_result"
    }
   ],
   "source": [
    "y_pred_1 = y_pred_df.iloc[:,1]\n",
    "pred_1_df = pd.DataFrame(y_pred_1)\n",
    "pred_1_df.head()"
   ]
  },
  {
   "cell_type": "code",
   "execution_count": 66,
   "id": "3f1be2ab",
   "metadata": {
    "execution": {
     "iopub.execute_input": "2023-08-04T19:44:32.210684Z",
     "iopub.status.busy": "2023-08-04T19:44:32.210279Z",
     "iopub.status.idle": "2023-08-04T19:44:32.226315Z",
     "shell.execute_reply": "2023-08-04T19:44:32.224708Z"
    },
    "papermill": {
     "duration": 0.055662,
     "end_time": "2023-08-04T19:44:32.229054",
     "exception": false,
     "start_time": "2023-08-04T19:44:32.173392",
     "status": "completed"
    },
    "tags": []
   },
   "outputs": [
    {
     "data": {
      "text/html": [
       "<div>\n",
       "<style scoped>\n",
       "    .dataframe tbody tr th:only-of-type {\n",
       "        vertical-align: middle;\n",
       "    }\n",
       "\n",
       "    .dataframe tbody tr th {\n",
       "        vertical-align: top;\n",
       "    }\n",
       "\n",
       "    .dataframe thead th {\n",
       "        text-align: right;\n",
       "    }\n",
       "</style>\n",
       "<table border=\"1\" class=\"dataframe\">\n",
       "  <thead>\n",
       "    <tr style=\"text-align: right;\">\n",
       "      <th></th>\n",
       "      <th>PassengerId</th>\n",
       "      <th>1</th>\n",
       "      <th>Survived</th>\n",
       "    </tr>\n",
       "  </thead>\n",
       "  <tbody>\n",
       "    <tr>\n",
       "      <th>0</th>\n",
       "      <td>892</td>\n",
       "      <td>0.079755</td>\n",
       "      <td>0</td>\n",
       "    </tr>\n",
       "    <tr>\n",
       "      <th>1</th>\n",
       "      <td>893</td>\n",
       "      <td>0.441951</td>\n",
       "      <td>0</td>\n",
       "    </tr>\n",
       "    <tr>\n",
       "      <th>2</th>\n",
       "      <td>894</td>\n",
       "      <td>0.033188</td>\n",
       "      <td>0</td>\n",
       "    </tr>\n",
       "    <tr>\n",
       "      <th>3</th>\n",
       "      <td>895</td>\n",
       "      <td>0.119076</td>\n",
       "      <td>0</td>\n",
       "    </tr>\n",
       "    <tr>\n",
       "      <th>4</th>\n",
       "      <td>896</td>\n",
       "      <td>0.441951</td>\n",
       "      <td>0</td>\n",
       "    </tr>\n",
       "  </tbody>\n",
       "</table>\n",
       "</div>"
      ],
      "text/plain": [
       "   PassengerId         1  Survived\n",
       "0          892  0.079755         0\n",
       "1          893  0.441951         0\n",
       "2          894  0.033188         0\n",
       "3          895  0.119076         0\n",
       "4          896  0.441951         0"
      ]
     },
     "execution_count": 66,
     "metadata": {},
     "output_type": "execute_result"
    }
   ],
   "source": [
    "test_pred = pd.concat([test['PassengerId'], pred_1_df], 1)\n",
    "test_pred['Survived'] = test_pred.loc[:,1].map(lambda x:1 if x>0.5 else 0)\n",
    "test_pred.head()"
   ]
  },
  {
   "cell_type": "code",
   "execution_count": 67,
   "id": "bfdd0adb",
   "metadata": {
    "execution": {
     "iopub.execute_input": "2023-08-04T19:44:32.301653Z",
     "iopub.status.busy": "2023-08-04T19:44:32.301254Z",
     "iopub.status.idle": "2023-08-04T19:44:32.312994Z",
     "shell.execute_reply": "2023-08-04T19:44:32.311758Z"
    },
    "papermill": {
     "duration": 0.051212,
     "end_time": "2023-08-04T19:44:32.315478",
     "exception": false,
     "start_time": "2023-08-04T19:44:32.264266",
     "status": "completed"
    },
    "tags": []
   },
   "outputs": [
    {
     "data": {
      "text/html": [
       "<div>\n",
       "<style scoped>\n",
       "    .dataframe tbody tr th:only-of-type {\n",
       "        vertical-align: middle;\n",
       "    }\n",
       "\n",
       "    .dataframe tbody tr th {\n",
       "        vertical-align: top;\n",
       "    }\n",
       "\n",
       "    .dataframe thead th {\n",
       "        text-align: right;\n",
       "    }\n",
       "</style>\n",
       "<table border=\"1\" class=\"dataframe\">\n",
       "  <thead>\n",
       "    <tr style=\"text-align: right;\">\n",
       "      <th></th>\n",
       "      <th>PassengerId</th>\n",
       "      <th>Survived</th>\n",
       "    </tr>\n",
       "  </thead>\n",
       "  <tbody>\n",
       "    <tr>\n",
       "      <th>0</th>\n",
       "      <td>892</td>\n",
       "      <td>0</td>\n",
       "    </tr>\n",
       "    <tr>\n",
       "      <th>1</th>\n",
       "      <td>893</td>\n",
       "      <td>0</td>\n",
       "    </tr>\n",
       "    <tr>\n",
       "      <th>2</th>\n",
       "      <td>894</td>\n",
       "      <td>0</td>\n",
       "    </tr>\n",
       "    <tr>\n",
       "      <th>3</th>\n",
       "      <td>895</td>\n",
       "      <td>0</td>\n",
       "    </tr>\n",
       "    <tr>\n",
       "      <th>4</th>\n",
       "      <td>896</td>\n",
       "      <td>0</td>\n",
       "    </tr>\n",
       "  </tbody>\n",
       "</table>\n",
       "</div>"
      ],
      "text/plain": [
       "   PassengerId  Survived\n",
       "0          892         0\n",
       "1          893         0\n",
       "2          894         0\n",
       "3          895         0\n",
       "4          896         0"
      ]
     },
     "execution_count": 67,
     "metadata": {},
     "output_type": "execute_result"
    }
   ],
   "source": [
    "test_pred = test_pred.drop(1, axis=1)\n",
    "test_pred.head()"
   ]
  },
  {
   "cell_type": "code",
   "execution_count": 68,
   "id": "4c962030",
   "metadata": {
    "execution": {
     "iopub.execute_input": "2023-08-04T19:44:32.386832Z",
     "iopub.status.busy": "2023-08-04T19:44:32.386459Z",
     "iopub.status.idle": "2023-08-04T19:44:32.394384Z",
     "shell.execute_reply": "2023-08-04T19:44:32.393068Z"
    },
    "papermill": {
     "duration": 0.047065,
     "end_time": "2023-08-04T19:44:32.397001",
     "exception": false,
     "start_time": "2023-08-04T19:44:32.349936",
     "status": "completed"
    },
    "tags": []
   },
   "outputs": [],
   "source": [
    "test_pred.to_csv('RF_0.5_3.csv', index=False)"
   ]
  },
  {
   "cell_type": "code",
   "execution_count": null,
   "id": "bbb3158c",
   "metadata": {
    "papermill": {
     "duration": 0.034993,
     "end_time": "2023-08-04T19:44:32.467066",
     "exception": false,
     "start_time": "2023-08-04T19:44:32.432073",
     "status": "completed"
    },
    "tags": []
   },
   "outputs": [],
   "source": []
  }
 ],
 "metadata": {
  "kernelspec": {
   "display_name": "Python 3",
   "language": "python",
   "name": "python3"
  },
  "language_info": {
   "codemirror_mode": {
    "name": "ipython",
    "version": 3
   },
   "file_extension": ".py",
   "mimetype": "text/x-python",
   "name": "python",
   "nbconvert_exporter": "python",
   "pygments_lexer": "ipython3",
   "version": "3.10.12"
  },
  "papermill": {
   "default_parameters": {},
   "duration": 143.691793,
   "end_time": "2023-08-04T19:44:35.126713",
   "environment_variables": {},
   "exception": null,
   "input_path": "__notebook__.ipynb",
   "output_path": "__notebook__.ipynb",
   "parameters": {},
   "start_time": "2023-08-04T19:42:11.434920",
   "version": "2.4.0"
  }
 },
 "nbformat": 4,
 "nbformat_minor": 5
}
